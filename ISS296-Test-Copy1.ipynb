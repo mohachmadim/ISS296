{
 "cells": [
  {
   "cell_type": "code",
   "execution_count": 1,
   "metadata": {},
   "outputs": [
    {
     "name": "stdout",
     "output_type": "stream",
     "text": [
      "WARNING:tensorflow:From C:\\Users\\rassa\\anaconda3\\lib\\site-packages\\tensorflow\\python\\compat\\v2_compat.py:96: disable_resource_variables (from tensorflow.python.ops.variable_scope) is deprecated and will be removed in a future version.\n",
      "Instructions for updating:\n",
      "non-resource variables are not supported in the long term\n",
      "curses is not supported on this machine (please install/reinstall curses for an optimal experience)\n"
     ]
    }
   ],
   "source": [
    "import numpy as np\n",
    "import pandas as pd\n",
    "import matplotlib.pyplot as plt\n",
    "import seaborn as sns\n",
    "import sys\n",
    "\n",
    "\n",
    "import tflearn.data_utils as du\n",
    "from keras.models import Sequential\n",
    "from keras.layers import Dense, Dropout, Flatten, Conv2D, MaxPool2D\n",
    "from keras.optimizers import RMSprop\n",
    "from keras.preprocessing.image import ImageDataGenerator\n",
    "from sklearn.metrics import confusion_matrix\n",
    "\n",
    "DIRECTORY = r\"C:\\Users\\rassa\\Documents\\Machine Learning A-Z  Udemy\\Arabic Handwritten Characters Dataset\"\n",
    "\n"
   ]
  },
  {
   "cell_type": "code",
   "execution_count": 2,
   "metadata": {},
   "outputs": [
    {
     "name": "stdout",
     "output_type": "stream",
     "text": [
      "      0  0.1  0.2  0.3  0.4  0.5  0.6  0.7  0.8  0.9  ...  0.919  0.920  \\\n",
      "0     0    0    0    0    0    0    0    0    0    0  ...      0      0   \n",
      "1     0    0    0    0    0    0    0    0    0    0  ...      0      0   \n",
      "2     0    0    0    0    0    0    0    0    0    0  ...      0      0   \n",
      "3     0    0    0    0    0    0    0    0    0    0  ...      0      0   \n",
      "4     0    0    0    0    0    0    0    0    0    0  ...      0      0   \n",
      "...  ..  ...  ...  ...  ...  ...  ...  ...  ...  ...  ...    ...    ...   \n",
      "3354  0    0    0    0    0    0    0    0    0    0  ...      0      0   \n",
      "3355  0    0    0    0    0    0    0    0    0    0  ...      0      0   \n",
      "3356  0    0    0    0    0    0    0    0    0    0  ...      0      0   \n",
      "3357  0    0    0    0    0    0    0    0    0    0  ...      0      0   \n",
      "3358  0    0    0    0    0    0    0    0    0    0  ...      0      0   \n",
      "\n",
      "      0.921  0.922  0.923  0.924  0.925  0.926  0.927  0.928  \n",
      "0         0      0      0      0      0      0      0      0  \n",
      "1         0      0      0      0      0      0      0      0  \n",
      "2         0      0      0      0      0      0      0      0  \n",
      "3         0      0      0      0      0      0      0      0  \n",
      "4         0      0      0      0      0      0      0      0  \n",
      "...     ...    ...    ...    ...    ...    ...    ...    ...  \n",
      "3354      0      0      0      0      0      0      0      0  \n",
      "3355      0      0      0      0      0      0      0      0  \n",
      "3356      0      0      0      0      0      0      0      0  \n",
      "3357      0      0      0      0      0      0      0      0  \n",
      "3358      0      0      0      0      0      0      0      0  \n",
      "\n",
      "[3359 rows x 1024 columns]\n",
      "      0     1     2     3     4     5     6     7     8     9     ...  1014  \\\n",
      "0        0     0     0     0     0     0     0     0     0     0  ...     0   \n",
      "1        0     0     0     0     0     0     0     0     0     0  ...     0   \n",
      "2        0     0     0     0     0     0     0     0     0     0  ...     0   \n",
      "3        0     0     0     0     0     0     0     0     0     0  ...     0   \n",
      "4        0     0     0     0     0     0     0     0     0     0  ...     0   \n",
      "...    ...   ...   ...   ...   ...   ...   ...   ...   ...   ...  ...   ...   \n",
      "3355     0     0     0     0     0     0     0     0     0     0  ...     0   \n",
      "3356     0     0     0     0     0     0     0     0     0     0  ...     0   \n",
      "3357     0     0     0     0     0     0     0     0     0     0  ...     0   \n",
      "3358     0     0     0     0     0     0     0     0     0     0  ...     0   \n",
      "3359     0     0     0     0     0     0     0     0     0     0  ...     0   \n",
      "\n",
      "      1015  1016  1017  1018  1019  1020  1021  1022  1023  \n",
      "0        0     0     0     0     0     0     0     0     0  \n",
      "1        0     0     0     0     0     0     0     0     0  \n",
      "2        0     0     0     0     0     0     0     0     0  \n",
      "3        0     0     0     0     0     0     0     0     0  \n",
      "4        0     0     0     0     0     0     0     0     0  \n",
      "...    ...   ...   ...   ...   ...   ...   ...   ...   ...  \n",
      "3355     0     0     0     0     0     0     0     0     0  \n",
      "3356     0     0     0     0     0     0     0     0     0  \n",
      "3357     0     0     0     0     0     0     0     0     0  \n",
      "3358     0     0     0     0     0     0     0     0     0  \n",
      "3359     0     0     0     0     0     0     0     0     0  \n",
      "\n",
      "[3360 rows x 1024 columns]\n"
     ]
    },
    {
     "data": {
      "text/plain": [
       "pandas.core.frame.DataFrame"
      ]
     },
     "execution_count": 2,
     "metadata": {},
     "output_type": "execute_result"
    }
   ],
   "source": [
    "#Load the dataset\n",
    "#header = 0 because\n",
    "#this creates a pandas dataframe (basically a table)\n",
    "train_data = pd.read_csv(DIRECTORY +  '/csvTrainImages 13440x1024.csv', header = None)\n",
    "train_label = pd.read_csv(DIRECTORY + '/csvTrainLabel 13440x1.csv', header = None)\n",
    "\n",
    "test_label = pd.read_csv(DIRECTORY +  '/csvTestLabel 3360x1.csv', header = None)\n",
    "\n",
    "\n",
    "#what happens if we take off header = none ?\n",
    "#Row number(s) to use as the column names, and the start of the data. Default behavior is to infer the column names: if no \n",
    "#names are passed the behavior is identical to header=0 and column names are inferred from the first line of the file, \n",
    "#if column names are passed explicitly then the behavior is identical to header=None.\n",
    "#notice if we do this we have one row less\n",
    "test_data = pd.read_csv(DIRECTORY +   '/csvTestImages 3360x1024.csv')\n",
    "print(test_data)\n",
    "\n",
    "test_data = pd.read_csv(DIRECTORY +   '/csvTestImages 3360x1024.csv', header = None)\n",
    "print(test_data)\n",
    "type(train_data)"
   ]
  },
  {
   "cell_type": "code",
   "execution_count": 3,
   "metadata": {},
   "outputs": [],
   "source": [
    "train_data = train_data.iloc[:,:].values.astype('float32')\n",
    "train_label = train_label.iloc[:,:].values.astype('int32')-1\n",
    "test_data = test_data.iloc[:,:].values.astype('float32')\n",
    "test_label = test_label.iloc[:,:].values.astype('int32')-1\n"
   ]
  },
  {
   "cell_type": "code",
   "execution_count": 4,
   "metadata": {},
   "outputs": [],
   "source": [
    "train_label = du.to_categorical(train_label,28)"
   ]
  },
  {
   "cell_type": "code",
   "execution_count": 5,
   "metadata": {},
   "outputs": [],
   "source": [
    "train_data = train_data/255\n",
    "test_data = test_data/255"
   ]
  },
  {
   "cell_type": "code",
   "execution_count": 6,
   "metadata": {},
   "outputs": [],
   "source": [
    "train_data = train_data.reshape([-1, 32, 32, 1])\n",
    "test_data = test_data.reshape([-1, 32, 32, 1])"
   ]
  },
  {
   "cell_type": "code",
   "execution_count": 7,
   "metadata": {},
   "outputs": [],
   "source": [
    "train_data, mean1 = du.featurewise_zero_center(train_data)\n",
    "test_data, mean2 = du.featurewise_zero_center(test_data)"
   ]
  },
  {
   "cell_type": "code",
   "execution_count": 8,
   "metadata": {},
   "outputs": [],
   "source": [
    "\n",
    "recognizer = Sequential()\n",
    "\n",
    "recognizer.add(Conv2D(filters = 32, kernel_size = (5,5),padding = 'Same', \n",
    "                 activation ='relu', input_shape = (32,32,1)))\n",
    "\n",
    "recognizer.add(MaxPool2D(pool_size=(2,2), strides=(2,2)))\n",
    "recognizer.add(Dropout(0.25))\n",
    "\n",
    "recognizer.add(Flatten())\n",
    "recognizer.add(Dense(units = 256, input_dim = 1024, activation = 'relu'))\n",
    "recognizer.add(Dense(units = 256, activation = \"relu\"))\n",
    "recognizer.add(Dropout(0.5))\n",
    "recognizer.add(Dense(28, activation = \"softmax\"))"
   ]
  },
  {
   "cell_type": "code",
   "execution_count": 9,
   "metadata": {},
   "outputs": [
    {
     "name": "stdout",
     "output_type": "stream",
     "text": [
      "Model: \"sequential\"\n",
      "_________________________________________________________________\n",
      "Layer (type)                 Output Shape              Param #   \n",
      "=================================================================\n",
      "conv2d (Conv2D)              (None, 32, 32, 32)        832       \n",
      "_________________________________________________________________\n",
      "max_pooling2d (MaxPooling2D) (None, 16, 16, 32)        0         \n",
      "_________________________________________________________________\n",
      "dropout (Dropout)            (None, 16, 16, 32)        0         \n",
      "_________________________________________________________________\n",
      "flatten (Flatten)            (None, 8192)              0         \n",
      "_________________________________________________________________\n",
      "dense (Dense)                (None, 256)               2097408   \n",
      "_________________________________________________________________\n",
      "dense_1 (Dense)              (None, 256)               65792     \n",
      "_________________________________________________________________\n",
      "dropout_1 (Dropout)          (None, 256)               0         \n",
      "_________________________________________________________________\n",
      "dense_2 (Dense)              (None, 28)                7196      \n",
      "=================================================================\n",
      "Total params: 2,171,228\n",
      "Trainable params: 2,171,228\n",
      "Non-trainable params: 0\n",
      "_________________________________________________________________\n"
     ]
    }
   ],
   "source": [
    "recognizer.summary()"
   ]
  },
  {
   "cell_type": "code",
   "execution_count": 10,
   "metadata": {},
   "outputs": [],
   "source": [
    "optimizer = RMSprop(lr=0.001, rho=0.9, epsilon=1e-08, decay=0.0)"
   ]
  },
  {
   "cell_type": "code",
   "execution_count": 11,
   "metadata": {},
   "outputs": [],
   "source": [
    "recognizer.compile(optimizer = optimizer , loss = \"categorical_crossentropy\", metrics=[\"accuracy\"])"
   ]
  },
  {
   "cell_type": "code",
   "execution_count": 12,
   "metadata": {},
   "outputs": [],
   "source": [
    "datagen = ImageDataGenerator(\n",
    "        featurewise_center=False, \n",
    "        samplewise_center=False,  \n",
    "        featurewise_std_normalization=False,\n",
    "        samplewise_std_normalization=False,\n",
    "        zca_whitening=False,\n",
    "        rotation_range=10,\n",
    "        zoom_range = 0.1,  \n",
    "        width_shift_range=0.1, \n",
    "        height_shift_range=0.1,\n",
    "        horizontal_flip=False,\n",
    "        vertical_flip=False)"
   ]
  },
  {
   "cell_type": "code",
   "execution_count": 13,
   "metadata": {},
   "outputs": [],
   "source": [
    "datagen.fit(train_data)"
   ]
  },
  {
   "cell_type": "code",
   "execution_count": 14,
   "metadata": {},
   "outputs": [
    {
     "name": "stderr",
     "output_type": "stream",
     "text": [
      "C:\\Users\\rassa\\anaconda3\\lib\\site-packages\\tensorflow\\python\\keras\\engine\\training_v1.py:1240: UserWarning: `model.fit_generator` is deprecated and will be removed in a future version. Please use `Model.fit`, which supports generators.\n",
      "  warnings.warn('`model.fit_generator` is deprecated and '\n"
     ]
    },
    {
     "name": "stdout",
     "output_type": "stream",
     "text": [
      "Epoch 1/30\n",
      "134/134 - 24s - loss: 2.5471 - acc: 0.2332\n",
      "Epoch 2/30\n",
      "134/134 - 32s - loss: 1.6169 - acc: 0.4556\n",
      "Epoch 3/30\n",
      "134/134 - 33s - loss: 1.2334 - acc: 0.5668\n",
      "Epoch 4/30\n",
      "134/134 - 30s - loss: 1.0065 - acc: 0.6458\n",
      "Epoch 5/30\n",
      "134/134 - 27s - loss: 0.8741 - acc: 0.6918\n",
      "Epoch 6/30\n",
      "134/134 - 25s - loss: 0.7807 - acc: 0.7231\n",
      "Epoch 7/30\n",
      "134/134 - 24s - loss: 0.7262 - acc: 0.7395\n",
      "Epoch 8/30\n",
      "134/134 - 24s - loss: 0.6648 - acc: 0.7649\n",
      "Epoch 9/30\n",
      "134/134 - 25s - loss: 0.6300 - acc: 0.7782\n",
      "Epoch 10/30\n",
      "134/134 - 26s - loss: 0.5920 - acc: 0.7918\n",
      "Epoch 11/30\n",
      "134/134 - 24s - loss: 0.5739 - acc: 0.8002\n",
      "Epoch 12/30\n",
      "134/134 - 25s - loss: 0.5415 - acc: 0.8111\n",
      "Epoch 13/30\n",
      "134/134 - 25s - loss: 0.5270 - acc: 0.8204\n",
      "Epoch 14/30\n",
      "134/134 - 23s - loss: 0.4910 - acc: 0.8292\n",
      "Epoch 15/30\n",
      "134/134 - 23s - loss: 0.4750 - acc: 0.8316\n",
      "Epoch 16/30\n",
      "134/134 - 24s - loss: 0.4625 - acc: 0.8432\n",
      "Epoch 17/30\n",
      "134/134 - 26s - loss: 0.4479 - acc: 0.8420\n",
      "Epoch 18/30\n",
      "134/134 - 23s - loss: 0.4415 - acc: 0.8507\n",
      "Epoch 19/30\n",
      "134/134 - 22s - loss: 0.4273 - acc: 0.8535\n",
      "Epoch 20/30\n",
      "134/134 - 22s - loss: 0.4333 - acc: 0.8530\n",
      "Epoch 21/30\n",
      "134/134 - 24s - loss: 0.4040 - acc: 0.8597\n",
      "Epoch 22/30\n",
      "134/134 - 23s - loss: 0.4017 - acc: 0.8615\n",
      "Epoch 23/30\n",
      "134/134 - 23s - loss: 0.3944 - acc: 0.8652\n",
      "Epoch 24/30\n",
      "134/134 - 22s - loss: 0.3879 - acc: 0.8666\n",
      "Epoch 25/30\n",
      "134/134 - 23s - loss: 0.3816 - acc: 0.8708\n",
      "Epoch 26/30\n",
      "134/134 - 22s - loss: 0.3745 - acc: 0.8728\n",
      "Epoch 27/30\n",
      "134/134 - 23s - loss: 0.3665 - acc: 0.8771\n",
      "Epoch 28/30\n",
      "134/134 - 22s - loss: 0.3595 - acc: 0.8793\n",
      "Epoch 29/30\n",
      "134/134 - 21s - loss: 0.3480 - acc: 0.8825\n",
      "Epoch 30/30\n",
      "134/134 - 22s - loss: 0.3494 - acc: 0.8798\n"
     ]
    },
    {
     "data": {
      "text/plain": [
       "<tensorflow.python.keras.callbacks.History at 0x1e6fdd16eb0>"
      ]
     },
     "execution_count": 14,
     "metadata": {},
     "output_type": "execute_result"
    }
   ],
   "source": [
    "recognizer.fit_generator(datagen.flow(train_data,train_label, batch_size=100),\n",
    "                             epochs = 30, verbose = 2, steps_per_epoch=train_data.shape[0] // 100)"
   ]
  },
  {
   "cell_type": "code",
   "execution_count": 15,
   "metadata": {},
   "outputs": [
    {
     "name": "stderr",
     "output_type": "stream",
     "text": [
      "C:\\Users\\rassa\\anaconda3\\lib\\site-packages\\tensorflow\\python\\keras\\engine\\training.py:2325: UserWarning: `Model.state_updates` will be removed in a future version. This property should not be used in TensorFlow 2.0, as `updates` are applied automatically.\n",
      "  warnings.warn('`Model.state_updates` will be removed in a future version. '\n"
     ]
    }
   ],
   "source": [
    "predictions = recognizer.predict(test_data)\n",
    "predictions = np.argmax(predictions,axis = 1)"
   ]
  },
  {
   "cell_type": "code",
   "execution_count": 16,
   "metadata": {},
   "outputs": [],
   "source": [
    "cm = confusion_matrix(test_label, predictions)"
   ]
  },
  {
   "cell_type": "code",
   "execution_count": 17,
   "metadata": {},
   "outputs": [
    {
     "name": "stdout",
     "output_type": "stream",
     "text": [
      "accuracy = 0.924702380952381\n"
     ]
    }
   ],
   "source": [
    "accuracy = sum(cm[i][i] for i in range(28)) / test_label.shape[0]\n",
    "print(\"accuracy = \" + str(accuracy))"
   ]
  },
  {
   "cell_type": "code",
   "execution_count": 18,
   "metadata": {},
   "outputs": [
    {
     "name": "stdout",
     "output_type": "stream",
     "text": [
      "[[120   0   0   0   0   0   0   0   0   0   0   0   0   0   0   0   0   0\n",
      "    0   0   0   0   0   0   0   0   0   0]\n",
      " [  0 119   0   0   0   0   0   0   0   0   0   0   0   0   0   0   0   0\n",
      "    0   0   0   0   0   0   0   0   0   1]\n",
      " [  0   0  68  52   0   0   0   0   0   0   0   0   0   0   0   0   0   0\n",
      "    0   0   0   0   0   0   0   0   0   0]\n",
      " [  0   0   3 115   0   0   0   0   0   0   0   0   1   0   0   0   0   0\n",
      "    0   0   0   0   0   0   1   0   0   0]\n",
      " [  0   0   0   0 117   2   0   0   0   0   0   0   0   0   0   0   0   0\n",
      "    0   0   0   0   0   0   0   0   0   1]\n",
      " [  0   0   0   1  22  92   2   0   0   0   0   0   0   0   0   0   0   3\n",
      "    0   0   0   0   0   0   0   0   0   0]\n",
      " [  0   0   0   0   1   2 116   0   0   0   0   0   0   0   0   0   0   0\n",
      "    1   0   0   0   0   0   0   0   0   0]\n",
      " [  0   0   0   0   0   0   0 116   3   0   0   0   0   0   0   0   0   0\n",
      "    0   0   0   0   0   0   0   0   1   0]\n",
      " [  0   0   0   0   0   0   0   3 113   0   1   0   0   0   0   0   1   0\n",
      "    0   0   1   0   0   0   0   0   1   0]\n",
      " [  0   0   0   0   0   0   0   3   0 116   1   0   0   0   0   0   0   0\n",
      "    0   0   0   0   0   0   0   0   0   0]\n",
      " [  1   0   0   0   1   0   0   0   8   5 105   0   0   0   0   0   0   0\n",
      "    0   0   0   0   0   0   0   0   0   0]\n",
      " [  0   0   0   0   0   0   0   0   0   0   0 117   0   0   1   0   0   0\n",
      "    0   1   0   1   0   0   0   0   0   0]\n",
      " [  0   0   0   2   0   0   0   0   0   0   0   0 118   0   0   0   0   0\n",
      "    0   0   0   0   0   0   0   0   0   0]\n",
      " [  0   0   0   0   0   0   0   0   0   0   0   5   0 112   3   0   0   0\n",
      "    0   0   0   0   0   0   0   0   0   0]\n",
      " [  0   0   0   0   0   0   0   0   0   0   0   1   3   4 111   0   0   0\n",
      "    0   0   1   0   0   0   0   0   0   0]\n",
      " [  0   0   0   1   0   0   0   0   0   0   0   0   0   0   0 103  15   0\n",
      "    0   0   0   0   0   0   0   0   1   0]\n",
      " [  0   0   0   0   0   0   0   0   0   0   0   0   0   0   0   3 117   0\n",
      "    0   0   0   0   0   0   0   0   0   0]\n",
      " [  0   0   0   0   1   0   4   0   0   0   0   0   0   0   0   0   0 112\n",
      "    2   0   0   0   0   1   0   0   0   0]\n",
      " [  0   0   0   0   0   0   4   0   0   0   0   0   0   0   0   0   0   1\n",
      "  115   0   0   0   0   0   0   0   0   0]\n",
      " [  0   0   3   0   0   0   0   0   0   0   0   0   1   0   0   0   0   0\n",
      "    0 105  11   0   0   0   0   0   0   0]\n",
      " [  0   0   2   1   0   0   0   0   0   0   0   0   2   1   0   0   0   0\n",
      "    0   8 104   0   0   0   1   0   0   1]\n",
      " [  0   0   1   1   0   0   0   0   0   0   0   0   0   0   0   0   0   0\n",
      "    0   0   1 116   0   0   1   0   0   0]\n",
      " [  0   0   0   0   0   0   0   0   0   0   0   0   0   0   0   0   0   0\n",
      "    0   0   0   1 118   0   1   0   0   0]\n",
      " [  0   0   0   0   0   0   0   0   0   0   0   0   0   0   0   0   0   0\n",
      "    0   0   0   0   0 119   0   1   0   0]\n",
      " [  0   0   9   3   0   0   0   0   1   0   0   0   1   0   0   0   0   0\n",
      "    0   2   0   1   0   0 102   1   0   0]\n",
      " [  0   0   0   0   0   0   0   0   0   0   0   0   0   0   0   0   0   0\n",
      "    0   1   0   0   0   0   0 114   5   0]\n",
      " [  0   0   0   0   1   0   0   2   1   1   0   0   0   0   0   0   0   0\n",
      "    0   2   1   0   0   0   0   2 110   0]\n",
      " [  0   0   0   0   0   0   0   0   0   0   0   1   0   0   0   0   0   1\n",
      "    0   0   1   0   0   0   0   0   0 117]]\n"
     ]
    }
   ],
   "source": [
    "print(cm)"
   ]
  }
 ],
 "metadata": {
  "celltoolbar": "Raw Cell Format",
  "kernelspec": {
   "display_name": "Python 3",
   "language": "python",
   "name": "python3"
  },
  "language_info": {
   "codemirror_mode": {
    "name": "ipython",
    "version": 3
   },
   "file_extension": ".py",
   "mimetype": "text/x-python",
   "name": "python",
   "nbconvert_exporter": "python",
   "pygments_lexer": "ipython3",
   "version": "3.8.5"
  }
 },
 "nbformat": 4,
 "nbformat_minor": 4
}
