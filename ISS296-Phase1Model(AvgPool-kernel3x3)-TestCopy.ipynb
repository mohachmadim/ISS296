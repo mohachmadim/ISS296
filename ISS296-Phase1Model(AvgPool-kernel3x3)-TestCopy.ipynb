{
 "cells": [
  {
   "cell_type": "code",
   "execution_count": 1,
   "metadata": {},
   "outputs": [
    {
     "name": "stdout",
     "output_type": "stream",
     "text": [
      "WARNING:tensorflow:From C:\\Users\\rassa\\anaconda3\\lib\\site-packages\\tensorflow\\python\\compat\\v2_compat.py:96: disable_resource_variables (from tensorflow.python.ops.variable_scope) is deprecated and will be removed in a future version.\n",
      "Instructions for updating:\n",
      "non-resource variables are not supported in the long term\n",
      "curses is not supported on this machine (please install/reinstall curses for an optimal experience)\n"
     ]
    }
   ],
   "source": [
    "import numpy as np\n",
    "import pandas as pd\n",
    "import matplotlib.pyplot as plt\n",
    "import seaborn as sns\n",
    "import sys\n",
    "import tflearn.data_utils as du\n",
    "from keras.models import Sequential\n",
    "from keras.layers import Dense, Dropout, Flatten, Conv2D, MaxPool2D, AveragePooling2D \n",
    "from keras.optimizers import RMSprop\n",
    "from keras.preprocessing.image import ImageDataGenerator\n",
    "from sklearn.metrics import confusion_matrix\n",
    "from keras.preprocessing.image import load_img \n",
    "from keras.preprocessing.image import img_to_array \n",
    "from keras.preprocessing.image import array_to_img\n",
    "import warnings\n",
    "import matplotlib.image as mpimg\n",
    "import os \n",
    "import cv2\n",
    "import tensorflow as tf \n",
    "from PIL import Image \n",
    "from numpy import asarray\n",
    "from tqdm import tqdm\n",
    "from tkinter import Tk     # from tkinter import Tk for Python 3.x\n",
    "from tkinter.filedialog import askopenfilename\n",
    "from tkinter import messagebox\n"
   ]
  },
  {
   "cell_type": "code",
   "execution_count": 2,
   "metadata": {},
   "outputs": [
    {
     "name": "stderr",
     "output_type": "stream",
     "text": [
      "100%|██████████████████████████████████████████████████████████████████████████| 13440/13440 [00:13<00:00, 1018.61it/s]\n",
      "100%|████████████████████████████████████████████████████████████████████████████| 3360/3360 [00:01<00:00, 2002.91it/s]\n"
     ]
    }
   ],
   "source": [
    "#we need to convert the images to a matrix so we can build our test and train sets\n",
    "\n",
    "DIRECTORY = r\"C:\\Users\\rassa\\Documents\\Machine Learning A-Z  Udemy\\Arabic Handwritten Characters Dataset\"\n",
    "train_data = []\n",
    "test_data = []\n",
    "trainPath = DIRECTORY + r\"\\Train Images 13440x32x32\\train\"\n",
    "testPath  = DIRECTORY + r\"\\Test Images 3360x32x32\\test\"\n",
    "\n",
    "def getImgId(imgName):\n",
    "    return int(imgName.split('_')[1])\n",
    "\n",
    "def makeData(data, directory, sortingCriteria):\n",
    "    imgFileNameList = os.listdir(directory)     #get list of directories in path (ie. list of image names)\n",
    "    imgFileNameList.sort(key = sortingCriteria) #sort list based on key\n",
    "    \n",
    "    for img in tqdm(imgFileNameList):  # iterate over the sorted list\n",
    "                try:\n",
    "                    img_array = cv2.imread(os.path.join(directory, img) ,cv2.IMREAD_GRAYSCALE)  # convert image to array\n",
    "                    data.append([img_array])  # add this to our data\n",
    "                except Exception as e:  # just in case there is a mistake.\n",
    "                    pass\n",
    "\n",
    "makeData(train_data, trainPath, getImgId)\n",
    "makeData(test_data, testPath, getImgId)\n",
    "\n",
    "# convert to ndarray and reshape\n",
    "train_data = np.asarray(train_data).reshape([-1, 32, 32, 1])\n",
    "test_data = np.asarray(test_data).reshape([-1, 32, 32, 1])"
   ]
  },
  {
   "cell_type": "code",
   "execution_count": 3,
   "metadata": {},
   "outputs": [],
   "source": [
    "#Load the labels\n",
    "#header = 0 because\n",
    "#this creates a pandas dataframe (basically a table)\n",
    "train_label = pd.read_csv(DIRECTORY + '/csvTrainLabel 13440x1.csv', header = None)\n",
    "test_label = pd.read_csv(DIRECTORY +  '/csvTestLabel 3360x1.csv', header = None)"
   ]
  },
  {
   "cell_type": "code",
   "execution_count": 4,
   "metadata": {},
   "outputs": [],
   "source": [
    "#train_data = train_data.iloc[:,:].values.astype('float32')\n",
    "train_label = train_label.iloc[:,:].values.astype('int32')-1\n",
    "#test_data = test_data.iloc[:,:].values.astype('float32') we don't need these anymore\n",
    "test_label = test_label.iloc[:,:].values.astype('int32')-1\n"
   ]
  },
  {
   "cell_type": "code",
   "execution_count": 5,
   "metadata": {},
   "outputs": [],
   "source": [
    "train_label = du.to_categorical(train_label,28)"
   ]
  },
  {
   "cell_type": "code",
   "execution_count": 6,
   "metadata": {},
   "outputs": [],
   "source": [
    "train_data = train_data/255\n",
    "test_data = test_data/255"
   ]
  },
  {
   "cell_type": "code",
   "execution_count": 7,
   "metadata": {},
   "outputs": [],
   "source": [
    "#train_data, mean1 = du.featurewise_zero_center(train_data)\n",
    "#test_data, mean2 = du.featurewise_zero_center(test_data)"
   ]
  },
  {
   "cell_type": "code",
   "execution_count": 8,
   "metadata": {},
   "outputs": [],
   "source": [
    "\n",
    "recognizer = Sequential()\n",
    "#for any kind of deep learning we use the sequential model in keras then \n",
    "#add layers to it\n",
    "recognizer.add(Conv2D(filters = 32, kernel_size = (3,3),padding = 'Same', \n",
    "                 activation ='relu', input_shape = (32,32,1)))\n",
    "#the first 2 dimensional convolusion layer will have 32 filters. filters or kernels are \n",
    "#what we use to extract features. in this case they are of size 3x3 (kernel size)\n",
    "#in the first layer it is necessary to specify the shape so for our case its a\n",
    "#32x32 pixel image and since it's black and white then it has only one dimension or channel\n",
    "#if it was colored then we would have (32,32,3)\n",
    "#activation='relu' this is rectified linear unit. the output filters or convolved layers\n",
    "#might contain some negative values so we apply the rectifier function (or other functions) to break linearity\n",
    "recognizer.add(Conv2D(filters = 32, kernel_size = (3,3),padding = 'Same', \n",
    "                 activation ='relu'))\n",
    "recognizer.add(AveragePooling2D(pool_size=(2,2)))\n",
    "recognizer.add(Dropout(0.25))\n",
    "\n",
    "\n",
    "recognizer.add(Conv2D(filters = 64, kernel_size = (3,3),padding = 'Same', \n",
    "                 activation ='relu'))\n",
    "recognizer.add(Conv2D(filters = 64, kernel_size = (3,3),padding = 'Same', \n",
    "                 activation ='relu'))\n",
    "recognizer.add(MaxPool2D(pool_size=(2,2), strides=(1,1)))\n",
    "recognizer.add(Dropout(0.25))\n",
    "\n",
    "\n",
    "recognizer.add(Flatten())\n",
    "recognizer.add(Dense(units = 256, input_dim = 1024, activation = 'relu'))\n",
    "recognizer.add(Dense(units = 256, activation = \"relu\"))\n",
    "recognizer.add(Dropout(0.5))\n",
    "recognizer.add(Dense(28, activation = \"softmax\"))"
   ]
  },
  {
   "cell_type": "code",
   "execution_count": 9,
   "metadata": {},
   "outputs": [
    {
     "name": "stdout",
     "output_type": "stream",
     "text": [
      "Model: \"sequential\"\n",
      "_________________________________________________________________\n",
      "Layer (type)                 Output Shape              Param #   \n",
      "=================================================================\n",
      "conv2d (Conv2D)              (None, 32, 32, 32)        320       \n",
      "_________________________________________________________________\n",
      "conv2d_1 (Conv2D)            (None, 32, 32, 32)        9248      \n",
      "_________________________________________________________________\n",
      "average_pooling2d (AveragePo (None, 16, 16, 32)        0         \n",
      "_________________________________________________________________\n",
      "dropout (Dropout)            (None, 16, 16, 32)        0         \n",
      "_________________________________________________________________\n",
      "conv2d_2 (Conv2D)            (None, 16, 16, 64)        18496     \n",
      "_________________________________________________________________\n",
      "conv2d_3 (Conv2D)            (None, 16, 16, 64)        36928     \n",
      "_________________________________________________________________\n",
      "max_pooling2d (MaxPooling2D) (None, 15, 15, 64)        0         \n",
      "_________________________________________________________________\n",
      "dropout_1 (Dropout)          (None, 15, 15, 64)        0         \n",
      "_________________________________________________________________\n",
      "flatten (Flatten)            (None, 14400)             0         \n",
      "_________________________________________________________________\n",
      "dense (Dense)                (None, 256)               3686656   \n",
      "_________________________________________________________________\n",
      "dense_1 (Dense)              (None, 256)               65792     \n",
      "_________________________________________________________________\n",
      "dropout_2 (Dropout)          (None, 256)               0         \n",
      "_________________________________________________________________\n",
      "dense_2 (Dense)              (None, 28)                7196      \n",
      "=================================================================\n",
      "Total params: 3,824,636\n",
      "Trainable params: 3,824,636\n",
      "Non-trainable params: 0\n",
      "_________________________________________________________________\n"
     ]
    }
   ],
   "source": [
    "recognizer.summary()"
   ]
  },
  {
   "cell_type": "code",
   "execution_count": 10,
   "metadata": {},
   "outputs": [],
   "source": [
    "optimizer = RMSprop(lr=0.001, rho=0.9, epsilon=1e-08, decay=0.0)"
   ]
  },
  {
   "cell_type": "code",
   "execution_count": 11,
   "metadata": {},
   "outputs": [],
   "source": [
    "recognizer.compile(optimizer = optimizer , loss = \"categorical_crossentropy\", metrics=[\"accuracy\"])"
   ]
  },
  {
   "cell_type": "code",
   "execution_count": 12,
   "metadata": {},
   "outputs": [],
   "source": [
    "datagen = ImageDataGenerator(\n",
    "        featurewise_center=False, \n",
    "        samplewise_center=False,  \n",
    "        featurewise_std_normalization=False,\n",
    "        samplewise_std_normalization=False,\n",
    "        zca_whitening=False,\n",
    "        rotation_range=10,\n",
    "        zoom_range = 0.1,  \n",
    "        width_shift_range=0.1, \n",
    "        height_shift_range=0.1,\n",
    "        horizontal_flip=False,\n",
    "        vertical_flip=False)"
   ]
  },
  {
   "cell_type": "code",
   "execution_count": 13,
   "metadata": {},
   "outputs": [],
   "source": [
    "datagen.fit(train_data)"
   ]
  },
  {
   "cell_type": "code",
   "execution_count": 14,
   "metadata": {},
   "outputs": [
    {
     "name": "stderr",
     "output_type": "stream",
     "text": [
      "C:\\Users\\rassa\\anaconda3\\lib\\site-packages\\tensorflow\\python\\keras\\engine\\training_v1.py:1240: UserWarning: `model.fit_generator` is deprecated and will be removed in a future version. Please use `Model.fit`, which supports generators.\n",
      "  warnings.warn('`model.fit_generator` is deprecated and '\n"
     ]
    },
    {
     "name": "stdout",
     "output_type": "stream",
     "text": [
      "Epoch 1/30\n",
      "134/134 - 31s - loss: 2.3736 - acc: 0.2806\n",
      "Epoch 2/30\n",
      "134/134 - 30s - loss: 1.2867 - acc: 0.5784\n",
      "Epoch 3/30\n",
      "134/134 - 30s - loss: 0.9239 - acc: 0.6936\n",
      "Epoch 4/30\n",
      "134/134 - 31s - loss: 0.7148 - acc: 0.7678\n",
      "Epoch 5/30\n",
      "134/134 - 30s - loss: 0.5792 - acc: 0.8052\n",
      "Epoch 6/30\n",
      "134/134 - 30s - loss: 0.5039 - acc: 0.8356\n",
      "Epoch 7/30\n",
      "134/134 - 30s - loss: 0.4425 - acc: 0.8576\n",
      "Epoch 8/30\n",
      "134/134 - 31s - loss: 0.4107 - acc: 0.8682\n",
      "Epoch 9/30\n",
      "134/134 - 30s - loss: 0.3730 - acc: 0.8802\n",
      "Epoch 10/30\n",
      "134/134 - 31s - loss: 0.3434 - acc: 0.8912\n",
      "Epoch 11/30\n",
      "134/134 - 32s - loss: 0.3095 - acc: 0.9013\n",
      "Epoch 12/30\n",
      "134/134 - 35s - loss: 0.2937 - acc: 0.9078\n",
      "Epoch 13/30\n",
      "134/134 - 33s - loss: 0.2786 - acc: 0.9113\n",
      "Epoch 14/30\n",
      "134/134 - 32s - loss: 0.2635 - acc: 0.9164\n",
      "Epoch 15/30\n",
      "134/134 - 32s - loss: 0.2599 - acc: 0.9196\n",
      "Epoch 16/30\n",
      "134/134 - 32s - loss: 0.2350 - acc: 0.9232\n",
      "Epoch 17/30\n",
      "134/134 - 32s - loss: 0.2386 - acc: 0.9250\n",
      "Epoch 18/30\n",
      "134/134 - 31s - loss: 0.2199 - acc: 0.9298\n",
      "Epoch 19/30\n",
      "134/134 - 32s - loss: 0.2179 - acc: 0.9328\n",
      "Epoch 20/30\n",
      "134/134 - 35s - loss: 0.2092 - acc: 0.9346\n",
      "Epoch 21/30\n",
      "134/134 - 33s - loss: 0.2066 - acc: 0.9354\n",
      "Epoch 22/30\n",
      "134/134 - 36s - loss: 0.1926 - acc: 0.9406\n",
      "Epoch 23/30\n",
      "134/134 - 39s - loss: 0.1876 - acc: 0.9398\n",
      "Epoch 24/30\n",
      "134/134 - 37s - loss: 0.1840 - acc: 0.9418\n",
      "Epoch 25/30\n",
      "134/134 - 37s - loss: 0.1871 - acc: 0.9408\n",
      "Epoch 26/30\n",
      "134/134 - 35s - loss: 0.1731 - acc: 0.9454\n",
      "Epoch 27/30\n",
      "134/134 - 34s - loss: 0.1817 - acc: 0.9436\n",
      "Epoch 28/30\n",
      "134/134 - 37s - loss: 0.1805 - acc: 0.9447\n",
      "Epoch 29/30\n",
      "134/134 - 34s - loss: 0.1765 - acc: 0.9457\n",
      "Epoch 30/30\n",
      "134/134 - 34s - loss: 0.1609 - acc: 0.9499\n"
     ]
    },
    {
     "data": {
      "text/plain": [
       "<tensorflow.python.keras.callbacks.History at 0x241f6c0e9a0>"
      ]
     },
     "execution_count": 14,
     "metadata": {},
     "output_type": "execute_result"
    }
   ],
   "source": [
    "recognizer.fit_generator(datagen.flow(train_data,train_label, batch_size=100),\n",
    "                             epochs = 30, verbose = 2, steps_per_epoch=train_data.shape[0] // 100)"
   ]
  },
  {
   "cell_type": "code",
   "execution_count": 15,
   "metadata": {},
   "outputs": [
    {
     "name": "stderr",
     "output_type": "stream",
     "text": [
      "C:\\Users\\rassa\\anaconda3\\lib\\site-packages\\tensorflow\\python\\keras\\engine\\training.py:2325: UserWarning: `Model.state_updates` will be removed in a future version. This property should not be used in TensorFlow 2.0, as `updates` are applied automatically.\n",
      "  warnings.warn('`Model.state_updates` will be removed in a future version. '\n"
     ]
    }
   ],
   "source": [
    "predictions = recognizer.predict(test_data)\n",
    "predictions = np.argmax(predictions,axis = 1)"
   ]
  },
  {
   "cell_type": "code",
   "execution_count": 16,
   "metadata": {},
   "outputs": [],
   "source": [
    "cm = confusion_matrix(test_label, predictions)"
   ]
  },
  {
   "cell_type": "code",
   "execution_count": 17,
   "metadata": {},
   "outputs": [
    {
     "name": "stdout",
     "output_type": "stream",
     "text": [
      "accuracy = 0.9630952380952381\n"
     ]
    }
   ],
   "source": [
    "# accuracy: (tp + tn) / (p + n)\n",
    "accuracy = sum(cm[i][i] for i in range(28)) / test_label.shape[0]\n",
    "print(\"accuracy = \" + str(accuracy))"
   ]
  },
  {
   "cell_type": "code",
   "execution_count": 18,
   "metadata": {},
   "outputs": [
    {
     "name": "stdout",
     "output_type": "stream",
     "text": [
      "[[120   0   0   0   0   0   0   0   0   0   0   0   0   0   0   0   0   0\n",
      "    0   0   0   0   0   0   0   0   0   0]\n",
      " [  0 119   0   0   0   0   0   0   0   0   0   1   0   0   0   0   0   0\n",
      "    0   0   0   0   0   0   0   0   0   0]\n",
      " [  0   0 118   2   0   0   0   0   0   0   0   0   0   0   0   0   0   0\n",
      "    0   0   0   0   0   0   0   0   0   0]\n",
      " [  0   0   6 113   0   0   0   0   0   0   0   0   0   0   0   0   0   0\n",
      "    0   0   0   0   0   0   1   0   0   0]\n",
      " [  0   0   0   0 119   1   0   0   0   0   0   0   0   0   0   0   0   0\n",
      "    0   0   0   0   0   0   0   0   0   0]\n",
      " [  0   0   0   0   2 118   0   0   0   0   0   0   0   0   0   0   0   0\n",
      "    0   0   0   0   0   0   0   0   0   0]\n",
      " [  0   0   0   0   0   2 118   0   0   0   0   0   0   0   0   0   0   0\n",
      "    0   0   0   0   0   0   0   0   0   0]\n",
      " [  0   0   0   0   0   0   0 118   0   2   0   0   0   0   0   0   0   0\n",
      "    0   0   0   0   0   0   0   0   0   0]\n",
      " [  0   0   0   0   0   0   0   6 107   1   2   0   0   0   0   0   2   0\n",
      "    0   0   0   0   2   0   0   0   0   0]\n",
      " [  0   0   0   0   0   0   0   1   0 117   1   0   0   0   0   0   0   0\n",
      "    0   0   0   0   1   0   0   0   0   0]\n",
      " [  0   0   0   0   0   0   0   2   2   9 106   0   0   0   0   0   0   0\n",
      "    0   0   0   1   0   0   0   0   0   0]\n",
      " [  0   0   0   0   0   0   0   0   0   0   0 119   0   1   0   0   0   0\n",
      "    0   0   0   0   0   0   0   0   0   0]\n",
      " [  0   0   0   0   0   0   0   0   0   0   0   0 119   0   1   0   0   0\n",
      "    0   0   0   0   0   0   0   0   0   0]\n",
      " [  0   0   0   0   0   0   0   0   0   0   0   3   0 117   0   0   0   0\n",
      "    0   0   0   0   0   0   0   0   0   0]\n",
      " [  0   0   0   0   0   0   0   0   0   0   0   0   1   5 114   0   0   0\n",
      "    0   0   0   0   0   0   0   0   0   0]\n",
      " [  0   0   0   0   0   0   0   0   0   0   0   0   0   0   0 117   1   0\n",
      "    0   0   0   0   0   0   0   2   0   0]\n",
      " [  0   0   0   0   0   0   0   0   0   0   0   0   0   0   0   4 116   0\n",
      "    0   0   0   0   0   0   0   0   0   0]\n",
      " [  0   0   0   1   1   7   1   0   0   0   0   0   0   0   0   0   0 109\n",
      "    0   0   0   0   0   1   0   0   0   0]\n",
      " [  0   0   0   0   0   0   6   0   0   0   0   0   0   0   0   0   0   0\n",
      "  114   0   0   0   0   0   0   0   0   0]\n",
      " [  0   0   0   0   0   0   0   0   0   0   0   0   0   1   0   0   0   0\n",
      "    0 114   5   0   0   0   0   0   0   0]\n",
      " [  0   0   1   0   0   0   0   0   0   0   0   0   0   1   0   0   0   0\n",
      "    0   2 116   0   0   0   0   0   0   0]\n",
      " [  0   0   0   0   0   0   0   0   0   0   0   1   0   0   0   0   0   0\n",
      "    0   0   0 118   0   0   0   0   1   0]\n",
      " [  0   0   0   0   0   0   0   0   0   0   0   0   0   0   0   0   0   0\n",
      "    0   0   0   3 117   0   0   0   0   0]\n",
      " [  1   0   0   0   0   0   0   0   0   0   0   0   0   0   0   0   0   0\n",
      "    0   0   0   0   0 118   0   1   0   0]\n",
      " [  0   0   5   0   0   0   0   0   0   0   0   1   0   0   0   0   0   0\n",
      "    0   1   0   5   0   0 108   0   0   0]\n",
      " [  0   0   0   1   0   0   0   0   0   0   0   0   0   0   0   0   0   0\n",
      "    0   0   0   0   0   0   0 117   2   0]\n",
      " [  0   0   0   0   0   0   0   1   0   1   0   0   0   0   0   0   0   0\n",
      "    0   0   0   0   0   0   0   4 114   0]\n",
      " [  0   0   0   0   0   0   0   0   0   0   0   0   0   0   0   0   1   0\n",
      "    0   0   2   0   0   0   1   0   0 116]]\n"
     ]
    }
   ],
   "source": [
    "print(cm)"
   ]
  },
  {
   "cell_type": "code",
   "execution_count": 19,
   "metadata": {},
   "outputs": [],
   "source": [
    "def outputMsg(l):\n",
    "    switcher = {\n",
    "        0: \"zero\",\n",
    "        1 : \"alif\",\n",
    "        2 : \"ba2\",\n",
    "        3: \"ta2\",\n",
    "        4: \"tha2\",\n",
    "        5: \"jha2\",\n",
    "        6: \"7a2\",\n",
    "        7: \"5a2\",\n",
    "        8: \"da2\",\n",
    "        9: \"thal\",\n",
    "        10: \"ra2\",\n",
    "        11: \"za2\",\n",
    "        12: \"seen\", \n",
    "        13: \"sha2\",\n",
    "        14: \"saad\",\n",
    "        15: \"thaad\",\n",
    "        16: \"ttaa2\",\n",
    "        17: \"ththa\",\n",
    "        18: \"3ayn\",\n",
    "        19: \"ghayn\",\n",
    "        20: \"fa2\",\n",
    "        21: \"9a2\",\n",
    "        22: \"ka2\",\n",
    "        23: \"lam\",\n",
    "        24: \"meem\",\n",
    "        25: \"noon\",\n",
    "        26: \"haa2\",\n",
    "        27: \"waw\",\n",
    "        28: \"ya2\"\n",
    "    }\n",
    "    print(\"Your letter is \" + switcher.get(l, \"Invalid label\"))\n",
    "    #messagebox.showinfo(\"Prediction\", \"Your letter is \" + switcher.get(l, \"Invalid label\"))\n",
    "    \n"
   ]
  },
  {
   "cell_type": "code",
   "execution_count": 25,
   "metadata": {
    "scrolled": true
   },
   "outputs": [
    {
     "name": "stdout",
     "output_type": "stream",
     "text": [
      "* Enter the alpha value [1.0-3.0]: 1.25\n",
      "* Enter the beta value [0-100]: 25\n",
      "174.0\n",
      "[[1. 0. 0. 0. 0. 0. 0. 0. 0. 0. 0. 0. 0. 0. 0. 0. 0. 0. 0. 0. 0. 0. 0. 0.\n",
      "  0. 0. 0. 0.]]\n"
     ]
    },
    {
     "data": {
      "image/png": "[encoded data removed]",
      "text/plain": [
       "<Figure size 432x288 with 1 Axes>"
      ]
     },
     "metadata": {
      "needs_background": "light"
     },
     "output_type": "display_data"
    }
   ],
   "source": [
    "\n",
    "# Read image given by user\n",
    "\n",
    "\n",
    "Tk().withdraw() # we don't want a full GUI, so keep the root window from appearing\n",
    "filename = askopenfilename() # show an \"Open\" dialog box and return the path to the selected file\n",
    "image = cv2.imread(filename)#r\"C:\\Users\\rassa\\Desktop\\Desktop2.0\\CNN\\9alb-Ba2-0.png\") #(cv.samples.findFile(args.input))\n",
    "\n",
    "contrast_img = np.zeros(image.shape, image.dtype)\n",
    "\n",
    "alpha = 1.0 # Simple contrast control\n",
    "beta = 0    # Simple brightness control\n",
    "\n",
    "# Initialize values\n",
    "try:\n",
    "    alpha = float(input('* Enter the alpha value [1.0-3.0]: '))\n",
    "    beta = int(input('* Enter the beta value [0-100]: '))\n",
    "except ValueError:\n",
    "    print('Error, not a number')\n",
    "    \n",
    "# Do the operation new_image(i,j) = alpha*image(i,j) + beta\n",
    "# Instead of these 'for' loops we could have used simply:\n",
    "# new_image = cv.convertScaleAbs(image, alpha=alpha, beta=beta)\n",
    "# but we wanted to show you how to access the pixels :)\n",
    "for y in range(image.shape[0]):\n",
    "    for x in range(image.shape[1]):\n",
    "        for c in range(image.shape[2]):\n",
    "            # the clip makes sure that the new values of the pixel are between 0 and 255\n",
    "            contrast_img[y,x,c] = np.clip(alpha*image[y,x,c] + beta, 0, 255)\n",
    "        \n",
    "#removethe three dimensions and turn image to gray scale\n",
    "im_gray = cv2.cvtColor(contrast_img, cv2.COLOR_BGR2GRAY)\n",
    "#binarize the image using Otsu method to get the threshold, binarize to black and white(ie. 255)\n",
    "th, im_gray_th_otsu = cv2.threshold(im_gray, 128, 255, cv2.THRESH_OTSU)\n",
    "#resizing...\n",
    "resized = cv2.resize(im_gray_th_otsu, (32,32), interpolation = cv2.INTER_AREA)\n",
    "\n",
    "#print the threshold because I'm curious\n",
    "print(th)\n",
    "\n",
    "final_img = np.zeros(resized.shape, resized.dtype)\n",
    "for y in range(resized.shape[0]):\n",
    "    for x in range(resized.shape[1]):\n",
    "        if resized[y,x] < 125:     \n",
    "            final_img[y,x] = 255\n",
    "        else :\n",
    "            final_img[y,x] = 0\n",
    "\n",
    "#Show the images so we can compare them (use the cv2.imshow if you want to ee them all at once)\n",
    "#cv2.imshow('New Image', im_gray_th_otsu)\n",
    "#cv2.imshow('Original Image', image)\n",
    "#cv2.imshow('Contrast image', contrast_img)\n",
    "#cv2.imshow('resized Image', resized)\n",
    "#cv2.imshow('final Image', final_img)\n",
    "plt.imshow(image)\n",
    "plt.imshow(contrast_img)\n",
    "plt.imshow(im_gray_th_otsu, cmap='gray', vmin=0, vmax=255)\n",
    "plt.imshow(resized, cmap='gray', vmin=0, vmax=255)\n",
    "plt.imshow(final_img, cmap='gray', vmin=0, vmax=255)\n",
    "\n",
    "\n",
    "final_img = np.asarray(final_img).reshape([-1, 32, 32, 1])\n",
    "#final_img.reshape([1,32,32,1])\n",
    "#final_img = np.expand_dims(final_img, -1)\n",
    "\n",
    "predictions_single = recognizer.predict(final_img)\n",
    "print(predictions_single)\n",
    "\n",
    "#let's get our label\n",
    "label = 0\n",
    "for i in range(28):\n",
    "    if predictions_single[0][i] == 1:\n",
    "        label = i+1\n",
    "        break\n"
   ]
  },
  {
   "cell_type": "code",
   "execution_count": 26,
   "metadata": {},
   "outputs": [
    {
     "name": "stdout",
     "output_type": "stream",
     "text": [
      "1\n",
      "Your letter is alif\n"
     ]
    }
   ],
   "source": [
    "print(label)\n",
    "outputMsg(label)"
   ]
  },
  {
   "cell_type": "code",
   "execution_count": 27,
   "metadata": {
    "scrolled": false
   },
   "outputs": [
    {
     "data": {
      "text/plain": [
       "<matplotlib.image.AxesImage at 0x24185630ac0>"
      ]
     },
     "execution_count": 27,
     "metadata": {},
     "output_type": "execute_result"
    },
    {
     "data": {
      "image/png": "[encoded data removed]",
      "text/plain": [
       "<Figure size 432x288 with 1 Axes>"
      ]
     },
     "metadata": {
      "needs_background": "light"
     },
     "output_type": "display_data"
    }
   ],
   "source": [
    "plt.imshow(contrast_img)\n"
   ]
  },
  {
   "cell_type": "code",
   "execution_count": 28,
   "metadata": {
    "scrolled": false
   },
   "outputs": [
    {
     "data": {
      "text/plain": [
       "<matplotlib.image.AxesImage at 0x241856932b0>"
      ]
     },
     "execution_count": 28,
     "metadata": {},
     "output_type": "execute_result"
    },
    {
     "data": {
      "image/png": "[encoded data removed]",
      "text/plain": [
       "<Figure size 432x288 with 1 Axes>"
      ]
     },
     "metadata": {
      "needs_background": "light"
     },
     "output_type": "display_data"
    }
   ],
   "source": [
    "plt.imshow(im_gray_th_otsu, cmap='gray', vmin=0, vmax=255)\n"
   ]
  },
  {
   "cell_type": "code",
   "execution_count": 29,
   "metadata": {
    "scrolled": true
   },
   "outputs": [
    {
     "data": {
      "text/plain": [
       "<matplotlib.image.AxesImage at 0x241856ea400>"
      ]
     },
     "execution_count": 29,
     "metadata": {},
     "output_type": "execute_result"
    },
    {
     "data": {
      "image/png": "[encoded data removed]",
      "text/plain": [
       "<Figure size 432x288 with 1 Axes>"
      ]
     },
     "metadata": {
      "needs_background": "light"
     },
     "output_type": "display_data"
    }
   ],
   "source": [
    "plt.imshow(resized, cmap='gray', vmin=0, vmax=255)\n"
   ]
  },
  {
   "cell_type": "code",
   "execution_count": 30,
   "metadata": {},
   "outputs": [
    {
     "data": {
      "text/plain": [
       "['conv2d',\n",
       " 'conv2d_1',\n",
       " 'average_pooling2d',\n",
       " 'dropout',\n",
       " 'conv2d_2',\n",
       " 'conv2d_3',\n",
       " 'max_pooling2d',\n",
       " 'dropout_1',\n",
       " 'flatten',\n",
       " 'dense',\n",
       " 'dense_1',\n",
       " 'dropout_2',\n",
       " 'dense_2']"
      ]
     },
     "execution_count": 30,
     "metadata": {},
     "output_type": "execute_result"
    }
   ],
   "source": [
    "layer_names = [layer.name for layer in recognizer.layers]\n",
    "layer_names"
   ]
  },
  {
   "cell_type": "code",
   "execution_count": 31,
   "metadata": {},
   "outputs": [
    {
     "data": {
      "text/plain": [
       "[<tensorflow.python.keras.layers.convolutional.Conv2D at 0x241f6b75a90>,\n",
       " <tensorflow.python.keras.layers.convolutional.Conv2D at 0x241f6a296d0>,\n",
       " <tensorflow.python.keras.layers.pooling.AveragePooling2D at 0x241f6883640>,\n",
       " <tensorflow.python.keras.layers.core.Dropout at 0x241f6a40430>,\n",
       " <tensorflow.python.keras.layers.convolutional.Conv2D at 0x241f6bad070>,\n",
       " <tensorflow.python.keras.layers.convolutional.Conv2D at 0x241f6a504c0>,\n",
       " <tensorflow.python.keras.layers.pooling.MaxPooling2D at 0x241f6a6c7f0>,\n",
       " <tensorflow.python.keras.layers.core.Dropout at 0x241f6aaea30>,\n",
       " <tensorflow.python.keras.layers.core.Flatten at 0x241f6a77880>,\n",
       " <tensorflow.python.keras.layers.core.Dense at 0x241f6a77dc0>,\n",
       " <tensorflow.python.keras.layers.core.Dense at 0x241f6a7fe80>,\n",
       " <tensorflow.python.keras.layers.core.Dropout at 0x241f6a97220>,\n",
       " <tensorflow.python.keras.layers.core.Dense at 0x241f6a14460>]"
      ]
     },
     "execution_count": 31,
     "metadata": {},
     "output_type": "execute_result"
    }
   ],
   "source": [
    "recognizer.layers"
   ]
  },
  {
   "cell_type": "code",
   "execution_count": 34,
   "metadata": {},
   "outputs": [
    {
     "data": {
      "text/plain": [
       "[<tf.Tensor 'conv2d/Relu:0' shape=(?, 32, 32, 32) dtype=float32>,\n",
       " <tf.Tensor 'conv2d_1/Relu:0' shape=(?, 32, 32, 32) dtype=float32>,\n",
       " <tf.Tensor 'average_pooling2d/AvgPool:0' shape=(?, 16, 16, 32) dtype=float32>,\n",
       " <tf.Tensor 'dropout/cond/Merge:0' shape=(?, 16, 16, 32) dtype=float32>,\n",
       " <tf.Tensor 'conv2d_2/Relu:0' shape=(?, 16, 16, 64) dtype=float32>,\n",
       " <tf.Tensor 'conv2d_3/Relu:0' shape=(?, 16, 16, 64) dtype=float32>,\n",
       " <tf.Tensor 'max_pooling2d/MaxPool:0' shape=(?, 15, 15, 64) dtype=float32>,\n",
       " <tf.Tensor 'dropout_1/cond/Merge:0' shape=(?, 15, 15, 64) dtype=float32>,\n",
       " <tf.Tensor 'flatten/Reshape:0' shape=(?, 14400) dtype=float32>,\n",
       " <tf.Tensor 'dense/Relu:0' shape=(?, 256) dtype=float32>,\n",
       " <tf.Tensor 'dense_1/Relu:0' shape=(?, 256) dtype=float32>,\n",
       " <tf.Tensor 'dropout_2/cond/Merge:0' shape=(?, 256) dtype=float32>,\n",
       " <tf.Tensor 'dense_2/Softmax:0' shape=(?, 28) dtype=float32>]"
      ]
     },
     "execution_count": 34,
     "metadata": {},
     "output_type": "execute_result"
    }
   ],
   "source": [
    "layer_outputs = [layer.output for layer in recognizer.layers]\n",
    "layer_outputs"
   ]
  },
  {
   "cell_type": "code",
   "execution_count": 38,
   "metadata": {},
   "outputs": [],
   "source": [
    "feature_map_model = tf.keras.models.Model(inputs=recognizer.input, outputs=layer_outputs)\n"
   ]
  },
  {
   "cell_type": "code",
   "execution_count": 39,
   "metadata": {},
   "outputs": [
    {
     "data": {
      "text/plain": [
       "<tf.Tensor 'conv2d_input:0' shape=(?, 32, 32, 1) dtype=float32>"
      ]
     },
     "execution_count": 39,
     "metadata": {},
     "output_type": "execute_result"
    }
   ],
   "source": [
    "recognizer.input"
   ]
  },
  {
   "cell_type": "code",
   "execution_count": 40,
   "metadata": {},
   "outputs": [],
   "source": [
    "feature_maps = feature_map_model.predict(final_img)\n"
   ]
  },
  {
   "cell_type": "code",
   "execution_count": 42,
   "metadata": {},
   "outputs": [
    {
     "data": {
      "text/plain": [
       "(1, 14400)"
      ]
     },
     "execution_count": 42,
     "metadata": {},
     "output_type": "execute_result"
    }
   ],
   "source": [
    "feature_maps[8].shape"
   ]
  },
  {
   "cell_type": "code",
   "execution_count": 43,
   "metadata": {},
   "outputs": [
    {
     "name": "stdout",
     "output_type": "stream",
     "text": [
      "[[0.0024024 0.        0.        ... 0.        0.        0.       ]]\n"
     ]
    }
   ],
   "source": [
    "print(feature_maps[8])"
   ]
  },
  {
   "cell_type": "markdown",
   "metadata": {},
   "source": [
    "Let's see if it cares about image size"
   ]
  },
  {
   "cell_type": "code",
   "execution_count": 54,
   "metadata": {},
   "outputs": [
    {
     "data": {
      "text/plain": [
       "(1, 32, 32, 1)"
      ]
     },
     "execution_count": 54,
     "metadata": {},
     "output_type": "execute_result"
    }
   ],
   "source": [
    "final_img.shape"
   ]
  },
  {
   "cell_type": "code",
   "execution_count": 55,
   "metadata": {},
   "outputs": [
    {
     "data": {
      "text/plain": [
       "(364, 385)"
      ]
     },
     "execution_count": 55,
     "metadata": {},
     "output_type": "execute_result"
    }
   ],
   "source": [
    "im_gray_th_otsu.shape"
   ]
  },
  {
   "cell_type": "code",
   "execution_count": 57,
   "metadata": {},
   "outputs": [
    {
     "data": {
      "text/plain": [
       "numpy.ndarray"
      ]
     },
     "execution_count": 57,
     "metadata": {},
     "output_type": "execute_result"
    }
   ],
   "source": [
    "type(im_gray_th_otsu)"
   ]
  },
  {
   "cell_type": "code",
   "execution_count": 58,
   "metadata": {},
   "outputs": [],
   "source": [
    "sizeTestingimg = np.asarray(im_gray_th_otsu).reshape([-1, 364, 385, 1])"
   ]
  },
  {
   "cell_type": "code",
   "execution_count": 59,
   "metadata": {},
   "outputs": [
    {
     "ename": "ValueError",
     "evalue": "Error when checking input: expected conv2d_input to have shape (32, 32, 1) but got array with shape (364, 385, 1)",
     "output_type": "error",
     "traceback": [
      "\u001b[1;31m---------------------------------------------------------------------------\u001b[0m",
      "\u001b[1;31mValueError\u001b[0m                                Traceback (most recent call last)",
      "\u001b[1;32m<ipython-input-59-27603ed65cac>\u001b[0m in \u001b[0;36m<module>\u001b[1;34m\u001b[0m\n\u001b[1;32m----> 1\u001b[1;33m \u001b[0mfeature_maps\u001b[0m \u001b[1;33m=\u001b[0m \u001b[0mfeature_map_model\u001b[0m\u001b[1;33m.\u001b[0m\u001b[0mpredict\u001b[0m\u001b[1;33m(\u001b[0m\u001b[0msizeTestingimg\u001b[0m\u001b[1;33m)\u001b[0m\u001b[1;33m\u001b[0m\u001b[1;33m\u001b[0m\u001b[0m\n\u001b[0m",
      "\u001b[1;32m~\\anaconda3\\lib\\site-packages\\tensorflow\\python\\keras\\engine\\training_v1.py\u001b[0m in \u001b[0;36mpredict\u001b[1;34m(self, x, batch_size, verbose, steps, callbacks, max_queue_size, workers, use_multiprocessing)\u001b[0m\n\u001b[0;32m    980\u001b[0m \u001b[1;33m\u001b[0m\u001b[0m\n\u001b[0;32m    981\u001b[0m     \u001b[0mfunc\u001b[0m \u001b[1;33m=\u001b[0m \u001b[0mself\u001b[0m\u001b[1;33m.\u001b[0m\u001b[0m_select_training_loop\u001b[0m\u001b[1;33m(\u001b[0m\u001b[0mx\u001b[0m\u001b[1;33m)\u001b[0m\u001b[1;33m\u001b[0m\u001b[1;33m\u001b[0m\u001b[0m\n\u001b[1;32m--> 982\u001b[1;33m     return func.predict(\n\u001b[0m\u001b[0;32m    983\u001b[0m         \u001b[0mself\u001b[0m\u001b[1;33m,\u001b[0m\u001b[1;33m\u001b[0m\u001b[1;33m\u001b[0m\u001b[0m\n\u001b[0;32m    984\u001b[0m         \u001b[0mx\u001b[0m\u001b[1;33m=\u001b[0m\u001b[0mx\u001b[0m\u001b[1;33m,\u001b[0m\u001b[1;33m\u001b[0m\u001b[1;33m\u001b[0m\u001b[0m\n",
      "\u001b[1;32m~\\anaconda3\\lib\\site-packages\\tensorflow\\python\\keras\\engine\\training_arrays_v1.py\u001b[0m in \u001b[0;36mpredict\u001b[1;34m(self, model, x, batch_size, verbose, steps, callbacks, **kwargs)\u001b[0m\n\u001b[0;32m    702\u001b[0m               **kwargs):\n\u001b[0;32m    703\u001b[0m     \u001b[0mbatch_size\u001b[0m \u001b[1;33m=\u001b[0m \u001b[0mmodel\u001b[0m\u001b[1;33m.\u001b[0m\u001b[0m_validate_or_infer_batch_size\u001b[0m\u001b[1;33m(\u001b[0m\u001b[0mbatch_size\u001b[0m\u001b[1;33m,\u001b[0m \u001b[0msteps\u001b[0m\u001b[1;33m,\u001b[0m \u001b[0mx\u001b[0m\u001b[1;33m)\u001b[0m\u001b[1;33m\u001b[0m\u001b[1;33m\u001b[0m\u001b[0m\n\u001b[1;32m--> 704\u001b[1;33m     x, _, _ = model._standardize_user_data(\n\u001b[0m\u001b[0;32m    705\u001b[0m         x, check_steps=True, steps_name='steps', steps=steps)\n\u001b[0;32m    706\u001b[0m     return predict_loop(\n",
      "\u001b[1;32m~\\anaconda3\\lib\\site-packages\\tensorflow\\python\\keras\\engine\\training_v1.py\u001b[0m in \u001b[0;36m_standardize_user_data\u001b[1;34m(self, x, y, sample_weight, class_weight, batch_size, check_steps, steps_name, steps, validation_split, shuffle, extract_tensors_from_dataset)\u001b[0m\n\u001b[0;32m   2328\u001b[0m       \u001b[1;32mreturn\u001b[0m \u001b[1;33m[\u001b[0m\u001b[1;33m]\u001b[0m\u001b[1;33m,\u001b[0m \u001b[1;33m[\u001b[0m\u001b[1;33m]\u001b[0m\u001b[1;33m,\u001b[0m \u001b[1;32mNone\u001b[0m\u001b[1;33m\u001b[0m\u001b[1;33m\u001b[0m\u001b[0m\n\u001b[0;32m   2329\u001b[0m \u001b[1;33m\u001b[0m\u001b[0m\n\u001b[1;32m-> 2330\u001b[1;33m     return self._standardize_tensors(\n\u001b[0m\u001b[0;32m   2331\u001b[0m         \u001b[0mx\u001b[0m\u001b[1;33m,\u001b[0m \u001b[0my\u001b[0m\u001b[1;33m,\u001b[0m \u001b[0msample_weight\u001b[0m\u001b[1;33m,\u001b[0m\u001b[1;33m\u001b[0m\u001b[1;33m\u001b[0m\u001b[0m\n\u001b[0;32m   2332\u001b[0m         \u001b[0mrun_eagerly\u001b[0m\u001b[1;33m=\u001b[0m\u001b[0mrun_eagerly\u001b[0m\u001b[1;33m,\u001b[0m\u001b[1;33m\u001b[0m\u001b[1;33m\u001b[0m\u001b[0m\n",
      "\u001b[1;32m~\\anaconda3\\lib\\site-packages\\tensorflow\\python\\keras\\engine\\training_v1.py\u001b[0m in \u001b[0;36m_standardize_tensors\u001b[1;34m(self, x, y, sample_weight, run_eagerly, dict_inputs, is_dataset, class_weight, batch_size)\u001b[0m\n\u001b[0;32m   2356\u001b[0m     \u001b[1;32mif\u001b[0m \u001b[1;32mnot\u001b[0m \u001b[0misinstance\u001b[0m\u001b[1;33m(\u001b[0m\u001b[0mx\u001b[0m\u001b[1;33m,\u001b[0m \u001b[1;33m(\u001b[0m\u001b[0mdataset_ops\u001b[0m\u001b[1;33m.\u001b[0m\u001b[0mDatasetV1\u001b[0m\u001b[1;33m,\u001b[0m \u001b[0mdataset_ops\u001b[0m\u001b[1;33m.\u001b[0m\u001b[0mDatasetV2\u001b[0m\u001b[1;33m)\u001b[0m\u001b[1;33m)\u001b[0m\u001b[1;33m:\u001b[0m\u001b[1;33m\u001b[0m\u001b[1;33m\u001b[0m\u001b[0m\n\u001b[0;32m   2357\u001b[0m       \u001b[1;31m# TODO(fchollet): run static checks with dataset output shape(s).\u001b[0m\u001b[1;33m\u001b[0m\u001b[1;33m\u001b[0m\u001b[1;33m\u001b[0m\u001b[0m\n\u001b[1;32m-> 2358\u001b[1;33m       x = training_utils_v1.standardize_input_data(\n\u001b[0m\u001b[0;32m   2359\u001b[0m           \u001b[0mx\u001b[0m\u001b[1;33m,\u001b[0m\u001b[1;33m\u001b[0m\u001b[1;33m\u001b[0m\u001b[0m\n\u001b[0;32m   2360\u001b[0m           \u001b[0mfeed_input_names\u001b[0m\u001b[1;33m,\u001b[0m\u001b[1;33m\u001b[0m\u001b[1;33m\u001b[0m\u001b[0m\n",
      "\u001b[1;32m~\\anaconda3\\lib\\site-packages\\tensorflow\\python\\keras\\engine\\training_utils_v1.py\u001b[0m in \u001b[0;36mstandardize_input_data\u001b[1;34m(data, names, shapes, check_batch_axis, exception_prefix)\u001b[0m\n\u001b[0;32m    535\u001b[0m         \u001b[1;32mfor\u001b[0m \u001b[0mdim\u001b[0m\u001b[1;33m,\u001b[0m \u001b[0mref_dim\u001b[0m \u001b[1;32min\u001b[0m \u001b[0mzip\u001b[0m\u001b[1;33m(\u001b[0m\u001b[0mdata_shape\u001b[0m\u001b[1;33m,\u001b[0m \u001b[0mshape\u001b[0m\u001b[1;33m)\u001b[0m\u001b[1;33m:\u001b[0m\u001b[1;33m\u001b[0m\u001b[1;33m\u001b[0m\u001b[0m\n\u001b[0;32m    536\u001b[0m           \u001b[1;32mif\u001b[0m \u001b[0mref_dim\u001b[0m \u001b[1;33m!=\u001b[0m \u001b[0mdim\u001b[0m \u001b[1;32mand\u001b[0m \u001b[0mref_dim\u001b[0m \u001b[1;32mis\u001b[0m \u001b[1;32mnot\u001b[0m \u001b[1;32mNone\u001b[0m \u001b[1;32mand\u001b[0m \u001b[0mdim\u001b[0m \u001b[1;32mis\u001b[0m \u001b[1;32mnot\u001b[0m \u001b[1;32mNone\u001b[0m\u001b[1;33m:\u001b[0m\u001b[1;33m\u001b[0m\u001b[1;33m\u001b[0m\u001b[0m\n\u001b[1;32m--> 537\u001b[1;33m             raise ValueError('Error when checking ' + exception_prefix +\n\u001b[0m\u001b[0;32m    538\u001b[0m                              \u001b[1;34m': expected '\u001b[0m \u001b[1;33m+\u001b[0m \u001b[0mnames\u001b[0m\u001b[1;33m[\u001b[0m\u001b[0mi\u001b[0m\u001b[1;33m]\u001b[0m \u001b[1;33m+\u001b[0m \u001b[1;34m' to have shape '\u001b[0m \u001b[1;33m+\u001b[0m\u001b[1;33m\u001b[0m\u001b[1;33m\u001b[0m\u001b[0m\n\u001b[0;32m    539\u001b[0m                              \u001b[0mstr\u001b[0m\u001b[1;33m(\u001b[0m\u001b[0mshape\u001b[0m\u001b[1;33m)\u001b[0m \u001b[1;33m+\u001b[0m \u001b[1;34m' but got array with shape '\u001b[0m \u001b[1;33m+\u001b[0m\u001b[1;33m\u001b[0m\u001b[1;33m\u001b[0m\u001b[0m\n",
      "\u001b[1;31mValueError\u001b[0m: Error when checking input: expected conv2d_input to have shape (32, 32, 1) but got array with shape (364, 385, 1)"
     ]
    }
   ],
   "source": [
    "feature_maps = feature_map_model.predict(sizeTestingimg)"
   ]
  },
  {
   "cell_type": "markdown",
   "metadata": {},
   "source": [
    "Yes it does... so we have to change the shapes of each segment to fit this shape..."
   ]
  },
  {
   "cell_type": "code",
   "execution_count": 63,
   "metadata": {},
   "outputs": [],
   "source": [
    "from tensorflow.keras.applications.inception_v3 import InceptionV3\n",
    "from tensorflow.keras.applications.inception_v3 import preprocess_input\n",
    "from tensorflow.keras.preprocessing import image\n",
    "from tensorflow.keras.preprocessing.image import img_to_array\n",
    "from sklearn.cluster import KMeans\n",
    "import pandas as pd\n",
    "import numpy as np\n",
    "from tqdm import tqdm\n",
    "import os\n",
    "import shutil"
   ]
  },
  {
   "cell_type": "code",
   "execution_count": 46,
   "metadata": {},
   "outputs": [
    {
     "name": "stdout",
     "output_type": "stream",
     "text": [
      "Downloading data from https://storage.googleapis.com/tensorflow/keras-applications/inception_v3/inception_v3_weights_tf_dim_ordering_tf_kernels_notop.h5\n",
      "87916544/87910968 [==============================] - 108s 1us/step\n"
     ]
    }
   ],
   "source": [
    "testingmodel = InceptionV3(weights='imagenet', include_top=False)"
   ]
  },
  {
   "cell_type": "code",
   "execution_count": 47,
   "metadata": {},
   "outputs": [
    {
     "data": {
      "text/plain": [
       "[<tensorflow.python.keras.engine.input_layer.InputLayer at 0x241856b3eb0>,\n",
       " <tensorflow.python.keras.layers.convolutional.Conv2D at 0x241856fbe80>,\n",
       " <tensorflow.python.keras.layers.normalization.BatchNormalization at 0x2418c1fd1f0>,\n",
       " <tensorflow.python.keras.layers.core.Activation at 0x2418c1f0760>,\n",
       " <tensorflow.python.keras.layers.convolutional.Conv2D at 0x2418c1fd340>,\n",
       " <tensorflow.python.keras.layers.normalization.BatchNormalization at 0x2418c203eb0>,\n",
       " <tensorflow.python.keras.layers.core.Activation at 0x2418c23a8e0>,\n",
       " <tensorflow.python.keras.layers.convolutional.Conv2D at 0x2418c241d30>,\n",
       " <tensorflow.python.keras.layers.normalization.BatchNormalization at 0x2418c2493d0>,\n",
       " <tensorflow.python.keras.layers.core.Activation at 0x2418c272280>,\n",
       " <tensorflow.python.keras.layers.pooling.MaxPooling2D at 0x2418c2723d0>,\n",
       " <tensorflow.python.keras.layers.convolutional.Conv2D at 0x2418c280130>,\n",
       " <tensorflow.python.keras.layers.normalization.BatchNormalization at 0x2418c288340>,\n",
       " <tensorflow.python.keras.layers.core.Activation at 0x2418c27afa0>,\n",
       " <tensorflow.python.keras.layers.convolutional.Conv2D at 0x2418c2a4dc0>,\n",
       " <tensorflow.python.keras.layers.normalization.BatchNormalization at 0x2418c2ad9a0>,\n",
       " <tensorflow.python.keras.layers.core.Activation at 0x2418c2cf4f0>,\n",
       " <tensorflow.python.keras.layers.pooling.MaxPooling2D at 0x2418c2cf190>,\n",
       " <tensorflow.python.keras.layers.convolutional.Conv2D at 0x2418e17df10>,\n",
       " <tensorflow.python.keras.layers.normalization.BatchNormalization at 0x2418e190b50>,\n",
       " <tensorflow.python.keras.layers.core.Activation at 0x2418e1ad9a0>,\n",
       " <tensorflow.python.keras.layers.convolutional.Conv2D at 0x2418e123850>,\n",
       " <tensorflow.python.keras.layers.convolutional.Conv2D at 0x2418e1b3fd0>,\n",
       " <tensorflow.python.keras.layers.normalization.BatchNormalization at 0x2418e1455b0>,\n",
       " <tensorflow.python.keras.layers.normalization.BatchNormalization at 0x2418e1b90a0>,\n",
       " <tensorflow.python.keras.layers.core.Activation at 0x2418e1511f0>,\n",
       " <tensorflow.python.keras.layers.core.Activation at 0x2418e1e04f0>,\n",
       " <tensorflow.python.keras.layers.pooling.AveragePooling2D at 0x2418e2111c0>,\n",
       " <tensorflow.python.keras.layers.convolutional.Conv2D at 0x2418c2cfe80>,\n",
       " <tensorflow.python.keras.layers.convolutional.Conv2D at 0x2418e15ee20>,\n",
       " <tensorflow.python.keras.layers.convolutional.Conv2D at 0x2418e1e0190>,\n",
       " <tensorflow.python.keras.layers.convolutional.Conv2D at 0x2418e2110a0>,\n",
       " <tensorflow.python.keras.layers.normalization.BatchNormalization at 0x2418e1159d0>,\n",
       " <tensorflow.python.keras.layers.normalization.BatchNormalization at 0x2418e16d550>,\n",
       " <tensorflow.python.keras.layers.normalization.BatchNormalization at 0x2418e1f2430>,\n",
       " <tensorflow.python.keras.layers.normalization.BatchNormalization at 0x2418e22cac0>,\n",
       " <tensorflow.python.keras.layers.core.Activation at 0x2418e126df0>,\n",
       " <tensorflow.python.keras.layers.core.Activation at 0x2418e182460>,\n",
       " <tensorflow.python.keras.layers.core.Activation at 0x2418e2111f0>,\n",
       " <tensorflow.python.keras.layers.core.Activation at 0x2418e21c250>,\n",
       " <tensorflow.python.keras.layers.merge.Concatenate at 0x2418e241a90>,\n",
       " <tensorflow.python.keras.layers.convolutional.Conv2D at 0x2418e2d5730>,\n",
       " <tensorflow.python.keras.layers.normalization.BatchNormalization at 0x2418e2f15e0>,\n",
       " <tensorflow.python.keras.layers.core.Activation at 0x2418e3055e0>,\n",
       " <tensorflow.python.keras.layers.convolutional.Conv2D at 0x2418e272580>,\n",
       " <tensorflow.python.keras.layers.convolutional.Conv2D at 0x2418e305d60>,\n",
       " <tensorflow.python.keras.layers.normalization.BatchNormalization at 0x2418e298160>,\n",
       " <tensorflow.python.keras.layers.normalization.BatchNormalization at 0x2418e314310>,\n",
       " <tensorflow.python.keras.layers.core.Activation at 0x2418e2a23a0>,\n",
       " <tensorflow.python.keras.layers.core.Activation at 0x2418e331a00>,\n",
       " <tensorflow.python.keras.layers.pooling.AveragePooling2D at 0x2418e362eb0>,\n",
       " <tensorflow.python.keras.layers.convolutional.Conv2D at 0x2418e256670>,\n",
       " <tensorflow.python.keras.layers.convolutional.Conv2D at 0x2418e2a2340>,\n",
       " <tensorflow.python.keras.layers.convolutional.Conv2D at 0x2418e3311f0>,\n",
       " <tensorflow.python.keras.layers.convolutional.Conv2D at 0x2418e3620a0>,\n",
       " <tensorflow.python.keras.layers.normalization.BatchNormalization at 0x2418e24d3d0>,\n",
       " <tensorflow.python.keras.layers.normalization.BatchNormalization at 0x2418e2bfee0>,\n",
       " <tensorflow.python.keras.layers.normalization.BatchNormalization at 0x2418e359f70>,\n",
       " <tensorflow.python.keras.layers.normalization.BatchNormalization at 0x2418e37f8b0>,\n",
       " <tensorflow.python.keras.layers.core.Activation at 0x2418e277fd0>,\n",
       " <tensorflow.python.keras.layers.core.Activation at 0x2418e2cdf10>,\n",
       " <tensorflow.python.keras.layers.core.Activation at 0x2418e362160>,\n",
       " <tensorflow.python.keras.layers.core.Activation at 0x2418e393520>,\n",
       " <tensorflow.python.keras.layers.merge.Concatenate at 0x2418e3931f0>,\n",
       " <tensorflow.python.keras.layers.convolutional.Conv2D at 0x2418e426b80>,\n",
       " <tensorflow.python.keras.layers.normalization.BatchNormalization at 0x2418e42da90>,\n",
       " <tensorflow.python.keras.layers.core.Activation at 0x2418e457760>,\n",
       " <tensorflow.python.keras.layers.convolutional.Conv2D at 0x2418e3c5400>,\n",
       " <tensorflow.python.keras.layers.convolutional.Conv2D at 0x2418e4577c0>,\n",
       " <tensorflow.python.keras.layers.normalization.BatchNormalization at 0x2418e3cba90>,\n",
       " <tensorflow.python.keras.layers.normalization.BatchNormalization at 0x2418e463130>,\n",
       " <tensorflow.python.keras.layers.core.Activation at 0x2418e3f5190>,\n",
       " <tensorflow.python.keras.layers.core.Activation at 0x2418e4852e0>,\n",
       " <tensorflow.python.keras.layers.pooling.AveragePooling2D at 0x2418e4b88b0>,\n",
       " <tensorflow.python.keras.layers.convolutional.Conv2D at 0x2418e3998e0>,\n",
       " <tensorflow.python.keras.layers.convolutional.Conv2D at 0x2418e3f5ee0>,\n",
       " <tensorflow.python.keras.layers.convolutional.Conv2D at 0x2418e485400>,\n",
       " <tensorflow.python.keras.layers.convolutional.Conv2D at 0x2418e4b8310>,\n",
       " <tensorflow.python.keras.layers.normalization.BatchNormalization at 0x2418e3bed90>,\n",
       " <tensorflow.python.keras.layers.normalization.BatchNormalization at 0x2418e413550>,\n",
       " <tensorflow.python.keras.layers.normalization.BatchNormalization at 0x2418e4b0700>,\n",
       " <tensorflow.python.keras.layers.normalization.BatchNormalization at 0x2418e4d3eb0>,\n",
       " <tensorflow.python.keras.layers.core.Activation at 0x2418e3c5370>,\n",
       " <tensorflow.python.keras.layers.core.Activation at 0x2418e420b80>,\n",
       " <tensorflow.python.keras.layers.core.Activation at 0x2418e4b80d0>,\n",
       " <tensorflow.python.keras.layers.core.Activation at 0x2418e4e60a0>,\n",
       " <tensorflow.python.keras.layers.merge.Concatenate at 0x2418e4e6940>,\n",
       " <tensorflow.python.keras.layers.convolutional.Conv2D at 0x2418e51a370>,\n",
       " <tensorflow.python.keras.layers.normalization.BatchNormalization at 0x2418e53fca0>,\n",
       " <tensorflow.python.keras.layers.core.Activation at 0x2418e54ae80>,\n",
       " <tensorflow.python.keras.layers.convolutional.Conv2D at 0x2418e536b50>,\n",
       " <tensorflow.python.keras.layers.normalization.BatchNormalization at 0x2418e569c40>,\n",
       " <tensorflow.python.keras.layers.core.Activation at 0x2418e577fd0>,\n",
       " <tensorflow.python.keras.layers.convolutional.Conv2D at 0x2418e4ef430>,\n",
       " <tensorflow.python.keras.layers.convolutional.Conv2D at 0x2418e57cc70>,\n",
       " <tensorflow.python.keras.layers.normalization.BatchNormalization at 0x2418e513fa0>,\n",
       " <tensorflow.python.keras.layers.normalization.BatchNormalization at 0x2418e582670>,\n",
       " <tensorflow.python.keras.layers.core.Activation at 0x2418e51a2e0>,\n",
       " <tensorflow.python.keras.layers.core.Activation at 0x2418e5abee0>,\n",
       " <tensorflow.python.keras.layers.pooling.MaxPooling2D at 0x2418e5ab8e0>,\n",
       " <tensorflow.python.keras.layers.merge.Concatenate at 0x2418e5abc40>,\n",
       " <tensorflow.python.keras.layers.convolutional.Conv2D at 0x2418e66c2b0>,\n",
       " <tensorflow.python.keras.layers.normalization.BatchNormalization at 0x2418e6e26d0>,\n",
       " <tensorflow.python.keras.layers.core.Activation at 0x2418e6f6f10>,\n",
       " <tensorflow.python.keras.layers.convolutional.Conv2D at 0x2418e6fed30>,\n",
       " <tensorflow.python.keras.layers.normalization.BatchNormalization at 0x2418e70b1f0>,\n",
       " <tensorflow.python.keras.layers.core.Activation at 0x2418e72a970>,\n",
       " <tensorflow.python.keras.layers.convolutional.Conv2D at 0x2418e5e0040>,\n",
       " <tensorflow.python.keras.layers.convolutional.Conv2D at 0x2418e730bb0>,\n",
       " <tensorflow.python.keras.layers.normalization.BatchNormalization at 0x2418e5ea1f0>,\n",
       " <tensorflow.python.keras.layers.normalization.BatchNormalization at 0x2418e73d880>,\n",
       " <tensorflow.python.keras.layers.core.Activation at 0x2418e60a310>,\n",
       " <tensorflow.python.keras.layers.core.Activation at 0x2418e760c40>,\n",
       " <tensorflow.python.keras.layers.convolutional.Conv2D at 0x2418e610bb0>,\n",
       " <tensorflow.python.keras.layers.convolutional.Conv2D at 0x2418e759520>,\n",
       " <tensorflow.python.keras.layers.normalization.BatchNormalization at 0x2418e61c880>,\n",
       " <tensorflow.python.keras.layers.normalization.BatchNormalization at 0x2418e781490>,\n",
       " <tensorflow.python.keras.layers.core.Activation at 0x2418e640d00>,\n",
       " <tensorflow.python.keras.layers.core.Activation at 0x2418e78d1f0>,\n",
       " <tensorflow.python.keras.layers.pooling.AveragePooling2D at 0x2418e7996a0>,\n",
       " <tensorflow.python.keras.layers.convolutional.Conv2D at 0x2418e5cde50>,\n",
       " <tensorflow.python.keras.layers.convolutional.Conv2D at 0x2418e63b520>,\n",
       " <tensorflow.python.keras.layers.convolutional.Conv2D at 0x2418e78d160>,\n",
       " <tensorflow.python.keras.layers.convolutional.Conv2D at 0x2418e7c2c70>,\n",
       " <tensorflow.python.keras.layers.normalization.BatchNormalization at 0x2418e5da9d0>,\n",
       " <tensorflow.python.keras.layers.normalization.BatchNormalization at 0x2418e660130>,\n",
       " <tensorflow.python.keras.layers.normalization.BatchNormalization at 0x2418e7a8a90>,\n",
       " <tensorflow.python.keras.layers.normalization.BatchNormalization at 0x2418e7d13a0>,\n",
       " <tensorflow.python.keras.layers.core.Activation at 0x2418e5da7c0>,\n",
       " <tensorflow.python.keras.layers.core.Activation at 0x2418e66c1c0>,\n",
       " <tensorflow.python.keras.layers.core.Activation at 0x2418e7be310>,\n",
       " <tensorflow.python.keras.layers.core.Activation at 0x2418e7e9d30>,\n",
       " <tensorflow.python.keras.layers.merge.Concatenate at 0x2418e7d4130>,\n",
       " <tensorflow.python.keras.layers.convolutional.Conv2D at 0x2418e8b4d00>,\n",
       " <tensorflow.python.keras.layers.normalization.BatchNormalization at 0x2418e8c1760>,\n",
       " <tensorflow.python.keras.layers.core.Activation at 0x2418c272be0>,\n",
       " <tensorflow.python.keras.layers.convolutional.Conv2D at 0x2418c21ab20>,\n",
       " <tensorflow.python.keras.layers.normalization.BatchNormalization at 0x2418e211790>,\n",
       " <tensorflow.python.keras.layers.core.Activation at 0x241f3df3e20>,\n",
       " <tensorflow.python.keras.layers.convolutional.Conv2D at 0x2418e820370>,\n",
       " <tensorflow.python.keras.layers.convolutional.Conv2D at 0x2418e277700>,\n",
       " <tensorflow.python.keras.layers.normalization.BatchNormalization at 0x2418e8457f0>,\n",
       " <tensorflow.python.keras.layers.normalization.BatchNormalization at 0x2418e370490>,\n",
       " <tensorflow.python.keras.layers.core.Activation at 0x2418e852160>,\n",
       " <tensorflow.python.keras.layers.core.Activation at 0x2418e6db5b0>,\n",
       " <tensorflow.python.keras.layers.convolutional.Conv2D at 0x2418e852c40>,\n",
       " <tensorflow.python.keras.layers.convolutional.Conv2D at 0x2418e55fe50>,\n",
       " <tensorflow.python.keras.layers.normalization.BatchNormalization at 0x2418e86e880>,\n",
       " <tensorflow.python.keras.layers.normalization.BatchNormalization at 0x2418e5b4250>,\n",
       " <tensorflow.python.keras.layers.core.Activation at 0x2418e882f10>,\n",
       " <tensorflow.python.keras.layers.core.Activation at 0x2418560a400>,\n",
       " <tensorflow.python.keras.layers.pooling.AveragePooling2D at 0x2418e95d430>,\n",
       " <tensorflow.python.keras.layers.convolutional.Conv2D at 0x2418e7fc9d0>,\n",
       " <tensorflow.python.keras.layers.convolutional.Conv2D at 0x2418e87ae20>,\n",
       " <tensorflow.python.keras.layers.convolutional.Conv2D at 0x2418e82d220>,\n",
       " <tensorflow.python.keras.layers.convolutional.Conv2D at 0x2418d0f1820>,\n",
       " <tensorflow.python.keras.layers.normalization.BatchNormalization at 0x2418e819f40>,\n",
       " <tensorflow.python.keras.layers.normalization.BatchNormalization at 0x2418e89fdc0>,\n",
       " <tensorflow.python.keras.layers.normalization.BatchNormalization at 0x2418e85ed60>,\n",
       " <tensorflow.python.keras.layers.normalization.BatchNormalization at 0x24187033ac0>,\n",
       " <tensorflow.python.keras.layers.core.Activation at 0x2418e820310>,\n",
       " <tensorflow.python.keras.layers.core.Activation at 0x2418e8ad070>,\n",
       " <tensorflow.python.keras.layers.core.Activation at 0x2418d0d2a30>,\n",
       " <tensorflow.python.keras.layers.core.Activation at 0x241855f8850>,\n",
       " <tensorflow.python.keras.layers.merge.Concatenate at 0x24186027d30>,\n",
       " <tensorflow.python.keras.layers.convolutional.Conv2D at 0x24181b06eb0>,\n",
       " <tensorflow.python.keras.layers.normalization.BatchNormalization at 0x24181b15d90>,\n",
       " <tensorflow.python.keras.layers.core.Activation at 0x24181b30c10>,\n",
       " <tensorflow.python.keras.layers.convolutional.Conv2D at 0x24181b36490>,\n",
       " <tensorflow.python.keras.layers.normalization.BatchNormalization at 0x24181b3c670>,\n",
       " <tensorflow.python.keras.layers.core.Activation at 0x24181b64b80>,\n",
       " <tensorflow.python.keras.layers.convolutional.Conv2D at 0x24185598160>,\n",
       " <tensorflow.python.keras.layers.convolutional.Conv2D at 0x24181b64850>,\n",
       " <tensorflow.python.keras.layers.normalization.BatchNormalization at 0x24181a9d5e0>,\n",
       " <tensorflow.python.keras.layers.normalization.BatchNormalization at 0x24181b74be0>,\n",
       " <tensorflow.python.keras.layers.core.Activation at 0x24181aaf5e0>,\n",
       " <tensorflow.python.keras.layers.core.Activation at 0x24181b8fa00>,\n",
       " <tensorflow.python.keras.layers.convolutional.Conv2D at 0x24181aafd60>,\n",
       " <tensorflow.python.keras.layers.convolutional.Conv2D at 0x24181b8f3a0>,\n",
       " <tensorflow.python.keras.layers.normalization.BatchNormalization at 0x24181abd100>,\n",
       " <tensorflow.python.keras.layers.normalization.BatchNormalization at 0x24181bb4f70>,\n",
       " <tensorflow.python.keras.layers.core.Activation at 0x24181ad8a00>,\n",
       " <tensorflow.python.keras.layers.core.Activation at 0x24181bbf160>,\n",
       " <tensorflow.python.keras.layers.pooling.AveragePooling2D at 0x24181be8c40>,\n",
       " <tensorflow.python.keras.layers.convolutional.Conv2D at 0x2418ca13a60>,\n",
       " <tensorflow.python.keras.layers.convolutional.Conv2D at 0x24181ad81f0>,\n",
       " <tensorflow.python.keras.layers.convolutional.Conv2D at 0x24181bbfeb0>,\n",
       " <tensorflow.python.keras.layers.convolutional.Conv2D at 0x24181beec70>,\n",
       " <tensorflow.python.keras.layers.normalization.BatchNormalization at 0x2418d0b1e80>,\n",
       " <tensorflow.python.keras.layers.normalization.BatchNormalization at 0x24181afdf70>,\n",
       " <tensorflow.python.keras.layers.normalization.BatchNormalization at 0x24181bdc5e0>,\n",
       " <tensorflow.python.keras.layers.normalization.BatchNormalization at 0x24181c0c5b0>,\n",
       " <tensorflow.python.keras.layers.core.Activation at 0x2418558f100>,\n",
       " <tensorflow.python.keras.layers.core.Activation at 0x24181b06160>,\n",
       " <tensorflow.python.keras.layers.core.Activation at 0x24181bee580>,\n",
       " <tensorflow.python.keras.layers.core.Activation at 0x24181c206a0>,\n",
       " <tensorflow.python.keras.layers.merge.Concatenate at 0x24181c198e0>,\n",
       " <tensorflow.python.keras.layers.convolutional.Conv2D at 0x24181ce13a0>,\n",
       " <tensorflow.python.keras.layers.normalization.BatchNormalization at 0x24181cfb850>,\n",
       " <tensorflow.python.keras.layers.core.Activation at 0x24181d121c0>,\n",
       " <tensorflow.python.keras.layers.convolutional.Conv2D at 0x24181d12f10>,\n",
       " <tensorflow.python.keras.layers.normalization.BatchNormalization at 0x24181d2e130>,\n",
       " <tensorflow.python.keras.layers.core.Activation at 0x24181d3b670>,\n",
       " <tensorflow.python.keras.layers.convolutional.Conv2D at 0x24181c506d0>,\n",
       " <tensorflow.python.keras.layers.convolutional.Conv2D at 0x24181d416d0>,\n",
       " <tensorflow.python.keras.layers.normalization.BatchNormalization at 0x24181c5c280>,\n",
       " <tensorflow.python.keras.layers.normalization.BatchNormalization at 0x24181d48ac0>,\n",
       " <tensorflow.python.keras.layers.core.Activation at 0x24181c7bd00>,\n",
       " <tensorflow.python.keras.layers.core.Activation at 0x24181d72eb0>,\n",
       " <tensorflow.python.keras.layers.convolutional.Conv2D at 0x24181c813a0>,\n",
       " <tensorflow.python.keras.layers.convolutional.Conv2D at 0x24181d72ca0>,\n",
       " <tensorflow.python.keras.layers.normalization.BatchNormalization at 0x24181c88ac0>,\n",
       " <tensorflow.python.keras.layers.normalization.BatchNormalization at 0x24181d7b9d0>,\n",
       " <tensorflow.python.keras.layers.core.Activation at 0x24181cac160>,\n",
       " <tensorflow.python.keras.layers.core.Activation at 0x24181d9e070>,\n",
       " <tensorflow.python.keras.layers.pooling.AveragePooling2D at 0x24182da0580>,\n",
       " <tensorflow.python.keras.layers.convolutional.Conv2D at 0x24181c26b50>,\n",
       " <tensorflow.python.keras.layers.convolutional.Conv2D at 0x24181cb1ca0>,\n",
       " <tensorflow.python.keras.layers.convolutional.Conv2D at 0x24181d9e430>,\n",
       " <tensorflow.python.keras.layers.convolutional.Conv2D at 0x24182da0130>,\n",
       " <tensorflow.python.keras.layers.normalization.BatchNormalization at 0x24181c2c100>,\n",
       " <tensorflow.python.keras.layers.normalization.BatchNormalization at 0x24181cbc460>,\n",
       " <tensorflow.python.keras.layers.normalization.BatchNormalization at 0x24181db2400>,\n",
       " <tensorflow.python.keras.layers.normalization.BatchNormalization at 0x24182dbd6d0>,\n",
       " <tensorflow.python.keras.layers.core.Activation at 0x24181c50250>,\n",
       " <tensorflow.python.keras.layers.core.Activation at 0x24181ce13d0>,\n",
       " <tensorflow.python.keras.layers.core.Activation at 0x24182da02b0>,\n",
       " <tensorflow.python.keras.layers.core.Activation at 0x24182dce160>,\n",
       " <tensorflow.python.keras.layers.merge.Concatenate at 0x24182dce070>,\n",
       " <tensorflow.python.keras.layers.convolutional.Conv2D at 0x24182e34310>,\n",
       " <tensorflow.python.keras.layers.normalization.BatchNormalization at 0x24182e41130>,\n",
       " <tensorflow.python.keras.layers.core.Activation at 0x24182e668e0>,\n",
       " <tensorflow.python.keras.layers.convolutional.Conv2D at 0x24182e5ef70>,\n",
       " <tensorflow.python.keras.layers.normalization.BatchNormalization at 0x24182e83dc0>,\n",
       " <tensorflow.python.keras.layers.core.Activation at 0x24182e8f850>,\n",
       " <tensorflow.python.keras.layers.convolutional.Conv2D at 0x24182dde520>,\n",
       " <tensorflow.python.keras.layers.convolutional.Conv2D at 0x24182e95a60>,\n",
       " <tensorflow.python.keras.layers.normalization.BatchNormalization at 0x24182dfce20>,\n",
       " <tensorflow.python.keras.layers.normalization.BatchNormalization at 0x24182e9d6d0>,\n",
       " <tensorflow.python.keras.layers.core.Activation at 0x24182e04400>,\n",
       " <tensorflow.python.keras.layers.core.Activation at 0x24182ec2520>,\n",
       " <tensorflow.python.keras.layers.convolutional.Conv2D at 0x24182e04490>,\n",
       " <tensorflow.python.keras.layers.convolutional.Conv2D at 0x24182ec23a0>,\n",
       " <tensorflow.python.keras.layers.normalization.BatchNormalization at 0x24182e27e80>,\n",
       " <tensorflow.python.keras.layers.normalization.BatchNormalization at 0x24182ee8e80>,\n",
       " <tensorflow.python.keras.layers.core.Activation at 0x24182e34610>,\n",
       " <tensorflow.python.keras.layers.core.Activation at 0x24182ef2a00>,\n",
       " <tensorflow.python.keras.layers.pooling.MaxPooling2D at 0x24182ef2df0>,\n",
       " <tensorflow.python.keras.layers.merge.Concatenate at 0x24182ef20d0>,\n",
       " <tensorflow.python.keras.layers.convolutional.Conv2D at 0x24182fc4e50>,\n",
       " <tensorflow.python.keras.layers.normalization.BatchNormalization at 0x24182fca760>,\n",
       " <tensorflow.python.keras.layers.core.Activation at 0x24182fea400>,\n",
       " <tensorflow.python.keras.layers.convolutional.Conv2D at 0x24182f28e50>,\n",
       " <tensorflow.python.keras.layers.convolutional.Conv2D at 0x24182fe2850>,\n",
       " <tensorflow.python.keras.layers.normalization.BatchNormalization at 0x24182f39790>,\n",
       " <tensorflow.python.keras.layers.normalization.BatchNormalization at 0x24182fef520>,\n",
       " <tensorflow.python.keras.layers.core.Activation at 0x24182f564f0>,\n",
       " <tensorflow.python.keras.layers.core.Activation at 0x24183014760>,\n",
       " <tensorflow.python.keras.layers.convolutional.Conv2D at 0x24182f562b0>,\n",
       " <tensorflow.python.keras.layers.convolutional.Conv2D at 0x24182f87580>,\n",
       " <tensorflow.python.keras.layers.convolutional.Conv2D at 0x2418301bcd0>,\n",
       " <tensorflow.python.keras.layers.convolutional.Conv2D at 0x24183045460>,\n",
       " <tensorflow.python.keras.layers.pooling.AveragePooling2D at 0x24183085700>,\n",
       " <tensorflow.python.keras.layers.convolutional.Conv2D at 0x24182f06b80>,\n",
       " <tensorflow.python.keras.layers.normalization.BatchNormalization at 0x24182f7ca60>,\n",
       " <tensorflow.python.keras.layers.normalization.BatchNormalization at 0x24182f8d310>,\n",
       " <tensorflow.python.keras.layers.normalization.BatchNormalization at 0x2418301ed60>,\n",
       " <tensorflow.python.keras.layers.normalization.BatchNormalization at 0x2418306c9d0>,\n",
       " <tensorflow.python.keras.layers.convolutional.Conv2D at 0x2418308c0a0>,\n",
       " <tensorflow.python.keras.layers.normalization.BatchNormalization at 0x24182f1d550>,\n",
       " <tensorflow.python.keras.layers.core.Activation at 0x24182f87130>,\n",
       " <tensorflow.python.keras.layers.core.Activation at 0x24182fb1c10>,\n",
       " <tensorflow.python.keras.layers.core.Activation at 0x2418304c8e0>,\n",
       " <tensorflow.python.keras.layers.core.Activation at 0x241830771c0>,\n",
       " <tensorflow.python.keras.layers.normalization.BatchNormalization at 0x241830a28e0>,\n",
       " <tensorflow.python.keras.layers.core.Activation at 0x24182f28cd0>,\n",
       " <tensorflow.python.keras.layers.merge.Concatenate at 0x24182fb83d0>,\n",
       " <tensorflow.python.keras.layers.merge.Concatenate at 0x24183077190>,\n",
       " <tensorflow.python.keras.layers.core.Activation at 0x241830b0e20>,\n",
       " <tensorflow.python.keras.layers.merge.Concatenate at 0x241830b0cd0>,\n",
       " <tensorflow.python.keras.layers.convolutional.Conv2D at 0x24183176be0>,\n",
       " <tensorflow.python.keras.layers.normalization.BatchNormalization at 0x2418318db20>,\n",
       " <tensorflow.python.keras.layers.core.Activation at 0x2418319bc10>,\n",
       " <tensorflow.python.keras.layers.convolutional.Conv2D at 0x241830daaf0>,\n",
       " <tensorflow.python.keras.layers.convolutional.Conv2D at 0x241831a29d0>,\n",
       " <tensorflow.python.keras.layers.normalization.BatchNormalization at 0x241830edd90>,\n",
       " <tensorflow.python.keras.layers.normalization.BatchNormalization at 0x241831bf460>,\n",
       " <tensorflow.python.keras.layers.core.Activation at 0x241831128e0>,\n",
       " <tensorflow.python.keras.layers.core.Activation at 0x241831cb190>,\n",
       " <tensorflow.python.keras.layers.convolutional.Conv2D at 0x2418310a700>,\n",
       " <tensorflow.python.keras.layers.convolutional.Conv2D at 0x2418313f100>,\n",
       " <tensorflow.python.keras.layers.convolutional.Conv2D at 0x241831d1b20>,\n",
       " <tensorflow.python.keras.layers.convolutional.Conv2D at 0x241831fc430>,\n",
       " <tensorflow.python.keras.layers.pooling.AveragePooling2D at 0x24183244430>,\n",
       " <tensorflow.python.keras.layers.convolutional.Conv2D at 0x241830aa520>,\n",
       " <tensorflow.python.keras.layers.normalization.BatchNormalization at 0x24183131d60>,\n",
       " <tensorflow.python.keras.layers.normalization.BatchNormalization at 0x24183155a00>,\n",
       " <tensorflow.python.keras.layers.normalization.BatchNormalization at 0x241831da9d0>,\n",
       " <tensorflow.python.keras.layers.normalization.BatchNormalization at 0x24183224d60>,\n",
       " <tensorflow.python.keras.layers.convolutional.Conv2D at 0x24183237ac0>,\n",
       " <tensorflow.python.keras.layers.normalization.BatchNormalization at 0x241830e1d00>,\n",
       " <tensorflow.python.keras.layers.core.Activation at 0x2418313f3d0>,\n",
       " <tensorflow.python.keras.layers.core.Activation at 0x24183170070>,\n",
       " <tensorflow.python.keras.layers.core.Activation at 0x241832049d0>,\n",
       " <tensorflow.python.keras.layers.core.Activation at 0x2418322fa00>,\n",
       " <tensorflow.python.keras.layers.normalization.BatchNormalization at 0x2418325ad30>,\n",
       " <tensorflow.python.keras.layers.core.Activation at 0x241830e1100>,\n",
       " <tensorflow.python.keras.layers.merge.Concatenate at 0x24183169fa0>,\n",
       " <tensorflow.python.keras.layers.merge.Concatenate at 0x2418322f190>,\n",
       " <tensorflow.python.keras.layers.core.Activation at 0x24183268e20>,\n",
       " <tensorflow.python.keras.layers.merge.Concatenate at 0x24183268af0>]"
      ]
     },
     "execution_count": 47,
     "metadata": {},
     "output_type": "execute_result"
    }
   ],
   "source": [
    "testingmodel.layers"
   ]
  },
  {
   "cell_type": "code",
   "execution_count": 78,
   "metadata": {},
   "outputs": [
    {
     "name": "stderr",
     "output_type": "stream",
     "text": [
      "C:\\Users\\rassa\\anaconda3\\lib\\site-packages\\tensorflow\\python\\keras\\engine\\training.py:2325: UserWarning: `Model.state_updates` will be removed in a future version. This property should not be used in TensorFlow 2.0, as `updates` are applied automatically.\n",
      "  warnings.warn('`Model.state_updates` will be removed in a future version. '\n"
     ]
    }
   ],
   "source": [
    "img=image.load_img(r\"D:\\School\\MedTech\\Sophomore Pre-Eng\\ISS296\\CNN\\images\\2alif.jpg\",target_size=(224,224))\n",
    "x = img_to_array(img)\n",
    "x=np.expand_dims(x,axis=0)\n",
    "x=preprocess_input(x)\n",
    "testingmodeloutput = testingmodel.predict(x).flatten()"
   ]
  },
  {
   "cell_type": "code",
   "execution_count": 79,
   "metadata": {},
   "outputs": [
    {
     "data": {
      "text/plain": [
       "(51200,)"
      ]
     },
     "execution_count": 79,
     "metadata": {},
     "output_type": "execute_result"
    }
   ],
   "source": [
    "testingmodeloutput.shape"
   ]
  },
  {
   "cell_type": "code",
   "execution_count": 80,
   "metadata": {},
   "outputs": [
    {
     "name": "stdout",
     "output_type": "stream",
     "text": [
      "[0.        0.        0.        ... 0.3115046 1.2965667 0.       ]\n"
     ]
    }
   ],
   "source": [
    "print(testingmodeloutput)"
   ]
  },
  {
   "cell_type": "markdown",
   "metadata": {},
   "source": [
    "## Lets try k clustering with the current dataset of characters first"
   ]
  },
  {
   "cell_type": "code",
   "execution_count": 96,
   "metadata": {},
   "outputs": [
    {
     "name": "stderr",
     "output_type": "stream",
     "text": [
      "  0%|                                                                                         | 0/3360 [00:00<?, ?it/s]C:\\Users\\rassa\\anaconda3\\lib\\site-packages\\tensorflow\\python\\keras\\engine\\training.py:2325: UserWarning: `Model.state_updates` will be removed in a future version. This property should not be used in TensorFlow 2.0, as `updates` are applied automatically.\n",
      "  warnings.warn('`Model.state_updates` will be removed in a future version. '\n",
      "100%|█████████████████████████████████████████████████████████████████████████████| 3360/3360 [00:17<00:00, 194.40it/s]\n"
     ]
    }
   ],
   "source": [
    "#trainPath = DIRECTORY + r\"\\Train Images 13440x32x32\\train\"\n",
    "#testPath  = DIRECTORY + r\"\\Test Images 3360x32x32\\test\"\n",
    "\n",
    "\n",
    "\n",
    "def image_feature(directory, sortingCriteria):\n",
    "    model = tf.keras.models.Model(inputs=recognizer.input, outputs=layer_outputs)\n",
    "    features = [];\n",
    "    img_name = [];\n",
    "    \n",
    "    imgFileNameList = os.listdir(directory)     #get list of directories in path (ie. list of image names)\n",
    "    imgFileNameList.sort(key = sortingCriteria) #sort list based on key\n",
    "    \n",
    "    for img in tqdm(imgFileNameList):  # iterate over the sorted list\n",
    "        #try:\n",
    "            #img_array = cv2.imread(os.path.join(directory, img) ,cv2.IMREAD_GRAYSCALE)  # convert image to array\n",
    "            #data.append([img_array])  # add this to our data\n",
    "        #except Exception as e:  # just in case there is a mistake.\n",
    "            #pass\n",
    "            \n",
    "    #for i in tqdm(direc):\n",
    "        #fname='cluster'+'/'+i\n",
    "        img_array = cv2.imread(os.path.join(directory, img) ,cv2.IMREAD_GRAYSCALE)   #img=image.load_img(fname,target_size=(224,224))\n",
    "        #x = img_to_array(img)\n",
    "        #x=np.expand_dims(x,axis=0)\n",
    "        #x=preprocess_input(x)\n",
    "        img_array=img_array.reshape([-1, 32, 32, 1])\n",
    "        LoFeatureMaps = model.predict(img_array)   #feat=model.predict(x)\n",
    "        #feat=feat.flatten()\n",
    "        resizedFlattenedFeatureMap = LoFeatureMaps[8].reshape([LoFeatureMaps[8].shape[1]])\n",
    "        features.append(resizedFlattenedFeatureMap) #features.append(feat)\n",
    "        \n",
    "        img_name.append(img)\n",
    "    return features,img_name\n",
    "\n",
    "\n",
    "LoTestImgFeatures,LoTestImgNames = image_feature(testPath, getImgId)\n"
   ]
  },
  {
   "cell_type": "code",
   "execution_count": 97,
   "metadata": {},
   "outputs": [
    {
     "data": {
      "text/plain": [
       "KMeans(n_clusters=28, random_state=40)"
      ]
     },
     "execution_count": 97,
     "metadata": {},
     "output_type": "execute_result"
    }
   ],
   "source": [
    "#Creating Clusters\n",
    "k = 28\n",
    "clusters = KMeans(k, random_state = 40)\n",
    "clusters.fit(LoTestImgFeatures)"
   ]
  },
  {
   "cell_type": "code",
   "execution_count": 98,
   "metadata": {},
   "outputs": [
    {
     "name": "stdout",
     "output_type": "stream",
     "text": [
      "['id_1_label_1.png', 'id_2_label_1.png', 'id_3_label_2.png', 'id_4_label_2.png', 'id_5_label_3.png', 'id_6_label_3.png', 'id_7_label_4.png', 'id_8_label_4.png', 'id_9_label_5.png', 'id_10_label_5.png', 'id_11_label_6.png', 'id_12_label_6.png', 'id_13_label_7.png', 'id_14_label_7.png', 'id_15_label_8.png', 'id_16_label_8.png', 'id_17_label_9.png', 'id_18_label_9.png', 'id_19_label_10.png', 'id_20_label_10.png', 'id_21_label_11.png', 'id_22_label_11.png', 'id_23_label_12.png', 'id_24_label_12.png', 'id_25_label_13.png', 'id_26_label_13.png', 'id_27_label_14.png', 'id_28_label_14.png', 'id_29_label_15.png', 'id_30_label_15.png', 'id_31_label_16.png', 'id_32_label_16.png', 'id_33_label_17.png', 'id_34_label_17.png', 'id_35_label_18.png', 'id_36_label_18.png', 'id_37_label_19.png', 'id_38_label_19.png', 'id_39_label_20.png', 'id_40_label_20.png', 'id_41_label_21.png', 'id_42_label_21.png', 'id_43_label_22.png', 'id_44_label_22.png', 'id_45_label_23.png', 'id_46_label_23.png', 'id_47_label_24.png', 'id_48_label_24.png', 'id_49_label_25.png', 'id_50_label_25.png', 'id_51_label_26.png', 'id_52_label_26.png', 'id_53_label_27.png', 'id_54_label_27.png', 'id_55_label_28.png', 'id_56_label_28.png', 'id_57_label_1.png', 'id_58_label_1.png', 'id_59_label_2.png', 'id_60_label_2.png', 'id_61_label_3.png', 'id_62_label_3.png', 'id_63_label_4.png', 'id_64_label_4.png', 'id_65_label_5.png', 'id_66_label_5.png', 'id_67_label_6.png', 'id_68_label_6.png', 'id_69_label_7.png', 'id_70_label_7.png', 'id_71_label_8.png', 'id_72_label_8.png', 'id_73_label_9.png', 'id_74_label_9.png', 'id_75_label_10.png', 'id_76_label_10.png', 'id_77_label_11.png', 'id_78_label_11.png', 'id_79_label_12.png', 'id_80_label_12.png', 'id_81_label_13.png', 'id_82_label_13.png', 'id_83_label_14.png', 'id_84_label_14.png', 'id_85_label_15.png', 'id_86_label_15.png', 'id_87_label_16.png', 'id_88_label_16.png', 'id_89_label_17.png', 'id_90_label_17.png', 'id_91_label_18.png', 'id_92_label_18.png', 'id_93_label_19.png', 'id_94_label_19.png', 'id_95_label_20.png', 'id_96_label_20.png', 'id_97_label_21.png', 'id_98_label_21.png', 'id_99_label_22.png', 'id_100_label_22.png', 'id_101_label_23.png', 'id_102_label_23.png', 'id_103_label_24.png', 'id_104_label_24.png', 'id_105_label_25.png', 'id_106_label_25.png', 'id_107_label_26.png', 'id_108_label_26.png', 'id_109_label_27.png', 'id_110_label_27.png', 'id_111_label_28.png', 'id_112_label_28.png', 'id_113_label_1.png', 'id_114_label_1.png', 'id_115_label_2.png', 'id_116_label_2.png', 'id_117_label_3.png', 'id_118_label_3.png', 'id_119_label_4.png', 'id_120_label_4.png', 'id_121_label_5.png', 'id_122_label_5.png', 'id_123_label_6.png', 'id_124_label_6.png', 'id_125_label_7.png', 'id_126_label_7.png', 'id_127_label_8.png', 'id_128_label_8.png', 'id_129_label_9.png', 'id_130_label_9.png', 'id_131_label_10.png', 'id_132_label_10.png', 'id_133_label_11.png', 'id_134_label_11.png', 'id_135_label_12.png', 'id_136_label_12.png', 'id_137_label_13.png', 'id_138_label_13.png', 'id_139_label_14.png', 'id_140_label_14.png', 'id_141_label_15.png', 'id_142_label_15.png', 'id_143_label_16.png', 'id_144_label_16.png', 'id_145_label_17.png', 'id_146_label_17.png', 'id_147_label_18.png', 'id_148_label_18.png', 'id_149_label_19.png', 'id_150_label_19.png', 'id_151_label_20.png', 'id_152_label_20.png', 'id_153_label_21.png', 'id_154_label_21.png', 'id_155_label_22.png', 'id_156_label_22.png', 'id_157_label_23.png', 'id_158_label_23.png', 'id_159_label_24.png', 'id_160_label_24.png', 'id_161_label_25.png', 'id_162_label_25.png', 'id_163_label_26.png', 'id_164_label_26.png', 'id_165_label_27.png', 'id_166_label_27.png', 'id_167_label_28.png', 'id_168_label_28.png', 'id_169_label_1.png', 'id_170_label_1.png', 'id_171_label_2.png', 'id_172_label_2.png', 'id_173_label_3.png', 'id_174_label_3.png', 'id_175_label_4.png', 'id_176_label_4.png', 'id_177_label_5.png', 'id_178_label_5.png', 'id_179_label_6.png', 'id_180_label_6.png', 'id_181_label_7.png', 'id_182_label_7.png', 'id_183_label_8.png', 'id_184_label_8.png', 'id_185_label_9.png', 'id_186_label_9.png', 'id_187_label_10.png', 'id_188_label_10.png', 'id_189_label_11.png', 'id_190_label_11.png', 'id_191_label_12.png', 'id_192_label_12.png', 'id_193_label_13.png', 'id_194_label_13.png', 'id_195_label_14.png', 'id_196_label_14.png', 'id_197_label_15.png', 'id_198_label_15.png', 'id_199_label_16.png', 'id_200_label_16.png', 'id_201_label_17.png', 'id_202_label_17.png', 'id_203_label_18.png', 'id_204_label_18.png', 'id_205_label_19.png', 'id_206_label_19.png', 'id_207_label_20.png', 'id_208_label_20.png', 'id_209_label_21.png', 'id_210_label_21.png', 'id_211_label_22.png', 'id_212_label_22.png', 'id_213_label_23.png', 'id_214_label_23.png', 'id_215_label_24.png', 'id_216_label_24.png', 'id_217_label_25.png', 'id_218_label_25.png', 'id_219_label_26.png', 'id_220_label_26.png', 'id_221_label_27.png', 'id_222_label_27.png', 'id_223_label_28.png', 'id_224_label_28.png', 'id_225_label_1.png', 'id_226_label_1.png', 'id_227_label_2.png', 'id_228_label_2.png', 'id_229_label_3.png', 'id_230_label_3.png', 'id_231_label_4.png', 'id_232_label_4.png', 'id_233_label_5.png', 'id_234_label_5.png', 'id_235_label_6.png', 'id_236_label_6.png', 'id_237_label_7.png', 'id_238_label_7.png', 'id_239_label_8.png', 'id_240_label_8.png', 'id_241_label_9.png', 'id_242_label_9.png', 'id_243_label_10.png', 'id_244_label_10.png', 'id_245_label_11.png', 'id_246_label_11.png', 'id_247_label_12.png', 'id_248_label_12.png', 'id_249_label_13.png', 'id_250_label_13.png', 'id_251_label_14.png', 'id_252_label_14.png', 'id_253_label_15.png', 'id_254_label_15.png', 'id_255_label_16.png', 'id_256_label_16.png', 'id_257_label_17.png', 'id_258_label_17.png', 'id_259_label_18.png', 'id_260_label_18.png', 'id_261_label_19.png', 'id_262_label_19.png', 'id_263_label_20.png', 'id_264_label_20.png', 'id_265_label_21.png', 'id_266_label_21.png', 'id_267_label_22.png', 'id_268_label_22.png', 'id_269_label_23.png', 'id_270_label_23.png', 'id_271_label_24.png', 'id_272_label_24.png', 'id_273_label_25.png', 'id_274_label_25.png', 'id_275_label_26.png', 'id_276_label_26.png', 'id_277_label_27.png', 'id_278_label_27.png', 'id_279_label_28.png', 'id_280_label_28.png', 'id_281_label_1.png', 'id_282_label_1.png', 'id_283_label_2.png', 'id_284_label_2.png', 'id_285_label_3.png', 'id_286_label_3.png', 'id_287_label_4.png', 'id_288_label_4.png', 'id_289_label_5.png', 'id_290_label_5.png', 'id_291_label_6.png', 'id_292_label_6.png', 'id_293_label_7.png', 'id_294_label_7.png', 'id_295_label_8.png', 'id_296_label_8.png', 'id_297_label_9.png', 'id_298_label_9.png', 'id_299_label_10.png', 'id_300_label_10.png', 'id_301_label_11.png', 'id_302_label_11.png', 'id_303_label_12.png', 'id_304_label_12.png', 'id_305_label_13.png', 'id_306_label_13.png', 'id_307_label_14.png', 'id_308_label_14.png', 'id_309_label_15.png', 'id_310_label_15.png', 'id_311_label_16.png', 'id_312_label_16.png', 'id_313_label_17.png', 'id_314_label_17.png', 'id_315_label_18.png', 'id_316_label_18.png', 'id_317_label_19.png', 'id_318_label_19.png', 'id_319_label_20.png', 'id_320_label_20.png', 'id_321_label_21.png', 'id_322_label_21.png', 'id_323_label_22.png', 'id_324_label_22.png', 'id_325_label_23.png', 'id_326_label_23.png', 'id_327_label_24.png', 'id_328_label_24.png', 'id_329_label_25.png', 'id_330_label_25.png', 'id_331_label_26.png', 'id_332_label_26.png', 'id_333_label_27.png', 'id_334_label_27.png', 'id_335_label_28.png', 'id_336_label_28.png', 'id_337_label_1.png', 'id_338_label_1.png', 'id_339_label_2.png', 'id_340_label_2.png', 'id_341_label_3.png', 'id_342_label_3.png', 'id_343_label_4.png', 'id_344_label_4.png', 'id_345_label_5.png', 'id_346_label_5.png', 'id_347_label_6.png', 'id_348_label_6.png', 'id_349_label_7.png', 'id_350_label_7.png', 'id_351_label_8.png', 'id_352_label_8.png', 'id_353_label_9.png', 'id_354_label_9.png', 'id_355_label_10.png', 'id_356_label_10.png', 'id_357_label_11.png', 'id_358_label_11.png', 'id_359_label_12.png', 'id_360_label_12.png', 'id_361_label_13.png', 'id_362_label_13.png', 'id_363_label_14.png', 'id_364_label_14.png', 'id_365_label_15.png', 'id_366_label_15.png', 'id_367_label_16.png', 'id_368_label_16.png', 'id_369_label_17.png', 'id_370_label_17.png', 'id_371_label_18.png', 'id_372_label_18.png', 'id_373_label_19.png', 'id_374_label_19.png', 'id_375_label_20.png', 'id_376_label_20.png', 'id_377_label_21.png', 'id_378_label_21.png', 'id_379_label_22.png', 'id_380_label_22.png', 'id_381_label_23.png', 'id_382_label_23.png', 'id_383_label_24.png', 'id_384_label_24.png', 'id_385_label_25.png', 'id_386_label_25.png', 'id_387_label_26.png', 'id_388_label_26.png', 'id_389_label_27.png', 'id_390_label_27.png', 'id_391_label_28.png', 'id_392_label_28.png', 'id_393_label_1.png', 'id_394_label_1.png', 'id_395_label_2.png', 'id_396_label_2.png', 'id_397_label_3.png', 'id_398_label_3.png', 'id_399_label_4.png', 'id_400_label_4.png', 'id_401_label_5.png', 'id_402_label_5.png', 'id_403_label_6.png', 'id_404_label_6.png', 'id_405_label_7.png', 'id_406_label_7.png', 'id_407_label_8.png', 'id_408_label_8.png', 'id_409_label_9.png', 'id_410_label_9.png', 'id_411_label_10.png', 'id_412_label_10.png', 'id_413_label_11.png', 'id_414_label_11.png', 'id_415_label_12.png', 'id_416_label_12.png', 'id_417_label_13.png', 'id_418_label_13.png', 'id_419_label_14.png', 'id_420_label_14.png', 'id_421_label_15.png', 'id_422_label_15.png', 'id_423_label_16.png', 'id_424_label_16.png', 'id_425_label_17.png', 'id_426_label_17.png', 'id_427_label_18.png', 'id_428_label_18.png', 'id_429_label_19.png', 'id_430_label_19.png', 'id_431_label_20.png', 'id_432_label_20.png', 'id_433_label_21.png', 'id_434_label_21.png', 'id_435_label_22.png', 'id_436_label_22.png', 'id_437_label_23.png', 'id_438_label_23.png', 'id_439_label_24.png', 'id_440_label_24.png', 'id_441_label_25.png', 'id_442_label_25.png', 'id_443_label_26.png', 'id_444_label_26.png', 'id_445_label_27.png', 'id_446_label_27.png', 'id_447_label_28.png', 'id_448_label_28.png', 'id_449_label_1.png', 'id_450_label_1.png', 'id_451_label_2.png', 'id_452_label_2.png', 'id_453_label_3.png', 'id_454_label_3.png', 'id_455_label_4.png', 'id_456_label_4.png', 'id_457_label_5.png', 'id_458_label_5.png', 'id_459_label_6.png', 'id_460_label_6.png', 'id_461_label_7.png', 'id_462_label_7.png', 'id_463_label_8.png', 'id_464_label_8.png', 'id_465_label_9.png', 'id_466_label_9.png', 'id_467_label_10.png', 'id_468_label_10.png', 'id_469_label_11.png', 'id_470_label_11.png', 'id_471_label_12.png', 'id_472_label_12.png', 'id_473_label_13.png', 'id_474_label_13.png', 'id_475_label_14.png', 'id_476_label_14.png', 'id_477_label_15.png', 'id_478_label_15.png', 'id_479_label_16.png', 'id_480_label_16.png', 'id_481_label_17.png', 'id_482_label_17.png', 'id_483_label_18.png', 'id_484_label_18.png', 'id_485_label_19.png', 'id_486_label_19.png', 'id_487_label_20.png', 'id_488_label_20.png', 'id_489_label_21.png', 'id_490_label_21.png', 'id_491_label_22.png', 'id_492_label_22.png', 'id_493_label_23.png', 'id_494_label_23.png', 'id_495_label_24.png', 'id_496_label_24.png', 'id_497_label_25.png', 'id_498_label_25.png', 'id_499_label_26.png', 'id_500_label_26.png', 'id_501_label_27.png', 'id_502_label_27.png', 'id_503_label_28.png', 'id_504_label_28.png', 'id_505_label_1.png', 'id_506_label_1.png', 'id_507_label_2.png', 'id_508_label_2.png', 'id_509_label_3.png', 'id_510_label_3.png', 'id_511_label_4.png', 'id_512_label_4.png', 'id_513_label_5.png', 'id_514_label_5.png', 'id_515_label_6.png', 'id_516_label_6.png', 'id_517_label_7.png', 'id_518_label_7.png', 'id_519_label_8.png', 'id_520_label_8.png', 'id_521_label_9.png', 'id_522_label_9.png', 'id_523_label_10.png', 'id_524_label_10.png', 'id_525_label_11.png', 'id_526_label_11.png', 'id_527_label_12.png', 'id_528_label_12.png', 'id_529_label_13.png', 'id_530_label_13.png', 'id_531_label_14.png', 'id_532_label_14.png', 'id_533_label_15.png', 'id_534_label_15.png', 'id_535_label_16.png', 'id_536_label_16.png', 'id_537_label_17.png', 'id_538_label_17.png', 'id_539_label_18.png', 'id_540_label_18.png', 'id_541_label_19.png', 'id_542_label_19.png', 'id_543_label_20.png', 'id_544_label_20.png', 'id_545_label_21.png', 'id_546_label_21.png', 'id_547_label_22.png', 'id_548_label_22.png', 'id_549_label_23.png', 'id_550_label_23.png', 'id_551_label_24.png', 'id_552_label_24.png', 'id_553_label_25.png', 'id_554_label_25.png', 'id_555_label_26.png', 'id_556_label_26.png', 'id_557_label_27.png', 'id_558_label_27.png', 'id_559_label_28.png', 'id_560_label_28.png', 'id_561_label_1.png', 'id_562_label_1.png', 'id_563_label_2.png', 'id_564_label_2.png', 'id_565_label_3.png', 'id_566_label_3.png', 'id_567_label_4.png', 'id_568_label_4.png', 'id_569_label_5.png', 'id_570_label_5.png', 'id_571_label_6.png', 'id_572_label_6.png', 'id_573_label_7.png', 'id_574_label_7.png', 'id_575_label_8.png', 'id_576_label_8.png', 'id_577_label_9.png', 'id_578_label_9.png', 'id_579_label_10.png', 'id_580_label_10.png', 'id_581_label_11.png', 'id_582_label_11.png', 'id_583_label_12.png', 'id_584_label_12.png', 'id_585_label_13.png', 'id_586_label_13.png', 'id_587_label_14.png', 'id_588_label_14.png', 'id_589_label_15.png', 'id_590_label_15.png', 'id_591_label_16.png', 'id_592_label_16.png', 'id_593_label_17.png', 'id_594_label_17.png', 'id_595_label_18.png', 'id_596_label_18.png', 'id_597_label_19.png', 'id_598_label_19.png', 'id_599_label_20.png', 'id_600_label_20.png', 'id_601_label_21.png', 'id_602_label_21.png', 'id_603_label_22.png', 'id_604_label_22.png', 'id_605_label_23.png', 'id_606_label_23.png', 'id_607_label_24.png', 'id_608_label_24.png', 'id_609_label_25.png', 'id_610_label_25.png', 'id_611_label_26.png', 'id_612_label_26.png', 'id_613_label_27.png', 'id_614_label_27.png', 'id_615_label_28.png', 'id_616_label_28.png', 'id_617_label_1.png', 'id_618_label_1.png', 'id_619_label_2.png', 'id_620_label_2.png', 'id_621_label_3.png', 'id_622_label_3.png', 'id_623_label_4.png', 'id_624_label_4.png', 'id_625_label_5.png', 'id_626_label_5.png', 'id_627_label_6.png', 'id_628_label_6.png', 'id_629_label_7.png', 'id_630_label_7.png', 'id_631_label_8.png', 'id_632_label_8.png', 'id_633_label_9.png', 'id_634_label_9.png', 'id_635_label_10.png', 'id_636_label_10.png', 'id_637_label_11.png', 'id_638_label_11.png', 'id_639_label_12.png', 'id_640_label_12.png', 'id_641_label_13.png', 'id_642_label_13.png', 'id_643_label_14.png', 'id_644_label_14.png', 'id_645_label_15.png', 'id_646_label_15.png', 'id_647_label_16.png', 'id_648_label_16.png', 'id_649_label_17.png', 'id_650_label_17.png', 'id_651_label_18.png', 'id_652_label_18.png', 'id_653_label_19.png', 'id_654_label_19.png', 'id_655_label_20.png', 'id_656_label_20.png', 'id_657_label_21.png', 'id_658_label_21.png', 'id_659_label_22.png', 'id_660_label_22.png', 'id_661_label_23.png', 'id_662_label_23.png', 'id_663_label_24.png', 'id_664_label_24.png', 'id_665_label_25.png', 'id_666_label_25.png', 'id_667_label_26.png', 'id_668_label_26.png', 'id_669_label_27.png', 'id_670_label_27.png', 'id_671_label_28.png', 'id_672_label_28.png', 'id_673_label_1.png', 'id_674_label_1.png', 'id_675_label_2.png', 'id_676_label_2.png', 'id_677_label_3.png', 'id_678_label_3.png', 'id_679_label_4.png', 'id_680_label_4.png', 'id_681_label_5.png', 'id_682_label_5.png', 'id_683_label_6.png', 'id_684_label_6.png', 'id_685_label_7.png', 'id_686_label_7.png', 'id_687_label_8.png', 'id_688_label_8.png', 'id_689_label_9.png', 'id_690_label_9.png', 'id_691_label_10.png', 'id_692_label_10.png', 'id_693_label_11.png', 'id_694_label_11.png', 'id_695_label_12.png', 'id_696_label_12.png', 'id_697_label_13.png', 'id_698_label_13.png', 'id_699_label_14.png', 'id_700_label_14.png', 'id_701_label_15.png', 'id_702_label_15.png', 'id_703_label_16.png', 'id_704_label_16.png', 'id_705_label_17.png', 'id_706_label_17.png', 'id_707_label_18.png', 'id_708_label_18.png', 'id_709_label_19.png', 'id_710_label_19.png', 'id_711_label_20.png', 'id_712_label_20.png', 'id_713_label_21.png', 'id_714_label_21.png', 'id_715_label_22.png', 'id_716_label_22.png', 'id_717_label_23.png', 'id_718_label_23.png', 'id_719_label_24.png', 'id_720_label_24.png', 'id_721_label_25.png', 'id_722_label_25.png', 'id_723_label_26.png', 'id_724_label_26.png', 'id_725_label_27.png', 'id_726_label_27.png', 'id_727_label_28.png', 'id_728_label_28.png', 'id_729_label_1.png', 'id_730_label_1.png', 'id_731_label_2.png', 'id_732_label_2.png', 'id_733_label_3.png', 'id_734_label_3.png', 'id_735_label_4.png', 'id_736_label_4.png', 'id_737_label_5.png', 'id_738_label_5.png', 'id_739_label_6.png', 'id_740_label_6.png', 'id_741_label_7.png', 'id_742_label_7.png', 'id_743_label_8.png', 'id_744_label_8.png', 'id_745_label_9.png', 'id_746_label_9.png', 'id_747_label_10.png', 'id_748_label_10.png', 'id_749_label_11.png', 'id_750_label_11.png', 'id_751_label_12.png', 'id_752_label_12.png', 'id_753_label_13.png', 'id_754_label_13.png', 'id_755_label_14.png', 'id_756_label_14.png', 'id_757_label_15.png', 'id_758_label_15.png', 'id_759_label_16.png', 'id_760_label_16.png', 'id_761_label_17.png', 'id_762_label_17.png', 'id_763_label_18.png', 'id_764_label_18.png', 'id_765_label_19.png', 'id_766_label_19.png', 'id_767_label_20.png', 'id_768_label_20.png', 'id_769_label_21.png', 'id_770_label_21.png', 'id_771_label_22.png', 'id_772_label_22.png', 'id_773_label_23.png', 'id_774_label_23.png', 'id_775_label_24.png', 'id_776_label_24.png', 'id_777_label_25.png', 'id_778_label_25.png', 'id_779_label_26.png', 'id_780_label_26.png', 'id_781_label_27.png', 'id_782_label_27.png', 'id_783_label_28.png', 'id_784_label_28.png', 'id_785_label_1.png', 'id_786_label_1.png', 'id_787_label_2.png', 'id_788_label_2.png', 'id_789_label_3.png', 'id_790_label_3.png', 'id_791_label_4.png', 'id_792_label_4.png', 'id_793_label_5.png', 'id_794_label_5.png', 'id_795_label_6.png', 'id_796_label_6.png', 'id_797_label_7.png', 'id_798_label_7.png', 'id_799_label_8.png', 'id_800_label_8.png', 'id_801_label_9.png', 'id_802_label_9.png', 'id_803_label_10.png', 'id_804_label_10.png', 'id_805_label_11.png', 'id_806_label_11.png', 'id_807_label_12.png', 'id_808_label_12.png', 'id_809_label_13.png', 'id_810_label_13.png', 'id_811_label_14.png', 'id_812_label_14.png', 'id_813_label_15.png', 'id_814_label_15.png', 'id_815_label_16.png', 'id_816_label_16.png', 'id_817_label_17.png', 'id_818_label_17.png', 'id_819_label_18.png', 'id_820_label_18.png', 'id_821_label_19.png', 'id_822_label_19.png', 'id_823_label_20.png', 'id_824_label_20.png', 'id_825_label_21.png', 'id_826_label_21.png', 'id_827_label_22.png', 'id_828_label_22.png', 'id_829_label_23.png', 'id_830_label_23.png', 'id_831_label_24.png', 'id_832_label_24.png', 'id_833_label_25.png', 'id_834_label_25.png', 'id_835_label_26.png', 'id_836_label_26.png', 'id_837_label_27.png', 'id_838_label_27.png', 'id_839_label_28.png', 'id_840_label_28.png', 'id_841_label_1.png', 'id_842_label_1.png', 'id_843_label_2.png', 'id_844_label_2.png', 'id_845_label_3.png', 'id_846_label_3.png', 'id_847_label_4.png', 'id_848_label_4.png', 'id_849_label_5.png', 'id_850_label_5.png', 'id_851_label_6.png', 'id_852_label_6.png', 'id_853_label_7.png', 'id_854_label_7.png', 'id_855_label_8.png', 'id_856_label_8.png', 'id_857_label_9.png', 'id_858_label_9.png', 'id_859_label_10.png', 'id_860_label_10.png', 'id_861_label_11.png', 'id_862_label_11.png', 'id_863_label_12.png', 'id_864_label_12.png', 'id_865_label_13.png', 'id_866_label_13.png', 'id_867_label_14.png', 'id_868_label_14.png', 'id_869_label_15.png', 'id_870_label_15.png', 'id_871_label_16.png', 'id_872_label_16.png', 'id_873_label_17.png', 'id_874_label_17.png', 'id_875_label_18.png', 'id_876_label_18.png', 'id_877_label_19.png', 'id_878_label_19.png', 'id_879_label_20.png', 'id_880_label_20.png', 'id_881_label_21.png', 'id_882_label_21.png', 'id_883_label_22.png', 'id_884_label_22.png', 'id_885_label_23.png', 'id_886_label_23.png', 'id_887_label_24.png', 'id_888_label_24.png', 'id_889_label_25.png', 'id_890_label_25.png', 'id_891_label_26.png', 'id_892_label_26.png', 'id_893_label_27.png', 'id_894_label_27.png', 'id_895_label_28.png', 'id_896_label_28.png', 'id_897_label_1.png', 'id_898_label_1.png', 'id_899_label_2.png', 'id_900_label_2.png', 'id_901_label_3.png', 'id_902_label_3.png', 'id_903_label_4.png', 'id_904_label_4.png', 'id_905_label_5.png', 'id_906_label_5.png', 'id_907_label_6.png', 'id_908_label_6.png', 'id_909_label_7.png', 'id_910_label_7.png', 'id_911_label_8.png', 'id_912_label_8.png', 'id_913_label_9.png', 'id_914_label_9.png', 'id_915_label_10.png', 'id_916_label_10.png', 'id_917_label_11.png', 'id_918_label_11.png', 'id_919_label_12.png', 'id_920_label_12.png', 'id_921_label_13.png', 'id_922_label_13.png', 'id_923_label_14.png', 'id_924_label_14.png', 'id_925_label_15.png', 'id_926_label_15.png', 'id_927_label_16.png', 'id_928_label_16.png', 'id_929_label_17.png', 'id_930_label_17.png', 'id_931_label_18.png', 'id_932_label_18.png', 'id_933_label_19.png', 'id_934_label_19.png', 'id_935_label_20.png', 'id_936_label_20.png', 'id_937_label_21.png', 'id_938_label_21.png', 'id_939_label_22.png', 'id_940_label_22.png', 'id_941_label_23.png', 'id_942_label_23.png', 'id_943_label_24.png', 'id_944_label_24.png', 'id_945_label_25.png', 'id_946_label_25.png', 'id_947_label_26.png', 'id_948_label_26.png', 'id_949_label_27.png', 'id_950_label_27.png', 'id_951_label_28.png', 'id_952_label_28.png', 'id_953_label_1.png', 'id_954_label_1.png', 'id_955_label_2.png', 'id_956_label_2.png', 'id_957_label_3.png', 'id_958_label_3.png', 'id_959_label_4.png', 'id_960_label_4.png', 'id_961_label_5.png', 'id_962_label_5.png', 'id_963_label_6.png', 'id_964_label_6.png', 'id_965_label_7.png', 'id_966_label_7.png', 'id_967_label_8.png', 'id_968_label_8.png', 'id_969_label_9.png', 'id_970_label_9.png', 'id_971_label_10.png', 'id_972_label_10.png', 'id_973_label_11.png', 'id_974_label_11.png', 'id_975_label_12.png', 'id_976_label_12.png', 'id_977_label_13.png', 'id_978_label_13.png', 'id_979_label_14.png', 'id_980_label_14.png', 'id_981_label_15.png', 'id_982_label_15.png', 'id_983_label_16.png', 'id_984_label_16.png', 'id_985_label_17.png', 'id_986_label_17.png', 'id_987_label_18.png', 'id_988_label_18.png', 'id_989_label_19.png', 'id_990_label_19.png', 'id_991_label_20.png', 'id_992_label_20.png', 'id_993_label_21.png', 'id_994_label_21.png', 'id_995_label_22.png', 'id_996_label_22.png', 'id_997_label_23.png', 'id_998_label_23.png', 'id_999_label_24.png', 'id_1000_label_24.png', 'id_1001_label_25.png', 'id_1002_label_25.png', 'id_1003_label_26.png', 'id_1004_label_26.png', 'id_1005_label_27.png', 'id_1006_label_27.png', 'id_1007_label_28.png', 'id_1008_label_28.png', 'id_1009_label_1.png', 'id_1010_label_1.png', 'id_1011_label_2.png', 'id_1012_label_2.png', 'id_1013_label_3.png', 'id_1014_label_3.png', 'id_1015_label_4.png', 'id_1016_label_4.png', 'id_1017_label_5.png', 'id_1018_label_5.png', 'id_1019_label_6.png', 'id_1020_label_6.png', 'id_1021_label_7.png', 'id_1022_label_7.png', 'id_1023_label_8.png', 'id_1024_label_8.png', 'id_1025_label_9.png', 'id_1026_label_9.png', 'id_1027_label_10.png', 'id_1028_label_10.png', 'id_1029_label_11.png', 'id_1030_label_11.png', 'id_1031_label_12.png', 'id_1032_label_12.png', 'id_1033_label_13.png', 'id_1034_label_13.png', 'id_1035_label_14.png', 'id_1036_label_14.png', 'id_1037_label_15.png', 'id_1038_label_15.png', 'id_1039_label_16.png', 'id_1040_label_16.png', 'id_1041_label_17.png', 'id_1042_label_17.png', 'id_1043_label_18.png', 'id_1044_label_18.png', 'id_1045_label_19.png', 'id_1046_label_19.png', 'id_1047_label_20.png', 'id_1048_label_20.png', 'id_1049_label_21.png', 'id_1050_label_21.png', 'id_1051_label_22.png', 'id_1052_label_22.png', 'id_1053_label_23.png', 'id_1054_label_23.png', 'id_1055_label_24.png', 'id_1056_label_24.png', 'id_1057_label_25.png', 'id_1058_label_25.png', 'id_1059_label_26.png', 'id_1060_label_26.png', 'id_1061_label_27.png', 'id_1062_label_27.png', 'id_1063_label_28.png', 'id_1064_label_28.png', 'id_1065_label_1.png', 'id_1066_label_1.png', 'id_1067_label_2.png', 'id_1068_label_2.png', 'id_1069_label_3.png', 'id_1070_label_3.png', 'id_1071_label_4.png', 'id_1072_label_4.png', 'id_1073_label_5.png', 'id_1074_label_5.png', 'id_1075_label_6.png', 'id_1076_label_6.png', 'id_1077_label_7.png', 'id_1078_label_7.png', 'id_1079_label_8.png', 'id_1080_label_8.png', 'id_1081_label_9.png', 'id_1082_label_9.png', 'id_1083_label_10.png', 'id_1084_label_10.png', 'id_1085_label_11.png', 'id_1086_label_11.png', 'id_1087_label_12.png', 'id_1088_label_12.png', 'id_1089_label_13.png', 'id_1090_label_13.png', 'id_1091_label_14.png', 'id_1092_label_14.png', 'id_1093_label_15.png', 'id_1094_label_15.png', 'id_1095_label_16.png', 'id_1096_label_16.png', 'id_1097_label_17.png', 'id_1098_label_17.png', 'id_1099_label_18.png', 'id_1100_label_18.png', 'id_1101_label_19.png', 'id_1102_label_19.png', 'id_1103_label_20.png', 'id_1104_label_20.png', 'id_1105_label_21.png', 'id_1106_label_21.png', 'id_1107_label_22.png', 'id_1108_label_22.png', 'id_1109_label_23.png', 'id_1110_label_23.png', 'id_1111_label_24.png', 'id_1112_label_24.png', 'id_1113_label_25.png', 'id_1114_label_25.png', 'id_1115_label_26.png', 'id_1116_label_26.png', 'id_1117_label_27.png', 'id_1118_label_27.png', 'id_1119_label_28.png', 'id_1120_label_28.png', 'id_1121_label_1.png', 'id_1122_label_1.png', 'id_1123_label_2.png', 'id_1124_label_2.png', 'id_1125_label_3.png', 'id_1126_label_3.png', 'id_1127_label_4.png', 'id_1128_label_4.png', 'id_1129_label_5.png', 'id_1130_label_5.png', 'id_1131_label_6.png', 'id_1132_label_6.png', 'id_1133_label_7.png', 'id_1134_label_7.png', 'id_1135_label_8.png', 'id_1136_label_8.png', 'id_1137_label_9.png', 'id_1138_label_9.png', 'id_1139_label_10.png', 'id_1140_label_10.png', 'id_1141_label_11.png', 'id_1142_label_11.png', 'id_1143_label_12.png', 'id_1144_label_12.png', 'id_1145_label_13.png', 'id_1146_label_13.png', 'id_1147_label_14.png', 'id_1148_label_14.png', 'id_1149_label_15.png', 'id_1150_label_15.png', 'id_1151_label_16.png', 'id_1152_label_16.png', 'id_1153_label_17.png', 'id_1154_label_17.png', 'id_1155_label_18.png', 'id_1156_label_18.png', 'id_1157_label_19.png', 'id_1158_label_19.png', 'id_1159_label_20.png', 'id_1160_label_20.png', 'id_1161_label_21.png', 'id_1162_label_21.png', 'id_1163_label_22.png', 'id_1164_label_22.png', 'id_1165_label_23.png', 'id_1166_label_23.png', 'id_1167_label_24.png', 'id_1168_label_24.png', 'id_1169_label_25.png', 'id_1170_label_25.png', 'id_1171_label_26.png', 'id_1172_label_26.png', 'id_1173_label_27.png', 'id_1174_label_27.png', 'id_1175_label_28.png', 'id_1176_label_28.png', 'id_1177_label_1.png', 'id_1178_label_1.png', 'id_1179_label_2.png', 'id_1180_label_2.png', 'id_1181_label_3.png', 'id_1182_label_3.png', 'id_1183_label_4.png', 'id_1184_label_4.png', 'id_1185_label_5.png', 'id_1186_label_5.png', 'id_1187_label_6.png', 'id_1188_label_6.png', 'id_1189_label_7.png', 'id_1190_label_7.png', 'id_1191_label_8.png', 'id_1192_label_8.png', 'id_1193_label_9.png', 'id_1194_label_9.png', 'id_1195_label_10.png', 'id_1196_label_10.png', 'id_1197_label_11.png', 'id_1198_label_11.png', 'id_1199_label_12.png', 'id_1200_label_12.png', 'id_1201_label_13.png', 'id_1202_label_13.png', 'id_1203_label_14.png', 'id_1204_label_14.png', 'id_1205_label_15.png', 'id_1206_label_15.png', 'id_1207_label_16.png', 'id_1208_label_16.png', 'id_1209_label_17.png', 'id_1210_label_17.png', 'id_1211_label_18.png', 'id_1212_label_18.png', 'id_1213_label_19.png', 'id_1214_label_19.png', 'id_1215_label_20.png', 'id_1216_label_20.png', 'id_1217_label_21.png', 'id_1218_label_21.png', 'id_1219_label_22.png', 'id_1220_label_22.png', 'id_1221_label_23.png', 'id_1222_label_23.png', 'id_1223_label_24.png', 'id_1224_label_24.png', 'id_1225_label_25.png', 'id_1226_label_25.png', 'id_1227_label_26.png', 'id_1228_label_26.png', 'id_1229_label_27.png', 'id_1230_label_27.png', 'id_1231_label_28.png', 'id_1232_label_28.png', 'id_1233_label_1.png', 'id_1234_label_1.png', 'id_1235_label_2.png', 'id_1236_label_2.png', 'id_1237_label_3.png', 'id_1238_label_3.png', 'id_1239_label_4.png', 'id_1240_label_4.png', 'id_1241_label_5.png', 'id_1242_label_5.png', 'id_1243_label_6.png', 'id_1244_label_6.png', 'id_1245_label_7.png', 'id_1246_label_7.png', 'id_1247_label_8.png', 'id_1248_label_8.png', 'id_1249_label_9.png', 'id_1250_label_9.png', 'id_1251_label_10.png', 'id_1252_label_10.png', 'id_1253_label_11.png', 'id_1254_label_11.png', 'id_1255_label_12.png', 'id_1256_label_12.png', 'id_1257_label_13.png', 'id_1258_label_13.png', 'id_1259_label_14.png', 'id_1260_label_14.png', 'id_1261_label_15.png', 'id_1262_label_15.png', 'id_1263_label_16.png', 'id_1264_label_16.png', 'id_1265_label_17.png', 'id_1266_label_17.png', 'id_1267_label_18.png', 'id_1268_label_18.png', 'id_1269_label_19.png', 'id_1270_label_19.png', 'id_1271_label_20.png', 'id_1272_label_20.png', 'id_1273_label_21.png', 'id_1274_label_21.png', 'id_1275_label_22.png', 'id_1276_label_22.png', 'id_1277_label_23.png', 'id_1278_label_23.png', 'id_1279_label_24.png', 'id_1280_label_24.png', 'id_1281_label_25.png', 'id_1282_label_25.png', 'id_1283_label_26.png', 'id_1284_label_26.png', 'id_1285_label_27.png', 'id_1286_label_27.png', 'id_1287_label_28.png', 'id_1288_label_28.png', 'id_1289_label_1.png', 'id_1290_label_1.png', 'id_1291_label_2.png', 'id_1292_label_2.png', 'id_1293_label_3.png', 'id_1294_label_3.png', 'id_1295_label_4.png', 'id_1296_label_4.png', 'id_1297_label_5.png', 'id_1298_label_5.png', 'id_1299_label_6.png', 'id_1300_label_6.png', 'id_1301_label_7.png', 'id_1302_label_7.png', 'id_1303_label_8.png', 'id_1304_label_8.png', 'id_1305_label_9.png', 'id_1306_label_9.png', 'id_1307_label_10.png', 'id_1308_label_10.png', 'id_1309_label_11.png', 'id_1310_label_11.png', 'id_1311_label_12.png', 'id_1312_label_12.png', 'id_1313_label_13.png', 'id_1314_label_13.png', 'id_1315_label_14.png', 'id_1316_label_14.png', 'id_1317_label_15.png', 'id_1318_label_15.png', 'id_1319_label_16.png', 'id_1320_label_16.png', 'id_1321_label_17.png', 'id_1322_label_17.png', 'id_1323_label_18.png', 'id_1324_label_18.png', 'id_1325_label_19.png', 'id_1326_label_19.png', 'id_1327_label_20.png', 'id_1328_label_20.png', 'id_1329_label_21.png', 'id_1330_label_21.png', 'id_1331_label_22.png', 'id_1332_label_22.png', 'id_1333_label_23.png', 'id_1334_label_23.png', 'id_1335_label_24.png', 'id_1336_label_24.png', 'id_1337_label_25.png', 'id_1338_label_25.png', 'id_1339_label_26.png', 'id_1340_label_26.png', 'id_1341_label_27.png', 'id_1342_label_27.png', 'id_1343_label_28.png', 'id_1344_label_28.png', 'id_1345_label_1.png', 'id_1346_label_1.png', 'id_1347_label_2.png', 'id_1348_label_2.png', 'id_1349_label_3.png', 'id_1350_label_3.png', 'id_1351_label_4.png', 'id_1352_label_4.png', 'id_1353_label_5.png', 'id_1354_label_5.png', 'id_1355_label_6.png', 'id_1356_label_6.png', 'id_1357_label_7.png', 'id_1358_label_7.png', 'id_1359_label_8.png', 'id_1360_label_8.png', 'id_1361_label_9.png', 'id_1362_label_9.png', 'id_1363_label_10.png', 'id_1364_label_10.png', 'id_1365_label_11.png', 'id_1366_label_11.png', 'id_1367_label_12.png', 'id_1368_label_12.png', 'id_1369_label_13.png', 'id_1370_label_13.png', 'id_1371_label_14.png', 'id_1372_label_14.png', 'id_1373_label_15.png', 'id_1374_label_15.png', 'id_1375_label_16.png', 'id_1376_label_16.png', 'id_1377_label_17.png', 'id_1378_label_17.png', 'id_1379_label_18.png', 'id_1380_label_18.png', 'id_1381_label_19.png', 'id_1382_label_19.png', 'id_1383_label_20.png', 'id_1384_label_20.png', 'id_1385_label_21.png', 'id_1386_label_21.png', 'id_1387_label_22.png', 'id_1388_label_22.png', 'id_1389_label_23.png', 'id_1390_label_23.png', 'id_1391_label_24.png', 'id_1392_label_24.png', 'id_1393_label_25.png', 'id_1394_label_25.png', 'id_1395_label_26.png', 'id_1396_label_26.png', 'id_1397_label_27.png', 'id_1398_label_27.png', 'id_1399_label_28.png', 'id_1400_label_28.png', 'id_1401_label_1.png', 'id_1402_label_1.png', 'id_1403_label_2.png', 'id_1404_label_2.png', 'id_1405_label_3.png', 'id_1406_label_3.png', 'id_1407_label_4.png', 'id_1408_label_4.png', 'id_1409_label_5.png', 'id_1410_label_5.png', 'id_1411_label_6.png', 'id_1412_label_6.png', 'id_1413_label_7.png', 'id_1414_label_7.png', 'id_1415_label_8.png', 'id_1416_label_8.png', 'id_1417_label_9.png', 'id_1418_label_9.png', 'id_1419_label_10.png', 'id_1420_label_10.png', 'id_1421_label_11.png', 'id_1422_label_11.png', 'id_1423_label_12.png', 'id_1424_label_12.png', 'id_1425_label_13.png', 'id_1426_label_13.png', 'id_1427_label_14.png', 'id_1428_label_14.png', 'id_1429_label_15.png', 'id_1430_label_15.png', 'id_1431_label_16.png', 'id_1432_label_16.png', 'id_1433_label_17.png', 'id_1434_label_17.png', 'id_1435_label_18.png', 'id_1436_label_18.png', 'id_1437_label_19.png', 'id_1438_label_19.png', 'id_1439_label_20.png', 'id_1440_label_20.png', 'id_1441_label_21.png', 'id_1442_label_21.png', 'id_1443_label_22.png', 'id_1444_label_22.png', 'id_1445_label_23.png', 'id_1446_label_23.png', 'id_1447_label_24.png', 'id_1448_label_24.png', 'id_1449_label_25.png', 'id_1450_label_25.png', 'id_1451_label_26.png', 'id_1452_label_26.png', 'id_1453_label_27.png', 'id_1454_label_27.png', 'id_1455_label_28.png', 'id_1456_label_28.png', 'id_1457_label_1.png', 'id_1458_label_1.png', 'id_1459_label_2.png', 'id_1460_label_2.png', 'id_1461_label_3.png', 'id_1462_label_3.png', 'id_1463_label_4.png', 'id_1464_label_4.png', 'id_1465_label_5.png', 'id_1466_label_5.png', 'id_1467_label_6.png', 'id_1468_label_6.png', 'id_1469_label_7.png', 'id_1470_label_7.png', 'id_1471_label_8.png', 'id_1472_label_8.png', 'id_1473_label_9.png', 'id_1474_label_9.png', 'id_1475_label_10.png', 'id_1476_label_10.png', 'id_1477_label_11.png', 'id_1478_label_11.png', 'id_1479_label_12.png', 'id_1480_label_12.png', 'id_1481_label_13.png', 'id_1482_label_13.png', 'id_1483_label_14.png', 'id_1484_label_14.png', 'id_1485_label_15.png', 'id_1486_label_15.png', 'id_1487_label_16.png', 'id_1488_label_16.png', 'id_1489_label_17.png', 'id_1490_label_17.png', 'id_1491_label_18.png', 'id_1492_label_18.png', 'id_1493_label_19.png', 'id_1494_label_19.png', 'id_1495_label_20.png', 'id_1496_label_20.png', 'id_1497_label_21.png', 'id_1498_label_21.png', 'id_1499_label_22.png', 'id_1500_label_22.png', 'id_1501_label_23.png', 'id_1502_label_23.png', 'id_1503_label_24.png', 'id_1504_label_24.png', 'id_1505_label_25.png', 'id_1506_label_25.png', 'id_1507_label_26.png', 'id_1508_label_26.png', 'id_1509_label_27.png', 'id_1510_label_27.png', 'id_1511_label_28.png', 'id_1512_label_28.png', 'id_1513_label_1.png', 'id_1514_label_1.png', 'id_1515_label_2.png', 'id_1516_label_2.png', 'id_1517_label_3.png', 'id_1518_label_3.png', 'id_1519_label_4.png', 'id_1520_label_4.png', 'id_1521_label_5.png', 'id_1522_label_5.png', 'id_1523_label_6.png', 'id_1524_label_6.png', 'id_1525_label_7.png', 'id_1526_label_7.png', 'id_1527_label_8.png', 'id_1528_label_8.png', 'id_1529_label_9.png', 'id_1530_label_9.png', 'id_1531_label_10.png', 'id_1532_label_10.png', 'id_1533_label_11.png', 'id_1534_label_11.png', 'id_1535_label_12.png', 'id_1536_label_12.png', 'id_1537_label_13.png', 'id_1538_label_13.png', 'id_1539_label_14.png', 'id_1540_label_14.png', 'id_1541_label_15.png', 'id_1542_label_15.png', 'id_1543_label_16.png', 'id_1544_label_16.png', 'id_1545_label_17.png', 'id_1546_label_17.png', 'id_1547_label_18.png', 'id_1548_label_18.png', 'id_1549_label_19.png', 'id_1550_label_19.png', 'id_1551_label_20.png', 'id_1552_label_20.png', 'id_1553_label_21.png', 'id_1554_label_21.png', 'id_1555_label_22.png', 'id_1556_label_22.png', 'id_1557_label_23.png', 'id_1558_label_23.png', 'id_1559_label_24.png', 'id_1560_label_24.png', 'id_1561_label_25.png', 'id_1562_label_25.png', 'id_1563_label_26.png', 'id_1564_label_26.png', 'id_1565_label_27.png', 'id_1566_label_27.png', 'id_1567_label_28.png', 'id_1568_label_28.png', 'id_1569_label_1.png', 'id_1570_label_1.png', 'id_1571_label_2.png', 'id_1572_label_2.png', 'id_1573_label_3.png', 'id_1574_label_3.png', 'id_1575_label_4.png', 'id_1576_label_4.png', 'id_1577_label_5.png', 'id_1578_label_5.png', 'id_1579_label_6.png', 'id_1580_label_6.png', 'id_1581_label_7.png', 'id_1582_label_7.png', 'id_1583_label_8.png', 'id_1584_label_8.png', 'id_1585_label_9.png', 'id_1586_label_9.png', 'id_1587_label_10.png', 'id_1588_label_10.png', 'id_1589_label_11.png', 'id_1590_label_11.png', 'id_1591_label_12.png', 'id_1592_label_12.png', 'id_1593_label_13.png', 'id_1594_label_13.png', 'id_1595_label_14.png', 'id_1596_label_14.png', 'id_1597_label_15.png', 'id_1598_label_15.png', 'id_1599_label_16.png', 'id_1600_label_16.png', 'id_1601_label_17.png', 'id_1602_label_17.png', 'id_1603_label_18.png', 'id_1604_label_18.png', 'id_1605_label_19.png', 'id_1606_label_19.png', 'id_1607_label_20.png', 'id_1608_label_20.png', 'id_1609_label_21.png', 'id_1610_label_21.png', 'id_1611_label_22.png', 'id_1612_label_22.png', 'id_1613_label_23.png', 'id_1614_label_23.png', 'id_1615_label_24.png', 'id_1616_label_24.png', 'id_1617_label_25.png', 'id_1618_label_25.png', 'id_1619_label_26.png', 'id_1620_label_26.png', 'id_1621_label_27.png', 'id_1622_label_27.png', 'id_1623_label_28.png', 'id_1624_label_28.png', 'id_1625_label_1.png', 'id_1626_label_1.png', 'id_1627_label_2.png', 'id_1628_label_2.png', 'id_1629_label_3.png', 'id_1630_label_3.png', 'id_1631_label_4.png', 'id_1632_label_4.png', 'id_1633_label_5.png', 'id_1634_label_5.png', 'id_1635_label_6.png', 'id_1636_label_6.png', 'id_1637_label_7.png', 'id_1638_label_7.png', 'id_1639_label_8.png', 'id_1640_label_8.png', 'id_1641_label_9.png', 'id_1642_label_9.png', 'id_1643_label_10.png', 'id_1644_label_10.png', 'id_1645_label_11.png', 'id_1646_label_11.png', 'id_1647_label_12.png', 'id_1648_label_12.png', 'id_1649_label_13.png', 'id_1650_label_13.png', 'id_1651_label_14.png', 'id_1652_label_14.png', 'id_1653_label_15.png', 'id_1654_label_15.png', 'id_1655_label_16.png', 'id_1656_label_16.png', 'id_1657_label_17.png', 'id_1658_label_17.png', 'id_1659_label_18.png', 'id_1660_label_18.png', 'id_1661_label_19.png', 'id_1662_label_19.png', 'id_1663_label_20.png', 'id_1664_label_20.png', 'id_1665_label_21.png', 'id_1666_label_21.png', 'id_1667_label_22.png', 'id_1668_label_22.png', 'id_1669_label_23.png', 'id_1670_label_23.png', 'id_1671_label_24.png', 'id_1672_label_24.png', 'id_1673_label_25.png', 'id_1674_label_25.png', 'id_1675_label_26.png', 'id_1676_label_26.png', 'id_1677_label_27.png', 'id_1678_label_27.png', 'id_1679_label_28.png', 'id_1680_label_28.png', 'id_1681_label_1.png', 'id_1682_label_1.png', 'id_1683_label_2.png', 'id_1684_label_2.png', 'id_1685_label_3.png', 'id_1686_label_3.png', 'id_1687_label_4.png', 'id_1688_label_4.png', 'id_1689_label_5.png', 'id_1690_label_5.png', 'id_1691_label_6.png', 'id_1692_label_6.png', 'id_1693_label_7.png', 'id_1694_label_7.png', 'id_1695_label_8.png', 'id_1696_label_8.png', 'id_1697_label_9.png', 'id_1698_label_9.png', 'id_1699_label_10.png', 'id_1700_label_10.png', 'id_1701_label_11.png', 'id_1702_label_11.png', 'id_1703_label_12.png', 'id_1704_label_12.png', 'id_1705_label_13.png', 'id_1706_label_13.png', 'id_1707_label_14.png', 'id_1708_label_14.png', 'id_1709_label_15.png', 'id_1710_label_15.png', 'id_1711_label_16.png', 'id_1712_label_16.png', 'id_1713_label_17.png', 'id_1714_label_17.png', 'id_1715_label_18.png', 'id_1716_label_18.png', 'id_1717_label_19.png', 'id_1718_label_19.png', 'id_1719_label_20.png', 'id_1720_label_20.png', 'id_1721_label_21.png', 'id_1722_label_21.png', 'id_1723_label_22.png', 'id_1724_label_22.png', 'id_1725_label_23.png', 'id_1726_label_23.png', 'id_1727_label_24.png', 'id_1728_label_24.png', 'id_1729_label_25.png', 'id_1730_label_25.png', 'id_1731_label_26.png', 'id_1732_label_26.png', 'id_1733_label_27.png', 'id_1734_label_27.png', 'id_1735_label_28.png', 'id_1736_label_28.png', 'id_1737_label_1.png', 'id_1738_label_1.png', 'id_1739_label_2.png', 'id_1740_label_2.png', 'id_1741_label_3.png', 'id_1742_label_3.png', 'id_1743_label_4.png', 'id_1744_label_4.png', 'id_1745_label_5.png', 'id_1746_label_5.png', 'id_1747_label_6.png', 'id_1748_label_6.png', 'id_1749_label_7.png', 'id_1750_label_7.png', 'id_1751_label_8.png', 'id_1752_label_8.png', 'id_1753_label_9.png', 'id_1754_label_9.png', 'id_1755_label_10.png', 'id_1756_label_10.png', 'id_1757_label_11.png', 'id_1758_label_11.png', 'id_1759_label_12.png', 'id_1760_label_12.png', 'id_1761_label_13.png', 'id_1762_label_13.png', 'id_1763_label_14.png', 'id_1764_label_14.png', 'id_1765_label_15.png', 'id_1766_label_15.png', 'id_1767_label_16.png', 'id_1768_label_16.png', 'id_1769_label_17.png', 'id_1770_label_17.png', 'id_1771_label_18.png', 'id_1772_label_18.png', 'id_1773_label_19.png', 'id_1774_label_19.png', 'id_1775_label_20.png', 'id_1776_label_20.png', 'id_1777_label_21.png', 'id_1778_label_21.png', 'id_1779_label_22.png', 'id_1780_label_22.png', 'id_1781_label_23.png', 'id_1782_label_23.png', 'id_1783_label_24.png', 'id_1784_label_24.png', 'id_1785_label_25.png', 'id_1786_label_25.png', 'id_1787_label_26.png', 'id_1788_label_26.png', 'id_1789_label_27.png', 'id_1790_label_27.png', 'id_1791_label_28.png', 'id_1792_label_28.png', 'id_1793_label_1.png', 'id_1794_label_1.png', 'id_1795_label_2.png', 'id_1796_label_2.png', 'id_1797_label_3.png', 'id_1798_label_3.png', 'id_1799_label_4.png', 'id_1800_label_4.png', 'id_1801_label_5.png', 'id_1802_label_5.png', 'id_1803_label_6.png', 'id_1804_label_6.png', 'id_1805_label_7.png', 'id_1806_label_7.png', 'id_1807_label_8.png', 'id_1808_label_8.png', 'id_1809_label_9.png', 'id_1810_label_9.png', 'id_1811_label_10.png', 'id_1812_label_10.png', 'id_1813_label_11.png', 'id_1814_label_11.png', 'id_1815_label_12.png', 'id_1816_label_12.png', 'id_1817_label_13.png', 'id_1818_label_13.png', 'id_1819_label_14.png', 'id_1820_label_14.png', 'id_1821_label_15.png', 'id_1822_label_15.png', 'id_1823_label_16.png', 'id_1824_label_16.png', 'id_1825_label_17.png', 'id_1826_label_17.png', 'id_1827_label_18.png', 'id_1828_label_18.png', 'id_1829_label_19.png', 'id_1830_label_19.png', 'id_1831_label_20.png', 'id_1832_label_20.png', 'id_1833_label_21.png', 'id_1834_label_21.png', 'id_1835_label_22.png', 'id_1836_label_22.png', 'id_1837_label_23.png', 'id_1838_label_23.png', 'id_1839_label_24.png', 'id_1840_label_24.png', 'id_1841_label_25.png', 'id_1842_label_25.png', 'id_1843_label_26.png', 'id_1844_label_26.png', 'id_1845_label_27.png', 'id_1846_label_27.png', 'id_1847_label_28.png', 'id_1848_label_28.png', 'id_1849_label_1.png', 'id_1850_label_1.png', 'id_1851_label_2.png', 'id_1852_label_2.png', 'id_1853_label_3.png', 'id_1854_label_3.png', 'id_1855_label_4.png', 'id_1856_label_4.png', 'id_1857_label_5.png', 'id_1858_label_5.png', 'id_1859_label_6.png', 'id_1860_label_6.png', 'id_1861_label_7.png', 'id_1862_label_7.png', 'id_1863_label_8.png', 'id_1864_label_8.png', 'id_1865_label_9.png', 'id_1866_label_9.png', 'id_1867_label_10.png', 'id_1868_label_10.png', 'id_1869_label_11.png', 'id_1870_label_11.png', 'id_1871_label_12.png', 'id_1872_label_12.png', 'id_1873_label_13.png', 'id_1874_label_13.png', 'id_1875_label_14.png', 'id_1876_label_14.png', 'id_1877_label_15.png', 'id_1878_label_15.png', 'id_1879_label_16.png', 'id_1880_label_16.png', 'id_1881_label_17.png', 'id_1882_label_17.png', 'id_1883_label_18.png', 'id_1884_label_18.png', 'id_1885_label_19.png', 'id_1886_label_19.png', 'id_1887_label_20.png', 'id_1888_label_20.png', 'id_1889_label_21.png', 'id_1890_label_21.png', 'id_1891_label_22.png', 'id_1892_label_22.png', 'id_1893_label_23.png', 'id_1894_label_23.png', 'id_1895_label_24.png', 'id_1896_label_24.png', 'id_1897_label_25.png', 'id_1898_label_25.png', 'id_1899_label_26.png', 'id_1900_label_26.png', 'id_1901_label_27.png', 'id_1902_label_27.png', 'id_1903_label_28.png', 'id_1904_label_28.png', 'id_1905_label_1.png', 'id_1906_label_1.png', 'id_1907_label_2.png', 'id_1908_label_2.png', 'id_1909_label_3.png', 'id_1910_label_3.png', 'id_1911_label_4.png', 'id_1912_label_4.png', 'id_1913_label_5.png', 'id_1914_label_5.png', 'id_1915_label_6.png', 'id_1916_label_6.png', 'id_1917_label_7.png', 'id_1918_label_7.png', 'id_1919_label_8.png', 'id_1920_label_8.png', 'id_1921_label_9.png', 'id_1922_label_9.png', 'id_1923_label_10.png', 'id_1924_label_10.png', 'id_1925_label_11.png', 'id_1926_label_11.png', 'id_1927_label_12.png', 'id_1928_label_12.png', 'id_1929_label_13.png', 'id_1930_label_13.png', 'id_1931_label_14.png', 'id_1932_label_14.png', 'id_1933_label_15.png', 'id_1934_label_15.png', 'id_1935_label_16.png', 'id_1936_label_16.png', 'id_1937_label_17.png', 'id_1938_label_17.png', 'id_1939_label_18.png', 'id_1940_label_18.png', 'id_1941_label_19.png', 'id_1942_label_19.png', 'id_1943_label_20.png', 'id_1944_label_20.png', 'id_1945_label_21.png', 'id_1946_label_21.png', 'id_1947_label_22.png', 'id_1948_label_22.png', 'id_1949_label_23.png', 'id_1950_label_23.png', 'id_1951_label_24.png', 'id_1952_label_24.png', 'id_1953_label_25.png', 'id_1954_label_25.png', 'id_1955_label_26.png', 'id_1956_label_26.png', 'id_1957_label_27.png', 'id_1958_label_27.png', 'id_1959_label_28.png', 'id_1960_label_28.png', 'id_1961_label_1.png', 'id_1962_label_1.png', 'id_1963_label_2.png', 'id_1964_label_2.png', 'id_1965_label_3.png', 'id_1966_label_3.png', 'id_1967_label_4.png', 'id_1968_label_4.png', 'id_1969_label_5.png', 'id_1970_label_5.png', 'id_1971_label_6.png', 'id_1972_label_6.png', 'id_1973_label_7.png', 'id_1974_label_7.png', 'id_1975_label_8.png', 'id_1976_label_8.png', 'id_1977_label_9.png', 'id_1978_label_9.png', 'id_1979_label_10.png', 'id_1980_label_10.png', 'id_1981_label_11.png', 'id_1982_label_11.png', 'id_1983_label_12.png', 'id_1984_label_12.png', 'id_1985_label_13.png', 'id_1986_label_13.png', 'id_1987_label_14.png', 'id_1988_label_14.png', 'id_1989_label_15.png', 'id_1990_label_15.png', 'id_1991_label_16.png', 'id_1992_label_16.png', 'id_1993_label_17.png', 'id_1994_label_17.png', 'id_1995_label_18.png', 'id_1996_label_18.png', 'id_1997_label_19.png', 'id_1998_label_19.png', 'id_1999_label_20.png', 'id_2000_label_20.png', 'id_2001_label_21.png', 'id_2002_label_21.png', 'id_2003_label_22.png', 'id_2004_label_22.png', 'id_2005_label_23.png', 'id_2006_label_23.png', 'id_2007_label_24.png', 'id_2008_label_24.png', 'id_2009_label_25.png', 'id_2010_label_25.png', 'id_2011_label_26.png', 'id_2012_label_26.png', 'id_2013_label_27.png', 'id_2014_label_27.png', 'id_2015_label_28.png', 'id_2016_label_28.png', 'id_2017_label_1.png', 'id_2018_label_1.png', 'id_2019_label_2.png', 'id_2020_label_2.png', 'id_2021_label_3.png', 'id_2022_label_3.png', 'id_2023_label_4.png', 'id_2024_label_4.png', 'id_2025_label_5.png', 'id_2026_label_5.png', 'id_2027_label_6.png', 'id_2028_label_6.png', 'id_2029_label_7.png', 'id_2030_label_7.png', 'id_2031_label_8.png', 'id_2032_label_8.png', 'id_2033_label_9.png', 'id_2034_label_9.png', 'id_2035_label_10.png', 'id_2036_label_10.png', 'id_2037_label_11.png', 'id_2038_label_11.png', 'id_2039_label_12.png', 'id_2040_label_12.png', 'id_2041_label_13.png', 'id_2042_label_13.png', 'id_2043_label_14.png', 'id_2044_label_14.png', 'id_2045_label_15.png', 'id_2046_label_15.png', 'id_2047_label_16.png', 'id_2048_label_16.png', 'id_2049_label_17.png', 'id_2050_label_17.png', 'id_2051_label_18.png', 'id_2052_label_18.png', 'id_2053_label_19.png', 'id_2054_label_19.png', 'id_2055_label_20.png', 'id_2056_label_20.png', 'id_2057_label_21.png', 'id_2058_label_21.png', 'id_2059_label_22.png', 'id_2060_label_22.png', 'id_2061_label_23.png', 'id_2062_label_23.png', 'id_2063_label_24.png', 'id_2064_label_24.png', 'id_2065_label_25.png', 'id_2066_label_25.png', 'id_2067_label_26.png', 'id_2068_label_26.png', 'id_2069_label_27.png', 'id_2070_label_27.png', 'id_2071_label_28.png', 'id_2072_label_28.png', 'id_2073_label_1.png', 'id_2074_label_1.png', 'id_2075_label_2.png', 'id_2076_label_2.png', 'id_2077_label_3.png', 'id_2078_label_3.png', 'id_2079_label_4.png', 'id_2080_label_4.png', 'id_2081_label_5.png', 'id_2082_label_5.png', 'id_2083_label_6.png', 'id_2084_label_6.png', 'id_2085_label_7.png', 'id_2086_label_7.png', 'id_2087_label_8.png', 'id_2088_label_8.png', 'id_2089_label_9.png', 'id_2090_label_9.png', 'id_2091_label_10.png', 'id_2092_label_10.png', 'id_2093_label_11.png', 'id_2094_label_11.png', 'id_2095_label_12.png', 'id_2096_label_12.png', 'id_2097_label_13.png', 'id_2098_label_13.png', 'id_2099_label_14.png', 'id_2100_label_14.png', 'id_2101_label_15.png', 'id_2102_label_15.png', 'id_2103_label_16.png', 'id_2104_label_16.png', 'id_2105_label_17.png', 'id_2106_label_17.png', 'id_2107_label_18.png', 'id_2108_label_18.png', 'id_2109_label_19.png', 'id_2110_label_19.png', 'id_2111_label_20.png', 'id_2112_label_20.png', 'id_2113_label_21.png', 'id_2114_label_21.png', 'id_2115_label_22.png', 'id_2116_label_22.png', 'id_2117_label_23.png', 'id_2118_label_23.png', 'id_2119_label_24.png', 'id_2120_label_24.png', 'id_2121_label_25.png', 'id_2122_label_25.png', 'id_2123_label_26.png', 'id_2124_label_26.png', 'id_2125_label_27.png', 'id_2126_label_27.png', 'id_2127_label_28.png', 'id_2128_label_28.png', 'id_2129_label_1.png', 'id_2130_label_1.png', 'id_2131_label_2.png', 'id_2132_label_2.png', 'id_2133_label_3.png', 'id_2134_label_3.png', 'id_2135_label_4.png', 'id_2136_label_4.png', 'id_2137_label_5.png', 'id_2138_label_5.png', 'id_2139_label_6.png', 'id_2140_label_6.png', 'id_2141_label_7.png', 'id_2142_label_7.png', 'id_2143_label_8.png', 'id_2144_label_8.png', 'id_2145_label_9.png', 'id_2146_label_9.png', 'id_2147_label_10.png', 'id_2148_label_10.png', 'id_2149_label_11.png', 'id_2150_label_11.png', 'id_2151_label_12.png', 'id_2152_label_12.png', 'id_2153_label_13.png', 'id_2154_label_13.png', 'id_2155_label_14.png', 'id_2156_label_14.png', 'id_2157_label_15.png', 'id_2158_label_15.png', 'id_2159_label_16.png', 'id_2160_label_16.png', 'id_2161_label_17.png', 'id_2162_label_17.png', 'id_2163_label_18.png', 'id_2164_label_18.png', 'id_2165_label_19.png', 'id_2166_label_19.png', 'id_2167_label_20.png', 'id_2168_label_20.png', 'id_2169_label_21.png', 'id_2170_label_21.png', 'id_2171_label_22.png', 'id_2172_label_22.png', 'id_2173_label_23.png', 'id_2174_label_23.png', 'id_2175_label_24.png', 'id_2176_label_24.png', 'id_2177_label_25.png', 'id_2178_label_25.png', 'id_2179_label_26.png', 'id_2180_label_26.png', 'id_2181_label_27.png', 'id_2182_label_27.png', 'id_2183_label_28.png', 'id_2184_label_28.png', 'id_2185_label_1.png', 'id_2186_label_1.png', 'id_2187_label_2.png', 'id_2188_label_2.png', 'id_2189_label_3.png', 'id_2190_label_3.png', 'id_2191_label_4.png', 'id_2192_label_4.png', 'id_2193_label_5.png', 'id_2194_label_5.png', 'id_2195_label_6.png', 'id_2196_label_6.png', 'id_2197_label_7.png', 'id_2198_label_7.png', 'id_2199_label_8.png', 'id_2200_label_8.png', 'id_2201_label_9.png', 'id_2202_label_9.png', 'id_2203_label_10.png', 'id_2204_label_10.png', 'id_2205_label_11.png', 'id_2206_label_11.png', 'id_2207_label_12.png', 'id_2208_label_12.png', 'id_2209_label_13.png', 'id_2210_label_13.png', 'id_2211_label_14.png', 'id_2212_label_14.png', 'id_2213_label_15.png', 'id_2214_label_15.png', 'id_2215_label_16.png', 'id_2216_label_16.png', 'id_2217_label_17.png', 'id_2218_label_17.png', 'id_2219_label_18.png', 'id_2220_label_18.png', 'id_2221_label_19.png', 'id_2222_label_19.png', 'id_2223_label_20.png', 'id_2224_label_20.png', 'id_2225_label_21.png', 'id_2226_label_21.png', 'id_2227_label_22.png', 'id_2228_label_22.png', 'id_2229_label_23.png', 'id_2230_label_23.png', 'id_2231_label_24.png', 'id_2232_label_24.png', 'id_2233_label_25.png', 'id_2234_label_25.png', 'id_2235_label_26.png', 'id_2236_label_26.png', 'id_2237_label_27.png', 'id_2238_label_27.png', 'id_2239_label_28.png', 'id_2240_label_28.png', 'id_2241_label_1.png', 'id_2242_label_1.png', 'id_2243_label_2.png', 'id_2244_label_2.png', 'id_2245_label_3.png', 'id_2246_label_3.png', 'id_2247_label_4.png', 'id_2248_label_4.png', 'id_2249_label_5.png', 'id_2250_label_5.png', 'id_2251_label_6.png', 'id_2252_label_6.png', 'id_2253_label_7.png', 'id_2254_label_7.png', 'id_2255_label_8.png', 'id_2256_label_8.png', 'id_2257_label_9.png', 'id_2258_label_9.png', 'id_2259_label_10.png', 'id_2260_label_10.png', 'id_2261_label_11.png', 'id_2262_label_11.png', 'id_2263_label_12.png', 'id_2264_label_12.png', 'id_2265_label_13.png', 'id_2266_label_13.png', 'id_2267_label_14.png', 'id_2268_label_14.png', 'id_2269_label_15.png', 'id_2270_label_15.png', 'id_2271_label_16.png', 'id_2272_label_16.png', 'id_2273_label_17.png', 'id_2274_label_17.png', 'id_2275_label_18.png', 'id_2276_label_18.png', 'id_2277_label_19.png', 'id_2278_label_19.png', 'id_2279_label_20.png', 'id_2280_label_20.png', 'id_2281_label_21.png', 'id_2282_label_21.png', 'id_2283_label_22.png', 'id_2284_label_22.png', 'id_2285_label_23.png', 'id_2286_label_23.png', 'id_2287_label_24.png', 'id_2288_label_24.png', 'id_2289_label_25.png', 'id_2290_label_25.png', 'id_2291_label_26.png', 'id_2292_label_26.png', 'id_2293_label_27.png', 'id_2294_label_27.png', 'id_2295_label_28.png', 'id_2296_label_28.png', 'id_2297_label_1.png', 'id_2298_label_1.png', 'id_2299_label_2.png', 'id_2300_label_2.png', 'id_2301_label_3.png', 'id_2302_label_3.png', 'id_2303_label_4.png', 'id_2304_label_4.png', 'id_2305_label_5.png', 'id_2306_label_5.png', 'id_2307_label_6.png', 'id_2308_label_6.png', 'id_2309_label_7.png', 'id_2310_label_7.png', 'id_2311_label_8.png', 'id_2312_label_8.png', 'id_2313_label_9.png', 'id_2314_label_9.png', 'id_2315_label_10.png', 'id_2316_label_10.png', 'id_2317_label_11.png', 'id_2318_label_11.png', 'id_2319_label_12.png', 'id_2320_label_12.png', 'id_2321_label_13.png', 'id_2322_label_13.png', 'id_2323_label_14.png', 'id_2324_label_14.png', 'id_2325_label_15.png', 'id_2326_label_15.png', 'id_2327_label_16.png', 'id_2328_label_16.png', 'id_2329_label_17.png', 'id_2330_label_17.png', 'id_2331_label_18.png', 'id_2332_label_18.png', 'id_2333_label_19.png', 'id_2334_label_19.png', 'id_2335_label_20.png', 'id_2336_label_20.png', 'id_2337_label_21.png', 'id_2338_label_21.png', 'id_2339_label_22.png', 'id_2340_label_22.png', 'id_2341_label_23.png', 'id_2342_label_23.png', 'id_2343_label_24.png', 'id_2344_label_24.png', 'id_2345_label_25.png', 'id_2346_label_25.png', 'id_2347_label_26.png', 'id_2348_label_26.png', 'id_2349_label_27.png', 'id_2350_label_27.png', 'id_2351_label_28.png', 'id_2352_label_28.png', 'id_2353_label_1.png', 'id_2354_label_1.png', 'id_2355_label_2.png', 'id_2356_label_2.png', 'id_2357_label_3.png', 'id_2358_label_3.png', 'id_2359_label_4.png', 'id_2360_label_4.png', 'id_2361_label_5.png', 'id_2362_label_5.png', 'id_2363_label_6.png', 'id_2364_label_6.png', 'id_2365_label_7.png', 'id_2366_label_7.png', 'id_2367_label_8.png', 'id_2368_label_8.png', 'id_2369_label_9.png', 'id_2370_label_9.png', 'id_2371_label_10.png', 'id_2372_label_10.png', 'id_2373_label_11.png', 'id_2374_label_11.png', 'id_2375_label_12.png', 'id_2376_label_12.png', 'id_2377_label_13.png', 'id_2378_label_13.png', 'id_2379_label_14.png', 'id_2380_label_14.png', 'id_2381_label_15.png', 'id_2382_label_15.png', 'id_2383_label_16.png', 'id_2384_label_16.png', 'id_2385_label_17.png', 'id_2386_label_17.png', 'id_2387_label_18.png', 'id_2388_label_18.png', 'id_2389_label_19.png', 'id_2390_label_19.png', 'id_2391_label_20.png', 'id_2392_label_20.png', 'id_2393_label_21.png', 'id_2394_label_21.png', 'id_2395_label_22.png', 'id_2396_label_22.png', 'id_2397_label_23.png', 'id_2398_label_23.png', 'id_2399_label_24.png', 'id_2400_label_24.png', 'id_2401_label_25.png', 'id_2402_label_25.png', 'id_2403_label_26.png', 'id_2404_label_26.png', 'id_2405_label_27.png', 'id_2406_label_27.png', 'id_2407_label_28.png', 'id_2408_label_28.png', 'id_2409_label_1.png', 'id_2410_label_1.png', 'id_2411_label_2.png', 'id_2412_label_2.png', 'id_2413_label_3.png', 'id_2414_label_3.png', 'id_2415_label_4.png', 'id_2416_label_4.png', 'id_2417_label_5.png', 'id_2418_label_5.png', 'id_2419_label_6.png', 'id_2420_label_6.png', 'id_2421_label_7.png', 'id_2422_label_7.png', 'id_2423_label_8.png', 'id_2424_label_8.png', 'id_2425_label_9.png', 'id_2426_label_9.png', 'id_2427_label_10.png', 'id_2428_label_10.png', 'id_2429_label_11.png', 'id_2430_label_11.png', 'id_2431_label_12.png', 'id_2432_label_12.png', 'id_2433_label_13.png', 'id_2434_label_13.png', 'id_2435_label_14.png', 'id_2436_label_14.png', 'id_2437_label_15.png', 'id_2438_label_15.png', 'id_2439_label_16.png', 'id_2440_label_16.png', 'id_2441_label_17.png', 'id_2442_label_17.png', 'id_2443_label_18.png', 'id_2444_label_18.png', 'id_2445_label_19.png', 'id_2446_label_19.png', 'id_2447_label_20.png', 'id_2448_label_20.png', 'id_2449_label_21.png', 'id_2450_label_21.png', 'id_2451_label_22.png', 'id_2452_label_22.png', 'id_2453_label_23.png', 'id_2454_label_23.png', 'id_2455_label_24.png', 'id_2456_label_24.png', 'id_2457_label_25.png', 'id_2458_label_25.png', 'id_2459_label_26.png', 'id_2460_label_26.png', 'id_2461_label_27.png', 'id_2462_label_27.png', 'id_2463_label_28.png', 'id_2464_label_28.png', 'id_2465_label_1.png', 'id_2466_label_1.png', 'id_2467_label_2.png', 'id_2468_label_2.png', 'id_2469_label_3.png', 'id_2470_label_3.png', 'id_2471_label_4.png', 'id_2472_label_4.png', 'id_2473_label_5.png', 'id_2474_label_5.png', 'id_2475_label_6.png', 'id_2476_label_6.png', 'id_2477_label_7.png', 'id_2478_label_7.png', 'id_2479_label_8.png', 'id_2480_label_8.png', 'id_2481_label_9.png', 'id_2482_label_9.png', 'id_2483_label_10.png', 'id_2484_label_10.png', 'id_2485_label_11.png', 'id_2486_label_11.png', 'id_2487_label_12.png', 'id_2488_label_12.png', 'id_2489_label_13.png', 'id_2490_label_13.png', 'id_2491_label_14.png', 'id_2492_label_14.png', 'id_2493_label_15.png', 'id_2494_label_15.png', 'id_2495_label_16.png', 'id_2496_label_16.png', 'id_2497_label_17.png', 'id_2498_label_17.png', 'id_2499_label_18.png', 'id_2500_label_18.png', 'id_2501_label_19.png', 'id_2502_label_19.png', 'id_2503_label_20.png', 'id_2504_label_20.png', 'id_2505_label_21.png', 'id_2506_label_21.png', 'id_2507_label_22.png', 'id_2508_label_22.png', 'id_2509_label_23.png', 'id_2510_label_23.png', 'id_2511_label_24.png', 'id_2512_label_24.png', 'id_2513_label_25.png', 'id_2514_label_25.png', 'id_2515_label_26.png', 'id_2516_label_26.png', 'id_2517_label_27.png', 'id_2518_label_27.png', 'id_2519_label_28.png', 'id_2520_label_28.png', 'id_2521_label_1.png', 'id_2522_label_1.png', 'id_2523_label_2.png', 'id_2524_label_2.png', 'id_2525_label_3.png', 'id_2526_label_3.png', 'id_2527_label_4.png', 'id_2528_label_4.png', 'id_2529_label_5.png', 'id_2530_label_5.png', 'id_2531_label_6.png', 'id_2532_label_6.png', 'id_2533_label_7.png', 'id_2534_label_7.png', 'id_2535_label_8.png', 'id_2536_label_8.png', 'id_2537_label_9.png', 'id_2538_label_9.png', 'id_2539_label_10.png', 'id_2540_label_10.png', 'id_2541_label_11.png', 'id_2542_label_11.png', 'id_2543_label_12.png', 'id_2544_label_12.png', 'id_2545_label_13.png', 'id_2546_label_13.png', 'id_2547_label_14.png', 'id_2548_label_14.png', 'id_2549_label_15.png', 'id_2550_label_15.png', 'id_2551_label_16.png', 'id_2552_label_16.png', 'id_2553_label_17.png', 'id_2554_label_17.png', 'id_2555_label_18.png', 'id_2556_label_18.png', 'id_2557_label_19.png', 'id_2558_label_19.png', 'id_2559_label_20.png', 'id_2560_label_20.png', 'id_2561_label_21.png', 'id_2562_label_21.png', 'id_2563_label_22.png', 'id_2564_label_22.png', 'id_2565_label_23.png', 'id_2566_label_23.png', 'id_2567_label_24.png', 'id_2568_label_24.png', 'id_2569_label_25.png', 'id_2570_label_25.png', 'id_2571_label_26.png', 'id_2572_label_26.png', 'id_2573_label_27.png', 'id_2574_label_27.png', 'id_2575_label_28.png', 'id_2576_label_28.png', 'id_2577_label_1.png', 'id_2578_label_1.png', 'id_2579_label_2.png', 'id_2580_label_2.png', 'id_2581_label_3.png', 'id_2582_label_3.png', 'id_2583_label_4.png', 'id_2584_label_4.png', 'id_2585_label_5.png', 'id_2586_label_5.png', 'id_2587_label_6.png', 'id_2588_label_6.png', 'id_2589_label_7.png', 'id_2590_label_7.png', 'id_2591_label_8.png', 'id_2592_label_8.png', 'id_2593_label_9.png', 'id_2594_label_9.png', 'id_2595_label_10.png', 'id_2596_label_10.png', 'id_2597_label_11.png', 'id_2598_label_11.png', 'id_2599_label_12.png', 'id_2600_label_12.png', 'id_2601_label_13.png', 'id_2602_label_13.png', 'id_2603_label_14.png', 'id_2604_label_14.png', 'id_2605_label_15.png', 'id_2606_label_15.png', 'id_2607_label_16.png', 'id_2608_label_16.png', 'id_2609_label_17.png', 'id_2610_label_17.png', 'id_2611_label_18.png', 'id_2612_label_18.png', 'id_2613_label_19.png', 'id_2614_label_19.png', 'id_2615_label_20.png', 'id_2616_label_20.png', 'id_2617_label_21.png', 'id_2618_label_21.png', 'id_2619_label_22.png', 'id_2620_label_22.png', 'id_2621_label_23.png', 'id_2622_label_23.png', 'id_2623_label_24.png', 'id_2624_label_24.png', 'id_2625_label_25.png', 'id_2626_label_25.png', 'id_2627_label_26.png', 'id_2628_label_26.png', 'id_2629_label_27.png', 'id_2630_label_27.png', 'id_2631_label_28.png', 'id_2632_label_28.png', 'id_2633_label_1.png', 'id_2634_label_1.png', 'id_2635_label_2.png', 'id_2636_label_2.png', 'id_2637_label_3.png', 'id_2638_label_3.png', 'id_2639_label_4.png', 'id_2640_label_4.png', 'id_2641_label_5.png', 'id_2642_label_5.png', 'id_2643_label_6.png', 'id_2644_label_6.png', 'id_2645_label_7.png', 'id_2646_label_7.png', 'id_2647_label_8.png', 'id_2648_label_8.png', 'id_2649_label_9.png', 'id_2650_label_9.png', 'id_2651_label_10.png', 'id_2652_label_10.png', 'id_2653_label_11.png', 'id_2654_label_11.png', 'id_2655_label_12.png', 'id_2656_label_12.png', 'id_2657_label_13.png', 'id_2658_label_13.png', 'id_2659_label_14.png', 'id_2660_label_14.png', 'id_2661_label_15.png', 'id_2662_label_15.png', 'id_2663_label_16.png', 'id_2664_label_16.png', 'id_2665_label_17.png', 'id_2666_label_17.png', 'id_2667_label_18.png', 'id_2668_label_18.png', 'id_2669_label_19.png', 'id_2670_label_19.png', 'id_2671_label_20.png', 'id_2672_label_20.png', 'id_2673_label_21.png', 'id_2674_label_21.png', 'id_2675_label_22.png', 'id_2676_label_22.png', 'id_2677_label_23.png', 'id_2678_label_23.png', 'id_2679_label_24.png', 'id_2680_label_24.png', 'id_2681_label_25.png', 'id_2682_label_25.png', 'id_2683_label_26.png', 'id_2684_label_26.png', 'id_2685_label_27.png', 'id_2686_label_27.png', 'id_2687_label_28.png', 'id_2688_label_28.png', 'id_2689_label_1.png', 'id_2690_label_1.png', 'id_2691_label_2.png', 'id_2692_label_2.png', 'id_2693_label_3.png', 'id_2694_label_3.png', 'id_2695_label_4.png', 'id_2696_label_4.png', 'id_2697_label_5.png', 'id_2698_label_5.png', 'id_2699_label_6.png', 'id_2700_label_6.png', 'id_2701_label_7.png', 'id_2702_label_7.png', 'id_2703_label_8.png', 'id_2704_label_8.png', 'id_2705_label_9.png', 'id_2706_label_9.png', 'id_2707_label_10.png', 'id_2708_label_10.png', 'id_2709_label_11.png', 'id_2710_label_11.png', 'id_2711_label_12.png', 'id_2712_label_12.png', 'id_2713_label_13.png', 'id_2714_label_13.png', 'id_2715_label_14.png', 'id_2716_label_14.png', 'id_2717_label_15.png', 'id_2718_label_15.png', 'id_2719_label_16.png', 'id_2720_label_16.png', 'id_2721_label_17.png', 'id_2722_label_17.png', 'id_2723_label_18.png', 'id_2724_label_18.png', 'id_2725_label_19.png', 'id_2726_label_19.png', 'id_2727_label_20.png', 'id_2728_label_20.png', 'id_2729_label_21.png', 'id_2730_label_21.png', 'id_2731_label_22.png', 'id_2732_label_22.png', 'id_2733_label_23.png', 'id_2734_label_23.png', 'id_2735_label_24.png', 'id_2736_label_24.png', 'id_2737_label_25.png', 'id_2738_label_25.png', 'id_2739_label_26.png', 'id_2740_label_26.png', 'id_2741_label_27.png', 'id_2742_label_27.png', 'id_2743_label_28.png', 'id_2744_label_28.png', 'id_2745_label_1.png', 'id_2746_label_1.png', 'id_2747_label_2.png', 'id_2748_label_2.png', 'id_2749_label_3.png', 'id_2750_label_3.png', 'id_2751_label_4.png', 'id_2752_label_4.png', 'id_2753_label_5.png', 'id_2754_label_5.png', 'id_2755_label_6.png', 'id_2756_label_6.png', 'id_2757_label_7.png', 'id_2758_label_7.png', 'id_2759_label_8.png', 'id_2760_label_8.png', 'id_2761_label_9.png', 'id_2762_label_9.png', 'id_2763_label_10.png', 'id_2764_label_10.png', 'id_2765_label_11.png', 'id_2766_label_11.png', 'id_2767_label_12.png', 'id_2768_label_12.png', 'id_2769_label_13.png', 'id_2770_label_13.png', 'id_2771_label_14.png', 'id_2772_label_14.png', 'id_2773_label_15.png', 'id_2774_label_15.png', 'id_2775_label_16.png', 'id_2776_label_16.png', 'id_2777_label_17.png', 'id_2778_label_17.png', 'id_2779_label_18.png', 'id_2780_label_18.png', 'id_2781_label_19.png', 'id_2782_label_19.png', 'id_2783_label_20.png', 'id_2784_label_20.png', 'id_2785_label_21.png', 'id_2786_label_21.png', 'id_2787_label_22.png', 'id_2788_label_22.png', 'id_2789_label_23.png', 'id_2790_label_23.png', 'id_2791_label_24.png', 'id_2792_label_24.png', 'id_2793_label_25.png', 'id_2794_label_25.png', 'id_2795_label_26.png', 'id_2796_label_26.png', 'id_2797_label_27.png', 'id_2798_label_27.png', 'id_2799_label_28.png', 'id_2800_label_28.png', 'id_2801_label_1.png', 'id_2802_label_1.png', 'id_2803_label_2.png', 'id_2804_label_2.png', 'id_2805_label_3.png', 'id_2806_label_3.png', 'id_2807_label_4.png', 'id_2808_label_4.png', 'id_2809_label_5.png', 'id_2810_label_5.png', 'id_2811_label_6.png', 'id_2812_label_6.png', 'id_2813_label_7.png', 'id_2814_label_7.png', 'id_2815_label_8.png', 'id_2816_label_8.png', 'id_2817_label_9.png', 'id_2818_label_9.png', 'id_2819_label_10.png', 'id_2820_label_10.png', 'id_2821_label_11.png', 'id_2822_label_11.png', 'id_2823_label_12.png', 'id_2824_label_12.png', 'id_2825_label_13.png', 'id_2826_label_13.png', 'id_2827_label_14.png', 'id_2828_label_14.png', 'id_2829_label_15.png', 'id_2830_label_15.png', 'id_2831_label_16.png', 'id_2832_label_16.png', 'id_2833_label_17.png', 'id_2834_label_17.png', 'id_2835_label_18.png', 'id_2836_label_18.png', 'id_2837_label_19.png', 'id_2838_label_19.png', 'id_2839_label_20.png', 'id_2840_label_20.png', 'id_2841_label_21.png', 'id_2842_label_21.png', 'id_2843_label_22.png', 'id_2844_label_22.png', 'id_2845_label_23.png', 'id_2846_label_23.png', 'id_2847_label_24.png', 'id_2848_label_24.png', 'id_2849_label_25.png', 'id_2850_label_25.png', 'id_2851_label_26.png', 'id_2852_label_26.png', 'id_2853_label_27.png', 'id_2854_label_27.png', 'id_2855_label_28.png', 'id_2856_label_28.png', 'id_2857_label_1.png', 'id_2858_label_1.png', 'id_2859_label_2.png', 'id_2860_label_2.png', 'id_2861_label_3.png', 'id_2862_label_3.png', 'id_2863_label_4.png', 'id_2864_label_4.png', 'id_2865_label_5.png', 'id_2866_label_5.png', 'id_2867_label_6.png', 'id_2868_label_6.png', 'id_2869_label_7.png', 'id_2870_label_7.png', 'id_2871_label_8.png', 'id_2872_label_8.png', 'id_2873_label_9.png', 'id_2874_label_9.png', 'id_2875_label_10.png', 'id_2876_label_10.png', 'id_2877_label_11.png', 'id_2878_label_11.png', 'id_2879_label_12.png', 'id_2880_label_12.png', 'id_2881_label_13.png', 'id_2882_label_13.png', 'id_2883_label_14.png', 'id_2884_label_14.png', 'id_2885_label_15.png', 'id_2886_label_15.png', 'id_2887_label_16.png', 'id_2888_label_16.png', 'id_2889_label_17.png', 'id_2890_label_17.png', 'id_2891_label_18.png', 'id_2892_label_18.png', 'id_2893_label_19.png', 'id_2894_label_19.png', 'id_2895_label_20.png', 'id_2896_label_20.png', 'id_2897_label_21.png', 'id_2898_label_21.png', 'id_2899_label_22.png', 'id_2900_label_22.png', 'id_2901_label_23.png', 'id_2902_label_23.png', 'id_2903_label_24.png', 'id_2904_label_24.png', 'id_2905_label_25.png', 'id_2906_label_25.png', 'id_2907_label_26.png', 'id_2908_label_26.png', 'id_2909_label_27.png', 'id_2910_label_27.png', 'id_2911_label_28.png', 'id_2912_label_28.png', 'id_2913_label_1.png', 'id_2914_label_1.png', 'id_2915_label_2.png', 'id_2916_label_2.png', 'id_2917_label_3.png', 'id_2918_label_3.png', 'id_2919_label_4.png', 'id_2920_label_4.png', 'id_2921_label_5.png', 'id_2922_label_5.png', 'id_2923_label_6.png', 'id_2924_label_6.png', 'id_2925_label_7.png', 'id_2926_label_7.png', 'id_2927_label_8.png', 'id_2928_label_8.png', 'id_2929_label_9.png', 'id_2930_label_9.png', 'id_2931_label_10.png', 'id_2932_label_10.png', 'id_2933_label_11.png', 'id_2934_label_11.png', 'id_2935_label_12.png', 'id_2936_label_12.png', 'id_2937_label_13.png', 'id_2938_label_13.png', 'id_2939_label_14.png', 'id_2940_label_14.png', 'id_2941_label_15.png', 'id_2942_label_15.png', 'id_2943_label_16.png', 'id_2944_label_16.png', 'id_2945_label_17.png', 'id_2946_label_17.png', 'id_2947_label_18.png', 'id_2948_label_18.png', 'id_2949_label_19.png', 'id_2950_label_19.png', 'id_2951_label_20.png', 'id_2952_label_20.png', 'id_2953_label_21.png', 'id_2954_label_21.png', 'id_2955_label_22.png', 'id_2956_label_22.png', 'id_2957_label_23.png', 'id_2958_label_23.png', 'id_2959_label_24.png', 'id_2960_label_24.png', 'id_2961_label_25.png', 'id_2962_label_25.png', 'id_2963_label_26.png', 'id_2964_label_26.png', 'id_2965_label_27.png', 'id_2966_label_27.png', 'id_2967_label_28.png', 'id_2968_label_28.png', 'id_2969_label_1.png', 'id_2970_label_1.png', 'id_2971_label_2.png', 'id_2972_label_2.png', 'id_2973_label_3.png', 'id_2974_label_3.png', 'id_2975_label_4.png', 'id_2976_label_4.png', 'id_2977_label_5.png', 'id_2978_label_5.png', 'id_2979_label_6.png', 'id_2980_label_6.png', 'id_2981_label_7.png', 'id_2982_label_7.png', 'id_2983_label_8.png', 'id_2984_label_8.png', 'id_2985_label_9.png', 'id_2986_label_9.png', 'id_2987_label_10.png', 'id_2988_label_10.png', 'id_2989_label_11.png', 'id_2990_label_11.png', 'id_2991_label_12.png', 'id_2992_label_12.png', 'id_2993_label_13.png', 'id_2994_label_13.png', 'id_2995_label_14.png', 'id_2996_label_14.png', 'id_2997_label_15.png', 'id_2998_label_15.png', 'id_2999_label_16.png', 'id_3000_label_16.png', 'id_3001_label_17.png', 'id_3002_label_17.png', 'id_3003_label_18.png', 'id_3004_label_18.png', 'id_3005_label_19.png', 'id_3006_label_19.png', 'id_3007_label_20.png', 'id_3008_label_20.png', 'id_3009_label_21.png', 'id_3010_label_21.png', 'id_3011_label_22.png', 'id_3012_label_22.png', 'id_3013_label_23.png', 'id_3014_label_23.png', 'id_3015_label_24.png', 'id_3016_label_24.png', 'id_3017_label_25.png', 'id_3018_label_25.png', 'id_3019_label_26.png', 'id_3020_label_26.png', 'id_3021_label_27.png', 'id_3022_label_27.png', 'id_3023_label_28.png', 'id_3024_label_28.png', 'id_3025_label_1.png', 'id_3026_label_1.png', 'id_3027_label_2.png', 'id_3028_label_2.png', 'id_3029_label_3.png', 'id_3030_label_3.png', 'id_3031_label_4.png', 'id_3032_label_4.png', 'id_3033_label_5.png', 'id_3034_label_5.png', 'id_3035_label_6.png', 'id_3036_label_6.png', 'id_3037_label_7.png', 'id_3038_label_7.png', 'id_3039_label_8.png', 'id_3040_label_8.png', 'id_3041_label_9.png', 'id_3042_label_9.png', 'id_3043_label_10.png', 'id_3044_label_10.png', 'id_3045_label_11.png', 'id_3046_label_11.png', 'id_3047_label_12.png', 'id_3048_label_12.png', 'id_3049_label_13.png', 'id_3050_label_13.png', 'id_3051_label_14.png', 'id_3052_label_14.png', 'id_3053_label_15.png', 'id_3054_label_15.png', 'id_3055_label_16.png', 'id_3056_label_16.png', 'id_3057_label_17.png', 'id_3058_label_17.png', 'id_3059_label_18.png', 'id_3060_label_18.png', 'id_3061_label_19.png', 'id_3062_label_19.png', 'id_3063_label_20.png', 'id_3064_label_20.png', 'id_3065_label_21.png', 'id_3066_label_21.png', 'id_3067_label_22.png', 'id_3068_label_22.png', 'id_3069_label_23.png', 'id_3070_label_23.png', 'id_3071_label_24.png', 'id_3072_label_24.png', 'id_3073_label_25.png', 'id_3074_label_25.png', 'id_3075_label_26.png', 'id_3076_label_26.png', 'id_3077_label_27.png', 'id_3078_label_27.png', 'id_3079_label_28.png', 'id_3080_label_28.png', 'id_3081_label_1.png', 'id_3082_label_1.png', 'id_3083_label_2.png', 'id_3084_label_2.png', 'id_3085_label_3.png', 'id_3086_label_3.png', 'id_3087_label_4.png', 'id_3088_label_4.png', 'id_3089_label_5.png', 'id_3090_label_5.png', 'id_3091_label_6.png', 'id_3092_label_6.png', 'id_3093_label_7.png', 'id_3094_label_7.png', 'id_3095_label_8.png', 'id_3096_label_8.png', 'id_3097_label_9.png', 'id_3098_label_9.png', 'id_3099_label_10.png', 'id_3100_label_10.png', 'id_3101_label_11.png', 'id_3102_label_11.png', 'id_3103_label_12.png', 'id_3104_label_12.png', 'id_3105_label_13.png', 'id_3106_label_13.png', 'id_3107_label_14.png', 'id_3108_label_14.png', 'id_3109_label_15.png', 'id_3110_label_15.png', 'id_3111_label_16.png', 'id_3112_label_16.png', 'id_3113_label_17.png', 'id_3114_label_17.png', 'id_3115_label_18.png', 'id_3116_label_18.png', 'id_3117_label_19.png', 'id_3118_label_19.png', 'id_3119_label_20.png', 'id_3120_label_20.png', 'id_3121_label_21.png', 'id_3122_label_21.png', 'id_3123_label_22.png', 'id_3124_label_22.png', 'id_3125_label_23.png', 'id_3126_label_23.png', 'id_3127_label_24.png', 'id_3128_label_24.png', 'id_3129_label_25.png', 'id_3130_label_25.png', 'id_3131_label_26.png', 'id_3132_label_26.png', 'id_3133_label_27.png', 'id_3134_label_27.png', 'id_3135_label_28.png', 'id_3136_label_28.png', 'id_3137_label_1.png', 'id_3138_label_1.png', 'id_3139_label_2.png', 'id_3140_label_2.png', 'id_3141_label_3.png', 'id_3142_label_3.png', 'id_3143_label_4.png', 'id_3144_label_4.png', 'id_3145_label_5.png', 'id_3146_label_5.png', 'id_3147_label_6.png', 'id_3148_label_6.png', 'id_3149_label_7.png', 'id_3150_label_7.png', 'id_3151_label_8.png', 'id_3152_label_8.png', 'id_3153_label_9.png', 'id_3154_label_9.png', 'id_3155_label_10.png', 'id_3156_label_10.png', 'id_3157_label_11.png', 'id_3158_label_11.png', 'id_3159_label_12.png', 'id_3160_label_12.png', 'id_3161_label_13.png', 'id_3162_label_13.png', 'id_3163_label_14.png', 'id_3164_label_14.png', 'id_3165_label_15.png', 'id_3166_label_15.png', 'id_3167_label_16.png', 'id_3168_label_16.png', 'id_3169_label_17.png', 'id_3170_label_17.png', 'id_3171_label_18.png', 'id_3172_label_18.png', 'id_3173_label_19.png', 'id_3174_label_19.png', 'id_3175_label_20.png', 'id_3176_label_20.png', 'id_3177_label_21.png', 'id_3178_label_21.png', 'id_3179_label_22.png', 'id_3180_label_22.png', 'id_3181_label_23.png', 'id_3182_label_23.png', 'id_3183_label_24.png', 'id_3184_label_24.png', 'id_3185_label_25.png', 'id_3186_label_25.png', 'id_3187_label_26.png', 'id_3188_label_26.png', 'id_3189_label_27.png', 'id_3190_label_27.png', 'id_3191_label_28.png', 'id_3192_label_28.png', 'id_3193_label_1.png', 'id_3194_label_1.png', 'id_3195_label_2.png', 'id_3196_label_2.png', 'id_3197_label_3.png', 'id_3198_label_3.png', 'id_3199_label_4.png', 'id_3200_label_4.png', 'id_3201_label_5.png', 'id_3202_label_5.png', 'id_3203_label_6.png', 'id_3204_label_6.png', 'id_3205_label_7.png', 'id_3206_label_7.png', 'id_3207_label_8.png', 'id_3208_label_8.png', 'id_3209_label_9.png', 'id_3210_label_9.png', 'id_3211_label_10.png', 'id_3212_label_10.png', 'id_3213_label_11.png', 'id_3214_label_11.png', 'id_3215_label_12.png', 'id_3216_label_12.png', 'id_3217_label_13.png', 'id_3218_label_13.png', 'id_3219_label_14.png', 'id_3220_label_14.png', 'id_3221_label_15.png', 'id_3222_label_15.png', 'id_3223_label_16.png', 'id_3224_label_16.png', 'id_3225_label_17.png', 'id_3226_label_17.png', 'id_3227_label_18.png', 'id_3228_label_18.png', 'id_3229_label_19.png', 'id_3230_label_19.png', 'id_3231_label_20.png', 'id_3232_label_20.png', 'id_3233_label_21.png', 'id_3234_label_21.png', 'id_3235_label_22.png', 'id_3236_label_22.png', 'id_3237_label_23.png', 'id_3238_label_23.png', 'id_3239_label_24.png', 'id_3240_label_24.png', 'id_3241_label_25.png', 'id_3242_label_25.png', 'id_3243_label_26.png', 'id_3244_label_26.png', 'id_3245_label_27.png', 'id_3246_label_27.png', 'id_3247_label_28.png', 'id_3248_label_28.png', 'id_3249_label_1.png', 'id_3250_label_1.png', 'id_3251_label_2.png', 'id_3252_label_2.png', 'id_3253_label_3.png', 'id_3254_label_3.png', 'id_3255_label_4.png', 'id_3256_label_4.png', 'id_3257_label_5.png', 'id_3258_label_5.png', 'id_3259_label_6.png', 'id_3260_label_6.png', 'id_3261_label_7.png', 'id_3262_label_7.png', 'id_3263_label_8.png', 'id_3264_label_8.png', 'id_3265_label_9.png', 'id_3266_label_9.png', 'id_3267_label_10.png', 'id_3268_label_10.png', 'id_3269_label_11.png', 'id_3270_label_11.png', 'id_3271_label_12.png', 'id_3272_label_12.png', 'id_3273_label_13.png', 'id_3274_label_13.png', 'id_3275_label_14.png', 'id_3276_label_14.png', 'id_3277_label_15.png', 'id_3278_label_15.png', 'id_3279_label_16.png', 'id_3280_label_16.png', 'id_3281_label_17.png', 'id_3282_label_17.png', 'id_3283_label_18.png', 'id_3284_label_18.png', 'id_3285_label_19.png', 'id_3286_label_19.png', 'id_3287_label_20.png', 'id_3288_label_20.png', 'id_3289_label_21.png', 'id_3290_label_21.png', 'id_3291_label_22.png', 'id_3292_label_22.png', 'id_3293_label_23.png', 'id_3294_label_23.png', 'id_3295_label_24.png', 'id_3296_label_24.png', 'id_3297_label_25.png', 'id_3298_label_25.png', 'id_3299_label_26.png', 'id_3300_label_26.png', 'id_3301_label_27.png', 'id_3302_label_27.png', 'id_3303_label_28.png', 'id_3304_label_28.png', 'id_3305_label_1.png', 'id_3306_label_1.png', 'id_3307_label_2.png', 'id_3308_label_2.png', 'id_3309_label_3.png', 'id_3310_label_3.png', 'id_3311_label_4.png', 'id_3312_label_4.png', 'id_3313_label_5.png', 'id_3314_label_5.png', 'id_3315_label_6.png', 'id_3316_label_6.png', 'id_3317_label_7.png', 'id_3318_label_7.png', 'id_3319_label_8.png', 'id_3320_label_8.png', 'id_3321_label_9.png', 'id_3322_label_9.png', 'id_3323_label_10.png', 'id_3324_label_10.png', 'id_3325_label_11.png', 'id_3326_label_11.png', 'id_3327_label_12.png', 'id_3328_label_12.png', 'id_3329_label_13.png', 'id_3330_label_13.png', 'id_3331_label_14.png', 'id_3332_label_14.png', 'id_3333_label_15.png', 'id_3334_label_15.png', 'id_3335_label_16.png', 'id_3336_label_16.png', 'id_3337_label_17.png', 'id_3338_label_17.png', 'id_3339_label_18.png', 'id_3340_label_18.png', 'id_3341_label_19.png', 'id_3342_label_19.png', 'id_3343_label_20.png', 'id_3344_label_20.png', 'id_3345_label_21.png', 'id_3346_label_21.png', 'id_3347_label_22.png', 'id_3348_label_22.png', 'id_3349_label_23.png', 'id_3350_label_23.png', 'id_3351_label_24.png', 'id_3352_label_24.png', 'id_3353_label_25.png', 'id_3354_label_25.png', 'id_3355_label_26.png', 'id_3356_label_26.png', 'id_3357_label_27.png', 'id_3358_label_27.png', 'id_3359_label_28.png', 'id_3360_label_28.png']\n"
     ]
    }
   ],
   "source": [
    "print(LoTestImgNames)"
   ]
  },
  {
   "cell_type": "code",
   "execution_count": 99,
   "metadata": {},
   "outputs": [],
   "source": [
    "LoTrueTestImgLabels = []\n",
    "for imgName in LoTestImgNames:\n",
    "    LoTrueTestImgLabels.append(imgName.split('_')[3].split('.')[0])"
   ]
  },
  {
   "cell_type": "code",
   "execution_count": 104,
   "metadata": {},
   "outputs": [
    {
     "data": {
      "text/plain": [
       "'1'"
      ]
     },
     "execution_count": 104,
     "metadata": {},
     "output_type": "execute_result"
    }
   ],
   "source": [
    "LoTrueTestImgLabels[i]"
   ]
  },
  {
   "cell_type": "code",
   "execution_count": 100,
   "metadata": {},
   "outputs": [],
   "source": [
    "image_cluster = pd.DataFrame(LoTestImgNames,columns=['image name'])\n",
    "image_cluster[\"clusterid\"] = clusters.labels_\n",
    "image_cluster[\"true label\"] = LoTrueTestImgLabels # 0 denotes cat and 1 denotes dog"
   ]
  },
  {
   "cell_type": "code",
   "execution_count": 101,
   "metadata": {},
   "outputs": [
    {
     "name": "stdout",
     "output_type": "stream",
     "text": [
      "                image name  clusterid true label\n",
      "0         id_1_label_1.png          7          1\n",
      "1         id_2_label_1.png         24          1\n",
      "2         id_3_label_2.png          4          2\n",
      "3         id_4_label_2.png          4          2\n",
      "4         id_5_label_3.png         21          3\n",
      "...                    ...        ...        ...\n",
      "3355  id_3356_label_26.png          1         26\n",
      "3356  id_3357_label_27.png         17         27\n",
      "3357  id_3358_label_27.png         11         27\n",
      "3358  id_3359_label_28.png          9         28\n",
      "3359  id_3360_label_28.png         17         28\n",
      "\n",
      "[3360 rows x 3 columns]\n"
     ]
    }
   ],
   "source": [
    "print(image_cluster)"
   ]
  },
  {
   "cell_type": "code",
   "execution_count": 115,
   "metadata": {},
   "outputs": [
    {
     "name": "stdout",
     "output_type": "stream",
     "text": [
      "[7, 24, 24, 24, 24, 24, 24, 24, 24, 24, 2, 2, 24, 24, 24, 24, 7, 24, 24, 7, 24, 24, 7, 24, 2, 24, 7, 24, 24, 7, 24, 24, 24, 24, 24, 24, 2, 7, 24, 24, 24, 24, 24, 24, 24, 24, 7, 7, 24, 24, 7, 24, 3, 24, 24, 24, 24, 24, 24, 3, 24, 24, 10, 24, 24, 7, 7, 24, 24, 24, 7, 24, 24, 24, 7, 24, 24, 24, 24, 24, 24, 24, 24, 24, 24, 7, 24, 24, 7, 24, 7, 7, 2, 2, 24, 7, 24, 24, 24, 7, 24, 24, 24, 7, 24, 24, 24, 24, 24, 24, 7, 24, 24, 24, 24, 24, 24, 24, 2, 2]\n"
     ]
    }
   ],
   "source": [
    "LoClusterIdsForLabel=[]\n",
    "for label in range(1,28):\n",
    "    clusterIdsFor_label = []\n",
    "    for i in range(len(LoTrueTestImgLabels)):\n",
    "        if int(LoTrueTestImgLabels[i]) == label:\n",
    "            clusterIdsFor_label.append(clusters.labels_[i])\n",
    "    LoClusterIdsForLabel.append(clusterIdsFor_label)\n",
    "\n",
    "print(LoClusterIdsForLabel[0])"
   ]
  },
  {
   "cell_type": "code",
   "execution_count": 109,
   "metadata": {},
   "outputs": [
    {
     "data": {
      "text/plain": [
       "24"
      ]
     },
     "execution_count": 109,
     "metadata": {},
     "output_type": "execute_result"
    }
   ],
   "source": [
    "max(set(clusterIdsFor_Alif), key=clusterIdsFor_Alif.count)"
   ]
  },
  {
   "cell_type": "code",
   "execution_count": 110,
   "metadata": {},
   "outputs": [
    {
     "data": {
      "text/plain": [
       "87"
      ]
     },
     "execution_count": 110,
     "metadata": {},
     "output_type": "execute_result"
    }
   ],
   "source": [
    "clusterIdsFor_Alif.count(24)"
   ]
  },
  {
   "cell_type": "code",
   "execution_count": 111,
   "metadata": {},
   "outputs": [],
   "source": [
    "import collections\n"
   ]
  },
  {
   "cell_type": "code",
   "execution_count": 112,
   "metadata": {},
   "outputs": [
    {
     "data": {
      "text/plain": [
       "Counter({7: 22, 24: 87, 2: 8, 3: 2, 10: 1})"
      ]
     },
     "execution_count": 112,
     "metadata": {},
     "output_type": "execute_result"
    }
   ],
   "source": [
    "ctr = collections.Counter(clusterIdsFor_Alif)\n"
   ]
  },
  {
   "cell_type": "code",
   "execution_count": null,
   "metadata": {},
   "outputs": [],
   "source": [
    "from tensorflow.keras.applications.inception_v3 import InceptionV3\n",
    "from tensorflow.keras.applications.inception_v3 import preprocess_input\n",
    "from tensorflow.keras.preprocessing import image\n",
    "from tensorflow.keras.preprocessing.image import img_to_array\n",
    "from sklearn.cluster import KMeans\n",
    "import pandas as pd\n",
    "import numpy as np\n",
    "from tqdm import tqdm\n",
    "import os\n",
    "import shutil\n",
    "from character_segmentation import segment\n",
    "from segmentation import line_horizontal_projection, word_vertical_projection"
   ]
  },
  {
   "cell_type": "code",
   "execution_count": null,
   "metadata": {},
   "outputs": [],
   "source": [
    "recognizer.layers"
   ]
  },
  {
   "cell_type": "code",
   "execution_count": null,
   "metadata": {},
   "outputs": [],
   "source": [
    "layer_outputs = [layer.output for layer in recognizer.layers]\n",
    "layer_outputs"
   ]
  },
  {
   "cell_type": "code",
   "execution_count": null,
   "metadata": {},
   "outputs": [],
   "source": [
    "feature_map_model = tf.keras.models.Model(inputs=recognizer.input, outputs=layer_outputs)\n"
   ]
  },
  {
   "cell_type": "code",
   "execution_count": null,
   "metadata": {},
   "outputs": [],
   "source": [
    "recognizer.input"
   ]
  },
  {
   "cell_type": "code",
   "execution_count": null,
   "metadata": {},
   "outputs": [],
   "source": [
    "feature_maps = feature_map_model.predict(final_img)\n"
   ]
  },
  {
   "cell_type": "code",
   "execution_count": null,
   "metadata": {},
   "outputs": [],
   "source": [
    "feature_maps[8].shape"
   ]
  },
  {
   "cell_type": "code",
   "execution_count": null,
   "metadata": {},
   "outputs": [],
   "source": [
    "print(feature_maps[8])"
   ]
  },
  {
   "cell_type": "markdown",
   "metadata": {},
   "source": [
    "Let's see if it cares about image size"
   ]
  },
  {
   "cell_type": "code",
   "execution_count": null,
   "metadata": {},
   "outputs": [],
   "source": [
    "final_img.shape"
   ]
  },
  {
   "cell_type": "code",
   "execution_count": null,
   "metadata": {},
   "outputs": [],
   "source": [
    "im_gray_th_otsu.shape"
   ]
  },
  {
   "cell_type": "code",
   "execution_count": null,
   "metadata": {},
   "outputs": [],
   "source": [
    "type(im_gray_th_otsu)"
   ]
  },
  {
   "cell_type": "code",
   "execution_count": null,
   "metadata": {},
   "outputs": [],
   "source": [
    "sizeTestingimg = np.asarray(im_gray_th_otsu).reshape([-1, 364, 385, 1])"
   ]
  },
  {
   "cell_type": "code",
   "execution_count": null,
   "metadata": {},
   "outputs": [],
   "source": [
    "feature_maps = feature_map_model.predict(sizeTestingimg)"
   ]
  },
  {
   "cell_type": "markdown",
   "metadata": {},
   "source": [
    "Yes it does... so we have to change the shapes of each segment to fit this shape..."
   ]
  },
  {
   "cell_type": "code",
   "execution_count": null,
   "metadata": {},
   "outputs": [],
   "source": [
    "testingmodel = InceptionV3(weights='imagenet', include_top=False)"
   ]
  },
  {
   "cell_type": "code",
   "execution_count": null,
   "metadata": {},
   "outputs": [],
   "source": [
    "testingmodel.layers"
   ]
  },
  {
   "cell_type": "code",
   "execution_count": null,
   "metadata": {},
   "outputs": [],
   "source": [
    "img=image.load_img(r\"D:\\School\\MedTech\\Sophomore Pre-Eng\\ISS296\\CNN\\images\\2alif.jpg\",target_size=(224,224))\n",
    "x = img_to_array(img)\n",
    "x=np.expand_dims(x,axis=0)\n",
    "x=preprocess_input(x)\n",
    "testingmodeloutput = testingmodel.predict(x).flatten()"
   ]
  },
  {
   "cell_type": "code",
   "execution_count": null,
   "metadata": {},
   "outputs": [],
   "source": [
    "testingmodeloutput.shape"
   ]
  },
  {
   "cell_type": "code",
   "execution_count": null,
   "metadata": {},
   "outputs": [],
   "source": [
    "print(testingmodeloutput)"
   ]
  },
  {
   "cell_type": "code",
   "execution_count": null,
   "metadata": {},
   "outputs": [],
   "source": []
  }
 ],
 "metadata": {
  "celltoolbar": "Raw Cell Format",
  "kernelspec": {
   "display_name": "Python 3",
   "language": "python",
   "name": "python3"
  },
  "language_info": {
   "codemirror_mode": {
    "name": "ipython",
    "version": 3
   },
   "file_extension": ".py",
   "mimetype": "text/x-python",
   "name": "python",
   "nbconvert_exporter": "python",
   "pygments_lexer": "ipython3",
   "version": "3.8.5"
  }
 },
 "nbformat": 4,
 "nbformat_minor": 4
}
