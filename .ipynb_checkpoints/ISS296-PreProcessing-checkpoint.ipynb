{
 "cells": [
  {
   "cell_type": "code",
   "execution_count": 1,
   "metadata": {},
   "outputs": [],
   "source": [
    "from keras.preprocessing.image import load_img \n",
    "from keras.preprocessing.image import img_to_array \n",
    "from keras.preprocessing.image import array_to_img\n",
    "import warnings\n",
    "import numpy as np\n",
    "import sys\n",
    "import pandas as pd\n",
    "import matplotlib.pyplot as plt\n",
    "import matplotlib.image as mpimg\n",
    "import os \n",
    "import cv2\n",
    "import tensorflow as tf \n",
    "from PIL import Image \n",
    "from numpy import asarray\n",
    "from tqdm import tqdm\n",
    "import argparse\n",
    "from __future__ import print_function\n",
    "from builtins import input\n",
    "\n"
   ]
  },
  {
   "cell_type": "code",
   "execution_count": null,
   "metadata": {},
   "outputs": [],
   "source": [
    "DATADIR = r\"C:\\Users\\rassa\\Documents\\Machine Learning A-Z  Udemy\\Arabic Handwritten Characters Dataset\"\n",
    "#np.set_printoptions(threshold=sys.maxsize)\n",
    "\n",
    "# using opencv library's imread\n",
    "cv2image = cv2.imread(DATADIR+ r\"\\Train Images 13440x32x32\\train\\id_1_label_1.png\", cv2.IMREAD_GRAYSCALE)\n",
    "print(cv2image)\n",
    "cv2image.shape\n",
    "cv2.imshow('cv2image', cv2image)\n",
    "cv2.waitKey(0)\n",
    "cv2.destroyAllWindows()\n",
    "cv2image.shape"
   ]
  },
  {
   "cell_type": "code",
   "execution_count": null,
   "metadata": {},
   "outputs": [],
   "source": [
    "# using asarray from numpy\n",
    "img2 = Image.open(DATADIR+ r\"\\Train Images 13440x32x32\\train\\id_1_label_1.png\")\n",
    "\n",
    "asarrayimage = asarray(img2)\n",
    "print(asarrayimage)\n",
    "\n",
    "plt.imshow(asarrayimage)\n",
    "cv2.imshow('asarray', asarrayimage)\n",
    "cv2.waitKey(0)\n",
    "cv2.destroyAllWindows()\n",
    "asarrayimage.shape\n",
    "asarrayimage.dtype"
   ]
  },
  {
   "cell_type": "code",
   "execution_count": null,
   "metadata": {},
   "outputs": [],
   "source": [
    "# using keras image _to_array\n",
    "imgK = load_img(DATADIR+ r\"\\Train Images 13440x32x32\\train\\id_1_label_1.png\")\n",
    "imgKdata = img_to_array(imgK)\n",
    "print(imgKdata)\n",
    "plt.imshow(imgKdata)\n",
    "imgKdata.shape"
   ]
  },
  {
   "cell_type": "code",
   "execution_count": null,
   "metadata": {},
   "outputs": [],
   "source": [
    "# now we try to get the image from the csv file\n",
    "\n",
    "csvarray = pd.read_csv(DATADIR + r\"\\csvTrainImages 13440x1024.csv\", nrows = 1, header= None)\n",
    "\n",
    "csvarray.shape\n",
    "csvarray= csvarray.iloc[:,:].values.astype('uint8')\n",
    "csvarray.shape\n",
    "csvarray = csvarray.reshape([32, 32, 1])\n",
    "csvarray.shape\n",
    "\n",
    "print(csvarray)\n"
   ]
  },
  {
   "cell_type": "code",
   "execution_count": null,
   "metadata": {},
   "outputs": [],
   "source": [
    "kerasimgfromcsv = array_to_img(csvarray)\n",
    "plt.imshow(kerasimgfromcsv)\n",
    "cv2.imshow('example', csvarray)\n",
    "cv2.waitKey(0)\n",
    "cv2.destroyAllWindows()"
   ]
  },
  {
   "cell_type": "code",
   "execution_count": null,
   "metadata": {},
   "outputs": [],
   "source": [
    "# no dice, still dont know how they did it...\n",
    "# let's just convert the pictures our own way...\n",
    "\n",
    "path = DATADIR+ r\"\\Train Images 13440x32x32\\train\"\n",
    "\n",
    "#returns a list containing all the directories in path (names of the images)\n",
    "imgFileNameList = os.listdir(path)\n",
    "\n",
    "\n",
    "print(imgFileNameList[0])\n",
    "imageIdTest = imgFileNameList[0].split('_')[1]\n",
    "print(imageIdTest)\n",
    "\n",
    "#it work! so now we use this label as our sorting criteria\n",
    "def getImgId(imgName):\n",
    "    return int(imgName.split('_')[1])\n",
    "\n",
    "imgFileNameList.sort(key=getImgId)\n",
    "print(imgFileNameList)"
   ]
  },
  {
   "cell_type": "code",
   "execution_count": null,
   "metadata": {},
   "outputs": [],
   "source": [
    "img_array = cv2.imread(os.path.join(path,imgFileNameList[0]) ,cv2.IMREAD_GRAYSCALE)\n",
    "cv2.imshow('test',img_array)\n",
    "cv2.waitKey(0)\n",
    "cv2.destroyAllWindows()\n",
    "img_array.shape\n",
    "img_array.reshape([32,32,1])\n",
    "\n",
    "# it works!"
   ]
  },
  {
   "cell_type": "code",
   "execution_count": null,
   "metadata": {},
   "outputs": [],
   "source": [
    "#now we make our new train_data\n",
    "train_data = []\n",
    "\n",
    "for img in tqdm(imgFileNameList):  # iterate over each image per dogs and cats\n",
    "            try:\n",
    "                img_array = cv2.imread(os.path.join(path,img) ,cv2.IMREAD_GRAYSCALE)  # convert to array\n",
    "                train_data.append([img_array])  # add this to our training_data\n",
    "            except Exception as e:  # in the interest in keeping the output clean...\n",
    "                pass\n"
   ]
  },
  {
   "cell_type": "code",
   "execution_count": null,
   "metadata": {},
   "outputs": [],
   "source": [
    "#let's have a look at the shape of our array\n",
    "train_data = np.asarray(train_data)\n",
    "print(train_data.shape)\n",
    "train_data = train_data.reshape([-1, 32, 32, 1])\n",
    "print(train_data.shape)\n",
    "np.set_printoptions(threshold=1000)\n",
    "print(train_data)\n",
    "#looks the same as train_data from our model!"
   ]
  },
  {
   "cell_type": "code",
   "execution_count": 2,
   "metadata": {},
   "outputs": [
    {
     "name": "stderr",
     "output_type": "stream",
     "text": [
      "100%|██████████████████████████████████████████████████████████████████████████| 13440/13440 [00:02<00:00, 4746.72it/s]\n",
      "100%|████████████████████████████████████████████████████████████████████████████| 3360/3360 [00:00<00:00, 4798.96it/s]"
     ]
    },
    {
     "name": "stdout",
     "output_type": "stream",
     "text": [
      "(13440, 32, 32, 1)\n",
      "(13440, 32, 32, 1)\n",
      "[[[[0]\n",
      "   [0]\n",
      "   [0]\n",
      "   ...\n",
      "   [0]\n",
      "   [0]\n",
      "   [0]]\n",
      "\n",
      "  [[0]\n",
      "   [0]\n",
      "   [0]\n",
      "   ...\n",
      "   [0]\n",
      "   [0]\n",
      "   [0]]\n",
      "\n",
      "  [[0]\n",
      "   [0]\n",
      "   [0]\n",
      "   ...\n",
      "   [0]\n",
      "   [0]\n",
      "   [0]]\n",
      "\n",
      "  ...\n",
      "\n",
      "  [[0]\n",
      "   [0]\n",
      "   [0]\n",
      "   ...\n",
      "   [0]\n",
      "   [0]\n",
      "   [0]]\n",
      "\n",
      "  [[0]\n",
      "   [0]\n",
      "   [0]\n",
      "   ...\n",
      "   [0]\n",
      "   [0]\n",
      "   [0]]\n",
      "\n",
      "  [[0]\n",
      "   [0]\n",
      "   [0]\n",
      "   ...\n",
      "   [0]\n",
      "   [0]\n",
      "   [0]]]\n",
      "\n",
      "\n",
      " [[[0]\n",
      "   [0]\n",
      "   [0]\n",
      "   ...\n",
      "   [0]\n",
      "   [0]\n",
      "   [0]]\n",
      "\n",
      "  [[0]\n",
      "   [0]\n",
      "   [0]\n",
      "   ...\n",
      "   [0]\n",
      "   [0]\n",
      "   [0]]\n",
      "\n",
      "  [[0]\n",
      "   [0]\n",
      "   [0]\n",
      "   ...\n",
      "   [0]\n",
      "   [0]\n",
      "   [0]]\n",
      "\n",
      "  ...\n",
      "\n",
      "  [[0]\n",
      "   [0]\n",
      "   [0]\n",
      "   ...\n",
      "   [0]\n",
      "   [0]\n",
      "   [0]]\n",
      "\n",
      "  [[0]\n",
      "   [0]\n",
      "   [0]\n",
      "   ...\n",
      "   [0]\n",
      "   [0]\n",
      "   [0]]\n",
      "\n",
      "  [[0]\n",
      "   [0]\n",
      "   [0]\n",
      "   ...\n",
      "   [0]\n",
      "   [0]\n",
      "   [0]]]\n",
      "\n",
      "\n",
      " [[[0]\n",
      "   [0]\n",
      "   [0]\n",
      "   ...\n",
      "   [0]\n",
      "   [0]\n",
      "   [0]]\n",
      "\n",
      "  [[0]\n",
      "   [0]\n",
      "   [0]\n",
      "   ...\n",
      "   [0]\n",
      "   [0]\n",
      "   [0]]\n",
      "\n",
      "  [[0]\n",
      "   [0]\n",
      "   [0]\n",
      "   ...\n",
      "   [0]\n",
      "   [0]\n",
      "   [0]]\n",
      "\n",
      "  ...\n",
      "\n",
      "  [[0]\n",
      "   [0]\n",
      "   [0]\n",
      "   ...\n",
      "   [0]\n",
      "   [0]\n",
      "   [0]]\n",
      "\n",
      "  [[0]\n",
      "   [0]\n",
      "   [0]\n",
      "   ...\n",
      "   [0]\n",
      "   [0]\n",
      "   [0]]\n",
      "\n",
      "  [[0]\n",
      "   [0]\n",
      "   [0]\n",
      "   ...\n",
      "   [0]\n",
      "   [0]\n",
      "   [0]]]\n",
      "\n",
      "\n",
      " ...\n",
      "\n",
      "\n",
      " [[[0]\n",
      "   [0]\n",
      "   [0]\n",
      "   ...\n",
      "   [0]\n",
      "   [0]\n",
      "   [0]]\n",
      "\n",
      "  [[0]\n",
      "   [0]\n",
      "   [0]\n",
      "   ...\n",
      "   [0]\n",
      "   [0]\n",
      "   [0]]\n",
      "\n",
      "  [[0]\n",
      "   [0]\n",
      "   [0]\n",
      "   ...\n",
      "   [0]\n",
      "   [0]\n",
      "   [0]]\n",
      "\n",
      "  ...\n",
      "\n",
      "  [[0]\n",
      "   [0]\n",
      "   [0]\n",
      "   ...\n",
      "   [0]\n",
      "   [0]\n",
      "   [0]]\n",
      "\n",
      "  [[0]\n",
      "   [0]\n",
      "   [0]\n",
      "   ...\n",
      "   [0]\n",
      "   [0]\n",
      "   [0]]\n",
      "\n",
      "  [[0]\n",
      "   [0]\n",
      "   [0]\n",
      "   ...\n",
      "   [0]\n",
      "   [0]\n",
      "   [0]]]\n",
      "\n",
      "\n",
      " [[[0]\n",
      "   [0]\n",
      "   [0]\n",
      "   ...\n",
      "   [0]\n",
      "   [0]\n",
      "   [0]]\n",
      "\n",
      "  [[0]\n",
      "   [0]\n",
      "   [0]\n",
      "   ...\n",
      "   [0]\n",
      "   [0]\n",
      "   [0]]\n",
      "\n",
      "  [[0]\n",
      "   [0]\n",
      "   [0]\n",
      "   ...\n",
      "   [0]\n",
      "   [0]\n",
      "   [0]]\n",
      "\n",
      "  ...\n",
      "\n",
      "  [[0]\n",
      "   [0]\n",
      "   [0]\n",
      "   ...\n",
      "   [0]\n",
      "   [0]\n",
      "   [0]]\n",
      "\n",
      "  [[0]\n",
      "   [0]\n",
      "   [0]\n",
      "   ...\n",
      "   [0]\n",
      "   [0]\n",
      "   [0]]\n",
      "\n",
      "  [[0]\n",
      "   [0]\n",
      "   [0]\n",
      "   ...\n",
      "   [0]\n",
      "   [0]\n",
      "   [0]]]\n",
      "\n",
      "\n",
      " [[[0]\n",
      "   [0]\n",
      "   [0]\n",
      "   ...\n",
      "   [0]\n",
      "   [0]\n",
      "   [0]]\n",
      "\n",
      "  [[0]\n",
      "   [0]\n",
      "   [0]\n",
      "   ...\n",
      "   [0]\n",
      "   [0]\n",
      "   [0]]\n",
      "\n",
      "  [[0]\n",
      "   [0]\n",
      "   [0]\n",
      "   ...\n",
      "   [0]\n",
      "   [0]\n",
      "   [0]]\n",
      "\n",
      "  ...\n",
      "\n",
      "  [[0]\n",
      "   [0]\n",
      "   [0]\n",
      "   ...\n",
      "   [0]\n",
      "   [0]\n",
      "   [0]]\n",
      "\n",
      "  [[0]\n",
      "   [0]\n",
      "   [0]\n",
      "   ...\n",
      "   [0]\n",
      "   [0]\n",
      "   [0]]\n",
      "\n",
      "  [[0]\n",
      "   [0]\n",
      "   [0]\n",
      "   ...\n",
      "   [0]\n",
      "   [0]\n",
      "   [0]]]]\n"
     ]
    },
    {
     "name": "stderr",
     "output_type": "stream",
     "text": [
      "\n"
     ]
    }
   ],
   "source": [
    "#Let's put allwe need in one cell and test!\n",
    "DATADIR = r\"C:\\Users\\rassa\\Documents\\Machine Learning A-Z  Udemy\\Arabic Handwritten Characters Dataset\"\n",
    "train_data = []\n",
    "test_data = []\n",
    "trainPath = DATADIR + r\"\\Train Images 13440x32x32\\train\"\n",
    "testPath  = DATADIR + r\"\\Test Images 3360x32x32\\test\"\n",
    "\n",
    "def getImgId(imgName):\n",
    "    return int(imgName.split('_')[1])\n",
    "\n",
    "def makeData(data, directory, sortingCriteria):\n",
    "    imgFileNameList = os.listdir(directory)     #get list of directories in path (ie. list of image names)\n",
    "    imgFileNameList.sort(key = sortingCriteria) #sort list based on key\n",
    "    \n",
    "    for img in tqdm(imgFileNameList):  # iterate over the sorted list\n",
    "                try:\n",
    "                    img_array = cv2.imread(os.path.join(directory, img) ,cv2.IMREAD_GRAYSCALE)  # convert image to array\n",
    "                    data.append([img_array])  # add this to our data\n",
    "                except Exception as e:  # just in case there is a mistake.\n",
    "                    pass\n",
    "\n",
    "makeData(train_data, trainPath, getImgId)\n",
    "makeData(test_data, testPath, getImgId)\n",
    "\n",
    "# convert to ndarray and reshape\n",
    "train_data = np.asarray(train_data).reshape([-1, 32, 32, 1])\n",
    "test_data = np.asarray(test_data).reshape([-1, 32, 32, 1])\n",
    "print(train_data.shape)\n",
    "print(train_data)"
   ]
  },
  {
   "cell_type": "code",
   "execution_count": 8,
   "metadata": {},
   "outputs": [
    {
     "name": "stdout",
     "output_type": "stream",
     "text": [
      "(3360, 32, 32, 1)\n",
      "(32, 32, 1)\n",
      "[[[0]\n",
      "  [0]\n",
      "  [0]\n",
      "  ...\n",
      "  [0]\n",
      "  [0]\n",
      "  [0]]\n",
      "\n",
      " [[0]\n",
      "  [0]\n",
      "  [0]\n",
      "  ...\n",
      "  [0]\n",
      "  [0]\n",
      "  [0]]\n",
      "\n",
      " [[0]\n",
      "  [0]\n",
      "  [0]\n",
      "  ...\n",
      "  [0]\n",
      "  [0]\n",
      "  [0]]\n",
      "\n",
      " ...\n",
      "\n",
      " [[0]\n",
      "  [0]\n",
      "  [0]\n",
      "  ...\n",
      "  [0]\n",
      "  [0]\n",
      "  [0]]\n",
      "\n",
      " [[0]\n",
      "  [0]\n",
      "  [0]\n",
      "  ...\n",
      "  [0]\n",
      "  [0]\n",
      "  [0]]\n",
      "\n",
      " [[0]\n",
      "  [0]\n",
      "  [0]\n",
      "  ...\n",
      "  [0]\n",
      "  [0]\n",
      "  [0]]]\n"
     ]
    }
   ],
   "source": [
    "print(test_data.shape)\n",
    "print(train_data[0].shape)\n",
    "print(train_data[0])"
   ]
  },
  {
   "cell_type": "code",
   "execution_count": 7,
   "metadata": {},
   "outputs": [
    {
     "name": "stdout",
     "output_type": "stream",
     "text": [
      "[[[[0]\n",
      "   [0]\n",
      "   [0]\n",
      "   ...\n",
      "   [0]\n",
      "   [0]\n",
      "   [0]]\n",
      "\n",
      "  [[0]\n",
      "   [0]\n",
      "   [0]\n",
      "   ...\n",
      "   [0]\n",
      "   [0]\n",
      "   [0]]\n",
      "\n",
      "  [[0]\n",
      "   [0]\n",
      "   [0]\n",
      "   ...\n",
      "   [0]\n",
      "   [0]\n",
      "   [0]]\n",
      "\n",
      "  ...\n",
      "\n",
      "  [[0]\n",
      "   [0]\n",
      "   [0]\n",
      "   ...\n",
      "   [0]\n",
      "   [0]\n",
      "   [0]]\n",
      "\n",
      "  [[0]\n",
      "   [0]\n",
      "   [0]\n",
      "   ...\n",
      "   [0]\n",
      "   [0]\n",
      "   [0]]\n",
      "\n",
      "  [[0]\n",
      "   [0]\n",
      "   [0]\n",
      "   ...\n",
      "   [0]\n",
      "   [0]\n",
      "   [0]]]\n",
      "\n",
      "\n",
      " [[[0]\n",
      "   [0]\n",
      "   [0]\n",
      "   ...\n",
      "   [0]\n",
      "   [0]\n",
      "   [0]]\n",
      "\n",
      "  [[0]\n",
      "   [0]\n",
      "   [0]\n",
      "   ...\n",
      "   [0]\n",
      "   [0]\n",
      "   [0]]\n",
      "\n",
      "  [[0]\n",
      "   [0]\n",
      "   [0]\n",
      "   ...\n",
      "   [0]\n",
      "   [0]\n",
      "   [0]]\n",
      "\n",
      "  ...\n",
      "\n",
      "  [[0]\n",
      "   [0]\n",
      "   [0]\n",
      "   ...\n",
      "   [0]\n",
      "   [0]\n",
      "   [0]]\n",
      "\n",
      "  [[0]\n",
      "   [0]\n",
      "   [0]\n",
      "   ...\n",
      "   [0]\n",
      "   [0]\n",
      "   [0]]\n",
      "\n",
      "  [[0]\n",
      "   [0]\n",
      "   [0]\n",
      "   ...\n",
      "   [0]\n",
      "   [0]\n",
      "   [0]]]\n",
      "\n",
      "\n",
      " [[[0]\n",
      "   [0]\n",
      "   [0]\n",
      "   ...\n",
      "   [0]\n",
      "   [0]\n",
      "   [0]]\n",
      "\n",
      "  [[0]\n",
      "   [0]\n",
      "   [0]\n",
      "   ...\n",
      "   [0]\n",
      "   [0]\n",
      "   [0]]\n",
      "\n",
      "  [[0]\n",
      "   [0]\n",
      "   [0]\n",
      "   ...\n",
      "   [0]\n",
      "   [0]\n",
      "   [0]]\n",
      "\n",
      "  ...\n",
      "\n",
      "  [[0]\n",
      "   [0]\n",
      "   [0]\n",
      "   ...\n",
      "   [0]\n",
      "   [0]\n",
      "   [0]]\n",
      "\n",
      "  [[0]\n",
      "   [0]\n",
      "   [0]\n",
      "   ...\n",
      "   [0]\n",
      "   [0]\n",
      "   [0]]\n",
      "\n",
      "  [[0]\n",
      "   [0]\n",
      "   [0]\n",
      "   ...\n",
      "   [0]\n",
      "   [0]\n",
      "   [0]]]\n",
      "\n",
      "\n",
      " ...\n",
      "\n",
      "\n",
      " [[[0]\n",
      "   [0]\n",
      "   [0]\n",
      "   ...\n",
      "   [0]\n",
      "   [0]\n",
      "   [0]]\n",
      "\n",
      "  [[0]\n",
      "   [0]\n",
      "   [0]\n",
      "   ...\n",
      "   [0]\n",
      "   [0]\n",
      "   [0]]\n",
      "\n",
      "  [[0]\n",
      "   [0]\n",
      "   [0]\n",
      "   ...\n",
      "   [0]\n",
      "   [0]\n",
      "   [0]]\n",
      "\n",
      "  ...\n",
      "\n",
      "  [[0]\n",
      "   [0]\n",
      "   [0]\n",
      "   ...\n",
      "   [0]\n",
      "   [0]\n",
      "   [0]]\n",
      "\n",
      "  [[0]\n",
      "   [0]\n",
      "   [0]\n",
      "   ...\n",
      "   [0]\n",
      "   [0]\n",
      "   [0]]\n",
      "\n",
      "  [[0]\n",
      "   [0]\n",
      "   [0]\n",
      "   ...\n",
      "   [0]\n",
      "   [0]\n",
      "   [0]]]\n",
      "\n",
      "\n",
      " [[[0]\n",
      "   [0]\n",
      "   [0]\n",
      "   ...\n",
      "   [0]\n",
      "   [0]\n",
      "   [0]]\n",
      "\n",
      "  [[0]\n",
      "   [0]\n",
      "   [0]\n",
      "   ...\n",
      "   [0]\n",
      "   [0]\n",
      "   [0]]\n",
      "\n",
      "  [[0]\n",
      "   [0]\n",
      "   [0]\n",
      "   ...\n",
      "   [0]\n",
      "   [0]\n",
      "   [0]]\n",
      "\n",
      "  ...\n",
      "\n",
      "  [[0]\n",
      "   [0]\n",
      "   [0]\n",
      "   ...\n",
      "   [0]\n",
      "   [0]\n",
      "   [0]]\n",
      "\n",
      "  [[0]\n",
      "   [0]\n",
      "   [0]\n",
      "   ...\n",
      "   [0]\n",
      "   [0]\n",
      "   [0]]\n",
      "\n",
      "  [[0]\n",
      "   [0]\n",
      "   [0]\n",
      "   ...\n",
      "   [0]\n",
      "   [0]\n",
      "   [0]]]\n",
      "\n",
      "\n",
      " [[[0]\n",
      "   [0]\n",
      "   [0]\n",
      "   ...\n",
      "   [0]\n",
      "   [0]\n",
      "   [0]]\n",
      "\n",
      "  [[0]\n",
      "   [0]\n",
      "   [0]\n",
      "   ...\n",
      "   [0]\n",
      "   [0]\n",
      "   [0]]\n",
      "\n",
      "  [[0]\n",
      "   [0]\n",
      "   [0]\n",
      "   ...\n",
      "   [0]\n",
      "   [0]\n",
      "   [0]]\n",
      "\n",
      "  ...\n",
      "\n",
      "  [[0]\n",
      "   [0]\n",
      "   [0]\n",
      "   ...\n",
      "   [0]\n",
      "   [0]\n",
      "   [0]]\n",
      "\n",
      "  [[0]\n",
      "   [0]\n",
      "   [0]\n",
      "   ...\n",
      "   [0]\n",
      "   [0]\n",
      "   [0]]\n",
      "\n",
      "  [[0]\n",
      "   [0]\n",
      "   [0]\n",
      "   ...\n",
      "   [0]\n",
      "   [0]\n",
      "   [0]]]]\n"
     ]
    }
   ],
   "source": [
    "print(test_data)"
   ]
  },
  {
   "cell_type": "code",
   "execution_count": 10,
   "metadata": {},
   "outputs": [],
   "source": [
    "# more testing\n",
    "cv2.imshow('test', train_data[0])\n",
    "cv2.waitKey(0)\n",
    "cv2.destroyAllWindows()\n",
    "#it works!"
   ]
  },
  {
   "cell_type": "code",
   "execution_count": 7,
   "metadata": {},
   "outputs": [
    {
     "name": "stdout",
     "output_type": "stream",
     "text": [
      "162.0\n"
     ]
    }
   ],
   "source": []
  },
  {
   "cell_type": "code",
   "execution_count": 13,
   "metadata": {},
   "outputs": [
    {
     "name": "stdout",
     "output_type": "stream",
     "text": [
      "162.0\n",
      " Basic Linear Transforms \n",
      "-------------------------\n",
      "* Enter the alpha value [1.0-3.0]: 3.0\n",
      "* Enter the beta value [0-100]: 0\n"
     ]
    }
   ],
   "source": [
    "# Now let's try to work with a sample to test\n",
    "\n",
    "# Read image given by user\n",
    "#parser = argparse.ArgumentParser(description='Code for Changing the contrast and brightness of an image! tutorial.')\n",
    "#parser.add_argument('9alb-Ba2-0.png', help='C:\\Users\\rassa\\Desktop\\Desktop2.0\\CNN', default='9alb-Ba2-0.png')\n",
    "#args = parser.parse_args()\n",
    "#r\"C:\\Users\\rassa\\Desktop\\Desktop2.0\\CNN\\9alb-Ba2-0.png\") #\n",
    "image = cv2.imread(r\"C:\\Users\\rassa\\Desktop\\Desktop2.0\\CNN\\9alb-Ba2-0.png\") #(cv.samples.findFile(args.input))\n",
    "#removethe three dimensions and turn image to gray scale\n",
    "im_gray = cv2.cvtColor(image, cv2.COLOR_BGR2GRAY)\n",
    "#binarize the image using Otsu method to get the threshold, binarize to black and white(ie. 255)\n",
    "th, im_gray_th_otsu = cv2.threshold(im_gray, 128, 255, cv2.THRESH_OTSU)\n",
    "\n",
    "#print the threshold because I'm curious\n",
    "print(th)\n",
    "new_image = np.zeros(im_gray_th_otsu.shape, im_gray_th_otsu.dtype)\n",
    "alpha = 1.0 # Simple contrast control\n",
    "beta = 0    # Simple brightness control\n",
    "# Initialize values\n",
    "try:\n",
    "    alpha = float(input('* Enter the alpha value [1.0-3.0]: '))\n",
    "    beta = int(input('* Enter the beta value [0-100]: '))\n",
    "except ValueError:\n",
    "    print('Error, not a number')\n",
    "# Do the operation new_image(i,j) = alpha*image(i,j) + beta\n",
    "# Instead of these 'for' loops we could have used simply:\n",
    "# new_image = cv.convertScaleAbs(image, alpha=alpha, beta=beta)\n",
    "# but we wanted to show you how to access the pixels :)\n",
    "for y in range(im_gray_th_otsu.shape[0]):\n",
    "    for x in range(im_gray_th_otsu.shape[1]):\n",
    "        # the clip makes sure that the new values of the pixel are between 0 and 255\n",
    "        new_image[y,x] = np.clip(alpha*im_gray_th_otsu[y,x] + beta, 0, 255)\n",
    "\n",
    "#Show the images so we can compare them\n",
    "cv2.imshow('New Image', new_image)\n",
    "cv2.imshow('Original Image', image)\n",
    "cv2.imshow('Binarized image', im_gray_th_otsu)\n",
    "# Wait until user press some key\n",
    "cv2.waitKey(0) \n",
    "cv2.destroyAllWindows()"
   ]
  },
  {
   "cell_type": "code",
   "execution_count": 32,
   "metadata": {},
   "outputs": [
    {
     "name": "stdout",
     "output_type": "stream",
     "text": [
      "* Enter the alpha value [1.0-3.0]: 1.5\n",
      "* Enter the beta value [0-100]: 0\n",
      "253.0\n"
     ]
    }
   ],
   "source": [
    "# Now let's try enhacing the edges first\n",
    "\n",
    "# Read image given by user\n",
    "image = cv2.imread(r\"C:\\Users\\rassa\\Desktop\\Desktop2.0\\CNN\\9alb-Ba2-0.png\") #(cv.samples.findFile(args.input))\n",
    "kernel0 = np.array([[-1,-1,-1], [-1,9,-1], [-1,-1,-1]])\n",
    "\n",
    "\n",
    "edge_enhance_img0 = cv2.filter2D(image, -1, kernel0)\n",
    "\n",
    "\n",
    "contrast_img = np.zeros(edge_enhance_img0.shape, edge_enhance_img0.dtype)\n",
    "\n",
    "alpha = 1.0 # Simple contrast control\n",
    "beta = 0    # Simple brightness control\n",
    "\n",
    "# Initialize values\n",
    "try:\n",
    "    alpha = float(input('* Enter the alpha value [1.0-3.0]: '))\n",
    "    beta = int(input('* Enter the beta value [0-100]: '))\n",
    "except ValueError:\n",
    "    print('Error, not a number')\n",
    "    \n",
    "# Do the operation new_image(i,j) = alpha*image(i,j) + beta\n",
    "# Instead of these 'for' loops we could have used simply:\n",
    "# new_image = cv.convertScaleAbs(image, alpha=alpha, beta=beta)\n",
    "# but we wanted to show you how to access the pixels :)\n",
    "for y in range(edge_enhance_img0.shape[0]):\n",
    "    for x in range(edge_enhance_img0.shape[1]):\n",
    "        for c in range(edge_enhance_img0.shape[2]):\n",
    "            # the clip makes sure that the new values of the pixel are between 0 and 255\n",
    "            contrast_img[y,x,c] = np.clip(alpha*edge_enhance_img0[y,x,c] + beta, 0, 255)\n",
    "        \n",
    "#removethe three dimensions and turn image to gray scale\n",
    "im_gray = cv2.cvtColor(contrast_img, cv2.COLOR_BGR2GRAY)\n",
    "#binarize the image using Otsu method to get the threshold, binarize to black and white(ie. 255)\n",
    "th, im_gray_th_otsu = cv2.threshold(im_gray, 128, 255, cv2.THRESH_TRIANGLE)\n",
    "\n",
    "resized = cv2.resize(im_gray_th_otsu, (28,28), interpolation = cv2.INTER_AREA)\n",
    "#print the threshold because I'm curious\n",
    "print(th)\n",
    "\n",
    "#Show the images so we can compare them\n",
    "cv2.imshow('Original Image', image)\n",
    "cv2.imshow('Edge Enhaced0 image', edge_enhance_img0)\n",
    "cv2.imshow('Contrast image', contrast_img)\n",
    "cv2.imshow('New Image', im_gray_th_otsu)\n",
    "cv2.imshow('resized Image', resized)\n",
    "\n",
    "\n",
    "# Wait until user press some key\n",
    "cv2.waitKey(0) \n",
    "cv2.destroyAllWindows()\n",
    "\n"
   ]
  },
  {
   "cell_type": "code",
   "execution_count": 210,
   "metadata": {},
   "outputs": [],
   "source": [
    "# Now let's doing the contrast first\n",
    "\n",
    "# Read image given by user\n",
    "def preProcess(addr):\n",
    "    \n",
    "    image = cv2.imread(addr) #(cv.samples.findFile(args.input))\n",
    "    \n",
    "    contrast_img = np.zeros(image.shape, image.dtype)\n",
    "    \n",
    "    alpha = 1.0 # Simple contrast control\n",
    "    beta = 0    # Simple brightness control\n",
    "    \n",
    "    # Initialize values\n",
    "    try:\n",
    "        alpha = float(input('* Enter the alpha value [1.0-3.0]: '))\n",
    "        beta = int(input('* Enter the beta value [0-100]: '))\n",
    "    except ValueError:\n",
    "        print('Error, not a number')\n",
    "    \n",
    "    # Do the operation new_image(i,j) = alpha*image(i,j) + beta\n",
    "    # Instead of these 'for' loops we could have used simply:\n",
    "    # new_image = cv.convertScaleAbs(image, alpha=alpha, beta=beta)\n",
    "    # but we wanted to show you how to access the pixels :)\n",
    "    for y in range(image.shape[0]):\n",
    "        for x in range(image.shape[1]):\n",
    "            for c in range(image.shape[2]):\n",
    "                # the clip makes sure that the new values of the pixel are between 0 and 255\n",
    "                contrast_img[y,x,c] = np.clip(alpha*image[y,x,c] + beta, 0, 255)\n",
    "            \n",
    "    #removethe three dimensions and turn image to gray scale\n",
    "    im_gray = cv2.cvtColor(contrast_img, cv2.COLOR_BGR2GRAY)\n",
    "    #binarize the image using Otsu method to get the threshold, binarize to black and white(ie. 255)\n",
    "    th, im_gray_th_otsu = cv2.threshold(im_gray, 128, 255, cv2.THRESH_OTSU)\n",
    "    \n",
    "    if image.shape[0]>image.shape[1]*1.4:\n",
    "        resized = cv2.resize(im_gray_th_otsu, (32,int(32*image.shape[0]/image.shape[1])), interpolation = cv2.INTER_AREA)\n",
    "    elif image.shape[1]>image.shape[0]*1.4:\n",
    "        resized = cv2.resize(im_gray_th_otsu, (int(32*image.shape[1]/image.shape[0]),32), interpolation = cv2.INTER_AREA)\n",
    "    else:\n",
    "        resized = cv2.resize(im_gray_th_otsu, (32,32), interpolation = cv2.INTER_AREA)\n",
    "    \n",
    "    #print the threshold because I'm curious\n",
    "    print(th)\n",
    "    return [image, contrast_img, im_gray, im_gray_th_otsu, resized]\n",
    "\n",
    "def whiteToBlack(final_img, img ):\n",
    "    for y in range(img.shape[0]):\n",
    "        for x in range(img.shape[1]):\n",
    "            if img[y,x] < 125:     \n",
    "                final_img[y,x] = 255\n",
    "            else :\n",
    "                final_img[y,x] = 0\n",
    "\n",
    "\n"
   ]
  },
  {
   "cell_type": "code",
   "execution_count": 333,
   "metadata": {},
   "outputs": [
    {
     "name": "stdout",
     "output_type": "stream",
     "text": [
      "* Enter the alpha value [1.0-3.0]: 1.25\n",
      "* Enter the beta value [0-100]: 10\n",
      "212.0\n",
      "* Enter the alpha value [1.0-3.0]: 1.25\n",
      "* Enter the beta value [0-100]: 10\n",
      "205.0\n",
      "* Enter the alpha value [1.0-3.0]: 1.0\n",
      "* Enter the beta value [0-100]: 0\n",
      "0.0\n"
     ]
    }
   ],
   "source": [
    "Ba2LoImg = preProcess(r\"D:\\School\\MedTech\\Sophomore Pre-Eng\\ISS296\\CNN\\images\\9alb-Ba2-0.png\")\n",
    "kalbWordLoImg = preProcess(r\"D:\\School\\MedTech\\Sophomore Pre-Eng\\ISS296\\CNN\\images\\9alb.png\")\n",
    "sha3alWordLoImg  = preProcess(r\"C:\\Users\\rassa\\Documents\\Machine Learning A-Z  Udemy\\ifnenit-database-demo\\ifnenit-database-demo\\data\\set_a\\bmp\\ae07_050.bmp\")\n",
    "\n",
    "final_Ba2img = np.zeros(Ba2LoImg[4].shape, Ba2LoImg[4].dtype)\n",
    "final_9albWordImg = np.zeros(kalbWordLoImg[4].shape, kalbWordLoImg[4].dtype)\n",
    "final_sha3alWordImg = np.zeros(sha3alWordLoImg[4].shape, sha3alWordLoImg[4].dtype)\n",
    "\n",
    "whiteToBlack(final_Ba2img, Ba2LoImg[4])\n",
    "whiteToBlack(final_9albWordImg, kalbWordLoImg[4])\n",
    "\n",
    "\n",
    "\n",
    "#Show the images so we can compare them\n",
    "#cv2.imshow('New Image', im_gray_th_otsu)\n",
    "#cv2.imshow('Original Image', image)\n",
    "#cv2.imshow('Contrast image', contrast_img)\n",
    "#cv2.imshow('resized Image', resized)\n",
    "#cv2.imshow('final Image', final_img)\n",
    "#plt.imshow(im_gray_th_otsu)\n",
    "\n",
    "# Wait until user press some key\n",
    "#cv2.waitKey(0) \n",
    "#cv2.destroyAllWindows()\n",
    "\n",
    "#this one gives the best results!"
   ]
  },
  {
   "cell_type": "code",
   "execution_count": 384,
   "metadata": {},
   "outputs": [
    {
     "data": {
      "text/plain": [
       "<matplotlib.image.AxesImage at 0x1b03865e5b0>"
      ]
     },
     "execution_count": 384,
     "metadata": {},
     "output_type": "execute_result"
    },
    {
     "data": {
      "image/png": "[encoded data removed]",
      "text/plain": [
       "<Figure size 432x288 with 1 Axes>"
      ]
     },
     "metadata": {
      "needs_background": "light"
     },
     "output_type": "display_data"
    }
   ],
   "source": [
    "whiteToBlack(final_sha3alWordImg, sha3alWordLoImg[4])\n",
    "\n",
    "def paddImg(img):\n",
    "    paddedimg  = np.zeros((img.shape[0]+2, img.shape[1]+2), img.dtype)\n",
    "    for y in range(1, paddedimg.shape[0]-1):\n",
    "        for x in range(1, paddedimg.shape[1]-1):\n",
    "                paddedimg[y,x] = img[y-1,x-1]\n",
    "    return paddedimg\n",
    "\n",
    "final_sha3alWordImg = paddImg(final_sha3alWordImg)\n",
    "plt.imshow(final_sha3alWordImg, cmap='gray', vmin=0, vmax=255)"
   ]
  },
  {
   "cell_type": "code",
   "execution_count": 385,
   "metadata": {},
   "outputs": [
    {
     "name": "stdout",
     "output_type": "stream",
     "text": [
      "[[0 0 0 ... 0 0 0]\n",
      " [0 0 0 ... 0 0 0]\n",
      " [0 0 0 ... 0 0 0]\n",
      " ...\n",
      " [0 0 0 ... 0 0 0]\n",
      " [0 0 0 ... 0 0 0]\n",
      " [0 0 0 ... 0 0 0]]\n"
     ]
    },
    {
     "data": {
      "text/plain": [
       "(32, 32)"
      ]
     },
     "execution_count": 385,
     "metadata": {},
     "output_type": "execute_result"
    }
   ],
   "source": [
    "print(final_Ba2img)\n",
    "final_Ba2img.shape"
   ]
  },
  {
   "cell_type": "code",
   "execution_count": 386,
   "metadata": {},
   "outputs": [
    {
     "data": {
      "text/plain": [
       "(32, 32)"
      ]
     },
     "execution_count": 386,
     "metadata": {},
     "output_type": "execute_result"
    }
   ],
   "source": [
    "final_Ba2img.reshape([32,32,1])\n",
    "final_Ba2img.shape\n"
   ]
  },
  {
   "cell_type": "code",
   "execution_count": 387,
   "metadata": {},
   "outputs": [
    {
     "name": "stdout",
     "output_type": "stream",
     "text": [
      "[[0 0 0 ... 0 0 0]\n",
      " [0 0 0 ... 0 0 0]\n",
      " [0 0 0 ... 0 0 0]\n",
      " ...\n",
      " [0 0 0 ... 0 0 0]\n",
      " [0 0 0 ... 0 0 0]\n",
      " [0 0 0 ... 0 0 0]]\n"
     ]
    }
   ],
   "source": [
    "print(final_Ba2img)"
   ]
  },
  {
   "cell_type": "code",
   "execution_count": 388,
   "metadata": {
    "scrolled": true
   },
   "outputs": [
    {
     "data": {
      "text/plain": [
       "<matplotlib.image.AxesImage at 0x1b0386b3ac0>"
      ]
     },
     "execution_count": 388,
     "metadata": {},
     "output_type": "execute_result"
    },
    {
     "data": {
      "image/png": "[encoded data removed]",
      "text/plain": [
       "<Figure size 432x288 with 1 Axes>"
      ]
     },
     "metadata": {
      "needs_background": "light"
     },
     "output_type": "display_data"
    }
   ],
   "source": [
    "plt.imshow(Ba2LoImg[0])"
   ]
  },
  {
   "cell_type": "code",
   "execution_count": 389,
   "metadata": {
    "scrolled": false
   },
   "outputs": [
    {
     "data": {
      "text/plain": [
       "(808, 722, 3)"
      ]
     },
     "execution_count": 389,
     "metadata": {},
     "output_type": "execute_result"
    },
    {
     "data": {
      "image/png": "[encoded data removed]",
      "text/plain": [
       "<Figure size 432x288 with 1 Axes>"
      ]
     },
     "metadata": {
      "needs_background": "light"
     },
     "output_type": "display_data"
    }
   ],
   "source": [
    "plt.imshow(Ba2LoImg[1])\n",
    "Ba2LoImg[1].shape"
   ]
  },
  {
   "cell_type": "code",
   "execution_count": 390,
   "metadata": {},
   "outputs": [
    {
     "data": {
      "text/plain": [
       "<matplotlib.image.AxesImage at 0x1b038aee3a0>"
      ]
     },
     "execution_count": 390,
     "metadata": {},
     "output_type": "execute_result"
    },
    {
     "data": {
      "image/png": "[encoded data removed]",
      "text/plain": [
       "<Figure size 432x288 with 1 Axes>"
      ]
     },
     "metadata": {
      "needs_background": "light"
     },
     "output_type": "display_data"
    }
   ],
   "source": [
    "plt.imshow(Ba2LoImg[2], cmap='gray', vmin=0, vmax=255)"
   ]
  },
  {
   "cell_type": "code",
   "execution_count": 391,
   "metadata": {
    "scrolled": true
   },
   "outputs": [
    {
     "data": {
      "text/plain": [
       "<matplotlib.image.AxesImage at 0x1b038b501f0>"
      ]
     },
     "execution_count": 391,
     "metadata": {},
     "output_type": "execute_result"
    },
    {
     "data": {
      "image/png": "[encoded data removed]",
      "text/plain": [
       "<Figure size 432x288 with 1 Axes>"
      ]
     },
     "metadata": {
      "needs_background": "light"
     },
     "output_type": "display_data"
    }
   ],
   "source": [
    "plt.imshow(Ba2LoImg[3], cmap='gray', vmin=0, vmax=255)"
   ]
  },
  {
   "cell_type": "code",
   "execution_count": 392,
   "metadata": {},
   "outputs": [
    {
     "data": {
      "text/plain": [
       "<matplotlib.image.AxesImage at 0x1b039b7a220>"
      ]
     },
     "execution_count": 392,
     "metadata": {},
     "output_type": "execute_result"
    },
    {
     "data": {
      "image/png": "[encoded data removed]",
      "text/plain": [
       "<Figure size 432x288 with 1 Axes>"
      ]
     },
     "metadata": {
      "needs_background": "light"
     },
     "output_type": "display_data"
    }
   ],
   "source": [
    "plt.imshow(Ba2LoImg[4], cmap='gray', vmin=0, vmax=255)"
   ]
  },
  {
   "cell_type": "code",
   "execution_count": 393,
   "metadata": {
    "scrolled": true
   },
   "outputs": [
    {
     "data": {
      "text/plain": [
       "<matplotlib.image.AxesImage at 0x1b039bc89d0>"
      ]
     },
     "execution_count": 393,
     "metadata": {},
     "output_type": "execute_result"
    },
    {
     "data": {
      "image/png": "[encoded data removed]",
      "text/plain": [
       "<Figure size 432x288 with 1 Axes>"
      ]
     },
     "metadata": {
      "needs_background": "light"
     },
     "output_type": "display_data"
    }
   ],
   "source": [
    "plt.imshow(final_Ba2img, cmap='gray', vmin=0, vmax=255)"
   ]
  },
  {
   "cell_type": "code",
   "execution_count": 394,
   "metadata": {},
   "outputs": [],
   "source": [
    "#from tkinter import Tk     # from tkinter import Tk for Python 3.x\n",
    "#from tkinter.filedialog import askopenfilename\n",
    "\n",
    "#Tk().withdraw() # we don't want a full GUI, so keep the root window from appearing\n",
    "#filename = askopenfilename() # show an \"Open\" dialog box and return the path to the selected file\n",
    "#print(filename)"
   ]
  },
  {
   "cell_type": "code",
   "execution_count": 395,
   "metadata": {},
   "outputs": [],
   "source": [
    "def blackToWhite(img, finalImg):\n",
    "    for y in range(img.shape[0]):\n",
    "        for x in range(img.shape[1]):\n",
    "            if img[y,x] == 0:     \n",
    "                finalImg[y,x] = 255\n",
    "            else :\n",
    "                finalImg[y,x] = 0\n",
    "\n",
    "\n",
    "\n",
    "dictionary = [3,6,7,12,24,28,14,224,225,216,143,15,30,48,52,96,112,54,240,227,131,135,99,56,60,120,62,129,192,248,251,195,141]\n",
    "\n",
    "def skeletonize(img):\n",
    "    for c in range(1, img.shape[1]-1):\n",
    "        for r in range(1, img.shape[0]-1):\n",
    "            if img[r,c]==0:\n",
    "                b = calculateB(img, r, c)\n",
    "                #print(str([r,c]) + \": b = \" + str(b) )\n",
    "                if classifyB(b):\n",
    "                    img[r,c] = 150\n",
    "    for c in range(1, img.shape[1]-1):\n",
    "        for r in range(1, img.shape[0]-1):\n",
    "            if img[r,c]==150:\n",
    "                #print(True)\n",
    "                img[r,c] = 255\n",
    "    \n",
    "\n",
    "def calculateB(img, r, c):\n",
    "    numbers = [int(img[r-1,c]),int(img[r-1,c+1]),int(img[r,c+1]),int(img[r+1,c+1]),int(img[r+1,c]),int(img[r+1,c-1]),int(img[r,c-1]),int(img[r-1,c-1])]\n",
    "    #numbers = [int(img[c,r+1]),int(img[c+1,r+1]),int(img[c+1,r]),int(img[c+1,r-1]),int(img[c,r-1]),int(img[c-1,r-1]),int(img[c-1,r]),int(img[c-1,r+1])]\n",
    "    #print(numbers)\n",
    "    b = 0\n",
    "    for i in range(0,8):\n",
    "        if numbers[i]<140:\n",
    "            b+=2**i\n",
    "    #print(b)\n",
    "    return b\n",
    "\n",
    "def classifyB(b):\n",
    "    for i in dictionary:\n",
    "        if int(b) == int(i):\n",
    "            print(b)\n",
    "            return True\n",
    "    return False \n"
   ]
  },
  {
   "cell_type": "code",
   "execution_count": 396,
   "metadata": {},
   "outputs": [
    {
     "data": {
      "text/plain": [
       "<matplotlib.image.AxesImage at 0x1b039c246a0>"
      ]
     },
     "execution_count": 396,
     "metadata": {},
     "output_type": "execute_result"
    },
    {
     "data": {
      "image/png": "[encoded data removed]",
      "text/plain": [
       "<Figure size 432x288 with 1 Axes>"
      ]
     },
     "metadata": {
      "needs_background": "light"
     },
     "output_type": "display_data"
    }
   ],
   "source": [
    "final_Ba2imgBtW = np.zeros(Ba2LoImg[4].shape, Ba2LoImg[4].dtype)\n",
    "\n",
    "\n",
    "blackToWhite(final_Ba2img, final_Ba2imgBtW)\n",
    "plt.imshow(final_Ba2imgBtW, cmap='gray', vmin=0, vmax=255)"
   ]
  },
  {
   "cell_type": "code",
   "execution_count": 397,
   "metadata": {},
   "outputs": [
    {
     "name": "stdout",
     "output_type": "stream",
     "text": [
      "30\n",
      "30\n",
      "30\n",
      "14\n",
      "30\n",
      "30\n",
      "15\n",
      "28\n",
      "30\n",
      "216\n",
      "7\n",
      "135\n",
      "135\n",
      "14\n",
      "28\n",
      "30\n",
      "30\n",
      "3\n",
      "60\n",
      "28\n",
      "60\n",
      "48\n",
      "96\n",
      "60\n",
      "60\n",
      "60\n",
      "62\n",
      "28\n",
      "54\n",
      "28\n",
      "14\n",
      "30\n",
      "28\n",
      "30\n",
      "30\n",
      "30\n",
      "30\n",
      "54\n",
      "24\n",
      "28\n",
      "30\n",
      "30\n",
      "248\n",
      "141\n",
      "7\n",
      "135\n",
      "135\n",
      "135\n",
      "135\n"
     ]
    },
    {
     "data": {
      "text/plain": [
       "<matplotlib.image.AxesImage at 0x1b039c84880>"
      ]
     },
     "execution_count": 397,
     "metadata": {},
     "output_type": "execute_result"
    },
    {
     "data": {
      "image/png": "[encoded data removed]",
      "text/plain": [
       "<Figure size 432x288 with 1 Axes>"
      ]
     },
     "metadata": {
      "needs_background": "light"
     },
     "output_type": "display_data"
    }
   ],
   "source": [
    "skeletonize(final_Ba2imgBtW)\n",
    "plt.imshow(final_Ba2imgBtW, cmap='gray', vmin=0, vmax=255)"
   ]
  },
  {
   "cell_type": "code",
   "execution_count": 398,
   "metadata": {},
   "outputs": [
    {
     "name": "stdout",
     "output_type": "stream",
     "text": [
      "6\n"
     ]
    },
    {
     "data": {
      "text/plain": [
       "<matplotlib.image.AxesImage at 0x1b039cdd2b0>"
      ]
     },
     "execution_count": 398,
     "metadata": {},
     "output_type": "execute_result"
    },
    {
     "data": {
      "image/png": "[encoded data removed]",
      "text/plain": [
       "<Figure size 432x288 with 1 Axes>"
      ]
     },
     "metadata": {
      "needs_background": "light"
     },
     "output_type": "display_data"
    }
   ],
   "source": [
    "skeletonize(final_Ba2imgBtW)\n",
    "plt.imshow(final_Ba2imgBtW, cmap='gray', vmin=0, vmax=255)"
   ]
  },
  {
   "cell_type": "code",
   "execution_count": 399,
   "metadata": {},
   "outputs": [
    {
     "data": {
      "text/plain": [
       "<matplotlib.image.AxesImage at 0x1b039d28d30>"
      ]
     },
     "execution_count": 399,
     "metadata": {},
     "output_type": "execute_result"
    },
    {
     "data": {
      "image/png": "[encoded data removed]",
      "text/plain": [
       "<Figure size 432x288 with 1 Axes>"
      ]
     },
     "metadata": {
      "needs_background": "light"
     },
     "output_type": "display_data"
    }
   ],
   "source": [
    "skeletonize(final_Ba2imgBtW)\n",
    "plt.imshow(final_Ba2imgBtW, cmap='gray', vmin=0, vmax=255)"
   ]
  },
  {
   "cell_type": "code",
   "execution_count": 400,
   "metadata": {},
   "outputs": [
    {
     "data": {
      "text/plain": [
       "<matplotlib.image.AxesImage at 0x1b0349c06a0>"
      ]
     },
     "execution_count": 400,
     "metadata": {},
     "output_type": "execute_result"
    },
    {
     "data": {
      "image/png": "[encoded data removed]",
      "text/plain": [
       "<Figure size 432x288 with 1 Axes>"
      ]
     },
     "metadata": {
      "needs_background": "light"
     },
     "output_type": "display_data"
    }
   ],
   "source": [
    "skeletonize(final_Ba2imgBtW)\n",
    "plt.imshow(final_Ba2imgBtW, cmap='gray', vmin=0, vmax=255)"
   ]
  },
  {
   "cell_type": "code",
   "execution_count": 401,
   "metadata": {},
   "outputs": [
    {
     "data": {
      "text/plain": [
       "<matplotlib.image.AxesImage at 0x1b0388fd0a0>"
      ]
     },
     "execution_count": 401,
     "metadata": {},
     "output_type": "execute_result"
    },
    {
     "data": {
      "image/png": "[encoded data removed]",
      "text/plain": [
       "<Figure size 432x288 with 1 Axes>"
      ]
     },
     "metadata": {
      "needs_background": "light"
     },
     "output_type": "display_data"
    }
   ],
   "source": [
    "skeletonize(final_Ba2imgBtW)\n",
    "plt.imshow(final_Ba2imgBtW, cmap='gray', vmin=0, vmax=255)"
   ]
  },
  {
   "cell_type": "code",
   "execution_count": 402,
   "metadata": {},
   "outputs": [
    {
     "data": {
      "text/plain": [
       "<matplotlib.image.AxesImage at 0x1b02f25d4f0>"
      ]
     },
     "execution_count": 402,
     "metadata": {},
     "output_type": "execute_result"
    },
    {
     "data": {
      "image/png": "[encoded data removed]",
      "text/plain": [
       "<Figure size 432x288 with 1 Axes>"
      ]
     },
     "metadata": {
      "needs_background": "light"
     },
     "output_type": "display_data"
    }
   ],
   "source": [
    "skeletonize(final_Ba2imgBtW)\n",
    "plt.imshow(final_Ba2imgBtW, cmap='gray', vmin=0, vmax=255)"
   ]
  },
  {
   "cell_type": "code",
   "execution_count": 403,
   "metadata": {
    "scrolled": true
   },
   "outputs": [
    {
     "data": {
      "text/plain": [
       "<matplotlib.image.AxesImage at 0x1b02f5eedc0>"
      ]
     },
     "execution_count": 403,
     "metadata": {},
     "output_type": "execute_result"
    },
    {
     "data": {
      "image/png": "[encoded data removed]",
      "text/plain": [
       "<Figure size 432x288 with 1 Axes>"
      ]
     },
     "metadata": {
      "needs_background": "light"
     },
     "output_type": "display_data"
    }
   ],
   "source": [
    "skeletonize(final_Ba2imgBtW)\n",
    "plt.imshow(final_Ba2imgBtW, cmap='gray', vmin=0, vmax=255)"
   ]
  },
  {
   "cell_type": "code",
   "execution_count": 404,
   "metadata": {},
   "outputs": [
    {
     "name": "stdout",
     "output_type": "stream",
     "text": [
      "[[0 0 0 ... 0 0 0]\n",
      " [0 0 0 ... 0 0 0]\n",
      " [0 0 0 ... 0 0 0]\n",
      " ...\n",
      " [0 0 0 ... 0 0 0]\n",
      " [0 0 0 ... 0 0 0]\n",
      " [0 0 0 ... 0 0 0]]\n"
     ]
    }
   ],
   "source": [
    "final_9albWordImg.shape\n",
    "print(final_9albWordImg)"
   ]
  },
  {
   "cell_type": "code",
   "execution_count": 405,
   "metadata": {},
   "outputs": [
    {
     "data": {
      "text/plain": [
       "(32, 50)"
      ]
     },
     "execution_count": 405,
     "metadata": {},
     "output_type": "execute_result"
    }
   ],
   "source": [
    "final_9albWordImg.shape"
   ]
  },
  {
   "cell_type": "code",
   "execution_count": 406,
   "metadata": {},
   "outputs": [
    {
     "data": {
      "text/plain": [
       "(32, 50)"
      ]
     },
     "execution_count": 406,
     "metadata": {},
     "output_type": "execute_result"
    }
   ],
   "source": [
    "kalbWordLoImg[4].shape"
   ]
  },
  {
   "cell_type": "code",
   "execution_count": 407,
   "metadata": {
    "scrolled": true
   },
   "outputs": [
    {
     "data": {
      "text/plain": [
       "<matplotlib.image.AxesImage at 0x1b032bc7280>"
      ]
     },
     "execution_count": 407,
     "metadata": {},
     "output_type": "execute_result"
    },
    {
     "data": {
      "image/png": "[encoded data removed]",
      "text/plain": [
       "<Figure size 432x288 with 1 Axes>"
      ]
     },
     "metadata": {
      "needs_background": "light"
     },
     "output_type": "display_data"
    }
   ],
   "source": [
    "plt.imshow(kalbWordLoImg[0])"
   ]
  },
  {
   "cell_type": "code",
   "execution_count": 408,
   "metadata": {
    "scrolled": false
   },
   "outputs": [
    {
     "data": {
      "text/plain": [
       "<matplotlib.image.AxesImage at 0x1b032c867f0>"
      ]
     },
     "execution_count": 408,
     "metadata": {},
     "output_type": "execute_result"
    },
    {
     "data": {
      "image/png": "[encoded data removed]",
      "text/plain": [
       "<Figure size 432x288 with 1 Axes>"
      ]
     },
     "metadata": {
      "needs_background": "light"
     },
     "output_type": "display_data"
    }
   ],
   "source": [
    "plt.imshow(kalbWordLoImg[1])"
   ]
  },
  {
   "cell_type": "code",
   "execution_count": 409,
   "metadata": {},
   "outputs": [
    {
     "data": {
      "text/plain": [
       "<matplotlib.image.AxesImage at 0x1b032ca06d0>"
      ]
     },
     "execution_count": 409,
     "metadata": {},
     "output_type": "execute_result"
    },
    {
     "data": {
      "image/png": "[encoded data removed]",
      "text/plain": [
       "<Figure size 432x288 with 1 Axes>"
      ]
     },
     "metadata": {
      "needs_background": "light"
     },
     "output_type": "display_data"
    }
   ],
   "source": [
    "plt.imshow(kalbWordLoImg[2], cmap='gray', vmin=0, vmax=255)"
   ]
  },
  {
   "cell_type": "code",
   "execution_count": 410,
   "metadata": {
    "scrolled": true
   },
   "outputs": [
    {
     "data": {
      "text/plain": [
       "<matplotlib.image.AxesImage at 0x1b034e43220>"
      ]
     },
     "execution_count": 410,
     "metadata": {},
     "output_type": "execute_result"
    },
    {
     "data": {
      "image/png": "[encoded data removed]",
      "text/plain": [
       "<Figure size 432x288 with 1 Axes>"
      ]
     },
     "metadata": {
      "needs_background": "light"
     },
     "output_type": "display_data"
    }
   ],
   "source": [
    "plt.imshow(kalbWordLoImg[3], cmap='gray', vmin=0, vmax=255)"
   ]
  },
  {
   "cell_type": "code",
   "execution_count": 411,
   "metadata": {},
   "outputs": [
    {
     "data": {
      "text/plain": [
       "(778, 1221)"
      ]
     },
     "execution_count": 411,
     "metadata": {},
     "output_type": "execute_result"
    }
   ],
   "source": [
    "kalbWordLoImg[3].shape"
   ]
  },
  {
   "cell_type": "code",
   "execution_count": 412,
   "metadata": {},
   "outputs": [
    {
     "data": {
      "text/plain": [
       "<matplotlib.image.AxesImage at 0x1b034d19cd0>"
      ]
     },
     "execution_count": 412,
     "metadata": {},
     "output_type": "execute_result"
    },
    {
     "data": {
      "image/png": "[encoded data removed]",
      "text/plain": [
       "<Figure size 432x288 with 1 Axes>"
      ]
     },
     "metadata": {
      "needs_background": "light"
     },
     "output_type": "display_data"
    }
   ],
   "source": [
    "newdim9alb = cv2.resize(kalbWordLoImg[3], (int(32*1221/778),32), interpolation = cv2.INTER_AREA)\n",
    "plt.imshow(newdim9alb, cmap='gray', vmin=0, vmax=255)"
   ]
  },
  {
   "cell_type": "code",
   "execution_count": 413,
   "metadata": {},
   "outputs": [
    {
     "data": {
      "text/plain": [
       "(32, 50)"
      ]
     },
     "execution_count": 413,
     "metadata": {},
     "output_type": "execute_result"
    }
   ],
   "source": [
    "newdim9alb.shape"
   ]
  },
  {
   "cell_type": "code",
   "execution_count": 414,
   "metadata": {},
   "outputs": [
    {
     "data": {
      "text/plain": [
       "<matplotlib.image.AxesImage at 0x1b030e6b040>"
      ]
     },
     "execution_count": 414,
     "metadata": {},
     "output_type": "execute_result"
    },
    {
     "data": {
      "image/png": "[encoded data removed]",
      "text/plain": [
       "<Figure size 432x288 with 1 Axes>"
      ]
     },
     "metadata": {
      "needs_background": "light"
     },
     "output_type": "display_data"
    }
   ],
   "source": [
    "plt.imshow(kalbWordLoImg[4], cmap='gray', vmin=0, vmax=255)"
   ]
  },
  {
   "cell_type": "code",
   "execution_count": 415,
   "metadata": {
    "scrolled": true
   },
   "outputs": [
    {
     "data": {
      "text/plain": [
       "<matplotlib.image.AxesImage at 0x1b030e99250>"
      ]
     },
     "execution_count": 415,
     "metadata": {},
     "output_type": "execute_result"
    },
    {
     "data": {
      "image/png": "[encoded data removed]",
      "text/plain": [
       "<Figure size 432x288 with 1 Axes>"
      ]
     },
     "metadata": {
      "needs_background": "light"
     },
     "output_type": "display_data"
    }
   ],
   "source": [
    "plt.imshow(final_9albWordImg, cmap='gray', vmin=0, vmax=255)"
   ]
  },
  {
   "cell_type": "code",
   "execution_count": 416,
   "metadata": {},
   "outputs": [
    {
     "data": {
      "text/plain": [
       "<matplotlib.image.AxesImage at 0x1b039d87e50>"
      ]
     },
     "execution_count": 416,
     "metadata": {},
     "output_type": "execute_result"
    },
    {
     "data": {
      "image/png": "[encoded data removed]",
      "text/plain": [
       "<Figure size 432x288 with 1 Axes>"
      ]
     },
     "metadata": {
      "needs_background": "light"
     },
     "output_type": "display_data"
    }
   ],
   "source": [
    "final_9albImgBtw = np.zeros(kalbWordLoImg[4].shape, kalbWordLoImg[4].dtype)\n",
    "blackToWhite(final_9albWordImg, final_9albImgBtw)\n",
    "plt.imshow(final_9albImgBtw, cmap='gray', vmin=0, vmax=255)"
   ]
  },
  {
   "cell_type": "code",
   "execution_count": 417,
   "metadata": {},
   "outputs": [
    {
     "data": {
      "text/plain": [
       "(32, 50)"
      ]
     },
     "execution_count": 417,
     "metadata": {},
     "output_type": "execute_result"
    }
   ],
   "source": [
    "final_9albImgBtw.shape"
   ]
  },
  {
   "cell_type": "code",
   "execution_count": 418,
   "metadata": {},
   "outputs": [
    {
     "name": "stdout",
     "output_type": "stream",
     "text": [
      "30\n",
      "14\n",
      "30\n",
      "216\n",
      "96\n",
      "135\n",
      "135\n",
      "135\n",
      "30\n",
      "30\n",
      "6\n",
      "135\n",
      "28\n",
      "135\n",
      "48\n",
      "96\n",
      "131\n",
      "60\n",
      "60\n",
      "62\n",
      "30\n",
      "14\n",
      "30\n",
      "30\n",
      "54\n",
      "24\n",
      "28\n",
      "30\n",
      "30\n",
      "248\n",
      "141\n",
      "7\n",
      "131\n",
      "28\n",
      "30\n",
      "30\n",
      "30\n",
      "14\n",
      "240\n",
      "240\n",
      "240\n",
      "240\n",
      "248\n",
      "112\n",
      "240\n",
      "240\n",
      "240\n",
      "248\n",
      "135\n",
      "135\n",
      "135\n",
      "30\n",
      "14\n",
      "30\n",
      "6\n",
      "30\n",
      "30\n",
      "28\n",
      "30\n",
      "30\n",
      "62\n",
      "135\n",
      "60\n",
      "143\n",
      "60\n",
      "120\n",
      "15\n",
      "60\n",
      "112\n",
      "248\n",
      "52\n",
      "112\n",
      "240\n",
      "240\n",
      "248\n",
      "96\n"
     ]
    },
    {
     "data": {
      "text/plain": [
       "<matplotlib.image.AxesImage at 0x1b02f7f52e0>"
      ]
     },
     "execution_count": 418,
     "metadata": {},
     "output_type": "execute_result"
    },
    {
     "data": {
      "image/png": "[encoded data removed]",
      "text/plain": [
       "<Figure size 432x288 with 1 Axes>"
      ]
     },
     "metadata": {
      "needs_background": "light"
     },
     "output_type": "display_data"
    }
   ],
   "source": [
    "skeletonize(final_9albImgBtw)\n",
    "plt.imshow(final_9albImgBtw, cmap='gray', vmin=0, vmax=255)"
   ]
  },
  {
   "cell_type": "code",
   "execution_count": 419,
   "metadata": {},
   "outputs": [
    {
     "name": "stdout",
     "output_type": "stream",
     "text": [
      "240\n",
      "240\n",
      "240\n",
      "240\n",
      "248\n",
      "240\n",
      "248\n",
      "143\n",
      "112\n",
      "240\n",
      "240\n",
      "248\n",
      "112\n",
      "240\n",
      "240\n",
      "240\n",
      "192\n"
     ]
    },
    {
     "data": {
      "text/plain": [
       "<matplotlib.image.AxesImage at 0x1b02f7f5640>"
      ]
     },
     "execution_count": 419,
     "metadata": {},
     "output_type": "execute_result"
    },
    {
     "data": {
      "image/png": "[encoded data removed]",
      "text/plain": [
       "<Figure size 432x288 with 1 Axes>"
      ]
     },
     "metadata": {
      "needs_background": "light"
     },
     "output_type": "display_data"
    }
   ],
   "source": [
    "skeletonize(final_9albImgBtw)\n",
    "plt.imshow(final_9albImgBtw, cmap='gray', vmin=0, vmax=255)"
   ]
  },
  {
   "cell_type": "code",
   "execution_count": 420,
   "metadata": {},
   "outputs": [
    {
     "name": "stdout",
     "output_type": "stream",
     "text": [
      "240\n"
     ]
    },
    {
     "data": {
      "text/plain": [
       "<matplotlib.image.AxesImage at 0x1b02aa87550>"
      ]
     },
     "execution_count": 420,
     "metadata": {},
     "output_type": "execute_result"
    },
    {
     "data": {
      "image/png": "[encoded data removed]",
      "text/plain": [
       "<Figure size 432x288 with 1 Axes>"
      ]
     },
     "metadata": {
      "needs_background": "light"
     },
     "output_type": "display_data"
    }
   ],
   "source": [
    "skeletonize(final_9albImgBtw)\n",
    "plt.imshow(final_9albImgBtw, cmap='gray', vmin=0, vmax=255)"
   ]
  },
  {
   "cell_type": "code",
   "execution_count": 421,
   "metadata": {},
   "outputs": [
    {
     "data": {
      "text/plain": [
       "<matplotlib.image.AxesImage at 0x1b02aaf6430>"
      ]
     },
     "execution_count": 421,
     "metadata": {},
     "output_type": "execute_result"
    },
    {
     "data": {
      "image/png": "[encoded data removed]",
      "text/plain": [
       "<Figure size 432x288 with 1 Axes>"
      ]
     },
     "metadata": {
      "needs_background": "light"
     },
     "output_type": "display_data"
    }
   ],
   "source": [
    "skeletonize(final_9albImgBtw)\n",
    "plt.imshow(final_9albImgBtw, cmap='gray', vmin=0, vmax=255)"
   ]
  },
  {
   "cell_type": "code",
   "execution_count": 422,
   "metadata": {},
   "outputs": [
    {
     "data": {
      "text/plain": [
       "<matplotlib.image.AxesImage at 0x1b034dcc610>"
      ]
     },
     "execution_count": 422,
     "metadata": {},
     "output_type": "execute_result"
    },
    {
     "data": {
      "image/png": "[encoded data removed]",
      "text/plain": [
       "<Figure size 432x288 with 1 Axes>"
      ]
     },
     "metadata": {
      "needs_background": "light"
     },
     "output_type": "display_data"
    }
   ],
   "source": [
    "skeletonize(final_9albImgBtw)\n",
    "plt.imshow(final_9albImgBtw, cmap='gray', vmin=0, vmax=255)"
   ]
  },
  {
   "cell_type": "code",
   "execution_count": 423,
   "metadata": {},
   "outputs": [
    {
     "data": {
      "text/plain": [
       "<matplotlib.image.AxesImage at 0x1b034d8f490>"
      ]
     },
     "execution_count": 423,
     "metadata": {},
     "output_type": "execute_result"
    },
    {
     "data": {
      "image/png": "[encoded data removed]",
      "text/plain": [
       "<Figure size 432x288 with 1 Axes>"
      ]
     },
     "metadata": {
      "needs_background": "light"
     },
     "output_type": "display_data"
    }
   ],
   "source": [
    "skeletonize(final_9albImgBtw)\n",
    "plt.imshow(final_9albImgBtw, cmap='gray', vmin=0, vmax=255)"
   ]
  },
  {
   "cell_type": "code",
   "execution_count": 424,
   "metadata": {
    "scrolled": true
   },
   "outputs": [
    {
     "data": {
      "text/plain": [
       "<matplotlib.image.AxesImage at 0x1b0312015e0>"
      ]
     },
     "execution_count": 424,
     "metadata": {},
     "output_type": "execute_result"
    },
    {
     "data": {
      "image/png": "[encoded data removed]",
      "text/plain": [
       "<Figure size 432x288 with 1 Axes>"
      ]
     },
     "metadata": {
      "needs_background": "light"
     },
     "output_type": "display_data"
    }
   ],
   "source": [
    "skeletonize(final_9albImgBtw)\n",
    "plt.imshow(final_9albImgBtw, cmap='gray', vmin=0, vmax=255)"
   ]
  },
  {
   "cell_type": "code",
   "execution_count": 425,
   "metadata": {
    "scrolled": true
   },
   "outputs": [
    {
     "data": {
      "text/plain": [
       "<matplotlib.image.AxesImage at 0x1b031255430>"
      ]
     },
     "execution_count": 425,
     "metadata": {},
     "output_type": "execute_result"
    },
    {
     "data": {
      "image/png": "[encoded data removed]",
      "text/plain": [
       "<Figure size 432x288 with 1 Axes>"
      ]
     },
     "metadata": {
      "needs_background": "light"
     },
     "output_type": "display_data"
    }
   ],
   "source": [
    "skeletonize(final_9albImgBtw)\n",
    "plt.imshow(final_9albImgBtw, cmap='gray', vmin=0, vmax=255)"
   ]
  },
  {
   "cell_type": "code",
   "execution_count": 426,
   "metadata": {
    "scrolled": true
   },
   "outputs": [
    {
     "data": {
      "text/plain": [
       "<matplotlib.image.AxesImage at 0x1b0312a8760>"
      ]
     },
     "execution_count": 426,
     "metadata": {},
     "output_type": "execute_result"
    },
    {
     "data": {
      "image/png": "[encoded data removed]",
      "text/plain": [
       "<Figure size 432x288 with 1 Axes>"
      ]
     },
     "metadata": {
      "needs_background": "light"
     },
     "output_type": "display_data"
    }
   ],
   "source": [
    "skeletonize(final_9albImgBtw)\n",
    "plt.imshow(final_9albImgBtw, cmap='gray', vmin=0, vmax=255)"
   ]
  },
  {
   "cell_type": "code",
   "execution_count": 427,
   "metadata": {
    "scrolled": true
   },
   "outputs": [
    {
     "data": {
      "text/plain": [
       "<matplotlib.image.AxesImage at 0x1b0312ff5b0>"
      ]
     },
     "execution_count": 427,
     "metadata": {},
     "output_type": "execute_result"
    },
    {
     "data": {
      "image/png": "[encoded data removed]",
      "text/plain": [
       "<Figure size 432x288 with 1 Axes>"
      ]
     },
     "metadata": {
      "needs_background": "light"
     },
     "output_type": "display_data"
    }
   ],
   "source": [
    "skeletonize(final_9albImgBtw)\n",
    "plt.imshow(final_9albImgBtw, cmap='gray', vmin=0, vmax=255)"
   ]
  },
  {
   "cell_type": "code",
   "execution_count": 428,
   "metadata": {},
   "outputs": [
    {
     "data": {
      "text/plain": [
       "<matplotlib.image.AxesImage at 0x1b031351670>"
      ]
     },
     "execution_count": 428,
     "metadata": {},
     "output_type": "execute_result"
    },
    {
     "data": {
      "image/png": "[encoded data removed]",
      "text/plain": [
       "<Figure size 432x288 with 1 Axes>"
      ]
     },
     "metadata": {
      "needs_background": "light"
     },
     "output_type": "display_data"
    }
   ],
   "source": [
    "skeletonize(final_9albImgBtw)\n",
    "plt.imshow(final_9albImgBtw, cmap='gray', vmin=0, vmax=255)"
   ]
  },
  {
   "cell_type": "code",
   "execution_count": 429,
   "metadata": {},
   "outputs": [
    {
     "data": {
      "text/plain": [
       "<matplotlib.image.AxesImage at 0x1b038924790>"
      ]
     },
     "execution_count": 429,
     "metadata": {},
     "output_type": "execute_result"
    },
    {
     "data": {
      "image/png": "[encoded data removed]",
      "text/plain": [
       "<Figure size 432x288 with 1 Axes>"
      ]
     },
     "metadata": {
      "needs_background": "light"
     },
     "output_type": "display_data"
    }
   ],
   "source": [
    "skeletonize(final_9albImgBtw)\n",
    "plt.imshow(final_9albImgBtw, cmap='gray', vmin=0, vmax=255)"
   ]
  },
  {
   "cell_type": "code",
   "execution_count": 430,
   "metadata": {},
   "outputs": [
    {
     "data": {
      "text/plain": [
       "<Figure size 432x288 with 0 Axes>"
      ]
     },
     "metadata": {},
     "output_type": "display_data"
    },
    {
     "data": {
      "image/png": "[encoded data removed]",
      "text/plain": [
       "<Figure size 432x288 with 6 Axes>"
      ]
     },
     "metadata": {
      "needs_background": "light"
     },
     "output_type": "display_data"
    }
   ],
   "source": [
    "plt.figure()\n",
    "\n",
    "fig, ax = plt.subplots(3,2)\n",
    "\n",
    "sha3alWordImg0 = ax[0][0].imshow(sha3alWordLoImg[0])\n",
    "\n",
    "sha3alWordImg1 = ax[0][1].imshow(sha3alWordLoImg[1])\n",
    "\n",
    "sha3alWordImg2 = ax[1][0].imshow(sha3alWordLoImg[2], cmap='gray', vmin=0, vmax=255)\n",
    "\n",
    "sha3alWordImg3 = ax[1][1].imshow(sha3alWordLoImg[3], cmap='gray', vmin=0, vmax=255)\n",
    "\n",
    "sha3alWordImg4 = ax[2][0].imshow(sha3alWordLoImg[4], cmap='gray', vmin=0, vmax=255)\n",
    "\n",
    "finalSha3alWordDisp = ax[2][1].imshow(final_sha3alWordImg, cmap='gray', vmin=0, vmax=255)\n"
   ]
  },
  {
   "cell_type": "code",
   "execution_count": 432,
   "metadata": {},
   "outputs": [
    {
     "data": {
      "text/plain": [
       "<matplotlib.image.AxesImage at 0x1b03b308c70>"
      ]
     },
     "execution_count": 432,
     "metadata": {},
     "output_type": "execute_result"
    },
    {
     "data": {
      "image/png": "[encoded data removed]",
      "text/plain": [
       "<Figure size 432x288 with 1 Axes>"
      ]
     },
     "metadata": {
      "needs_background": "light"
     },
     "output_type": "display_data"
    }
   ],
   "source": [
    "final_sha3alWordImgBtw = np.zeros(final_sha3alWordImg.shape, final_sha3alWordImg.dtype)\n",
    "blackToWhite(final_sha3alWordImg, final_sha3alWordImgBtw)\n",
    "plt.imshow(final_sha3alWordImgBtw, cmap='gray', vmin=0, vmax=255)"
   ]
  },
  {
   "cell_type": "code",
   "execution_count": 433,
   "metadata": {},
   "outputs": [
    {
     "name": "stdout",
     "output_type": "stream",
     "text": [
      "30\n",
      "30\n",
      "14\n",
      "15\n",
      "52\n",
      "216\n",
      "7\n",
      "141\n",
      "60\n",
      "52\n",
      "135\n",
      "141\n",
      "7\n",
      "143\n",
      "7\n",
      "120\n",
      "135\n",
      "135\n",
      "135\n",
      "52\n",
      "192\n",
      "52\n",
      "54\n",
      "62\n",
      "30\n",
      "30\n",
      "62\n",
      "15\n",
      "30\n",
      "30\n",
      "30\n",
      "28\n",
      "240\n",
      "240\n",
      "224\n",
      "48\n",
      "96\n",
      "30\n",
      "30\n",
      "30\n",
      "30\n",
      "30\n",
      "14\n",
      "30\n",
      "14\n",
      "30\n",
      "30\n",
      "30\n",
      "24\n",
      "28\n",
      "30\n",
      "30\n",
      "135\n",
      "135\n",
      "135\n",
      "131\n",
      "30\n",
      "6\n",
      "60\n",
      "28\n",
      "30\n",
      "6\n",
      "52\n",
      "28\n",
      "30\n",
      "6\n",
      "28\n",
      "30\n",
      "6\n",
      "52\n",
      "30\n",
      "30\n",
      "6\n",
      "28\n",
      "60\n",
      "54\n",
      "60\n",
      "60\n",
      "56\n",
      "15\n",
      "112\n",
      "240\n",
      "224\n",
      "135\n",
      "28\n",
      "6\n",
      "60\n",
      "30\n",
      "6\n",
      "24\n",
      "52\n",
      "28\n",
      "3\n",
      "48\n",
      "60\n",
      "54\n",
      "30\n",
      "6\n",
      "28\n",
      "28\n",
      "3\n",
      "56\n",
      "135\n",
      "56\n",
      "54\n",
      "30\n",
      "24\n",
      "60\n",
      "60\n",
      "28\n",
      "14\n",
      "62\n",
      "135\n",
      "131\n",
      "248\n",
      "112\n",
      "240\n",
      "240\n",
      "129\n",
      "129\n",
      "15\n",
      "141\n",
      "240\n",
      "240\n",
      "248\n",
      "15\n",
      "15\n",
      "143\n"
     ]
    },
    {
     "data": {
      "text/plain": [
       "<Figure size 432x288 with 0 Axes>"
      ]
     },
     "metadata": {},
     "output_type": "display_data"
    },
    {
     "data": {
      "image/png": "[encoded data removed]",
      "text/plain": [
       "<Figure size 432x288 with 6 Axes>"
      ]
     },
     "metadata": {
      "needs_background": "light"
     },
     "output_type": "display_data"
    }
   ],
   "source": [
    "plt.figure()\n",
    "\n",
    "fig, ax = plt.subplots(3,2)\n",
    "\n",
    "skeletonize(final_sha3alWordImgBtw)\n",
    "finalSha3alWordImgBtwSkel0 = ax[0][0].imshow(final_sha3alWordImgBtw, cmap='gray', vmin=0, vmax=255)\n",
    "\n",
    "skeletonize(final_sha3alWordImgBtw)\n",
    "finalSha3alWordImgBtwSkel1 = ax[0][1].imshow(final_sha3alWordImgBtw, cmap='gray', vmin=0, vmax=255)\n",
    "\n",
    "skeletonize(final_sha3alWordImgBtw)\n",
    "finalSha3alWordImgBtwSkel2 = ax[1][0].imshow(final_sha3alWordImgBtw, cmap='gray', vmin=0, vmax=255)\n",
    "\n",
    "skeletonize(final_sha3alWordImgBtw)\n",
    "finalSha3alWordImgBtwSkel3 = ax[1][1].imshow(final_sha3alWordImgBtw, cmap='gray', vmin=0, vmax=255)\n",
    "\n",
    "skeletonize(final_sha3alWordImgBtw)\n",
    "finalSha3alWordImgBtwSkel4 = ax[2][0].imshow(final_sha3alWordImgBtw, cmap='gray', vmin=0, vmax=255)\n",
    "\n",
    "skeletonize(final_sha3alWordImgBtw)\n",
    "finalSha3alWordImgBtwSkel4 = ax[2][1].imshow(final_sha3alWordImgBtw, cmap='gray', vmin=0, vmax=255)"
   ]
  },
  {
   "cell_type": "code",
   "execution_count": 434,
   "metadata": {},
   "outputs": [
    {
     "data": {
      "text/plain": [
       "<matplotlib.image.AxesImage at 0x1b03b50fb80>"
      ]
     },
     "execution_count": 434,
     "metadata": {},
     "output_type": "execute_result"
    },
    {
     "data": {
      "image/png": "[encoded data removed]",
      "text/plain": [
       "<Figure size 432x288 with 1 Axes>"
      ]
     },
     "metadata": {
      "needs_background": "light"
     },
     "output_type": "display_data"
    }
   ],
   "source": [
    "skeletonize(final_sha3alWordImgBtw)\n",
    "plt.imshow(final_sha3alWordImgBtw, cmap='gray', vmin=0, vmax=255)"
   ]
  },
  {
   "cell_type": "code",
   "execution_count": 435,
   "metadata": {},
   "outputs": [
    {
     "data": {
      "text/plain": [
       "<matplotlib.image.AxesImage at 0x1b03b56cb80>"
      ]
     },
     "execution_count": 435,
     "metadata": {},
     "output_type": "execute_result"
    },
    {
     "data": {
      "image/png": "[encoded data removed]",
      "text/plain": [
       "<Figure size 432x288 with 1 Axes>"
      ]
     },
     "metadata": {
      "needs_background": "light"
     },
     "output_type": "display_data"
    }
   ],
   "source": [
    "skeletonize(final_sha3alWordImgBtw)\n",
    "plt.imshow(final_sha3alWordImgBtw, cmap='gray', vmin=0, vmax=255)"
   ]
  },
  {
   "cell_type": "code",
   "execution_count": 436,
   "metadata": {},
   "outputs": [
    {
     "name": "stdout",
     "output_type": "stream",
     "text": [
      "[[  0 255   0 255   0 255   0 255   0 255   0 255   0 255   0 255]\n",
      " [  0 255   0 255   0 255   0 255   0 255   0 255   0 255   0 255]\n",
      " [  0 255   0 255   0 255   0 255   0 255   0 255   0 255   0 255]\n",
      " [  0 255   0 255   0 255   0 255   0 255   0 255   0 255   0 255]\n",
      " [  0 255   0 255   0 255   0 255   0 255   0 255   0 255   0 255]]\n"
     ]
    }
   ],
   "source": [
    "x = np.array([[ 0, 255, 0, 255, 0, 255, 0, 255, 0, 255, 0, 255, 0, 255, 0, 255],\n",
    "              [ 0, 255, 0, 255, 0, 255, 0, 255, 0, 255, 0, 255, 0, 255, 0, 255],\n",
    "              [ 0, 255, 0, 255, 0, 255, 0, 255, 0, 255, 0, 255, 0, 255, 0, 255],\n",
    "              [ 0, 255, 0, 255, 0, 255, 0, 255, 0, 255, 0, 255, 0, 255, 0, 255],\n",
    "              [ 0, 255, 0, 255, 0, 255, 0, 255, 0, 255, 0, 255, 0, 255, 0, 255]])\n",
    "x.reshape([5,16,1])\n",
    "print(x)\n"
   ]
  },
  {
   "cell_type": "code",
   "execution_count": 437,
   "metadata": {},
   "outputs": [
    {
     "data": {
      "text/plain": [
       "<matplotlib.image.AxesImage at 0x1b03b5d4340>"
      ]
     },
     "execution_count": 437,
     "metadata": {},
     "output_type": "execute_result"
    },
    {
     "data": {
      "image/png": "[encoded data removed]",
      "text/plain": [
       "<Figure size 432x288 with 1 Axes>"
      ]
     },
     "metadata": {
      "needs_background": "light"
     },
     "output_type": "display_data"
    }
   ],
   "source": [
    "plt.imshow(x, cmap='gray', vmin=0, vmax=255) "
   ]
  },
  {
   "cell_type": "code",
   "execution_count": 438,
   "metadata": {},
   "outputs": [
    {
     "data": {
      "text/plain": [
       "0"
      ]
     },
     "execution_count": 438,
     "metadata": {},
     "output_type": "execute_result"
    }
   ],
   "source": [
    "x[1,2]"
   ]
  },
  {
   "cell_type": "code",
   "execution_count": 439,
   "metadata": {},
   "outputs": [],
   "source": [
    "#results are satisfactory on single word but still need tweaking on single character\n",
    "#still need a way to decide how many iterations of skeletonizations are needed\n",
    "\n",
    "\n",
    "\n",
    "dictionary = [3,6,7,12,24,28,14,224,225,216,143,15,30,48,52,96,112,54,240,227,131,135,99,56,60,120,62,129,192,248,251,195,141]\n",
    "\n",
    "def normalize(img):\n",
    "    for c in range(1, img.shape[1]-1):\n",
    "        for r in range(1, img.shape[0]-1):\n",
    "            if img[r,c]==0:\n",
    "                b = calculateB2(img, r, c)\n",
    "                if int(img[r-1,c+1])==0 and int(img[r,c+1])==255:\n",
    "                    print(\"b: \" + str(b))\n",
    "                    print(\"Go NE start at: \" + str([r,c]))\n",
    "                    trackAndSwitchNE(img, r, c)\n",
    "                \n",
    "                if int(img[r+1,c+1]) == 0 and int(img[r,c+1])==255:\n",
    "                    print(\"b: \" + str(b))\n",
    "                    print(\"Go SE start at: \" + str([r,c]))\n",
    "                    trackAndSwitchSE(img, r, c)\n",
    "                \n",
    "\n",
    "    \n",
    "\n",
    "def calculateB2(img, r, c):\n",
    "    numbers = [int(img[r-1,c]),int(img[r-1,c+1]),int(img[r,c+1]),int(img[r+1,c+1]),int(img[r+1,c]),int(img[r+1,c-1]),int(img[r,c-1]),int(img[r-1,c-1])]\n",
    "    #print(numbers)\n",
    "    b = 0\n",
    "    for i in range(0,8):\n",
    "        if numbers[i]<160:\n",
    "            b+=2**i\n",
    "    #print(b)\n",
    "    return b\n",
    "\n",
    "def trackAndSwitchNE(img,r,c):\n",
    "    row = r\n",
    "    y = 0\n",
    "    column = c\n",
    "    x = 0\n",
    "    addresses = []\n",
    "    while True:\n",
    "        \n",
    "        if int(img[row-1,column+1]) == 0 and int(img[row,column+1]) == 255:\n",
    "            if int(img[row-1,column]) == 0:\n",
    "                print(\"break\")\n",
    "                break\n",
    "            row+=-1\n",
    "            y+=1\n",
    "            column+=1\n",
    "            x+=1\n",
    "            addresses.append([row,column])\n",
    "        elif int(img[row,column+1]) == 0:\n",
    "            if int(img[row-1,column]) == 0:\n",
    "                print(\"break\")\n",
    "                break\n",
    "            column+=1\n",
    "            x+=1\n",
    "            addresses.append([row,column])\n",
    "        else: \n",
    "            break\n",
    "    print(\"addresses: \" + str(addresses))\n",
    "    print(\"x: \" + str(x))\n",
    "    print(\"y: \" + str(y))\n",
    "    for index in addresses:\n",
    "        img[index[0],index[1]]=255\n",
    "    \n",
    "    for increment in range(0,y):\n",
    "        img[r-increment,c]=0\n",
    "        print(\"row build: \" + str([r-increment,c]))\n",
    "    \n",
    "    \n",
    "    for increment2 in range(0,x+1):\n",
    "        #print(\"success\")\n",
    "        img[r-y, c+increment2]=0\n",
    "        print(\"column build: \" + str([r-y, c+increment2]))\n",
    "        \n",
    "def trackAndSwitchSE(img,r,c):\n",
    "    row = r\n",
    "    y = 0\n",
    "    column = c\n",
    "    x = 0\n",
    "    addresses = []\n",
    "    while True:\n",
    "        \n",
    "        if int(img[row+1,column+1]) == 0 and int(img[row,column+1]) == 255:\n",
    "            #if int(img[row-1,column]) == 0:\n",
    "                #break\n",
    "            row+=1\n",
    "            y+=1\n",
    "            column+=1\n",
    "            x+=1\n",
    "            addresses.append([row,column])\n",
    "        elif int(img[row,column+1]) == 0:\n",
    "            if int(img[row-1,column+1]) == 0:\n",
    "                print(\"break\")\n",
    "                break\n",
    "            column+=1\n",
    "            x+=1\n",
    "            addresses.append([row,column])\n",
    "        else: \n",
    "            break\n",
    "    print(\"addresses: \" + str(addresses))\n",
    "    print(\"x: \" + str(x))\n",
    "    print(\"y: \" + str(y))\n",
    "    for index in addresses:\n",
    "        img[index[0],index[1]]=255\n",
    "    \n",
    "    for increment in range(0,y):\n",
    "        img[r+increment,c]=0\n",
    "        print(\"row build: \" + str([r+increment,c]))\n",
    "    \n",
    "    \n",
    "    for increment2 in range(0,x+1):\n",
    "        #print(\"success\")\n",
    "        img[r+y, c+increment2]=0\n",
    "        print(\"column build: \" + str([r+y, c+increment2]))\n",
    "\n",
    "\n",
    "def getBaseline(img):\n",
    "    baselineDensity = 0\n",
    "    baselineRow = 0\n",
    "    for r in range(0, img.shape[0]):\n",
    "        currentSum = 0\n",
    "        for c in range(0, img.shape[1]):\n",
    "            if img[r,c]==0:\n",
    "                currentSum+=1\n",
    "        if currentSum>baselineDensity:\n",
    "            baselineDensity = currentSum\n",
    "            baselineRow = r\n",
    "\n",
    "    return baselineRow\n",
    "\n",
    "\n",
    "        "
   ]
  },
  {
   "cell_type": "code",
   "execution_count": 440,
   "metadata": {},
   "outputs": [
    {
     "name": "stdout",
     "output_type": "stream",
     "text": [
      "[0, 2, 5, 7, 10, 12, 15, 17, 20, 22, 25, 27, 30, 32, 35, 37, 40, 42, 45, 47]\n",
      "[0, 2, 5, 7, 10, 12, 15, 17, 20, 22, 25, 27, 30, 32]\n"
     ]
    }
   ],
   "source": [
    "y_value_list = []\n",
    "x_value_list = []\n",
    "\n",
    "for i in range(0,20):\n",
    "    i = int(i*2.5)\n",
    "    x_value_list.append(i)\n",
    "\n",
    "for i in range(0,14):\n",
    "    i = int(i*2.5)\n",
    "    y_value_list.append(i)\n",
    "    \n",
    "print(x_value_list)\n",
    "print(y_value_list)"
   ]
  },
  {
   "cell_type": "code",
   "execution_count": 442,
   "metadata": {
    "scrolled": false
   },
   "outputs": [
    {
     "name": "stdout",
     "output_type": "stream",
     "text": [
      "baseline row: 32\n"
     ]
    },
    {
     "data": {
      "image/png": "[encoded data removed]",
      "text/plain": [
       "<Figure size 432x288 with 1 Axes>"
      ]
     },
     "metadata": {
      "needs_background": "light"
     },
     "output_type": "display_data"
    }
   ],
   "source": [
    "def makeTestImg(img, finalImg):\n",
    "    for y in range(img.shape[0]):\n",
    "        for x in range(img.shape[1]):     \n",
    "                finalImg[y,x] = img[y,x]\n",
    "\n",
    "test_img2 = np.zeros(final_sha3alWordImg.shape, final_sha3alWordImg.dtype)\n",
    "test_img3 = np.zeros(final_sha3alWordImg.shape, final_sha3alWordImg.dtype)\n",
    "\n",
    "\n",
    "makeTestImg(final_9albImgBtw, test_img2)\n",
    "makeTestImg(final_sha3alWordImgBtw, test_img3)\n",
    "#plt.imshow(test_img2, cmap='gray', vmin=0, vmax=255)\n",
    "\n",
    "fig, ax = plt.subplots(1,1)\n",
    "\n",
    "img5 = ax.imshow(test_img2, cmap='gray', vmin=0, vmax=255)\n",
    "\n",
    "\n",
    "\n",
    "#x_label_list = ['A2', 'B2', 'C2', 'D2']\n",
    "\n",
    "ax.set_xticks(x_value_list)\n",
    "ax.set_yticks(y_value_list)\n",
    "\n",
    "#ax.set_xticklabels(x_label_list)\n",
    "\n",
    "#fig.imshow(img5)\n",
    "print(\"baseline row: \" + str(getBaseline(test_img2)))"
   ]
  },
  {
   "cell_type": "code",
   "execution_count": 443,
   "metadata": {},
   "outputs": [
    {
     "data": {
      "text/plain": [
       "<matplotlib.image.AxesImage at 0x1b03b6b6640>"
      ]
     },
     "execution_count": 443,
     "metadata": {},
     "output_type": "execute_result"
    },
    {
     "data": {
      "image/png": "[encoded data removed]",
      "text/plain": [
       "<Figure size 432x288 with 1 Axes>"
      ]
     },
     "metadata": {
      "needs_background": "light"
     },
     "output_type": "display_data"
    }
   ],
   "source": [
    "plt.imshow(test_img3, cmap='gray', vmin=0, vmax=255)"
   ]
  },
  {
   "cell_type": "code",
   "execution_count": 444,
   "metadata": {
    "scrolled": true
   },
   "outputs": [
    {
     "name": "stdout",
     "output_type": "stream",
     "text": [
      "b: 19\n",
      "Go NE start at: [23, 2]\n",
      "break\n",
      "addresses: []\n",
      "x: 0\n",
      "y: 0\n",
      "column build: [23, 2]\n",
      "b: 9\n",
      "Go SE start at: [26, 2]\n",
      "addresses: [[27, 3], [27, 4], [28, 5], [29, 6], [29, 7], [30, 8], [30, 9], [31, 10], [31, 11], [31, 12], [32, 13], [32, 14], [32, 15], [32, 16]]\n",
      "x: 14\n",
      "y: 6\n",
      "row build: [26, 2]\n",
      "row build: [27, 2]\n",
      "row build: [28, 2]\n",
      "row build: [29, 2]\n",
      "row build: [30, 2]\n",
      "row build: [31, 2]\n",
      "column build: [32, 2]\n",
      "column build: [32, 3]\n",
      "column build: [32, 4]\n",
      "column build: [32, 5]\n",
      "column build: [32, 6]\n",
      "column build: [32, 7]\n",
      "column build: [32, 8]\n",
      "column build: [32, 9]\n",
      "column build: [32, 10]\n",
      "column build: [32, 11]\n",
      "column build: [32, 12]\n",
      "column build: [32, 13]\n",
      "column build: [32, 14]\n",
      "column build: [32, 15]\n",
      "column build: [32, 16]\n",
      "b: 25\n",
      "Go SE start at: [31, 2]\n",
      "break\n",
      "addresses: [[32, 3], [32, 4], [32, 5], [32, 6], [32, 7], [32, 8]]\n",
      "x: 6\n",
      "y: 1\n",
      "row build: [31, 2]\n",
      "column build: [32, 2]\n",
      "column build: [32, 3]\n",
      "column build: [32, 4]\n",
      "column build: [32, 5]\n",
      "column build: [32, 6]\n",
      "column build: [32, 7]\n",
      "column build: [32, 8]\n",
      "b: 98\n",
      "Go NE start at: [22, 3]\n",
      "addresses: [[21, 4], [21, 5], [21, 6], [20, 7], [20, 8], [20, 9]]\n",
      "x: 6\n",
      "y: 2\n",
      "row build: [22, 3]\n",
      "row build: [21, 3]\n",
      "column build: [20, 3]\n",
      "column build: [20, 4]\n",
      "column build: [20, 5]\n",
      "column build: [20, 6]\n",
      "column build: [20, 7]\n",
      "column build: [20, 8]\n",
      "column build: [20, 9]\n",
      "b: 56\n",
      "Go SE start at: [31, 9]\n",
      "addresses: [[32, 10], [32, 11], [32, 12], [32, 13], [32, 14], [32, 15], [32, 16]]\n",
      "x: 7\n",
      "y: 1\n",
      "row build: [31, 9]\n",
      "column build: [32, 9]\n",
      "column build: [32, 10]\n",
      "column build: [32, 11]\n",
      "column build: [32, 12]\n",
      "column build: [32, 13]\n",
      "column build: [32, 14]\n",
      "column build: [32, 15]\n",
      "column build: [32, 16]\n",
      "b: 66\n",
      "Go NE start at: [32, 16]\n",
      "break\n",
      "addresses: [[31, 17], [31, 18], [30, 19], [30, 20], [29, 21]]\n",
      "x: 5\n",
      "y: 3\n",
      "row build: [32, 16]\n",
      "row build: [31, 16]\n",
      "row build: [30, 16]\n",
      "column build: [29, 16]\n",
      "column build: [29, 17]\n",
      "column build: [29, 18]\n",
      "column build: [29, 19]\n",
      "column build: [29, 20]\n",
      "column build: [29, 21]\n",
      "b: 2\n",
      "Go NE start at: [18, 18]\n",
      "addresses: [[17, 19]]\n",
      "x: 1\n",
      "y: 1\n",
      "row build: [18, 18]\n",
      "column build: [17, 18]\n",
      "column build: [17, 19]\n",
      "b: 50\n",
      "Go NE start at: [16, 19]\n",
      "break\n",
      "addresses: [[15, 20]]\n",
      "x: 1\n",
      "y: 1\n",
      "row build: [16, 19]\n",
      "column build: [15, 19]\n",
      "column build: [15, 20]\n",
      "b: 99\n",
      "Go NE start at: [15, 20]\n",
      "break\n",
      "addresses: []\n",
      "x: 0\n",
      "y: 0\n",
      "column build: [15, 20]\n",
      "b: 67\n",
      "Go NE start at: [29, 21]\n",
      "break\n",
      "addresses: []\n",
      "x: 0\n",
      "y: 0\n",
      "column build: [29, 21]\n",
      "b: 51\n",
      "Go NE start at: [27, 22]\n",
      "break\n",
      "addresses: []\n",
      "x: 0\n",
      "y: 0\n",
      "column build: [27, 22]\n",
      "b: 19\n",
      "Go NE start at: [11, 23]\n",
      "break\n",
      "addresses: []\n",
      "x: 0\n",
      "y: 0\n",
      "column build: [11, 23]\n",
      "b: 19\n",
      "Go NE start at: [15, 36]\n",
      "break\n",
      "addresses: []\n",
      "x: 0\n",
      "y: 0\n",
      "column build: [15, 36]\n",
      "b: 25\n",
      "Go SE start at: [23, 36]\n",
      "addresses: [[24, 37], [24, 38], [24, 39], [24, 40], [24, 41], [24, 42], [24, 43], [24, 44]]\n",
      "x: 8\n",
      "y: 1\n",
      "row build: [23, 36]\n",
      "column build: [24, 36]\n",
      "column build: [24, 37]\n",
      "column build: [24, 38]\n",
      "column build: [24, 39]\n",
      "column build: [24, 40]\n",
      "column build: [24, 41]\n",
      "column build: [24, 42]\n",
      "column build: [24, 43]\n",
      "column build: [24, 44]\n",
      "b: 19\n",
      "Go NE start at: [6, 37]\n",
      "break\n",
      "addresses: []\n",
      "x: 0\n",
      "y: 0\n",
      "column build: [6, 37]\n",
      "b: 66\n",
      "Go NE start at: [24, 44]\n",
      "break\n",
      "addresses: [[23, 45], [23, 46], [22, 47], [22, 48], [22, 49], [21, 50]]\n",
      "x: 6\n",
      "y: 3\n",
      "row build: [24, 44]\n",
      "row build: [23, 44]\n",
      "row build: [22, 44]\n",
      "column build: [21, 44]\n",
      "column build: [21, 45]\n",
      "column build: [21, 46]\n",
      "column build: [21, 47]\n",
      "column build: [21, 48]\n",
      "column build: [21, 49]\n",
      "column build: [21, 50]\n",
      "b: 27\n",
      "Go NE start at: [17, 48]\n",
      "break\n",
      "addresses: []\n",
      "x: 0\n",
      "y: 0\n",
      "column build: [17, 48]\n",
      "b: 27\n",
      "Go SE start at: [17, 48]\n",
      "break\n",
      "addresses: [[18, 49], [18, 50], [18, 51]]\n",
      "x: 3\n",
      "y: 1\n",
      "row build: [17, 48]\n",
      "column build: [18, 48]\n",
      "column build: [18, 49]\n",
      "column build: [18, 50]\n",
      "column build: [18, 51]\n",
      "b: 201\n",
      "Go SE start at: [21, 52]\n",
      "addresses: [[22, 53]]\n",
      "x: 1\n",
      "y: 1\n",
      "row build: [21, 52]\n",
      "column build: [22, 52]\n",
      "column build: [22, 53]\n",
      "b: 153\n",
      "Go SE start at: [23, 53]\n",
      "addresses: [[24, 54], [24, 55], [25, 56], [25, 57], [25, 58]]\n",
      "x: 5\n",
      "y: 2\n",
      "row build: [23, 53]\n",
      "row build: [24, 53]\n",
      "column build: [25, 53]\n",
      "column build: [25, 54]\n",
      "column build: [25, 55]\n",
      "column build: [25, 56]\n",
      "column build: [25, 57]\n",
      "column build: [25, 58]\n",
      "b: 25\n",
      "Go SE start at: [24, 53]\n",
      "addresses: [[25, 54], [25, 55], [25, 56], [25, 57], [25, 58]]\n",
      "x: 5\n",
      "y: 1\n",
      "row build: [24, 53]\n",
      "column build: [25, 53]\n",
      "column build: [25, 54]\n",
      "column build: [25, 55]\n",
      "column build: [25, 56]\n",
      "column build: [25, 57]\n",
      "column build: [25, 58]\n",
      "b: 66\n",
      "Go NE start at: [25, 58]\n",
      "addresses: [[24, 59], [24, 60], [24, 61], [23, 62], [23, 63], [23, 64]]\n",
      "x: 6\n",
      "y: 2\n",
      "row build: [25, 58]\n",
      "row build: [24, 58]\n",
      "column build: [23, 58]\n",
      "column build: [23, 59]\n",
      "column build: [23, 60]\n",
      "column build: [23, 61]\n",
      "column build: [23, 62]\n",
      "column build: [23, 63]\n",
      "column build: [23, 64]\n",
      "b: 88\n",
      "Go SE start at: [23, 64]\n",
      "addresses: [[24, 65], [24, 66]]\n",
      "x: 2\n",
      "y: 1\n",
      "row build: [23, 64]\n",
      "column build: [24, 64]\n",
      "column build: [24, 65]\n",
      "column build: [24, 66]\n",
      "b: 66\n",
      "Go NE start at: [24, 66]\n",
      "break\n",
      "addresses: [[23, 67]]\n",
      "x: 1\n",
      "y: 1\n",
      "row build: [24, 66]\n",
      "column build: [23, 66]\n",
      "column build: [23, 67]\n",
      "b: 99\n",
      "Go NE start at: [23, 67]\n",
      "break\n",
      "addresses: []\n",
      "x: 0\n",
      "y: 0\n",
      "column build: [23, 67]\n",
      "b: 57\n",
      "Go SE start at: [21, 71]\n",
      "addresses: [[22, 72], [22, 73]]\n",
      "x: 2\n",
      "y: 1\n",
      "row build: [21, 71]\n",
      "column build: [22, 71]\n",
      "column build: [22, 72]\n",
      "column build: [22, 73]\n",
      "baseline row: 24\n"
     ]
    },
    {
     "data": {
      "image/png": "[encoded data removed]",
      "text/plain": [
       "<Figure size 432x288 with 1 Axes>"
      ]
     },
     "metadata": {
      "needs_background": "light"
     },
     "output_type": "display_data"
    }
   ],
   "source": [
    "normalize(test_img3)\n",
    "\n",
    "fig, ax = plt.subplots(1,1)\n",
    "\n",
    "img6 = ax.imshow(test_img3, cmap='gray', vmin=0, vmax=255)\n",
    "\n",
    "#x_label_list = ['A2', 'B2', 'C2', 'D2']\n",
    "\n",
    "#ax.set_xticks(x_value_list)\n",
    "#ax.set_yticks(y_value_list)\n",
    "#plt.imshow(test_img2, cmap='gray', vmin=0, vmax=255) \n",
    "print(\"baseline row: \" + str(getBaseline(test_img3)))"
   ]
  },
  {
   "cell_type": "code",
   "execution_count": 445,
   "metadata": {},
   "outputs": [
    {
     "name": "stdout",
     "output_type": "stream",
     "text": [
      "b: 19\n",
      "Go NE start at: [14, 6]\n",
      "break\n",
      "addresses: []\n",
      "x: 0\n",
      "y: 0\n",
      "column build: [14, 6]\n",
      "b: 9\n",
      "Go SE start at: [17, 6]\n",
      "addresses: [[18, 7], [18, 8], [18, 9], [18, 10], [18, 11], [18, 12], [18, 13], [18, 14], [18, 15], [18, 16], [18, 17], [18, 18], [18, 19]]\n",
      "x: 13\n",
      "y: 1\n",
      "row build: [17, 6]\n",
      "column build: [18, 6]\n",
      "column build: [18, 7]\n",
      "column build: [18, 8]\n",
      "column build: [18, 9]\n",
      "column build: [18, 10]\n",
      "column build: [18, 11]\n",
      "column build: [18, 12]\n",
      "column build: [18, 13]\n",
      "column build: [18, 14]\n",
      "column build: [18, 15]\n",
      "column build: [18, 16]\n",
      "column build: [18, 17]\n",
      "column build: [18, 18]\n",
      "column build: [18, 19]\n",
      "b: 66\n",
      "Go NE start at: [18, 19]\n",
      "addresses: [[17, 20]]\n",
      "x: 1\n",
      "y: 1\n",
      "row build: [18, 19]\n",
      "column build: [17, 19]\n",
      "column build: [17, 20]\n",
      "b: 51\n",
      "Go NE start at: [16, 20]\n",
      "break\n",
      "addresses: []\n",
      "x: 0\n",
      "y: 0\n",
      "column build: [16, 20]\n",
      "b: 57\n",
      "Go SE start at: [14, 21]\n",
      "break\n",
      "addresses: [[15, 22], [15, 23], [16, 24], [16, 25], [17, 26], [17, 27], [17, 28], [17, 29]]\n",
      "x: 8\n",
      "y: 3\n",
      "row build: [14, 21]\n",
      "row build: [15, 21]\n",
      "row build: [16, 21]\n",
      "column build: [17, 21]\n",
      "column build: [17, 22]\n",
      "column build: [17, 23]\n",
      "column build: [17, 24]\n",
      "column build: [17, 25]\n",
      "column build: [17, 26]\n",
      "column build: [17, 27]\n",
      "column build: [17, 28]\n",
      "column build: [17, 29]\n",
      "b: 249\n",
      "Go SE start at: [16, 21]\n",
      "break\n",
      "addresses: [[17, 22], [17, 23], [17, 24], [17, 25], [17, 26], [17, 27], [17, 28], [17, 29]]\n",
      "x: 8\n",
      "y: 1\n",
      "row build: [16, 21]\n",
      "column build: [17, 21]\n",
      "column build: [17, 22]\n",
      "column build: [17, 23]\n",
      "column build: [17, 24]\n",
      "column build: [17, 25]\n",
      "column build: [17, 26]\n",
      "column build: [17, 27]\n",
      "column build: [17, 28]\n",
      "column build: [17, 29]\n",
      "b: 57\n",
      "Go SE start at: [16, 30]\n",
      "break\n",
      "addresses: [[17, 31], [17, 32], [17, 33], [17, 34], [17, 35], [18, 36], [18, 37], [18, 38], [18, 39], [18, 40], [18, 41], [18, 42], [18, 43]]\n",
      "x: 13\n",
      "y: 2\n",
      "row build: [16, 30]\n",
      "row build: [17, 30]\n",
      "column build: [18, 30]\n",
      "column build: [18, 31]\n",
      "column build: [18, 32]\n",
      "column build: [18, 33]\n",
      "column build: [18, 34]\n",
      "column build: [18, 35]\n",
      "column build: [18, 36]\n",
      "column build: [18, 37]\n",
      "column build: [18, 38]\n",
      "column build: [18, 39]\n",
      "column build: [18, 40]\n",
      "column build: [18, 41]\n",
      "column build: [18, 42]\n",
      "column build: [18, 43]\n",
      "b: 89\n",
      "Go SE start at: [17, 30]\n",
      "break\n",
      "addresses: [[18, 31], [18, 32], [18, 33], [18, 34], [18, 35], [18, 36], [18, 37], [18, 38], [18, 39], [18, 40], [18, 41], [18, 42], [18, 43]]\n",
      "x: 13\n",
      "y: 1\n",
      "row build: [17, 30]\n",
      "column build: [18, 30]\n",
      "column build: [18, 31]\n",
      "column build: [18, 32]\n",
      "column build: [18, 33]\n",
      "column build: [18, 34]\n",
      "column build: [18, 35]\n",
      "column build: [18, 36]\n",
      "column build: [18, 37]\n",
      "column build: [18, 38]\n",
      "column build: [18, 39]\n",
      "column build: [18, 40]\n",
      "column build: [18, 41]\n",
      "column build: [18, 42]\n",
      "column build: [18, 43]\n",
      "b: 19\n",
      "Go NE start at: [12, 40]\n",
      "break\n",
      "addresses: []\n",
      "x: 0\n",
      "y: 0\n",
      "column build: [12, 40]\n",
      "b: 25\n",
      "Go SE start at: [13, 40]\n",
      "break\n",
      "addresses: [[14, 41], [14, 42]]\n",
      "x: 2\n",
      "y: 1\n",
      "row build: [13, 40]\n",
      "column build: [14, 40]\n",
      "column build: [14, 41]\n",
      "column build: [14, 42]\n",
      "b: 11\n",
      "Go NE start at: [6, 41]\n",
      "break\n",
      "addresses: []\n",
      "x: 0\n",
      "y: 0\n",
      "column build: [6, 41]\n",
      "b: 11\n",
      "Go SE start at: [6, 41]\n",
      "addresses: [[7, 42]]\n",
      "x: 1\n",
      "y: 1\n",
      "row build: [6, 41]\n",
      "column build: [7, 41]\n",
      "column build: [7, 42]\n",
      "b: 57\n",
      "Go SE start at: [10, 42]\n",
      "addresses: [[11, 43]]\n",
      "x: 1\n",
      "y: 1\n",
      "row build: [10, 42]\n",
      "column build: [11, 42]\n",
      "column build: [11, 43]\n",
      "b: 57\n",
      "Go SE start at: [13, 43]\n",
      "addresses: [[14, 44]]\n",
      "x: 1\n",
      "y: 1\n",
      "row build: [13, 43]\n",
      "column build: [14, 43]\n",
      "column build: [14, 44]\n",
      "b: 66\n",
      "Go NE start at: [5, 45]\n",
      "addresses: [[4, 46]]\n",
      "x: 1\n",
      "y: 1\n",
      "row build: [5, 45]\n",
      "column build: [4, 45]\n",
      "column build: [4, 46]\n",
      "baseline row: 32\n"
     ]
    },
    {
     "data": {
      "image/png": "[encoded data removed]",
      "text/plain": [
       "<Figure size 432x288 with 1 Axes>"
      ]
     },
     "metadata": {
      "needs_background": "light"
     },
     "output_type": "display_data"
    }
   ],
   "source": [
    "normalize(test_img2)\n",
    "\n",
    "fig, ax = plt.subplots(1,1)\n",
    "\n",
    "img5 = ax.imshow(test_img2, cmap='gray', vmin=0, vmax=255)\n",
    "\n",
    "#x_label_list = ['A2', 'B2', 'C2', 'D2']\n",
    "\n",
    "ax.set_xticks(x_value_list)\n",
    "ax.set_yticks(y_value_list)\n",
    "#plt.imshow(test_img2, cmap='gray', vmin=0, vmax=255) \n",
    "print(\"baseline row: \" + str(getBaseline(test_img2)))"
   ]
  },
  {
   "cell_type": "code",
   "execution_count": 446,
   "metadata": {},
   "outputs": [
    {
     "name": "stdout",
     "output_type": "stream",
     "text": [
      "56\n",
      "3\n",
      "52\n",
      "54\n",
      "141\n",
      "54\n",
      "baseline row: 32\n"
     ]
    },
    {
     "data": {
      "image/png": "[encoded data removed]",
      "text/plain": [
       "<Figure size 432x288 with 1 Axes>"
      ]
     },
     "metadata": {
      "needs_background": "light"
     },
     "output_type": "display_data"
    }
   ],
   "source": [
    "skeletonize(test_img3)\n",
    "fig, ax = plt.subplots(1,1)\n",
    "\n",
    "img5 = ax.imshow(test_img3, cmap='gray', vmin=0, vmax=255)\n",
    "\n",
    "print(\"baseline row: \" + str(getBaseline(test_img2)))"
   ]
  },
  {
   "cell_type": "code",
   "execution_count": 447,
   "metadata": {
    "scrolled": true
   },
   "outputs": [
    {
     "name": "stdout",
     "output_type": "stream",
     "text": [
      "54\n",
      "30\n",
      "30\n",
      "52\n",
      "baseline row: 32\n"
     ]
    },
    {
     "data": {
      "image/png": "[encoded data removed]",
      "text/plain": [
       "<Figure size 432x288 with 1 Axes>"
      ]
     },
     "metadata": {
      "needs_background": "light"
     },
     "output_type": "display_data"
    }
   ],
   "source": [
    "\n",
    "skeletonize(test_img2)\n",
    "fig, ax = plt.subplots(1,1)\n",
    "\n",
    "img5 = ax.imshow(test_img2, cmap='gray', vmin=0, vmax=255)\n",
    "\n",
    "#x_label_list = ['A2', 'B2', 'C2', 'D2']\n",
    "\n",
    "ax.set_xticks(x_value_list)\n",
    "ax.set_yticks(y_value_list)\n",
    "#plt.imshow(test_img2, cmap='gray', vmin=0, vmax=255)\n",
    "print(\"baseline row: \" + str(getBaseline(test_img2)))"
   ]
  },
  {
   "cell_type": "code",
   "execution_count": 448,
   "metadata": {},
   "outputs": [
    {
     "name": "stdout",
     "output_type": "stream",
     "text": [
      "b: 19\n",
      "Go NE start at: [14, 6]\n",
      "break\n",
      "addresses: []\n",
      "x: 0\n",
      "y: 0\n",
      "column build: [14, 6]\n",
      "b: 25\n",
      "Go SE start at: [17, 6]\n",
      "addresses: [[18, 7], [18, 8], [18, 9], [18, 10], [18, 11], [18, 12], [18, 13], [18, 14], [18, 15], [18, 16], [18, 17], [18, 18], [18, 19]]\n",
      "x: 13\n",
      "y: 1\n",
      "row build: [17, 6]\n",
      "column build: [18, 6]\n",
      "column build: [18, 7]\n",
      "column build: [18, 8]\n",
      "column build: [18, 9]\n",
      "column build: [18, 10]\n",
      "column build: [18, 11]\n",
      "column build: [18, 12]\n",
      "column build: [18, 13]\n",
      "column build: [18, 14]\n",
      "column build: [18, 15]\n",
      "column build: [18, 16]\n",
      "column build: [18, 17]\n",
      "column build: [18, 18]\n",
      "column build: [18, 19]\n",
      "b: 66\n",
      "Go NE start at: [18, 19]\n",
      "break\n",
      "addresses: [[17, 20], [17, 21]]\n",
      "x: 2\n",
      "y: 1\n",
      "row build: [18, 19]\n",
      "column build: [17, 19]\n",
      "column build: [17, 20]\n",
      "column build: [17, 21]\n",
      "b: 57\n",
      "Go SE start at: [16, 21]\n",
      "break\n",
      "addresses: [[17, 22], [17, 23], [17, 24], [17, 25], [17, 26], [17, 27], [17, 28], [17, 29]]\n",
      "x: 8\n",
      "y: 1\n",
      "row build: [16, 21]\n",
      "column build: [17, 21]\n",
      "column build: [17, 22]\n",
      "column build: [17, 23]\n",
      "column build: [17, 24]\n",
      "column build: [17, 25]\n",
      "column build: [17, 26]\n",
      "column build: [17, 27]\n",
      "column build: [17, 28]\n",
      "column build: [17, 29]\n",
      "b: 89\n",
      "Go SE start at: [17, 30]\n",
      "break\n",
      "addresses: [[18, 31], [18, 32], [18, 33], [18, 34], [18, 35], [18, 36], [18, 37], [18, 38], [18, 39], [18, 40], [18, 41], [18, 42], [18, 43]]\n",
      "x: 13\n",
      "y: 1\n",
      "row build: [17, 30]\n",
      "column build: [18, 30]\n",
      "column build: [18, 31]\n",
      "column build: [18, 32]\n",
      "column build: [18, 33]\n",
      "column build: [18, 34]\n",
      "column build: [18, 35]\n",
      "column build: [18, 36]\n",
      "column build: [18, 37]\n",
      "column build: [18, 38]\n",
      "column build: [18, 39]\n",
      "column build: [18, 40]\n",
      "column build: [18, 41]\n",
      "column build: [18, 42]\n",
      "column build: [18, 43]\n",
      "b: 19\n",
      "Go NE start at: [12, 40]\n",
      "break\n",
      "addresses: []\n",
      "x: 0\n",
      "y: 0\n",
      "column build: [12, 40]\n",
      "b: 25\n",
      "Go SE start at: [13, 40]\n",
      "break\n",
      "addresses: [[14, 41], [14, 42]]\n",
      "x: 2\n",
      "y: 1\n",
      "row build: [13, 40]\n",
      "column build: [14, 40]\n",
      "column build: [14, 41]\n",
      "column build: [14, 42]\n",
      "b: 27\n",
      "Go NE start at: [6, 41]\n",
      "break\n",
      "addresses: []\n",
      "x: 0\n",
      "y: 0\n",
      "column build: [6, 41]\n",
      "b: 27\n",
      "Go SE start at: [6, 41]\n",
      "addresses: [[7, 42]]\n",
      "x: 1\n",
      "y: 1\n",
      "row build: [6, 41]\n",
      "column build: [7, 41]\n",
      "column build: [7, 42]\n",
      "b: 57\n",
      "Go SE start at: [10, 42]\n",
      "addresses: [[11, 43]]\n",
      "x: 1\n",
      "y: 1\n",
      "row build: [10, 42]\n",
      "column build: [11, 42]\n",
      "column build: [11, 43]\n",
      "b: 57\n",
      "Go SE start at: [13, 43]\n",
      "addresses: [[14, 44]]\n",
      "x: 1\n",
      "y: 1\n",
      "row build: [13, 43]\n",
      "column build: [14, 43]\n",
      "column build: [14, 44]\n",
      "b: 66\n",
      "Go NE start at: [5, 45]\n",
      "addresses: [[4, 46]]\n",
      "x: 1\n",
      "y: 1\n",
      "row build: [5, 45]\n",
      "column build: [4, 45]\n",
      "column build: [4, 46]\n",
      "baseline row: 32\n"
     ]
    },
    {
     "data": {
      "image/png": "[encoded data removed]",
      "text/plain": [
       "<Figure size 432x288 with 1 Axes>"
      ]
     },
     "metadata": {
      "needs_background": "light"
     },
     "output_type": "display_data"
    }
   ],
   "source": [
    "normalize(test_img2)\n",
    "fig, ax = plt.subplots(1,1)\n",
    "\n",
    "img5 = ax.imshow(test_img2, cmap='gray', vmin=0, vmax=255)\n",
    "\n",
    "#x_label_list = ['A2', 'B2', 'C2', 'D2']\n",
    "\n",
    "ax.set_xticks(x_value_list)\n",
    "ax.set_yticks(y_value_list)\n",
    "#plt.imshow(test_img2, cmap='gray', vmin=0, vmax=255)\n",
    "print(\"baseline row: \" + str(getBaseline(test_img2)))"
   ]
  },
  {
   "cell_type": "code",
   "execution_count": 449,
   "metadata": {},
   "outputs": [
    {
     "name": "stdout",
     "output_type": "stream",
     "text": [
      "b: 19\n",
      "Go NE start at: [23, 2]\n",
      "break\n",
      "addresses: []\n",
      "x: 0\n",
      "y: 0\n",
      "column build: [23, 2]\n",
      "b: 25\n",
      "Go SE start at: [31, 2]\n",
      "break\n",
      "addresses: [[32, 3], [32, 4], [32, 5], [32, 6], [32, 7], [32, 8], [32, 9], [32, 10], [32, 11], [32, 12], [32, 13], [32, 14], [32, 15]]\n",
      "x: 13\n",
      "y: 1\n",
      "row build: [31, 2]\n",
      "column build: [32, 2]\n",
      "column build: [32, 3]\n",
      "column build: [32, 4]\n",
      "column build: [32, 5]\n",
      "column build: [32, 6]\n",
      "column build: [32, 7]\n",
      "column build: [32, 8]\n",
      "column build: [32, 9]\n",
      "column build: [32, 10]\n",
      "column build: [32, 11]\n",
      "column build: [32, 12]\n",
      "column build: [32, 13]\n",
      "column build: [32, 14]\n",
      "column build: [32, 15]\n",
      "b: 51\n",
      "Go NE start at: [21, 3]\n",
      "break\n",
      "addresses: []\n",
      "x: 0\n",
      "y: 0\n",
      "column build: [21, 3]\n",
      "b: 19\n",
      "Go NE start at: [30, 16]\n",
      "break\n",
      "addresses: []\n",
      "x: 0\n",
      "y: 0\n",
      "column build: [30, 16]\n",
      "b: 51\n",
      "Go NE start at: [16, 19]\n",
      "break\n",
      "addresses: []\n",
      "x: 0\n",
      "y: 0\n",
      "column build: [16, 19]\n",
      "b: 98\n",
      "Go NE start at: [15, 20]\n",
      "addresses: [[14, 21], [14, 22], [14, 23]]\n",
      "x: 3\n",
      "y: 1\n",
      "row build: [15, 20]\n",
      "column build: [14, 20]\n",
      "column build: [14, 21]\n",
      "column build: [14, 22]\n",
      "column build: [14, 23]\n",
      "b: 66\n",
      "Go NE start at: [29, 21]\n",
      "addresses: [[28, 22]]\n",
      "x: 1\n",
      "y: 1\n",
      "row build: [29, 21]\n",
      "column build: [28, 21]\n",
      "column build: [28, 22]\n",
      "b: 51\n",
      "Go NE start at: [27, 22]\n",
      "break\n",
      "addresses: []\n",
      "x: 0\n",
      "y: 0\n",
      "column build: [27, 22]\n",
      "b: 19\n",
      "Go NE start at: [11, 23]\n",
      "break\n",
      "addresses: []\n",
      "x: 0\n",
      "y: 0\n",
      "column build: [11, 23]\n",
      "b: 19\n",
      "Go NE start at: [15, 36]\n",
      "break\n",
      "addresses: []\n",
      "x: 0\n",
      "y: 0\n",
      "column build: [15, 36]\n",
      "b: 25\n",
      "Go SE start at: [23, 36]\n",
      "break\n",
      "addresses: [[24, 37], [24, 38], [24, 39], [24, 40], [24, 41], [24, 42], [24, 43]]\n",
      "x: 7\n",
      "y: 1\n",
      "row build: [23, 36]\n",
      "column build: [24, 36]\n",
      "column build: [24, 37]\n",
      "column build: [24, 38]\n",
      "column build: [24, 39]\n",
      "column build: [24, 40]\n",
      "column build: [24, 41]\n",
      "column build: [24, 42]\n",
      "column build: [24, 43]\n",
      "b: 19\n",
      "Go NE start at: [6, 37]\n",
      "break\n",
      "addresses: []\n",
      "x: 0\n",
      "y: 0\n",
      "column build: [6, 37]\n",
      "b: 19\n",
      "Go NE start at: [22, 44]\n",
      "break\n",
      "addresses: []\n",
      "x: 0\n",
      "y: 0\n",
      "column build: [22, 44]\n",
      "b: 27\n",
      "Go NE start at: [17, 48]\n",
      "break\n",
      "addresses: []\n",
      "x: 0\n",
      "y: 0\n",
      "column build: [17, 48]\n",
      "b: 27\n",
      "Go SE start at: [17, 48]\n",
      "break\n",
      "addresses: [[18, 49], [18, 50], [18, 51]]\n",
      "x: 3\n",
      "y: 1\n",
      "row build: [17, 48]\n",
      "column build: [18, 48]\n",
      "column build: [18, 49]\n",
      "column build: [18, 50]\n",
      "column build: [18, 51]\n",
      "b: 201\n",
      "Go SE start at: [21, 52]\n",
      "addresses: [[22, 53]]\n",
      "x: 1\n",
      "y: 1\n",
      "row build: [21, 52]\n",
      "column build: [22, 52]\n",
      "column build: [22, 53]\n",
      "b: 25\n",
      "Go SE start at: [24, 53]\n",
      "break\n",
      "addresses: [[25, 54], [25, 55], [25, 56], [25, 57]]\n",
      "x: 4\n",
      "y: 1\n",
      "row build: [24, 53]\n",
      "column build: [25, 53]\n",
      "column build: [25, 54]\n",
      "column build: [25, 55]\n",
      "column build: [25, 56]\n",
      "column build: [25, 57]\n",
      "b: 51\n",
      "Go NE start at: [24, 58]\n",
      "break\n",
      "addresses: []\n",
      "x: 0\n",
      "y: 0\n",
      "column build: [24, 58]\n",
      "b: 88\n",
      "Go SE start at: [23, 64]\n",
      "addresses: [[24, 65], [24, 66]]\n",
      "x: 2\n",
      "y: 1\n",
      "row build: [23, 64]\n",
      "column build: [24, 64]\n",
      "column build: [24, 65]\n",
      "column build: [24, 66]\n",
      "b: 66\n",
      "Go NE start at: [24, 66]\n",
      "break\n",
      "addresses: [[23, 67]]\n",
      "x: 1\n",
      "y: 1\n",
      "row build: [24, 66]\n",
      "column build: [23, 66]\n",
      "column build: [23, 67]\n",
      "b: 99\n",
      "Go NE start at: [23, 67]\n",
      "break\n",
      "addresses: []\n",
      "x: 0\n",
      "y: 0\n",
      "column build: [23, 67]\n",
      "b: 57\n",
      "Go SE start at: [21, 71]\n",
      "addresses: [[22, 72], [22, 73]]\n",
      "x: 2\n",
      "y: 1\n",
      "row build: [21, 71]\n",
      "column build: [22, 71]\n",
      "column build: [22, 72]\n",
      "column build: [22, 73]\n",
      "baseline row: 32\n"
     ]
    },
    {
     "data": {
      "image/png": "[encoded data removed]",
      "text/plain": [
       "<Figure size 432x288 with 1 Axes>"
      ]
     },
     "metadata": {
      "needs_background": "light"
     },
     "output_type": "display_data"
    }
   ],
   "source": [
    "normalize(test_img3)\n",
    "fig, ax = plt.subplots(1,1)\n",
    "\n",
    "img5 = ax.imshow(test_img3, cmap='gray', vmin=0, vmax=255)\n",
    "\n",
    "print(\"baseline row: \" + str(getBaseline(test_img2)))"
   ]
  },
  {
   "cell_type": "code",
   "execution_count": 450,
   "metadata": {},
   "outputs": [
    {
     "name": "stdout",
     "output_type": "stream",
     "text": [
      "baseline row: 32\n"
     ]
    }
   ],
   "source": [
    "print(\"baseline row: \" + str(getBaseline(test_img2)))"
   ]
  },
  {
   "cell_type": "markdown",
   "metadata": {},
   "source": [
    "# Lets redo the whole thing using the new pre-processing techniques"
   ]
  },
  {
   "cell_type": "code",
   "execution_count": 7,
   "metadata": {},
   "outputs": [],
   "source": [
    "#pre-processing functions skelotanize and normalize\n",
    "\n",
    "def blackToWhite(img, finalImg):\n",
    "    for y in range(img.shape[0]):\n",
    "        for x in range(img.shape[1]):\n",
    "            if img[y,x] == 0:     \n",
    "                finalImg[y,x] = 255\n",
    "            else :\n",
    "                finalImg[y,x] = 0\n",
    "\n",
    "\n",
    "\n",
    "dictionary = [3,6,7,12,24,28,14,224,225,216,143,15,30,48,52,96,112,54,240,227,131,135,99,56,60,120,62,129,192,248,251,195,141]\n",
    "\n",
    "def skeletonize(img):\n",
    "    for c in range(1, img.shape[1]-1):\n",
    "        for r in range(1, img.shape[0]-1):\n",
    "            if img[r,c]==0:\n",
    "                b = calculateB(img, r, c)\n",
    "                #print(str([r,c]) + \": b = \" + str(b) )\n",
    "                if classifyB(b):\n",
    "                    img[r,c] = 150\n",
    "    for c in range(1, img.shape[1]-1):\n",
    "        for r in range(1, img.shape[0]-1):\n",
    "            if img[r,c]==150:\n",
    "                #print(True)\n",
    "                img[r,c] = 255\n",
    "    \n",
    "\n",
    "def calculateB(img, r, c):\n",
    "    numbers = [int(img[r-1,c]),int(img[r-1,c+1]),int(img[r,c+1]),int(img[r+1,c+1]),int(img[r+1,c]),int(img[r+1,c-1]),int(img[r,c-1]),int(img[r-1,c-1])]\n",
    "    #numbers = [int(img[c,r+1]),int(img[c+1,r+1]),int(img[c+1,r]),int(img[c+1,r-1]),int(img[c,r-1]),int(img[c-1,r-1]),int(img[c-1,r]),int(img[c-1,r+1])]\n",
    "    #print(numbers)\n",
    "    b = 0\n",
    "    for i in range(0,8):\n",
    "        if numbers[i]<140:\n",
    "            b+=2**i\n",
    "    #print(b)\n",
    "    return b\n",
    "\n",
    "def classifyB(b):\n",
    "    for i in dictionary:\n",
    "        if int(b) == int(i):\n",
    "            #print(b)\n",
    "            return True\n",
    "    return False \n",
    "\n",
    "#results are satisfactory on single word but still need tweaking on single character\n",
    "#still need a way to decide how many iterations of skeletonizations are needed\n",
    "\n",
    "\n",
    "\n",
    "\n",
    "def normalize(img):\n",
    "    for c in range(1, img.shape[1]-1):\n",
    "        for r in range(1, img.shape[0]-1):\n",
    "            if img[r,c]==0:\n",
    "                b = calculateB2(img, r, c)\n",
    "                if int(img[r-1,c+1])==0 and int(img[r,c+1])==255:\n",
    "                    #print(\"b: \" + str(b))\n",
    "                    #print(\"Go NE start at: \" + str([r,c]))\n",
    "                    trackAndSwitchNE(img, r, c)\n",
    "                \n",
    "                if int(img[r+1,c+1]) == 0 and int(img[r,c+1])==255:\n",
    "                    #print(\"b: \" + str(b))\n",
    "                    #print(\"Go SE start at: \" + str([r,c]))\n",
    "                    trackAndSwitchSE(img, r, c)\n",
    "                \n",
    "\n",
    "    \n",
    "\n",
    "def calculateB2(img, r, c):\n",
    "    numbers = [int(img[r-1,c]),int(img[r-1,c+1]),int(img[r,c+1]),int(img[r+1,c+1]),int(img[r+1,c]),int(img[r+1,c-1]),int(img[r,c-1]),int(img[r-1,c-1])]\n",
    "    #print(numbers)\n",
    "    b = 0\n",
    "    for i in range(0,8):\n",
    "        if numbers[i]<160:\n",
    "            b+=2**i\n",
    "    #print(b)\n",
    "    return b\n",
    "\n",
    "def trackAndSwitchNE(img,r,c):\n",
    "    row = r\n",
    "    y = 0\n",
    "    column = c\n",
    "    x = 0\n",
    "    addresses = []\n",
    "    while True:\n",
    "        \n",
    "        if int(img[row-1,column+1]) == 0 and int(img[row,column+1]) == 255:\n",
    "            if int(img[row-1,column]) == 0:\n",
    "                #print(\"break\")\n",
    "                break\n",
    "            row+=-1\n",
    "            y+=1\n",
    "            column+=1\n",
    "            x+=1\n",
    "            addresses.append([row,column])\n",
    "        elif int(img[row,column+1]) == 0:\n",
    "            if int(img[row-1,column]) == 0:\n",
    "                #print(\"break\")\n",
    "                break\n",
    "            column+=1\n",
    "            x+=1\n",
    "            addresses.append([row,column])\n",
    "        else: \n",
    "            break\n",
    "    #print(\"addresses: \" + str(addresses))\n",
    "    #print(\"x: \" + str(x))\n",
    "    #print(\"y: \" + str(y))\n",
    "    for index in addresses:\n",
    "        img[index[0],index[1]]=255\n",
    "    \n",
    "    for increment in range(0,y):\n",
    "        img[r-increment,c]=0\n",
    "        #print(\"row build: \" + str([r-increment,c]))\n",
    "    \n",
    "    \n",
    "    for increment2 in range(0,x+1):\n",
    "        #print(\"success\")\n",
    "        img[r-y, c+increment2]=0\n",
    "        #print(\"column build: \" + str([r-y, c+increment2]))\n",
    "        \n",
    "def trackAndSwitchSE(img,r,c):\n",
    "    row = r\n",
    "    y = 0\n",
    "    column = c\n",
    "    x = 0\n",
    "    addresses = []\n",
    "    while True:\n",
    "        \n",
    "        if int(img[row+1,column+1]) == 0 and int(img[row,column+1]) == 255:\n",
    "            #if int(img[row-1,column]) == 0:\n",
    "                #break\n",
    "            row+=1\n",
    "            y+=1\n",
    "            column+=1\n",
    "            x+=1\n",
    "            addresses.append([row,column])\n",
    "        elif int(img[row,column+1]) == 0:\n",
    "            if int(img[row-1,column+1]) == 0:\n",
    "                #print(\"break\")\n",
    "                break\n",
    "            column+=1\n",
    "            x+=1\n",
    "            addresses.append([row,column])\n",
    "        else: \n",
    "            break\n",
    "    #print(\"addresses: \" + str(addresses))\n",
    "    #print(\"x: \" + str(x))\n",
    "    #print(\"y: \" + str(y))\n",
    "    for index in addresses:\n",
    "        img[index[0],index[1]]=255\n",
    "    \n",
    "    for increment in range(0,y):\n",
    "        img[r+increment,c]=0\n",
    "        #print(\"row build: \" + str([r+increment,c]))\n",
    "    \n",
    "    \n",
    "    for increment2 in range(0,x+1):\n",
    "        #print(\"success\")\n",
    "        img[r+y, c+increment2]=0\n",
    "        #print(\"column build: \" + str([r+y, c+increment2]))\n",
    "\n",
    "\n",
    "def getBaseline(img):\n",
    "    baselineDensity = 0\n",
    "    baselineRow = 0\n",
    "    for r in range(0, img.shape[0]):\n",
    "        currentSum = 0\n",
    "        for c in range(0, img.shape[1]):\n",
    "            if img[r,c]==0:\n",
    "                currentSum+=1\n",
    "        if currentSum>baselineDensity:\n",
    "            baselineDensity = currentSum\n",
    "            baselineRow = r\n",
    "\n",
    "    return baselineRow\n"
   ]
  },
  {
   "cell_type": "code",
   "execution_count": null,
   "metadata": {},
   "outputs": [],
   "source": []
  },
  {
   "cell_type": "code",
   "execution_count": 4,
   "metadata": {},
   "outputs": [
    {
     "name": "stderr",
     "output_type": "stream",
     "text": [
      "100%|██████████████████████████████████████████████████████████████████████████| 13440/13440 [00:02<00:00, 4991.60it/s]\n",
      "100%|████████████████████████████████████████████████████████████████████████████| 3360/3360 [00:00<00:00, 5115.61it/s]\n"
     ]
    }
   ],
   "source": [
    "#we need to convert the images to a matrix so we can build our test and train sets\n",
    "\n",
    "DIRECTORY = r\"C:\\Users\\rassa\\Documents\\Machine Learning A-Z  Udemy\\Arabic Handwritten Characters Dataset\"\n",
    "train_data = []\n",
    "test_data = []\n",
    "trainPath = DIRECTORY + r\"\\Train Images 13440x32x32\\train\"\n",
    "testPath  = DIRECTORY + r\"\\Test Images 3360x32x32\\test\"\n",
    "\n",
    "\n",
    "def getImgId(imgName):\n",
    "    return int(imgName.split('_')[1])\n",
    "\n",
    "def makeData(data, directory, sortingCriteria):\n",
    "    imgFileNameList = os.listdir(directory)     #get list of directories in path (ie. list of image names but they are in random order) \n",
    "    imgFileNameList.sort(key = sortingCriteria) #sort list based on key which is a function that returns the label number in the image name\n",
    "    \n",
    "    for img in tqdm(imgFileNameList):  # iterate over the sorted list\n",
    "                try:\n",
    "                    img_array = cv2.imread(os.path.join(directory, img) ,cv2.IMREAD_GRAYSCALE)  # convert image to array \n",
    "                    img_array_BTW = np.zeros(img_array.shape, img_array.dtype)\n",
    "                    #now we must pre-process the image before adding it to the data\n",
    "                    blackToWhite(img_array, img_array_BTW)\n",
    "                    skeletonize(img_array_BTW)\n",
    "                    skeletonize(img_array_BTW)\n",
    "                    skeletonize(img_array_BTW)\n",
    "                    normalize(img_array_BTW)\n",
    "                    normalize(img_array_BTW)\n",
    "                    normalize(img_array_BTW)\n",
    "                    data.append([img_array_BTW])  # add this to our data\n",
    "                except Exception as e:  # just in case there is a mistake.\n",
    "                    print(e.message, e.args, str(img))\n",
    "                    pass\n",
    "\n",
    "makeData(train_data, trainPath, getImgId)\n",
    "makeData(test_data, testPath, getImgId)\n",
    "\n",
    "# convert to ndarray and reshape\n",
    "train_data = np.asarray(train_data).reshape([-1, 32, 32, 1])\n",
    "test_data = np.asarray(test_data).reshape([-1, 32, 32, 1])"
   ]
  },
  {
   "cell_type": "code",
   "execution_count": 3,
   "metadata": {},
   "outputs": [],
   "source": [
    "#Load the labels\n",
    "#header = 0 because\n",
    "#this creates a pandas dataframe (basically a table)\n",
    "train_label = pd.read_csv(DIRECTORY + '/csvTrainLabel 13440x1.csv', header = None)\n",
    "test_label = pd.read_csv(DIRECTORY +  '/csvTestLabel 3360x1.csv', header = None)"
   ]
  },
  {
   "cell_type": "code",
   "execution_count": 4,
   "metadata": {},
   "outputs": [],
   "source": [
    "#train_data = train_data.iloc[:,:].values.astype('float32')\n",
    "train_label = train_label.iloc[:,:].values.astype('int32')-1\n",
    "#test_data = test_data.iloc[:,:].values.astype('float32') we don't need these anymore\n",
    "test_label = test_label.iloc[:,:].values.astype('int32')-1\n"
   ]
  },
  {
   "cell_type": "code",
   "execution_count": 5,
   "metadata": {},
   "outputs": [],
   "source": [
    "train_label = du.to_categorical(train_label,28)"
   ]
  },
  {
   "cell_type": "code",
   "execution_count": 6,
   "metadata": {},
   "outputs": [],
   "source": [
    "train_data = train_data/255\n",
    "test_data = test_data/255"
   ]
  },
  {
   "cell_type": "code",
   "execution_count": 7,
   "metadata": {},
   "outputs": [],
   "source": [
    "#train_data, mean1 = du.featurewise_zero_center(train_data)\n",
    "#test_data, mean2 = du.featurewise_zero_center(test_data)"
   ]
  },
  {
   "cell_type": "code",
   "execution_count": 6,
   "metadata": {},
   "outputs": [
    {
     "data": {
      "text/plain": [
       "<matplotlib.image.AxesImage at 0x2ce5f321130>"
      ]
     },
     "execution_count": 6,
     "metadata": {},
     "output_type": "execute_result"
    },
    {
     "data": {
      "image/png": "[encoded data removed]",
      "text/plain": [
       "<Figure size 432x288 with 1 Axes>"
      ]
     },
     "metadata": {
      "needs_background": "light"
     },
     "output_type": "display_data"
    }
   ],
   "source": [
    "plt.imshow(train_data[1], cmap='gray', vmin=0, vmax=255)\n"
   ]
  },
  {
   "cell_type": "code",
   "execution_count": 12,
   "metadata": {},
   "outputs": [
    {
     "data": {
      "text/plain": [
       "<matplotlib.image.AxesImage at 0x2ce609b9c10>"
      ]
     },
     "execution_count": 12,
     "metadata": {},
     "output_type": "execute_result"
    },
    {
     "data": {
      "image/png": "[encoded data removed]",
      "text/plain": [
       "<Figure size 432x288 with 1 Axes>"
      ]
     },
     "metadata": {
      "needs_background": "light"
     },
     "output_type": "display_data"
    }
   ],
   "source": [
    "test_img1 = train_data[1].reshape([32,32])\n",
    "\n",
    "test_img1_BTW = np.zeros(test_img1.shape, test_img1.dtype)\n",
    "blackToWhite(test_img1, test_img1_BTW)\n",
    "plt.imshow(test_img1_BTW, cmap='gray', vmin=0, vmax=255)"
   ]
  },
  {
   "cell_type": "code",
   "execution_count": 13,
   "metadata": {},
   "outputs": [
    {
     "data": {
      "text/plain": [
       "<matplotlib.image.AxesImage at 0x2ce60a0ef70>"
      ]
     },
     "execution_count": 13,
     "metadata": {},
     "output_type": "execute_result"
    },
    {
     "data": {
      "image/png": "[encoded data removed]",
      "text/plain": [
       "<Figure size 432x288 with 1 Axes>"
      ]
     },
     "metadata": {
      "needs_background": "light"
     },
     "output_type": "display_data"
    }
   ],
   "source": [
    "skeletonize(test_img1_BTW)\n",
    "skeletonize(test_img1_BTW)\n",
    "skeletonize(test_img1_BTW)\n",
    "normalize(test_img1_BTW)\n",
    "normalize(test_img1_BTW)\n",
    "normalize(test_img1_BTW)\n",
    "plt.imshow(test_img1_BTW, cmap='gray', vmin=0, vmax=255)"
   ]
  },
  {
   "cell_type": "markdown",
   "metadata": {},
   "source": [
    "## Now let's look at character segmentation"
   ]
  },
  {
   "cell_type": "code",
   "execution_count": 14,
   "metadata": {},
   "outputs": [
    {
     "ename": "SyntaxError",
     "evalue": "invalid syntax (<ipython-input-14-e133e063ac25>, line 1)",
     "output_type": "error",
     "traceback": [
      "\u001b[1;36m  File \u001b[1;32m\"<ipython-input-14-e133e063ac25>\"\u001b[1;36m, line \u001b[1;32m1\u001b[0m\n\u001b[1;33m    python -m pip install -U pip\u001b[0m\n\u001b[1;37m              ^\u001b[0m\n\u001b[1;31mSyntaxError\u001b[0m\u001b[1;31m:\u001b[0m invalid syntax\n"
     ]
    }
   ],
   "source": [
    "python -m pip install -U pip"
   ]
  }
 ],
 "metadata": {
  "celltoolbar": "Raw Cell Format",
  "kernelspec": {
   "display_name": "Python 3",
   "language": "python",
   "name": "python3"
  },
  "language_info": {
   "codemirror_mode": {
    "name": "ipython",
    "version": 3
   },
   "file_extension": ".py",
   "mimetype": "text/x-python",
   "name": "python",
   "nbconvert_exporter": "python",
   "pygments_lexer": "ipython3",
   "version": "3.8.5"
  }
 },
 "nbformat": 4,
 "nbformat_minor": 4
}
