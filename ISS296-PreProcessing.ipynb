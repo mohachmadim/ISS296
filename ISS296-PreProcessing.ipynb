{
 "cells": [
  {
   "cell_type": "code",
   "execution_count": 1,
   "metadata": {},
   "outputs": [],
   "source": [
    "from keras.preprocessing.image import load_img \n",
    "from keras.preprocessing.image import img_to_array \n",
    "from keras.preprocessing.image import array_to_img\n",
    "import warnings\n",
    "import numpy as np\n",
    "import sys\n",
    "import pandas as pd\n",
    "import matplotlib.pyplot as plt\n",
    "import matplotlib.image as mpimg\n",
    "import os \n",
    "import cv2\n",
    "import tensorflow as tf \n",
    "from PIL import Image \n",
    "from numpy import asarray\n",
    "from tqdm import tqdm\n",
    "import argparse\n",
    "from __future__ import print_function\n",
    "from builtins import input\n",
    "\n"
   ]
  },
  {
   "cell_type": "code",
   "execution_count": null,
   "metadata": {},
   "outputs": [],
   "source": [
    "DATADIR = r\"C:\\Users\\rassa\\Documents\\Machine Learning A-Z  Udemy\\Arabic Handwritten Characters Dataset\"\n",
    "#np.set_printoptions(threshold=sys.maxsize)\n",
    "\n",
    "# using opencv library's imread\n",
    "cv2image = cv2.imread(DATADIR+ r\"\\Train Images 13440x32x32\\train\\id_1_label_1.png\", cv2.IMREAD_GRAYSCALE)\n",
    "print(cv2image)\n",
    "cv2image.shape\n",
    "cv2.imshow('cv2image', cv2image)\n",
    "cv2.waitKey(0)\n",
    "cv2.destroyAllWindows()\n",
    "cv2image.shape"
   ]
  },
  {
   "cell_type": "code",
   "execution_count": null,
   "metadata": {},
   "outputs": [],
   "source": [
    "# using asarray from numpy\n",
    "img2 = Image.open(DATADIR+ r\"\\Train Images 13440x32x32\\train\\id_1_label_1.png\")\n",
    "\n",
    "asarrayimage = asarray(img2)\n",
    "print(asarrayimage)\n",
    "\n",
    "plt.imshow(asarrayimage)\n",
    "cv2.imshow('asarray', asarrayimage)\n",
    "cv2.waitKey(0)\n",
    "cv2.destroyAllWindows()\n",
    "asarrayimage.shape\n",
    "asarrayimage.dtype"
   ]
  },
  {
   "cell_type": "code",
   "execution_count": null,
   "metadata": {},
   "outputs": [],
   "source": [
    "# using keras image _to_array\n",
    "imgK = load_img(DATADIR+ r\"\\Train Images 13440x32x32\\train\\id_1_label_1.png\")\n",
    "imgKdata = img_to_array(imgK)\n",
    "print(imgKdata)\n",
    "plt.imshow(imgKdata)\n",
    "imgKdata.shape"
   ]
  },
  {
   "cell_type": "code",
   "execution_count": null,
   "metadata": {},
   "outputs": [],
   "source": [
    "# now we try to get the image from the csv file\n",
    "\n",
    "csvarray = pd.read_csv(DATADIR + r\"\\csvTrainImages 13440x1024.csv\", nrows = 1, header= None)\n",
    "\n",
    "csvarray.shape\n",
    "csvarray= csvarray.iloc[:,:].values.astype('uint8')\n",
    "csvarray.shape\n",
    "csvarray = csvarray.reshape([32, 32, 1])\n",
    "csvarray.shape\n",
    "\n",
    "print(csvarray)\n"
   ]
  },
  {
   "cell_type": "code",
   "execution_count": null,
   "metadata": {},
   "outputs": [],
   "source": [
    "kerasimgfromcsv = array_to_img(csvarray)\n",
    "plt.imshow(kerasimgfromcsv)\n",
    "cv2.imshow('example', csvarray)\n",
    "cv2.waitKey(0)\n",
    "cv2.destroyAllWindows()"
   ]
  },
  {
   "cell_type": "code",
   "execution_count": null,
   "metadata": {},
   "outputs": [],
   "source": [
    "# no dice, still dont know how they did it...\n",
    "# let's just convert the pictures our own way...\n",
    "\n",
    "path = DATADIR+ r\"\\Train Images 13440x32x32\\train\"\n",
    "\n",
    "#returns a list containing all the directories in path (names of the images)\n",
    "imgFileNameList = os.listdir(path)\n",
    "\n",
    "\n",
    "print(imgFileNameList[0])\n",
    "imageIdTest = imgFileNameList[0].split('_')[1]\n",
    "print(imageIdTest)\n",
    "\n",
    "#it work! so now we use this label as our sorting criteria\n",
    "def getImgId(imgName):\n",
    "    return int(imgName.split('_')[1])\n",
    "\n",
    "imgFileNameList.sort(key=getImgId)\n",
    "print(imgFileNameList)"
   ]
  },
  {
   "cell_type": "code",
   "execution_count": null,
   "metadata": {},
   "outputs": [],
   "source": [
    "img_array = cv2.imread(os.path.join(path,imgFileNameList[0]) ,cv2.IMREAD_GRAYSCALE)\n",
    "cv2.imshow('test',img_array)\n",
    "cv2.waitKey(0)\n",
    "cv2.destroyAllWindows()\n",
    "img_array.shape\n",
    "img_array.reshape([32,32,1])\n",
    "\n",
    "# it works!"
   ]
  },
  {
   "cell_type": "code",
   "execution_count": null,
   "metadata": {},
   "outputs": [],
   "source": [
    "#now we make our new train_data\n",
    "train_data = []\n",
    "\n",
    "for img in tqdm(imgFileNameList):  # iterate over each image per dogs and cats\n",
    "            try:\n",
    "                img_array = cv2.imread(os.path.join(path,img) ,cv2.IMREAD_GRAYSCALE)  # convert to array\n",
    "                train_data.append([img_array])  # add this to our training_data\n",
    "            except Exception as e:  # in the interest in keeping the output clean...\n",
    "                pass\n"
   ]
  },
  {
   "cell_type": "code",
   "execution_count": null,
   "metadata": {},
   "outputs": [],
   "source": [
    "#let's have a look at the shape of our array\n",
    "train_data = np.asarray(train_data)\n",
    "print(train_data.shape)\n",
    "train_data = train_data.reshape([-1, 32, 32, 1])\n",
    "print(train_data.shape)\n",
    "np.set_printoptions(threshold=1000)\n",
    "print(train_data)\n",
    "#looks the same as train_data from our model!"
   ]
  },
  {
   "cell_type": "code",
   "execution_count": 2,
   "metadata": {},
   "outputs": [
    {
     "name": "stderr",
     "output_type": "stream",
     "text": [
      "100%|██████████████████████████████████████████████████████████████████████████| 13440/13440 [00:02<00:00, 4746.72it/s]\n",
      "100%|████████████████████████████████████████████████████████████████████████████| 3360/3360 [00:00<00:00, 4798.96it/s]"
     ]
    },
    {
     "name": "stdout",
     "output_type": "stream",
     "text": [
      "(13440, 32, 32, 1)\n",
      "(13440, 32, 32, 1)\n",
      "[[[[0]\n",
      "   [0]\n",
      "   [0]\n",
      "   ...\n",
      "   [0]\n",
      "   [0]\n",
      "   [0]]\n",
      "\n",
      "  [[0]\n",
      "   [0]\n",
      "   [0]\n",
      "   ...\n",
      "   [0]\n",
      "   [0]\n",
      "   [0]]\n",
      "\n",
      "  [[0]\n",
      "   [0]\n",
      "   [0]\n",
      "   ...\n",
      "   [0]\n",
      "   [0]\n",
      "   [0]]\n",
      "\n",
      "  ...\n",
      "\n",
      "  [[0]\n",
      "   [0]\n",
      "   [0]\n",
      "   ...\n",
      "   [0]\n",
      "   [0]\n",
      "   [0]]\n",
      "\n",
      "  [[0]\n",
      "   [0]\n",
      "   [0]\n",
      "   ...\n",
      "   [0]\n",
      "   [0]\n",
      "   [0]]\n",
      "\n",
      "  [[0]\n",
      "   [0]\n",
      "   [0]\n",
      "   ...\n",
      "   [0]\n",
      "   [0]\n",
      "   [0]]]\n",
      "\n",
      "\n",
      " [[[0]\n",
      "   [0]\n",
      "   [0]\n",
      "   ...\n",
      "   [0]\n",
      "   [0]\n",
      "   [0]]\n",
      "\n",
      "  [[0]\n",
      "   [0]\n",
      "   [0]\n",
      "   ...\n",
      "   [0]\n",
      "   [0]\n",
      "   [0]]\n",
      "\n",
      "  [[0]\n",
      "   [0]\n",
      "   [0]\n",
      "   ...\n",
      "   [0]\n",
      "   [0]\n",
      "   [0]]\n",
      "\n",
      "  ...\n",
      "\n",
      "  [[0]\n",
      "   [0]\n",
      "   [0]\n",
      "   ...\n",
      "   [0]\n",
      "   [0]\n",
      "   [0]]\n",
      "\n",
      "  [[0]\n",
      "   [0]\n",
      "   [0]\n",
      "   ...\n",
      "   [0]\n",
      "   [0]\n",
      "   [0]]\n",
      "\n",
      "  [[0]\n",
      "   [0]\n",
      "   [0]\n",
      "   ...\n",
      "   [0]\n",
      "   [0]\n",
      "   [0]]]\n",
      "\n",
      "\n",
      " [[[0]\n",
      "   [0]\n",
      "   [0]\n",
      "   ...\n",
      "   [0]\n",
      "   [0]\n",
      "   [0]]\n",
      "\n",
      "  [[0]\n",
      "   [0]\n",
      "   [0]\n",
      "   ...\n",
      "   [0]\n",
      "   [0]\n",
      "   [0]]\n",
      "\n",
      "  [[0]\n",
      "   [0]\n",
      "   [0]\n",
      "   ...\n",
      "   [0]\n",
      "   [0]\n",
      "   [0]]\n",
      "\n",
      "  ...\n",
      "\n",
      "  [[0]\n",
      "   [0]\n",
      "   [0]\n",
      "   ...\n",
      "   [0]\n",
      "   [0]\n",
      "   [0]]\n",
      "\n",
      "  [[0]\n",
      "   [0]\n",
      "   [0]\n",
      "   ...\n",
      "   [0]\n",
      "   [0]\n",
      "   [0]]\n",
      "\n",
      "  [[0]\n",
      "   [0]\n",
      "   [0]\n",
      "   ...\n",
      "   [0]\n",
      "   [0]\n",
      "   [0]]]\n",
      "\n",
      "\n",
      " ...\n",
      "\n",
      "\n",
      " [[[0]\n",
      "   [0]\n",
      "   [0]\n",
      "   ...\n",
      "   [0]\n",
      "   [0]\n",
      "   [0]]\n",
      "\n",
      "  [[0]\n",
      "   [0]\n",
      "   [0]\n",
      "   ...\n",
      "   [0]\n",
      "   [0]\n",
      "   [0]]\n",
      "\n",
      "  [[0]\n",
      "   [0]\n",
      "   [0]\n",
      "   ...\n",
      "   [0]\n",
      "   [0]\n",
      "   [0]]\n",
      "\n",
      "  ...\n",
      "\n",
      "  [[0]\n",
      "   [0]\n",
      "   [0]\n",
      "   ...\n",
      "   [0]\n",
      "   [0]\n",
      "   [0]]\n",
      "\n",
      "  [[0]\n",
      "   [0]\n",
      "   [0]\n",
      "   ...\n",
      "   [0]\n",
      "   [0]\n",
      "   [0]]\n",
      "\n",
      "  [[0]\n",
      "   [0]\n",
      "   [0]\n",
      "   ...\n",
      "   [0]\n",
      "   [0]\n",
      "   [0]]]\n",
      "\n",
      "\n",
      " [[[0]\n",
      "   [0]\n",
      "   [0]\n",
      "   ...\n",
      "   [0]\n",
      "   [0]\n",
      "   [0]]\n",
      "\n",
      "  [[0]\n",
      "   [0]\n",
      "   [0]\n",
      "   ...\n",
      "   [0]\n",
      "   [0]\n",
      "   [0]]\n",
      "\n",
      "  [[0]\n",
      "   [0]\n",
      "   [0]\n",
      "   ...\n",
      "   [0]\n",
      "   [0]\n",
      "   [0]]\n",
      "\n",
      "  ...\n",
      "\n",
      "  [[0]\n",
      "   [0]\n",
      "   [0]\n",
      "   ...\n",
      "   [0]\n",
      "   [0]\n",
      "   [0]]\n",
      "\n",
      "  [[0]\n",
      "   [0]\n",
      "   [0]\n",
      "   ...\n",
      "   [0]\n",
      "   [0]\n",
      "   [0]]\n",
      "\n",
      "  [[0]\n",
      "   [0]\n",
      "   [0]\n",
      "   ...\n",
      "   [0]\n",
      "   [0]\n",
      "   [0]]]\n",
      "\n",
      "\n",
      " [[[0]\n",
      "   [0]\n",
      "   [0]\n",
      "   ...\n",
      "   [0]\n",
      "   [0]\n",
      "   [0]]\n",
      "\n",
      "  [[0]\n",
      "   [0]\n",
      "   [0]\n",
      "   ...\n",
      "   [0]\n",
      "   [0]\n",
      "   [0]]\n",
      "\n",
      "  [[0]\n",
      "   [0]\n",
      "   [0]\n",
      "   ...\n",
      "   [0]\n",
      "   [0]\n",
      "   [0]]\n",
      "\n",
      "  ...\n",
      "\n",
      "  [[0]\n",
      "   [0]\n",
      "   [0]\n",
      "   ...\n",
      "   [0]\n",
      "   [0]\n",
      "   [0]]\n",
      "\n",
      "  [[0]\n",
      "   [0]\n",
      "   [0]\n",
      "   ...\n",
      "   [0]\n",
      "   [0]\n",
      "   [0]]\n",
      "\n",
      "  [[0]\n",
      "   [0]\n",
      "   [0]\n",
      "   ...\n",
      "   [0]\n",
      "   [0]\n",
      "   [0]]]]\n"
     ]
    },
    {
     "name": "stderr",
     "output_type": "stream",
     "text": [
      "\n"
     ]
    }
   ],
   "source": [
    "#Let's put allwe need in one cell and test!\n",
    "DATADIR = r\"C:\\Users\\rassa\\Documents\\Machine Learning A-Z  Udemy\\Arabic Handwritten Characters Dataset\"\n",
    "train_data = []\n",
    "test_data = []\n",
    "trainPath = DATADIR + r\"\\Train Images 13440x32x32\\train\"\n",
    "testPath  = DATADIR + r\"\\Test Images 3360x32x32\\test\"\n",
    "\n",
    "def getImgId(imgName):\n",
    "    return int(imgName.split('_')[1])\n",
    "\n",
    "def makeData(data, directory, sortingCriteria):\n",
    "    imgFileNameList = os.listdir(directory)     #get list of directories in path (ie. list of image names)\n",
    "    imgFileNameList.sort(key = sortingCriteria) #sort list based on key\n",
    "    \n",
    "    for img in tqdm(imgFileNameList):  # iterate over the sorted list\n",
    "                try:\n",
    "                    img_array = cv2.imread(os.path.join(directory, img) ,cv2.IMREAD_GRAYSCALE)  # convert image to array\n",
    "                    data.append([img_array])  # add this to our data\n",
    "                except Exception as e:  # just in case there is a mistake.\n",
    "                    pass\n",
    "\n",
    "makeData(train_data, trainPath, getImgId)\n",
    "makeData(test_data, testPath, getImgId)\n",
    "\n",
    "# convert to ndarray and reshape\n",
    "train_data = np.asarray(train_data).reshape([-1, 32, 32, 1])\n",
    "test_data = np.asarray(test_data).reshape([-1, 32, 32, 1])\n",
    "print(train_data.shape)\n",
    "print(train_data)"
   ]
  },
  {
   "cell_type": "code",
   "execution_count": 8,
   "metadata": {},
   "outputs": [
    {
     "name": "stdout",
     "output_type": "stream",
     "text": [
      "(3360, 32, 32, 1)\n",
      "(32, 32, 1)\n",
      "[[[0]\n",
      "  [0]\n",
      "  [0]\n",
      "  ...\n",
      "  [0]\n",
      "  [0]\n",
      "  [0]]\n",
      "\n",
      " [[0]\n",
      "  [0]\n",
      "  [0]\n",
      "  ...\n",
      "  [0]\n",
      "  [0]\n",
      "  [0]]\n",
      "\n",
      " [[0]\n",
      "  [0]\n",
      "  [0]\n",
      "  ...\n",
      "  [0]\n",
      "  [0]\n",
      "  [0]]\n",
      "\n",
      " ...\n",
      "\n",
      " [[0]\n",
      "  [0]\n",
      "  [0]\n",
      "  ...\n",
      "  [0]\n",
      "  [0]\n",
      "  [0]]\n",
      "\n",
      " [[0]\n",
      "  [0]\n",
      "  [0]\n",
      "  ...\n",
      "  [0]\n",
      "  [0]\n",
      "  [0]]\n",
      "\n",
      " [[0]\n",
      "  [0]\n",
      "  [0]\n",
      "  ...\n",
      "  [0]\n",
      "  [0]\n",
      "  [0]]]\n"
     ]
    }
   ],
   "source": [
    "print(test_data.shape)\n",
    "print(train_data[0].shape)\n",
    "print(train_data[0])"
   ]
  },
  {
   "cell_type": "code",
   "execution_count": 7,
   "metadata": {},
   "outputs": [
    {
     "name": "stdout",
     "output_type": "stream",
     "text": [
      "[[[[0]\n",
      "   [0]\n",
      "   [0]\n",
      "   ...\n",
      "   [0]\n",
      "   [0]\n",
      "   [0]]\n",
      "\n",
      "  [[0]\n",
      "   [0]\n",
      "   [0]\n",
      "   ...\n",
      "   [0]\n",
      "   [0]\n",
      "   [0]]\n",
      "\n",
      "  [[0]\n",
      "   [0]\n",
      "   [0]\n",
      "   ...\n",
      "   [0]\n",
      "   [0]\n",
      "   [0]]\n",
      "\n",
      "  ...\n",
      "\n",
      "  [[0]\n",
      "   [0]\n",
      "   [0]\n",
      "   ...\n",
      "   [0]\n",
      "   [0]\n",
      "   [0]]\n",
      "\n",
      "  [[0]\n",
      "   [0]\n",
      "   [0]\n",
      "   ...\n",
      "   [0]\n",
      "   [0]\n",
      "   [0]]\n",
      "\n",
      "  [[0]\n",
      "   [0]\n",
      "   [0]\n",
      "   ...\n",
      "   [0]\n",
      "   [0]\n",
      "   [0]]]\n",
      "\n",
      "\n",
      " [[[0]\n",
      "   [0]\n",
      "   [0]\n",
      "   ...\n",
      "   [0]\n",
      "   [0]\n",
      "   [0]]\n",
      "\n",
      "  [[0]\n",
      "   [0]\n",
      "   [0]\n",
      "   ...\n",
      "   [0]\n",
      "   [0]\n",
      "   [0]]\n",
      "\n",
      "  [[0]\n",
      "   [0]\n",
      "   [0]\n",
      "   ...\n",
      "   [0]\n",
      "   [0]\n",
      "   [0]]\n",
      "\n",
      "  ...\n",
      "\n",
      "  [[0]\n",
      "   [0]\n",
      "   [0]\n",
      "   ...\n",
      "   [0]\n",
      "   [0]\n",
      "   [0]]\n",
      "\n",
      "  [[0]\n",
      "   [0]\n",
      "   [0]\n",
      "   ...\n",
      "   [0]\n",
      "   [0]\n",
      "   [0]]\n",
      "\n",
      "  [[0]\n",
      "   [0]\n",
      "   [0]\n",
      "   ...\n",
      "   [0]\n",
      "   [0]\n",
      "   [0]]]\n",
      "\n",
      "\n",
      " [[[0]\n",
      "   [0]\n",
      "   [0]\n",
      "   ...\n",
      "   [0]\n",
      "   [0]\n",
      "   [0]]\n",
      "\n",
      "  [[0]\n",
      "   [0]\n",
      "   [0]\n",
      "   ...\n",
      "   [0]\n",
      "   [0]\n",
      "   [0]]\n",
      "\n",
      "  [[0]\n",
      "   [0]\n",
      "   [0]\n",
      "   ...\n",
      "   [0]\n",
      "   [0]\n",
      "   [0]]\n",
      "\n",
      "  ...\n",
      "\n",
      "  [[0]\n",
      "   [0]\n",
      "   [0]\n",
      "   ...\n",
      "   [0]\n",
      "   [0]\n",
      "   [0]]\n",
      "\n",
      "  [[0]\n",
      "   [0]\n",
      "   [0]\n",
      "   ...\n",
      "   [0]\n",
      "   [0]\n",
      "   [0]]\n",
      "\n",
      "  [[0]\n",
      "   [0]\n",
      "   [0]\n",
      "   ...\n",
      "   [0]\n",
      "   [0]\n",
      "   [0]]]\n",
      "\n",
      "\n",
      " ...\n",
      "\n",
      "\n",
      " [[[0]\n",
      "   [0]\n",
      "   [0]\n",
      "   ...\n",
      "   [0]\n",
      "   [0]\n",
      "   [0]]\n",
      "\n",
      "  [[0]\n",
      "   [0]\n",
      "   [0]\n",
      "   ...\n",
      "   [0]\n",
      "   [0]\n",
      "   [0]]\n",
      "\n",
      "  [[0]\n",
      "   [0]\n",
      "   [0]\n",
      "   ...\n",
      "   [0]\n",
      "   [0]\n",
      "   [0]]\n",
      "\n",
      "  ...\n",
      "\n",
      "  [[0]\n",
      "   [0]\n",
      "   [0]\n",
      "   ...\n",
      "   [0]\n",
      "   [0]\n",
      "   [0]]\n",
      "\n",
      "  [[0]\n",
      "   [0]\n",
      "   [0]\n",
      "   ...\n",
      "   [0]\n",
      "   [0]\n",
      "   [0]]\n",
      "\n",
      "  [[0]\n",
      "   [0]\n",
      "   [0]\n",
      "   ...\n",
      "   [0]\n",
      "   [0]\n",
      "   [0]]]\n",
      "\n",
      "\n",
      " [[[0]\n",
      "   [0]\n",
      "   [0]\n",
      "   ...\n",
      "   [0]\n",
      "   [0]\n",
      "   [0]]\n",
      "\n",
      "  [[0]\n",
      "   [0]\n",
      "   [0]\n",
      "   ...\n",
      "   [0]\n",
      "   [0]\n",
      "   [0]]\n",
      "\n",
      "  [[0]\n",
      "   [0]\n",
      "   [0]\n",
      "   ...\n",
      "   [0]\n",
      "   [0]\n",
      "   [0]]\n",
      "\n",
      "  ...\n",
      "\n",
      "  [[0]\n",
      "   [0]\n",
      "   [0]\n",
      "   ...\n",
      "   [0]\n",
      "   [0]\n",
      "   [0]]\n",
      "\n",
      "  [[0]\n",
      "   [0]\n",
      "   [0]\n",
      "   ...\n",
      "   [0]\n",
      "   [0]\n",
      "   [0]]\n",
      "\n",
      "  [[0]\n",
      "   [0]\n",
      "   [0]\n",
      "   ...\n",
      "   [0]\n",
      "   [0]\n",
      "   [0]]]\n",
      "\n",
      "\n",
      " [[[0]\n",
      "   [0]\n",
      "   [0]\n",
      "   ...\n",
      "   [0]\n",
      "   [0]\n",
      "   [0]]\n",
      "\n",
      "  [[0]\n",
      "   [0]\n",
      "   [0]\n",
      "   ...\n",
      "   [0]\n",
      "   [0]\n",
      "   [0]]\n",
      "\n",
      "  [[0]\n",
      "   [0]\n",
      "   [0]\n",
      "   ...\n",
      "   [0]\n",
      "   [0]\n",
      "   [0]]\n",
      "\n",
      "  ...\n",
      "\n",
      "  [[0]\n",
      "   [0]\n",
      "   [0]\n",
      "   ...\n",
      "   [0]\n",
      "   [0]\n",
      "   [0]]\n",
      "\n",
      "  [[0]\n",
      "   [0]\n",
      "   [0]\n",
      "   ...\n",
      "   [0]\n",
      "   [0]\n",
      "   [0]]\n",
      "\n",
      "  [[0]\n",
      "   [0]\n",
      "   [0]\n",
      "   ...\n",
      "   [0]\n",
      "   [0]\n",
      "   [0]]]]\n"
     ]
    }
   ],
   "source": [
    "print(test_data)"
   ]
  },
  {
   "cell_type": "code",
   "execution_count": 10,
   "metadata": {},
   "outputs": [],
   "source": [
    "# more testing\n",
    "cv2.imshow('test', train_data[0])\n",
    "cv2.waitKey(0)\n",
    "cv2.destroyAllWindows()\n",
    "#it works!"
   ]
  },
  {
   "cell_type": "code",
   "execution_count": 7,
   "metadata": {},
   "outputs": [
    {
     "name": "stdout",
     "output_type": "stream",
     "text": [
      "162.0\n"
     ]
    }
   ],
   "source": []
  },
  {
   "cell_type": "code",
   "execution_count": 13,
   "metadata": {},
   "outputs": [
    {
     "name": "stdout",
     "output_type": "stream",
     "text": [
      "162.0\n",
      " Basic Linear Transforms \n",
      "-------------------------\n",
      "* Enter the alpha value [1.0-3.0]: 3.0\n",
      "* Enter the beta value [0-100]: 0\n"
     ]
    }
   ],
   "source": [
    "# Now let's try to work with a sample to test\n",
    "\n",
    "# Read image given by user\n",
    "#parser = argparse.ArgumentParser(description='Code for Changing the contrast and brightness of an image! tutorial.')\n",
    "#parser.add_argument('9alb-Ba2-0.png', help='C:\\Users\\rassa\\Desktop\\Desktop2.0\\CNN', default='9alb-Ba2-0.png')\n",
    "#args = parser.parse_args()\n",
    "#r\"C:\\Users\\rassa\\Desktop\\Desktop2.0\\CNN\\9alb-Ba2-0.png\") #\n",
    "image = cv2.imread(r\"C:\\Users\\rassa\\Desktop\\Desktop2.0\\CNN\\9alb-Ba2-0.png\") #(cv.samples.findFile(args.input))\n",
    "#removethe three dimensions and turn image to gray scale\n",
    "im_gray = cv2.cvtColor(image, cv2.COLOR_BGR2GRAY)\n",
    "#binarize the image using Otsu method to get the threshold, binarize to black and white(ie. 255)\n",
    "th, im_gray_th_otsu = cv2.threshold(im_gray, 128, 255, cv2.THRESH_OTSU)\n",
    "\n",
    "#print the threshold because I'm curious\n",
    "print(th)\n",
    "new_image = np.zeros(im_gray_th_otsu.shape, im_gray_th_otsu.dtype)\n",
    "alpha = 1.0 # Simple contrast control\n",
    "beta = 0    # Simple brightness control\n",
    "# Initialize values\n",
    "try:\n",
    "    alpha = float(input('* Enter the alpha value [1.0-3.0]: '))\n",
    "    beta = int(input('* Enter the beta value [0-100]: '))\n",
    "except ValueError:\n",
    "    print('Error, not a number')\n",
    "# Do the operation new_image(i,j) = alpha*image(i,j) + beta\n",
    "# Instead of these 'for' loops we could have used simply:\n",
    "# new_image = cv.convertScaleAbs(image, alpha=alpha, beta=beta)\n",
    "# but we wanted to show you how to access the pixels :)\n",
    "for y in range(im_gray_th_otsu.shape[0]):\n",
    "    for x in range(im_gray_th_otsu.shape[1]):\n",
    "        # the clip makes sure that the new values of the pixel are between 0 and 255\n",
    "        new_image[y,x] = np.clip(alpha*im_gray_th_otsu[y,x] + beta, 0, 255)\n",
    "\n",
    "#Show the images so we can compare them\n",
    "cv2.imshow('New Image', new_image)\n",
    "cv2.imshow('Original Image', image)\n",
    "cv2.imshow('Binarized image', im_gray_th_otsu)\n",
    "# Wait until user press some key\n",
    "cv2.waitKey(0) \n",
    "cv2.destroyAllWindows()"
   ]
  },
  {
   "cell_type": "code",
   "execution_count": 32,
   "metadata": {},
   "outputs": [
    {
     "name": "stdout",
     "output_type": "stream",
     "text": [
      "* Enter the alpha value [1.0-3.0]: 1.5\n",
      "* Enter the beta value [0-100]: 0\n",
      "253.0\n"
     ]
    }
   ],
   "source": [
    "# Now let's try enhacing the edges first\n",
    "\n",
    "# Read image given by user\n",
    "image = cv2.imread(r\"C:\\Users\\rassa\\Desktop\\Desktop2.0\\CNN\\9alb-Ba2-0.png\") #(cv.samples.findFile(args.input))\n",
    "kernel0 = np.array([[-1,-1,-1], [-1,9,-1], [-1,-1,-1]])\n",
    "\n",
    "\n",
    "edge_enhance_img0 = cv2.filter2D(image, -1, kernel0)\n",
    "\n",
    "\n",
    "contrast_img = np.zeros(edge_enhance_img0.shape, edge_enhance_img0.dtype)\n",
    "\n",
    "alpha = 1.0 # Simple contrast control\n",
    "beta = 0    # Simple brightness control\n",
    "\n",
    "# Initialize values\n",
    "try:\n",
    "    alpha = float(input('* Enter the alpha value [1.0-3.0]: '))\n",
    "    beta = int(input('* Enter the beta value [0-100]: '))\n",
    "except ValueError:\n",
    "    print('Error, not a number')\n",
    "    \n",
    "# Do the operation new_image(i,j) = alpha*image(i,j) + beta\n",
    "# Instead of these 'for' loops we could have used simply:\n",
    "# new_image = cv.convertScaleAbs(image, alpha=alpha, beta=beta)\n",
    "# but we wanted to show you how to access the pixels :)\n",
    "for y in range(edge_enhance_img0.shape[0]):\n",
    "    for x in range(edge_enhance_img0.shape[1]):\n",
    "        for c in range(edge_enhance_img0.shape[2]):\n",
    "            # the clip makes sure that the new values of the pixel are between 0 and 255\n",
    "            contrast_img[y,x,c] = np.clip(alpha*edge_enhance_img0[y,x,c] + beta, 0, 255)\n",
    "        \n",
    "#removethe three dimensions and turn image to gray scale\n",
    "im_gray = cv2.cvtColor(contrast_img, cv2.COLOR_BGR2GRAY)\n",
    "#binarize the image using Otsu method to get the threshold, binarize to black and white(ie. 255)\n",
    "th, im_gray_th_otsu = cv2.threshold(im_gray, 128, 255, cv2.THRESH_TRIANGLE)\n",
    "\n",
    "resized = cv2.resize(im_gray_th_otsu, (28,28), interpolation = cv2.INTER_AREA)\n",
    "#print the threshold because I'm curious\n",
    "print(th)\n",
    "\n",
    "#Show the images so we can compare them\n",
    "cv2.imshow('Original Image', image)\n",
    "cv2.imshow('Edge Enhaced0 image', edge_enhance_img0)\n",
    "cv2.imshow('Contrast image', contrast_img)\n",
    "cv2.imshow('New Image', im_gray_th_otsu)\n",
    "cv2.imshow('resized Image', resized)\n",
    "\n",
    "\n",
    "# Wait until user press some key\n",
    "cv2.waitKey(0) \n",
    "cv2.destroyAllWindows()\n",
    "\n"
   ]
  },
  {
   "cell_type": "code",
   "execution_count": 15,
   "metadata": {},
   "outputs": [],
   "source": [
    "# Now let's doing the contrast first\n",
    "\n",
    "# Read image given by user\n",
    "def preProcess(addr):\n",
    "    \n",
    "    image = cv2.imread(addr) #(cv.samples.findFile(args.input))\n",
    "    \n",
    "    contrast_img = np.zeros(image.shape, image.dtype)\n",
    "    \n",
    "    alpha = 1.0 # Simple contrast control\n",
    "    beta = 0    # Simple brightness control\n",
    "    \n",
    "    # Initialize values\n",
    "    try:\n",
    "        alpha = float(input('* Enter the alpha value [1.0-3.0]: '))\n",
    "        beta = int(input('* Enter the beta value [0-100]: '))\n",
    "    except ValueError:\n",
    "        print('Error, not a number')\n",
    "    \n",
    "    # Do the operation new_image(i,j) = alpha*image(i,j) + beta\n",
    "    # Instead of these 'for' loops we could have used simply:\n",
    "    # new_image = cv.convertScaleAbs(image, alpha=alpha, beta=beta)\n",
    "    # but we wanted to show you how to access the pixels :)\n",
    "    for y in range(image.shape[0]):\n",
    "        for x in range(image.shape[1]):\n",
    "            for c in range(image.shape[2]):\n",
    "                # the clip makes sure that the new values of the pixel are between 0 and 255\n",
    "                contrast_img[y,x,c] = np.clip(alpha*image[y,x,c] + beta, 0, 255)\n",
    "            \n",
    "    #removethe three dimensions and turn image to gray scale\n",
    "    im_gray = cv2.cvtColor(contrast_img, cv2.COLOR_BGR2GRAY)\n",
    "    #binarize the image using Otsu method to get the threshold, binarize to black and white(ie. 255)\n",
    "    th, im_gray_th_otsu = cv2.threshold(im_gray, 128, 255, cv2.THRESH_OTSU)\n",
    "    \n",
    "    if image.shape[0]>image.shape[1]*1.4:\n",
    "        resized = cv2.resize(im_gray_th_otsu, (32,int(32*image.shape[0]/image.shape[1])), interpolation = cv2.INTER_AREA)\n",
    "    elif image.shape[1]>image.shape[0]*1.4:\n",
    "        resized = cv2.resize(im_gray_th_otsu, (int(32*image.shape[1]/image.shape[0]),32), interpolation = cv2.INTER_AREA)\n",
    "    else:\n",
    "        resized = cv2.resize(im_gray_th_otsu, (32,32), interpolation = cv2.INTER_AREA)\n",
    "    \n",
    "    #print the threshold because I'm curious\n",
    "    print(th)\n",
    "    return [image, contrast_img, im_gray, im_gray_th_otsu, resized]\n",
    "\n",
    "def whiteToBlack(final_img, img ):\n",
    "    for y in range(img.shape[0]):\n",
    "        for x in range(img.shape[1]):\n",
    "            if img[y,x] < 125:     \n",
    "                final_img[y,x] = 255\n",
    "            else :\n",
    "                final_img[y,x] = 0\n",
    "\n",
    "\n"
   ]
  },
  {
   "cell_type": "code",
   "execution_count": 16,
   "metadata": {},
   "outputs": [
    {
     "name": "stdout",
     "output_type": "stream",
     "text": [
      "* Enter the alpha value [1.0-3.0]: 1.25\n",
      "* Enter the beta value [0-100]: 10\n",
      "212.0\n",
      "* Enter the alpha value [1.0-3.0]: 1.25\n",
      "* Enter the beta value [0-100]: 10\n",
      "205.0\n",
      "* Enter the alpha value [1.0-3.0]: 1.0\n",
      "* Enter the beta value [0-100]: 0\n",
      "0.0\n"
     ]
    }
   ],
   "source": [
    "Ba2LoImg = preProcess(r\"D:\\School\\MedTech\\Sophomore Pre-Eng\\ISS296\\CNN\\images\\9alb-Ba2-0.png\")\n",
    "kalbWordLoImg = preProcess(r\"D:\\School\\MedTech\\Sophomore Pre-Eng\\ISS296\\CNN\\images\\9alb.png\")\n",
    "sha3alWordLoImg  = preProcess(r\"C:\\Users\\rassa\\Documents\\Machine Learning A-Z  Udemy\\ifnenit-database-demo\\ifnenit-database-demo\\data\\set_a\\bmp\\ae07_050.bmp\")\n",
    "\n",
    "final_Ba2img = np.zeros(Ba2LoImg[4].shape, Ba2LoImg[4].dtype)\n",
    "final_9albWordImg = np.zeros(kalbWordLoImg[4].shape, kalbWordLoImg[4].dtype)\n",
    "final_sha3alWordImg = np.zeros(sha3alWordLoImg[4].shape, sha3alWordLoImg[4].dtype)\n",
    "\n",
    "whiteToBlack(final_Ba2img, Ba2LoImg[4])\n",
    "whiteToBlack(final_9albWordImg, kalbWordLoImg[4])\n",
    "\n",
    "\n",
    "\n",
    "#Show the images so we can compare them\n",
    "#cv2.imshow('New Image', im_gray_th_otsu)\n",
    "#cv2.imshow('Original Image', image)\n",
    "#cv2.imshow('Contrast image', contrast_img)\n",
    "#cv2.imshow('resized Image', resized)\n",
    "#cv2.imshow('final Image', final_img)\n",
    "#plt.imshow(im_gray_th_otsu)\n",
    "\n",
    "# Wait until user press some key\n",
    "#cv2.waitKey(0) \n",
    "#cv2.destroyAllWindows()\n",
    "\n",
    "#this one gives the best results!"
   ]
  },
  {
   "cell_type": "code",
   "execution_count": 17,
   "metadata": {},
   "outputs": [
    {
     "data": {
      "text/plain": [
       "<matplotlib.image.AxesImage at 0x2ce60a6ef70>"
      ]
     },
     "execution_count": 17,
     "metadata": {},
     "output_type": "execute_result"
    },
    {
     "data": {
      "image/png": "[encoded data removed]",
      "text/plain": [
       "<Figure size 432x288 with 1 Axes>"
      ]
     },
     "metadata": {
      "needs_background": "light"
     },
     "output_type": "display_data"
    }
   ],
   "source": [
    "whiteToBlack(final_sha3alWordImg, sha3alWordLoImg[4])\n",
    "\n",
    "def paddImg(img):\n",
    "    paddedimg  = np.zeros((img.shape[0]+2, img.shape[1]+2), img.dtype)\n",
    "    for y in range(1, paddedimg.shape[0]-1):\n",
    "        for x in range(1, paddedimg.shape[1]-1):\n",
    "                paddedimg[y,x] = img[y-1,x-1]\n",
    "    return paddedimg\n",
    "\n",
    "final_sha3alWordImg = paddImg(final_sha3alWordImg)\n",
    "plt.imshow(final_sha3alWordImg, cmap='gray', vmin=0, vmax=255)"
   ]
  },
  {
   "cell_type": "code",
   "execution_count": 18,
   "metadata": {},
   "outputs": [
    {
     "name": "stdout",
     "output_type": "stream",
     "text": [
      "[[0 0 0 ... 0 0 0]\n",
      " [0 0 0 ... 0 0 0]\n",
      " [0 0 0 ... 0 0 0]\n",
      " ...\n",
      " [0 0 0 ... 0 0 0]\n",
      " [0 0 0 ... 0 0 0]\n",
      " [0 0 0 ... 0 0 0]]\n"
     ]
    },
    {
     "data": {
      "text/plain": [
       "(32, 32)"
      ]
     },
     "execution_count": 18,
     "metadata": {},
     "output_type": "execute_result"
    }
   ],
   "source": [
    "print(final_Ba2img)\n",
    "final_Ba2img.shape"
   ]
  },
  {
   "cell_type": "code",
   "execution_count": 19,
   "metadata": {},
   "outputs": [
    {
     "data": {
      "text/plain": [
       "(32, 32)"
      ]
     },
     "execution_count": 19,
     "metadata": {},
     "output_type": "execute_result"
    }
   ],
   "source": [
    "final_Ba2img.reshape([32,32,1])\n",
    "final_Ba2img.shape\n"
   ]
  },
  {
   "cell_type": "code",
   "execution_count": 20,
   "metadata": {},
   "outputs": [
    {
     "name": "stdout",
     "output_type": "stream",
     "text": [
      "[[0 0 0 ... 0 0 0]\n",
      " [0 0 0 ... 0 0 0]\n",
      " [0 0 0 ... 0 0 0]\n",
      " ...\n",
      " [0 0 0 ... 0 0 0]\n",
      " [0 0 0 ... 0 0 0]\n",
      " [0 0 0 ... 0 0 0]]\n"
     ]
    }
   ],
   "source": [
    "print(final_Ba2img)"
   ]
  },
  {
   "cell_type": "code",
   "execution_count": 21,
   "metadata": {
    "scrolled": true
   },
   "outputs": [
    {
     "data": {
      "text/plain": [
       "<matplotlib.image.AxesImage at 0x2ce613d9880>"
      ]
     },
     "execution_count": 21,
     "metadata": {},
     "output_type": "execute_result"
    },
    {
     "data": {
      "image/png": "[encoded data removed]",
      "text/plain": [
       "<Figure size 432x288 with 1 Axes>"
      ]
     },
     "metadata": {
      "needs_background": "light"
     },
     "output_type": "display_data"
    }
   ],
   "source": [
    "plt.imshow(Ba2LoImg[0])"
   ]
  },
  {
   "cell_type": "code",
   "execution_count": 22,
   "metadata": {
    "scrolled": false
   },
   "outputs": [
    {
     "data": {
      "text/plain": [
       "(808, 722, 3)"
      ]
     },
     "execution_count": 22,
     "metadata": {},
     "output_type": "execute_result"
    },
    {
     "data": {
      "image/png": "[encoded data removed]",
      "text/plain": [
       "<Figure size 432x288 with 1 Axes>"
      ]
     },
     "metadata": {
      "needs_background": "light"
     },
     "output_type": "display_data"
    }
   ],
   "source": [
    "plt.imshow(Ba2LoImg[1])\n",
    "Ba2LoImg[1].shape"
   ]
  },
  {
   "cell_type": "code",
   "execution_count": 23,
   "metadata": {},
   "outputs": [
    {
     "data": {
      "text/plain": [
       "<matplotlib.image.AxesImage at 0x2ce61800cd0>"
      ]
     },
     "execution_count": 23,
     "metadata": {},
     "output_type": "execute_result"
    },
    {
     "data": {
      "image/png": "[encoded data removed]",
      "text/plain": [
       "<Figure size 432x288 with 1 Axes>"
      ]
     },
     "metadata": {
      "needs_background": "light"
     },
     "output_type": "display_data"
    }
   ],
   "source": [
    "plt.imshow(Ba2LoImg[2], cmap='gray', vmin=0, vmax=255)"
   ]
  },
  {
   "cell_type": "code",
   "execution_count": 24,
   "metadata": {
    "scrolled": true
   },
   "outputs": [
    {
     "data": {
      "text/plain": [
       "<matplotlib.image.AxesImage at 0x2ce61863910>"
      ]
     },
     "execution_count": 24,
     "metadata": {},
     "output_type": "execute_result"
    },
    {
     "data": {
      "image/png": "[encoded data removed]",
      "text/plain": [
       "<Figure size 432x288 with 1 Axes>"
      ]
     },
     "metadata": {
      "needs_background": "light"
     },
     "output_type": "display_data"
    }
   ],
   "source": [
    "plt.imshow(Ba2LoImg[3], cmap='gray', vmin=0, vmax=255)"
   ]
  },
  {
   "cell_type": "code",
   "execution_count": 25,
   "metadata": {},
   "outputs": [
    {
     "data": {
      "text/plain": [
       "<matplotlib.image.AxesImage at 0x2ce618c5370>"
      ]
     },
     "execution_count": 25,
     "metadata": {},
     "output_type": "execute_result"
    },
    {
     "data": {
      "image/png": "[encoded data removed]",
      "text/plain": [
       "<Figure size 432x288 with 1 Axes>"
      ]
     },
     "metadata": {
      "needs_background": "light"
     },
     "output_type": "display_data"
    }
   ],
   "source": [
    "plt.imshow(Ba2LoImg[4], cmap='gray', vmin=0, vmax=255)"
   ]
  },
  {
   "cell_type": "code",
   "execution_count": 26,
   "metadata": {
    "scrolled": true
   },
   "outputs": [
    {
     "data": {
      "text/plain": [
       "<matplotlib.image.AxesImage at 0x2ce6191c5e0>"
      ]
     },
     "execution_count": 26,
     "metadata": {},
     "output_type": "execute_result"
    },
    {
     "data": {
      "image/png": "[encoded data removed]",
      "text/plain": [
       "<Figure size 432x288 with 1 Axes>"
      ]
     },
     "metadata": {
      "needs_background": "light"
     },
     "output_type": "display_data"
    }
   ],
   "source": [
    "plt.imshow(final_Ba2img, cmap='gray', vmin=0, vmax=255)"
   ]
  },
  {
   "cell_type": "code",
   "execution_count": 27,
   "metadata": {},
   "outputs": [],
   "source": [
    "#from tkinter import Tk     # from tkinter import Tk for Python 3.x\n",
    "#from tkinter.filedialog import askopenfilename\n",
    "\n",
    "#Tk().withdraw() # we don't want a full GUI, so keep the root window from appearing\n",
    "#filename = askopenfilename() # show an \"Open\" dialog box and return the path to the selected file\n",
    "#print(filename)"
   ]
  },
  {
   "cell_type": "code",
   "execution_count": 28,
   "metadata": {},
   "outputs": [],
   "source": [
    "def blackToWhite(img, finalImg):\n",
    "    for y in range(img.shape[0]):\n",
    "        for x in range(img.shape[1]):\n",
    "            if img[y,x] == 0:     \n",
    "                finalImg[y,x] = 255\n",
    "            else :\n",
    "                finalImg[y,x] = 0\n",
    "\n",
    "\n",
    "\n",
    "dictionary = [3,6,7,12,24,28,14,224,225,216,143,15,30,48,52,96,112,54,240,227,131,135,99,56,60,120,62,129,192,248,251,195,141]\n",
    "\n",
    "def skeletonize(img):\n",
    "    for c in range(1, img.shape[1]-1):\n",
    "        for r in range(1, img.shape[0]-1):\n",
    "            if img[r,c]==0:\n",
    "                b = calculateB(img, r, c)\n",
    "                #print(str([r,c]) + \": b = \" + str(b) )\n",
    "                if classifyB(b):\n",
    "                    img[r,c] = 150\n",
    "    for c in range(1, img.shape[1]-1):\n",
    "        for r in range(1, img.shape[0]-1):\n",
    "            if img[r,c]==150:\n",
    "                #print(True)\n",
    "                img[r,c] = 255\n",
    "    \n",
    "\n",
    "def calculateB(img, r, c):\n",
    "    numbers = [int(img[r-1,c]),int(img[r-1,c+1]),int(img[r,c+1]),int(img[r+1,c+1]),int(img[r+1,c]),int(img[r+1,c-1]),int(img[r,c-1]),int(img[r-1,c-1])]\n",
    "    #numbers = [int(img[c,r+1]),int(img[c+1,r+1]),int(img[c+1,r]),int(img[c+1,r-1]),int(img[c,r-1]),int(img[c-1,r-1]),int(img[c-1,r]),int(img[c-1,r+1])]\n",
    "    #print(numbers)\n",
    "    b = 0\n",
    "    for i in range(0,8):\n",
    "        if numbers[i]<140:\n",
    "            b+=2**i\n",
    "    #print(b)\n",
    "    return b\n",
    "\n",
    "def classifyB(b):\n",
    "    for i in dictionary:\n",
    "        if int(b) == int(i):\n",
    "            print(b)\n",
    "            return True\n",
    "    return False \n"
   ]
  },
  {
   "cell_type": "code",
   "execution_count": 29,
   "metadata": {},
   "outputs": [
    {
     "data": {
      "text/plain": [
       "<matplotlib.image.AxesImage at 0x2ce6198e100>"
      ]
     },
     "execution_count": 29,
     "metadata": {},
     "output_type": "execute_result"
    },
    {
     "data": {
      "image/png": "[encoded data removed]",
      "text/plain": [
       "<Figure size 432x288 with 1 Axes>"
      ]
     },
     "metadata": {
      "needs_background": "light"
     },
     "output_type": "display_data"
    }
   ],
   "source": [
    "final_Ba2imgBtW = np.zeros(Ba2LoImg[4].shape, Ba2LoImg[4].dtype)\n",
    "\n",
    "\n",
    "blackToWhite(final_Ba2img, final_Ba2imgBtW)\n",
    "plt.imshow(final_Ba2imgBtW, cmap='gray', vmin=0, vmax=255)"
   ]
  },
  {
   "cell_type": "code",
   "execution_count": 30,
   "metadata": {},
   "outputs": [
    {
     "name": "stdout",
     "output_type": "stream",
     "text": [
      "30\n",
      "30\n",
      "30\n",
      "14\n",
      "30\n",
      "30\n",
      "15\n",
      "28\n",
      "30\n",
      "216\n",
      "7\n",
      "135\n",
      "135\n",
      "14\n",
      "28\n",
      "30\n",
      "30\n",
      "3\n",
      "60\n",
      "28\n",
      "60\n",
      "48\n",
      "96\n",
      "60\n",
      "60\n",
      "60\n",
      "62\n",
      "28\n",
      "54\n",
      "28\n",
      "14\n",
      "30\n",
      "28\n",
      "30\n",
      "30\n",
      "30\n",
      "30\n",
      "54\n",
      "24\n",
      "28\n",
      "30\n",
      "30\n",
      "248\n",
      "141\n",
      "7\n",
      "135\n",
      "135\n",
      "135\n",
      "135\n"
     ]
    },
    {
     "data": {
      "text/plain": [
       "<matplotlib.image.AxesImage at 0x2ce619e6100>"
      ]
     },
     "execution_count": 30,
     "metadata": {},
     "output_type": "execute_result"
    },
    {
     "data": {
      "image/png": "[encoded data removed]",
      "text/plain": [
       "<Figure size 432x288 with 1 Axes>"
      ]
     },
     "metadata": {
      "needs_background": "light"
     },
     "output_type": "display_data"
    }
   ],
   "source": [
    "skeletonize(final_Ba2imgBtW)\n",
    "plt.imshow(final_Ba2imgBtW, cmap='gray', vmin=0, vmax=255)"
   ]
  },
  {
   "cell_type": "code",
   "execution_count": 31,
   "metadata": {},
   "outputs": [
    {
     "name": "stdout",
     "output_type": "stream",
     "text": [
      "6\n"
     ]
    },
    {
     "data": {
      "text/plain": [
       "<matplotlib.image.AxesImage at 0x2ce61a37430>"
      ]
     },
     "execution_count": 31,
     "metadata": {},
     "output_type": "execute_result"
    },
    {
     "data": {
      "image/png": "[encoded data removed]",
      "text/plain": [
       "<Figure size 432x288 with 1 Axes>"
      ]
     },
     "metadata": {
      "needs_background": "light"
     },
     "output_type": "display_data"
    }
   ],
   "source": [
    "skeletonize(final_Ba2imgBtW)\n",
    "plt.imshow(final_Ba2imgBtW, cmap='gray', vmin=0, vmax=255)"
   ]
  },
  {
   "cell_type": "code",
   "execution_count": 32,
   "metadata": {},
   "outputs": [
    {
     "data": {
      "text/plain": [
       "<matplotlib.image.AxesImage at 0x2ce61a8d6a0>"
      ]
     },
     "execution_count": 32,
     "metadata": {},
     "output_type": "execute_result"
    },
    {
     "data": {
      "image/png": "[encoded data removed]",
      "text/plain": [
       "<Figure size 432x288 with 1 Axes>"
      ]
     },
     "metadata": {
      "needs_background": "light"
     },
     "output_type": "display_data"
    }
   ],
   "source": [
    "skeletonize(final_Ba2imgBtW)\n",
    "plt.imshow(final_Ba2imgBtW, cmap='gray', vmin=0, vmax=255)"
   ]
  },
  {
   "cell_type": "code",
   "execution_count": 33,
   "metadata": {},
   "outputs": [
    {
     "data": {
      "text/plain": [
       "<matplotlib.image.AxesImage at 0x2ce61ae2bb0>"
      ]
     },
     "execution_count": 33,
     "metadata": {},
     "output_type": "execute_result"
    },
    {
     "data": {
      "image/png": "[encoded data removed]",
      "text/plain": [
       "<Figure size 432x288 with 1 Axes>"
      ]
     },
     "metadata": {
      "needs_background": "light"
     },
     "output_type": "display_data"
    }
   ],
   "source": [
    "skeletonize(final_Ba2imgBtW)\n",
    "plt.imshow(final_Ba2imgBtW, cmap='gray', vmin=0, vmax=255)"
   ]
  },
  {
   "cell_type": "code",
   "execution_count": 34,
   "metadata": {},
   "outputs": [
    {
     "data": {
      "text/plain": [
       "<matplotlib.image.AxesImage at 0x2ce61b435e0>"
      ]
     },
     "execution_count": 34,
     "metadata": {},
     "output_type": "execute_result"
    },
    {
     "data": {
      "image/png": "[encoded data removed]",
      "text/plain": [
       "<Figure size 432x288 with 1 Axes>"
      ]
     },
     "metadata": {
      "needs_background": "light"
     },
     "output_type": "display_data"
    }
   ],
   "source": [
    "skeletonize(final_Ba2imgBtW)\n",
    "plt.imshow(final_Ba2imgBtW, cmap='gray', vmin=0, vmax=255)"
   ]
  },
  {
   "cell_type": "code",
   "execution_count": 35,
   "metadata": {},
   "outputs": [
    {
     "data": {
      "text/plain": [
       "<matplotlib.image.AxesImage at 0x2ce61ba0100>"
      ]
     },
     "execution_count": 35,
     "metadata": {},
     "output_type": "execute_result"
    },
    {
     "data": {
      "image/png": "[encoded data removed]",
      "text/plain": [
       "<Figure size 432x288 with 1 Axes>"
      ]
     },
     "metadata": {
      "needs_background": "light"
     },
     "output_type": "display_data"
    }
   ],
   "source": [
    "skeletonize(final_Ba2imgBtW)\n",
    "plt.imshow(final_Ba2imgBtW, cmap='gray', vmin=0, vmax=255)"
   ]
  },
  {
   "cell_type": "code",
   "execution_count": 36,
   "metadata": {
    "scrolled": true
   },
   "outputs": [
    {
     "data": {
      "text/plain": [
       "<matplotlib.image.AxesImage at 0x2ce61befb80>"
      ]
     },
     "execution_count": 36,
     "metadata": {},
     "output_type": "execute_result"
    },
    {
     "data": {
      "image/png": "[encoded data removed]",
      "text/plain": [
       "<Figure size 432x288 with 1 Axes>"
      ]
     },
     "metadata": {
      "needs_background": "light"
     },
     "output_type": "display_data"
    }
   ],
   "source": [
    "skeletonize(final_Ba2imgBtW)\n",
    "plt.imshow(final_Ba2imgBtW, cmap='gray', vmin=0, vmax=255)"
   ]
  },
  {
   "cell_type": "code",
   "execution_count": 37,
   "metadata": {},
   "outputs": [
    {
     "name": "stdout",
     "output_type": "stream",
     "text": [
      "[[0 0 0 ... 0 0 0]\n",
      " [0 0 0 ... 0 0 0]\n",
      " [0 0 0 ... 0 0 0]\n",
      " ...\n",
      " [0 0 0 ... 0 0 0]\n",
      " [0 0 0 ... 0 0 0]\n",
      " [0 0 0 ... 0 0 0]]\n"
     ]
    }
   ],
   "source": [
    "final_9albWordImg.shape\n",
    "print(final_9albWordImg)"
   ]
  },
  {
   "cell_type": "code",
   "execution_count": 38,
   "metadata": {},
   "outputs": [
    {
     "data": {
      "text/plain": [
       "(32, 50)"
      ]
     },
     "execution_count": 38,
     "metadata": {},
     "output_type": "execute_result"
    }
   ],
   "source": [
    "final_9albWordImg.shape"
   ]
  },
  {
   "cell_type": "code",
   "execution_count": 39,
   "metadata": {},
   "outputs": [
    {
     "data": {
      "text/plain": [
       "(32, 50)"
      ]
     },
     "execution_count": 39,
     "metadata": {},
     "output_type": "execute_result"
    }
   ],
   "source": [
    "kalbWordLoImg[4].shape"
   ]
  },
  {
   "cell_type": "code",
   "execution_count": 40,
   "metadata": {
    "scrolled": true
   },
   "outputs": [
    {
     "data": {
      "text/plain": [
       "<matplotlib.image.AxesImage at 0x2ce61c54ca0>"
      ]
     },
     "execution_count": 40,
     "metadata": {},
     "output_type": "execute_result"
    },
    {
     "data": {
      "image/png": "[encoded data removed]",
      "text/plain": [
       "<Figure size 432x288 with 1 Axes>"
      ]
     },
     "metadata": {
      "needs_background": "light"
     },
     "output_type": "display_data"
    }
   ],
   "source": [
    "plt.imshow(kalbWordLoImg[0])"
   ]
  },
  {
   "cell_type": "code",
   "execution_count": 41,
   "metadata": {
    "scrolled": false
   },
   "outputs": [
    {
     "data": {
      "text/plain": [
       "<matplotlib.image.AxesImage at 0x2ce60a520d0>"
      ]
     },
     "execution_count": 41,
     "metadata": {},
     "output_type": "execute_result"
    },
    {
     "data": {
      "image/png": "[encoded data removed]",
      "text/plain": [
       "<Figure size 432x288 with 1 Axes>"
      ]
     },
     "metadata": {
      "needs_background": "light"
     },
     "output_type": "display_data"
    }
   ],
   "source": [
    "plt.imshow(kalbWordLoImg[1])"
   ]
  },
  {
   "cell_type": "code",
   "execution_count": 42,
   "metadata": {},
   "outputs": [
    {
     "data": {
      "text/plain": [
       "<matplotlib.image.AxesImage at 0x2ce61abc160>"
      ]
     },
     "execution_count": 42,
     "metadata": {},
     "output_type": "execute_result"
    },
    {
     "data": {
      "image/png": "[encoded data removed]",
      "text/plain": [
       "<Figure size 432x288 with 1 Axes>"
      ]
     },
     "metadata": {
      "needs_background": "light"
     },
     "output_type": "display_data"
    }
   ],
   "source": [
    "plt.imshow(kalbWordLoImg[2], cmap='gray', vmin=0, vmax=255)"
   ]
  },
  {
   "cell_type": "code",
   "execution_count": 43,
   "metadata": {
    "scrolled": true
   },
   "outputs": [
    {
     "data": {
      "text/plain": [
       "<matplotlib.image.AxesImage at 0x2ce613fff70>"
      ]
     },
     "execution_count": 43,
     "metadata": {},
     "output_type": "execute_result"
    },
    {
     "data": {
      "image/png": "[encoded data removed]",
      "text/plain": [
       "<Figure size 432x288 with 1 Axes>"
      ]
     },
     "metadata": {
      "needs_background": "light"
     },
     "output_type": "display_data"
    }
   ],
   "source": [
    "plt.imshow(kalbWordLoImg[3], cmap='gray', vmin=0, vmax=255)"
   ]
  },
  {
   "cell_type": "code",
   "execution_count": 44,
   "metadata": {},
   "outputs": [
    {
     "data": {
      "text/plain": [
       "(778, 1221)"
      ]
     },
     "execution_count": 44,
     "metadata": {},
     "output_type": "execute_result"
    }
   ],
   "source": [
    "kalbWordLoImg[3].shape"
   ]
  },
  {
   "cell_type": "code",
   "execution_count": 45,
   "metadata": {},
   "outputs": [
    {
     "data": {
      "text/plain": [
       "<matplotlib.image.AxesImage at 0x2ce615ddd60>"
      ]
     },
     "execution_count": 45,
     "metadata": {},
     "output_type": "execute_result"
    },
    {
     "data": {
      "image/png": "[encoded data removed]",
      "text/plain": [
       "<Figure size 432x288 with 1 Axes>"
      ]
     },
     "metadata": {
      "needs_background": "light"
     },
     "output_type": "display_data"
    }
   ],
   "source": [
    "newdim9alb = cv2.resize(kalbWordLoImg[3], (int(32*1221/778),32), interpolation = cv2.INTER_AREA)\n",
    "plt.imshow(newdim9alb, cmap='gray', vmin=0, vmax=255)"
   ]
  },
  {
   "cell_type": "code",
   "execution_count": 46,
   "metadata": {},
   "outputs": [
    {
     "data": {
      "text/plain": [
       "(32, 50)"
      ]
     },
     "execution_count": 46,
     "metadata": {},
     "output_type": "execute_result"
    }
   ],
   "source": [
    "newdim9alb.shape"
   ]
  },
  {
   "cell_type": "code",
   "execution_count": 47,
   "metadata": {},
   "outputs": [
    {
     "data": {
      "text/plain": [
       "<matplotlib.image.AxesImage at 0x2ce5e253790>"
      ]
     },
     "execution_count": 47,
     "metadata": {},
     "output_type": "execute_result"
    },
    {
     "data": {
      "image/png": "[encoded data removed]",
      "text/plain": [
       "<Figure size 432x288 with 1 Axes>"
      ]
     },
     "metadata": {
      "needs_background": "light"
     },
     "output_type": "display_data"
    }
   ],
   "source": [
    "plt.imshow(kalbWordLoImg[4], cmap='gray', vmin=0, vmax=255)"
   ]
  },
  {
   "cell_type": "code",
   "execution_count": 48,
   "metadata": {
    "scrolled": true
   },
   "outputs": [
    {
     "data": {
      "text/plain": [
       "<matplotlib.image.AxesImage at 0x2ce5e0d1ee0>"
      ]
     },
     "execution_count": 48,
     "metadata": {},
     "output_type": "execute_result"
    },
    {
     "data": {
      "image/png": "[encoded data removed]",
      "text/plain": [
       "<Figure size 432x288 with 1 Axes>"
      ]
     },
     "metadata": {
      "needs_background": "light"
     },
     "output_type": "display_data"
    }
   ],
   "source": [
    "plt.imshow(final_9albWordImg, cmap='gray', vmin=0, vmax=255)"
   ]
  },
  {
   "cell_type": "code",
   "execution_count": 49,
   "metadata": {},
   "outputs": [
    {
     "data": {
      "text/plain": [
       "<matplotlib.image.AxesImage at 0x2ce5f3a8cd0>"
      ]
     },
     "execution_count": 49,
     "metadata": {},
     "output_type": "execute_result"
    },
    {
     "data": {
      "image/png": "[encoded data removed]",
      "text/plain": [
       "<Figure size 432x288 with 1 Axes>"
      ]
     },
     "metadata": {
      "needs_background": "light"
     },
     "output_type": "display_data"
    }
   ],
   "source": [
    "final_9albImgBtw = np.zeros(kalbWordLoImg[4].shape, kalbWordLoImg[4].dtype)\n",
    "blackToWhite(final_9albWordImg, final_9albImgBtw)\n",
    "plt.imshow(final_9albImgBtw, cmap='gray', vmin=0, vmax=255)"
   ]
  },
  {
   "cell_type": "code",
   "execution_count": 50,
   "metadata": {},
   "outputs": [
    {
     "data": {
      "text/plain": [
       "(32, 50)"
      ]
     },
     "execution_count": 50,
     "metadata": {},
     "output_type": "execute_result"
    }
   ],
   "source": [
    "final_9albImgBtw.shape"
   ]
  },
  {
   "cell_type": "code",
   "execution_count": 51,
   "metadata": {},
   "outputs": [
    {
     "name": "stdout",
     "output_type": "stream",
     "text": [
      "30\n",
      "14\n",
      "30\n",
      "216\n",
      "96\n",
      "135\n",
      "135\n",
      "135\n",
      "30\n",
      "30\n",
      "6\n",
      "135\n",
      "28\n",
      "135\n",
      "48\n",
      "96\n",
      "131\n",
      "60\n",
      "60\n",
      "62\n",
      "30\n",
      "14\n",
      "30\n",
      "30\n",
      "54\n",
      "24\n",
      "28\n",
      "30\n",
      "30\n",
      "248\n",
      "141\n",
      "7\n",
      "131\n",
      "28\n",
      "30\n",
      "30\n",
      "30\n",
      "14\n",
      "240\n",
      "240\n",
      "240\n",
      "240\n",
      "248\n",
      "112\n",
      "240\n",
      "240\n",
      "240\n",
      "248\n",
      "135\n",
      "135\n",
      "135\n",
      "30\n",
      "14\n",
      "30\n",
      "6\n",
      "30\n",
      "30\n",
      "28\n",
      "30\n",
      "30\n",
      "62\n",
      "135\n",
      "60\n",
      "143\n",
      "60\n",
      "120\n",
      "15\n",
      "60\n",
      "112\n",
      "248\n",
      "52\n",
      "112\n",
      "240\n",
      "240\n",
      "248\n",
      "96\n"
     ]
    },
    {
     "data": {
      "text/plain": [
       "<matplotlib.image.AxesImage at 0x2ce5e04e220>"
      ]
     },
     "execution_count": 51,
     "metadata": {},
     "output_type": "execute_result"
    },
    {
     "data": {
      "image/png": "[encoded data removed]",
      "text/plain": [
       "<Figure size 432x288 with 1 Axes>"
      ]
     },
     "metadata": {
      "needs_background": "light"
     },
     "output_type": "display_data"
    }
   ],
   "source": [
    "skeletonize(final_9albImgBtw)\n",
    "plt.imshow(final_9albImgBtw, cmap='gray', vmin=0, vmax=255)"
   ]
  },
  {
   "cell_type": "code",
   "execution_count": 52,
   "metadata": {},
   "outputs": [
    {
     "name": "stdout",
     "output_type": "stream",
     "text": [
      "240\n",
      "240\n",
      "240\n",
      "240\n",
      "248\n",
      "240\n",
      "248\n",
      "143\n",
      "112\n",
      "240\n",
      "240\n",
      "248\n",
      "112\n",
      "240\n",
      "240\n",
      "240\n",
      "192\n"
     ]
    },
    {
     "data": {
      "text/plain": [
       "<matplotlib.image.AxesImage at 0x2ce5e09ba00>"
      ]
     },
     "execution_count": 52,
     "metadata": {},
     "output_type": "execute_result"
    },
    {
     "data": {
      "image/png": "[encoded data removed]",
      "text/plain": [
       "<Figure size 432x288 with 1 Axes>"
      ]
     },
     "metadata": {
      "needs_background": "light"
     },
     "output_type": "display_data"
    }
   ],
   "source": [
    "skeletonize(final_9albImgBtw)\n",
    "plt.imshow(final_9albImgBtw, cmap='gray', vmin=0, vmax=255)"
   ]
  },
  {
   "cell_type": "code",
   "execution_count": 53,
   "metadata": {},
   "outputs": [
    {
     "name": "stdout",
     "output_type": "stream",
     "text": [
      "240\n"
     ]
    },
    {
     "data": {
      "text/plain": [
       "<matplotlib.image.AxesImage at 0x2ce61639250>"
      ]
     },
     "execution_count": 53,
     "metadata": {},
     "output_type": "execute_result"
    },
    {
     "data": {
      "image/png": "[encoded data removed]",
      "text/plain": [
       "<Figure size 432x288 with 1 Axes>"
      ]
     },
     "metadata": {
      "needs_background": "light"
     },
     "output_type": "display_data"
    }
   ],
   "source": [
    "skeletonize(final_9albImgBtw)\n",
    "plt.imshow(final_9albImgBtw, cmap='gray', vmin=0, vmax=255)"
   ]
  },
  {
   "cell_type": "code",
   "execution_count": 54,
   "metadata": {},
   "outputs": [
    {
     "data": {
      "text/plain": [
       "<matplotlib.image.AxesImage at 0x2ce61688a60>"
      ]
     },
     "execution_count": 54,
     "metadata": {},
     "output_type": "execute_result"
    },
    {
     "data": {
      "image/png": "[encoded data removed]",
      "text/plain": [
       "<Figure size 432x288 with 1 Axes>"
      ]
     },
     "metadata": {
      "needs_background": "light"
     },
     "output_type": "display_data"
    }
   ],
   "source": [
    "skeletonize(final_9albImgBtw)\n",
    "plt.imshow(final_9albImgBtw, cmap='gray', vmin=0, vmax=255)"
   ]
  },
  {
   "cell_type": "code",
   "execution_count": 55,
   "metadata": {},
   "outputs": [
    {
     "data": {
      "text/plain": [
       "<matplotlib.image.AxesImage at 0x2ce616e52b0>"
      ]
     },
     "execution_count": 55,
     "metadata": {},
     "output_type": "execute_result"
    },
    {
     "data": {
      "image/png": "[encoded data removed]",
      "text/plain": [
       "<Figure size 432x288 with 1 Axes>"
      ]
     },
     "metadata": {
      "needs_background": "light"
     },
     "output_type": "display_data"
    }
   ],
   "source": [
    "skeletonize(final_9albImgBtw)\n",
    "plt.imshow(final_9albImgBtw, cmap='gray', vmin=0, vmax=255)"
   ]
  },
  {
   "cell_type": "code",
   "execution_count": 56,
   "metadata": {},
   "outputs": [
    {
     "data": {
      "text/plain": [
       "<matplotlib.image.AxesImage at 0x2ce61732ac0>"
      ]
     },
     "execution_count": 56,
     "metadata": {},
     "output_type": "execute_result"
    },
    {
     "data": {
      "image/png": "[encoded data removed]",
      "text/plain": [
       "<Figure size 432x288 with 1 Axes>"
      ]
     },
     "metadata": {
      "needs_background": "light"
     },
     "output_type": "display_data"
    }
   ],
   "source": [
    "skeletonize(final_9albImgBtw)\n",
    "plt.imshow(final_9albImgBtw, cmap='gray', vmin=0, vmax=255)"
   ]
  },
  {
   "cell_type": "code",
   "execution_count": 57,
   "metadata": {
    "scrolled": true
   },
   "outputs": [
    {
     "data": {
      "text/plain": [
       "<matplotlib.image.AxesImage at 0x2ce63211310>"
      ]
     },
     "execution_count": 57,
     "metadata": {},
     "output_type": "execute_result"
    },
    {
     "data": {
      "image/png": "[encoded data removed]",
      "text/plain": [
       "<Figure size 432x288 with 1 Axes>"
      ]
     },
     "metadata": {
      "needs_background": "light"
     },
     "output_type": "display_data"
    }
   ],
   "source": [
    "skeletonize(final_9albImgBtw)\n",
    "plt.imshow(final_9albImgBtw, cmap='gray', vmin=0, vmax=255)"
   ]
  },
  {
   "cell_type": "code",
   "execution_count": 58,
   "metadata": {
    "scrolled": true
   },
   "outputs": [
    {
     "data": {
      "text/plain": [
       "<matplotlib.image.AxesImage at 0x2ce6325fb50>"
      ]
     },
     "execution_count": 58,
     "metadata": {},
     "output_type": "execute_result"
    },
    {
     "data": {
      "image/png": "[encoded data removed]",
      "text/plain": [
       "<Figure size 432x288 with 1 Axes>"
      ]
     },
     "metadata": {
      "needs_background": "light"
     },
     "output_type": "display_data"
    }
   ],
   "source": [
    "skeletonize(final_9albImgBtw)\n",
    "plt.imshow(final_9albImgBtw, cmap='gray', vmin=0, vmax=255)"
   ]
  },
  {
   "cell_type": "code",
   "execution_count": 59,
   "metadata": {
    "scrolled": true
   },
   "outputs": [
    {
     "data": {
      "text/plain": [
       "<matplotlib.image.AxesImage at 0x2ce632be3a0>"
      ]
     },
     "execution_count": 59,
     "metadata": {},
     "output_type": "execute_result"
    },
    {
     "data": {
      "image/png": "[encoded data removed]",
      "text/plain": [
       "<Figure size 432x288 with 1 Axes>"
      ]
     },
     "metadata": {
      "needs_background": "light"
     },
     "output_type": "display_data"
    }
   ],
   "source": [
    "skeletonize(final_9albImgBtw)\n",
    "plt.imshow(final_9albImgBtw, cmap='gray', vmin=0, vmax=255)"
   ]
  },
  {
   "cell_type": "code",
   "execution_count": 60,
   "metadata": {
    "scrolled": true
   },
   "outputs": [
    {
     "data": {
      "text/plain": [
       "<matplotlib.image.AxesImage at 0x2ce6330ac10>"
      ]
     },
     "execution_count": 60,
     "metadata": {},
     "output_type": "execute_result"
    },
    {
     "data": {
      "image/png": "[encoded data removed]",
      "text/plain": [
       "<Figure size 432x288 with 1 Axes>"
      ]
     },
     "metadata": {
      "needs_background": "light"
     },
     "output_type": "display_data"
    }
   ],
   "source": [
    "skeletonize(final_9albImgBtw)\n",
    "plt.imshow(final_9albImgBtw, cmap='gray', vmin=0, vmax=255)"
   ]
  },
  {
   "cell_type": "code",
   "execution_count": 61,
   "metadata": {},
   "outputs": [
    {
     "data": {
      "text/plain": [
       "<matplotlib.image.AxesImage at 0x2ce63368580>"
      ]
     },
     "execution_count": 61,
     "metadata": {},
     "output_type": "execute_result"
    },
    {
     "data": {
      "image/png": "[encoded data removed]",
      "text/plain": [
       "<Figure size 432x288 with 1 Axes>"
      ]
     },
     "metadata": {
      "needs_background": "light"
     },
     "output_type": "display_data"
    }
   ],
   "source": [
    "skeletonize(final_9albImgBtw)\n",
    "plt.imshow(final_9albImgBtw, cmap='gray', vmin=0, vmax=255)"
   ]
  },
  {
   "cell_type": "code",
   "execution_count": 62,
   "metadata": {},
   "outputs": [
    {
     "data": {
      "text/plain": [
       "<matplotlib.image.AxesImage at 0x2ce633ba790>"
      ]
     },
     "execution_count": 62,
     "metadata": {},
     "output_type": "execute_result"
    },
    {
     "data": {
      "image/png": "[encoded data removed]",
      "text/plain": [
       "<Figure size 432x288 with 1 Axes>"
      ]
     },
     "metadata": {
      "needs_background": "light"
     },
     "output_type": "display_data"
    }
   ],
   "source": [
    "skeletonize(final_9albImgBtw)\n",
    "plt.imshow(final_9albImgBtw, cmap='gray', vmin=0, vmax=255)"
   ]
  },
  {
   "cell_type": "code",
   "execution_count": 63,
   "metadata": {},
   "outputs": [
    {
     "data": {
      "text/plain": [
       "<Figure size 432x288 with 0 Axes>"
      ]
     },
     "metadata": {},
     "output_type": "display_data"
    },
    {
     "data": {
      "image/png": "[encoded data removed]",
      "text/plain": [
       "<Figure size 432x288 with 6 Axes>"
      ]
     },
     "metadata": {
      "needs_background": "light"
     },
     "output_type": "display_data"
    }
   ],
   "source": [
    "plt.figure()\n",
    "\n",
    "fig, ax = plt.subplots(3,2)\n",
    "\n",
    "sha3alWordImg0 = ax[0][0].imshow(sha3alWordLoImg[0])\n",
    "\n",
    "sha3alWordImg1 = ax[0][1].imshow(sha3alWordLoImg[1])\n",
    "\n",
    "sha3alWordImg2 = ax[1][0].imshow(sha3alWordLoImg[2], cmap='gray', vmin=0, vmax=255)\n",
    "\n",
    "sha3alWordImg3 = ax[1][1].imshow(sha3alWordLoImg[3], cmap='gray', vmin=0, vmax=255)\n",
    "\n",
    "sha3alWordImg4 = ax[2][0].imshow(sha3alWordLoImg[4], cmap='gray', vmin=0, vmax=255)\n",
    "\n",
    "finalSha3alWordDisp = ax[2][1].imshow(final_sha3alWordImg, cmap='gray', vmin=0, vmax=255)\n",
    "\n",
    "# whiteToBlack(final_sha3alWordImg, sha3alWordLoImg[4])"
   ]
  },
  {
   "cell_type": "code",
   "execution_count": 64,
   "metadata": {},
   "outputs": [
    {
     "data": {
      "text/plain": [
       "<matplotlib.image.AxesImage at 0x2ce635a0d30>"
      ]
     },
     "execution_count": 64,
     "metadata": {},
     "output_type": "execute_result"
    },
    {
     "data": {
      "image/png": "[encoded data removed]",
      "text/plain": [
       "<Figure size 432x288 with 1 Axes>"
      ]
     },
     "metadata": {
      "needs_background": "light"
     },
     "output_type": "display_data"
    }
   ],
   "source": [
    "final_sha3alWordImgBtw = np.zeros(final_sha3alWordImg.shape, final_sha3alWordImg.dtype)\n",
    "blackToWhite(final_sha3alWordImg, final_sha3alWordImgBtw)\n",
    "plt.imshow(final_sha3alWordImgBtw, cmap='gray', vmin=0, vmax=255)"
   ]
  },
  {
   "cell_type": "code",
   "execution_count": 65,
   "metadata": {},
   "outputs": [
    {
     "name": "stdout",
     "output_type": "stream",
     "text": [
      "30\n",
      "30\n",
      "14\n",
      "15\n",
      "52\n",
      "216\n",
      "7\n",
      "141\n",
      "60\n",
      "52\n",
      "135\n",
      "141\n",
      "7\n",
      "135\n",
      "135\n",
      "52\n",
      "52\n",
      "54\n",
      "62\n",
      "30\n",
      "30\n",
      "62\n",
      "15\n",
      "30\n",
      "30\n",
      "30\n",
      "28\n",
      "240\n",
      "240\n",
      "224\n",
      "48\n",
      "96\n",
      "30\n",
      "30\n",
      "30\n",
      "30\n",
      "30\n",
      "14\n",
      "30\n",
      "14\n",
      "30\n",
      "30\n",
      "30\n",
      "24\n",
      "28\n",
      "30\n",
      "30\n",
      "135\n",
      "135\n",
      "135\n",
      "131\n",
      "30\n",
      "6\n",
      "60\n",
      "28\n",
      "30\n",
      "6\n",
      "52\n",
      "28\n",
      "30\n",
      "6\n",
      "28\n",
      "30\n",
      "6\n",
      "52\n",
      "30\n",
      "30\n",
      "6\n",
      "28\n",
      "60\n",
      "54\n",
      "60\n",
      "60\n",
      "56\n",
      "15\n",
      "112\n",
      "240\n",
      "224\n",
      "135\n",
      "28\n",
      "6\n",
      "60\n",
      "30\n",
      "6\n",
      "24\n",
      "52\n",
      "28\n",
      "3\n",
      "48\n",
      "60\n",
      "54\n",
      "30\n",
      "6\n",
      "28\n",
      "28\n",
      "3\n",
      "56\n",
      "135\n",
      "56\n",
      "54\n",
      "30\n",
      "24\n",
      "60\n",
      "60\n",
      "28\n",
      "14\n",
      "62\n",
      "135\n",
      "131\n",
      "240\n",
      "240\n",
      "240\n",
      "240\n",
      "192\n",
      "15\n",
      "141\n",
      "15\n",
      "15\n",
      "143\n"
     ]
    },
    {
     "data": {
      "text/plain": [
       "<Figure size 432x288 with 0 Axes>"
      ]
     },
     "metadata": {},
     "output_type": "display_data"
    },
    {
     "data": {
      "image/png": "[encoded data removed]",
      "text/plain": [
       "<Figure size 432x288 with 6 Axes>"
      ]
     },
     "metadata": {
      "needs_background": "light"
     },
     "output_type": "display_data"
    }
   ],
   "source": [
    "plt.figure()\n",
    "\n",
    "fig, ax = plt.subplots(3,2)\n",
    "\n",
    "skeletonize(final_sha3alWordImgBtw)\n",
    "finalSha3alWordImgBtwSkel0 = ax[0][0].imshow(final_sha3alWordImgBtw, cmap='gray', vmin=0, vmax=255)\n",
    "\n",
    "skeletonize(final_sha3alWordImgBtw)\n",
    "finalSha3alWordImgBtwSkel1 = ax[0][1].imshow(final_sha3alWordImgBtw, cmap='gray', vmin=0, vmax=255)\n",
    "\n",
    "skeletonize(final_sha3alWordImgBtw)\n",
    "finalSha3alWordImgBtwSkel2 = ax[1][0].imshow(final_sha3alWordImgBtw, cmap='gray', vmin=0, vmax=255)\n",
    "\n",
    "skeletonize(final_sha3alWordImgBtw)\n",
    "finalSha3alWordImgBtwSkel3 = ax[1][1].imshow(final_sha3alWordImgBtw, cmap='gray', vmin=0, vmax=255)\n",
    "\n",
    "skeletonize(final_sha3alWordImgBtw)\n",
    "finalSha3alWordImgBtwSkel4 = ax[2][0].imshow(final_sha3alWordImgBtw, cmap='gray', vmin=0, vmax=255)\n",
    "\n",
    "skeletonize(final_sha3alWordImgBtw)\n",
    "finalSha3alWordImgBtwSkel4 = ax[2][1].imshow(final_sha3alWordImgBtw, cmap='gray', vmin=0, vmax=255)"
   ]
  },
  {
   "cell_type": "code",
   "execution_count": 66,
   "metadata": {},
   "outputs": [
    {
     "data": {
      "text/plain": [
       "<matplotlib.image.AxesImage at 0x2ce63792df0>"
      ]
     },
     "execution_count": 66,
     "metadata": {},
     "output_type": "execute_result"
    },
    {
     "data": {
      "image/png": "[encoded data removed]",
      "text/plain": [
       "<Figure size 432x288 with 1 Axes>"
      ]
     },
     "metadata": {
      "needs_background": "light"
     },
     "output_type": "display_data"
    }
   ],
   "source": [
    "skeletonize(final_sha3alWordImgBtw)\n",
    "plt.imshow(final_sha3alWordImgBtw, cmap='gray', vmin=0, vmax=255)"
   ]
  },
  {
   "cell_type": "code",
   "execution_count": 67,
   "metadata": {},
   "outputs": [
    {
     "data": {
      "text/plain": [
       "<matplotlib.image.AxesImage at 0x2ce637e9fa0>"
      ]
     },
     "execution_count": 67,
     "metadata": {},
     "output_type": "execute_result"
    },
    {
     "data": {
      "image/png": "[encoded data removed]",
      "text/plain": [
       "<Figure size 432x288 with 1 Axes>"
      ]
     },
     "metadata": {
      "needs_background": "light"
     },
     "output_type": "display_data"
    }
   ],
   "source": [
    "skeletonize(final_sha3alWordImgBtw)\n",
    "plt.imshow(final_sha3alWordImgBtw, cmap='gray', vmin=0, vmax=255)"
   ]
  },
  {
   "cell_type": "code",
   "execution_count": 68,
   "metadata": {},
   "outputs": [
    {
     "name": "stdout",
     "output_type": "stream",
     "text": [
      "[[  0 255   0 255   0 255   0 255   0 255   0 255   0 255   0 255]\n",
      " [  0 255   0 255   0 255   0 255   0 255   0 255   0 255   0 255]\n",
      " [  0 255   0 255   0 255   0 255   0 255   0 255   0 255   0 255]\n",
      " [  0 255   0 255   0 255   0 255   0 255   0 255   0 255   0 255]\n",
      " [  0 255   0 255   0 255   0 255   0 255   0 255   0 255   0 255]]\n"
     ]
    }
   ],
   "source": [
    "x = np.array([[ 0, 255, 0, 255, 0, 255, 0, 255, 0, 255, 0, 255, 0, 255, 0, 255],\n",
    "              [ 0, 255, 0, 255, 0, 255, 0, 255, 0, 255, 0, 255, 0, 255, 0, 255],\n",
    "              [ 0, 255, 0, 255, 0, 255, 0, 255, 0, 255, 0, 255, 0, 255, 0, 255],\n",
    "              [ 0, 255, 0, 255, 0, 255, 0, 255, 0, 255, 0, 255, 0, 255, 0, 255],\n",
    "              [ 0, 255, 0, 255, 0, 255, 0, 255, 0, 255, 0, 255, 0, 255, 0, 255]])\n",
    "x.reshape([5,16,1])\n",
    "print(x)\n"
   ]
  },
  {
   "cell_type": "code",
   "execution_count": 69,
   "metadata": {},
   "outputs": [
    {
     "data": {
      "text/plain": [
       "<matplotlib.image.AxesImage at 0x2ce648290d0>"
      ]
     },
     "execution_count": 69,
     "metadata": {},
     "output_type": "execute_result"
    },
    {
     "data": {
      "image/png": "[encoded data removed]",
      "text/plain": [
       "<Figure size 432x288 with 1 Axes>"
      ]
     },
     "metadata": {
      "needs_background": "light"
     },
     "output_type": "display_data"
    }
   ],
   "source": [
    "plt.imshow(x, cmap='gray', vmin=0, vmax=255) "
   ]
  },
  {
   "cell_type": "code",
   "execution_count": 70,
   "metadata": {},
   "outputs": [
    {
     "data": {
      "text/plain": [
       "0"
      ]
     },
     "execution_count": 70,
     "metadata": {},
     "output_type": "execute_result"
    }
   ],
   "source": [
    "x[1,2]"
   ]
  },
  {
   "cell_type": "code",
   "execution_count": 71,
   "metadata": {},
   "outputs": [],
   "source": [
    "#results are satisfactory on single word but still need tweaking on single character\n",
    "#still need a way to decide how many iterations of skeletonizations are needed\n",
    "\n",
    "\n",
    "\n",
    "dictionary = [3,6,7,12,24,28,14,224,225,216,143,15,30,48,52,96,112,54,240,227,131,135,99,56,60,120,62,129,192,248,251,195,141]\n",
    "\n",
    "def normalize(img):\n",
    "    for c in range(1, img.shape[1]-1):\n",
    "        for r in range(1, img.shape[0]-1):\n",
    "            if img[r,c]==0:\n",
    "                b = calculateB2(img, r, c)\n",
    "                if int(img[r-1,c+1])==0 and int(img[r,c+1])==255:\n",
    "                    print(\"b: \" + str(b))\n",
    "                    print(\"Go NE start at: \" + str([r,c]))\n",
    "                    trackAndSwitchNE(img, r, c)\n",
    "                \n",
    "                if int(img[r+1,c+1]) == 0 and int(img[r,c+1])==255:\n",
    "                    print(\"b: \" + str(b))\n",
    "                    print(\"Go SE start at: \" + str([r,c]))\n",
    "                    trackAndSwitchSE(img, r, c)\n",
    "                \n",
    "\n",
    "    \n",
    "\n",
    "def calculateB2(img, r, c):\n",
    "    numbers = [int(img[r-1,c]),int(img[r-1,c+1]),int(img[r,c+1]),int(img[r+1,c+1]),int(img[r+1,c]),int(img[r+1,c-1]),int(img[r,c-1]),int(img[r-1,c-1])]\n",
    "    #print(numbers)\n",
    "    b = 0\n",
    "    for i in range(0,8):\n",
    "        if numbers[i]<160:\n",
    "            b+=2**i\n",
    "    #print(b)\n",
    "    return b\n",
    "\n",
    "def trackAndSwitchNE(img,r,c):\n",
    "    row = r\n",
    "    y = 0\n",
    "    column = c\n",
    "    x = 0\n",
    "    addresses = []\n",
    "    while True:\n",
    "        \n",
    "        if int(img[row-1,column+1]) == 0 and int(img[row,column+1]) == 255:\n",
    "            if int(img[row-1,column]) == 0:\n",
    "                print(\"break\")\n",
    "                break\n",
    "            row+=-1\n",
    "            y+=1\n",
    "            column+=1\n",
    "            x+=1\n",
    "            addresses.append([row,column])\n",
    "        elif int(img[row,column+1]) == 0:\n",
    "            if int(img[row-1,column]) == 0:\n",
    "                print(\"break\")\n",
    "                break\n",
    "            column+=1\n",
    "            x+=1\n",
    "            addresses.append([row,column])\n",
    "        else: \n",
    "            break\n",
    "    print(\"addresses: \" + str(addresses))\n",
    "    print(\"x: \" + str(x))\n",
    "    print(\"y: \" + str(y))\n",
    "    for index in addresses:\n",
    "        img[index[0],index[1]]=255\n",
    "    \n",
    "    for increment in range(0,y):\n",
    "        img[r-increment,c]=0\n",
    "        print(\"row build: \" + str([r-increment,c]))\n",
    "    \n",
    "    \n",
    "    for increment2 in range(0,x+1):\n",
    "        #print(\"success\")\n",
    "        img[r-y, c+increment2]=0\n",
    "        print(\"column build: \" + str([r-y, c+increment2]))\n",
    "        \n",
    "def trackAndSwitchSE(img,r,c):\n",
    "    row = r\n",
    "    y = 0\n",
    "    column = c\n",
    "    x = 0\n",
    "    addresses = []\n",
    "    while True:\n",
    "        \n",
    "        if int(img[row+1,column+1]) == 0 and int(img[row,column+1]) == 255:\n",
    "            #if int(img[row-1,column]) == 0:\n",
    "                #break\n",
    "            row+=1\n",
    "            y+=1\n",
    "            column+=1\n",
    "            x+=1\n",
    "            addresses.append([row,column])\n",
    "        elif int(img[row,column+1]) == 0:\n",
    "            if int(img[row-1,column+1]) == 0:\n",
    "                print(\"break\")\n",
    "                break\n",
    "            column+=1\n",
    "            x+=1\n",
    "            addresses.append([row,column])\n",
    "        else: \n",
    "            break\n",
    "    print(\"addresses: \" + str(addresses))\n",
    "    print(\"x: \" + str(x))\n",
    "    print(\"y: \" + str(y))\n",
    "    for index in addresses:\n",
    "        img[index[0],index[1]]=255\n",
    "    \n",
    "    for increment in range(0,y):\n",
    "        img[r+increment,c]=0\n",
    "        print(\"row build: \" + str([r+increment,c]))\n",
    "    \n",
    "    \n",
    "    for increment2 in range(0,x+1):\n",
    "        #print(\"success\")\n",
    "        img[r+y, c+increment2]=0\n",
    "        print(\"column build: \" + str([r+y, c+increment2]))\n",
    "\n",
    "\n",
    "def getBaseline(img):\n",
    "    baselineDensity = 0\n",
    "    baselineRow = 0\n",
    "    for r in range(0, img.shape[0]):\n",
    "        currentSum = 0\n",
    "        for c in range(0, img.shape[1]):\n",
    "            if img[r,c]==0:\n",
    "                currentSum+=1\n",
    "        if currentSum>baselineDensity:\n",
    "            baselineDensity = currentSum\n",
    "            baselineRow = r\n",
    "\n",
    "    return baselineRow\n",
    "\n",
    "\n",
    "        "
   ]
  },
  {
   "cell_type": "code",
   "execution_count": 72,
   "metadata": {},
   "outputs": [
    {
     "name": "stdout",
     "output_type": "stream",
     "text": [
      "[0, 2, 5, 7, 10, 12, 15, 17, 20, 22, 25, 27, 30, 32, 35, 37, 40, 42, 45, 47]\n",
      "[0, 2, 5, 7, 10, 12, 15, 17, 20, 22, 25, 27, 30, 32]\n"
     ]
    }
   ],
   "source": [
    "y_value_list = []\n",
    "x_value_list = []\n",
    "\n",
    "for i in range(0,20):\n",
    "    i = int(i*2.5)\n",
    "    x_value_list.append(i)\n",
    "\n",
    "for i in range(0,14):\n",
    "    i = int(i*2.5)\n",
    "    y_value_list.append(i)\n",
    "    \n",
    "print(x_value_list)\n",
    "print(y_value_list)"
   ]
  },
  {
   "cell_type": "code",
   "execution_count": 179,
   "metadata": {
    "scrolled": false
   },
   "outputs": [
    {
     "name": "stdout",
     "output_type": "stream",
     "text": [
      "baseline row: 18\n"
     ]
    },
    {
     "data": {
      "image/png": "[encoded data removed]",
      "text/plain": [
       "<Figure size 432x288 with 1 Axes>"
      ]
     },
     "metadata": {
      "needs_background": "light"
     },
     "output_type": "display_data"
    }
   ],
   "source": [
    "def makeTestImg(img, finalImg):\n",
    "    for y in range(img.shape[0]):\n",
    "        for x in range(img.shape[1]):     \n",
    "                finalImg[y,x] = img[y,x]\n",
    "\n",
    "test_img2 = np.zeros(final_9albWordImg.shape, final_9albWordImg.dtype)\n",
    "test_img3 = np.zeros(final_sha3alWordImg.shape, final_sha3alWordImg.dtype)\n",
    "\n",
    "\n",
    "makeTestImg(final_9albImgBtw, test_img2)\n",
    "makeTestImg(final_sha3alWordImgBtw, test_img3)\n",
    "#plt.imshow(test_img2, cmap='gray', vmin=0, vmax=255)\n",
    "\n",
    "fig, ax = plt.subplots(1,1)\n",
    "\n",
    "img5 = ax.imshow(test_img2, cmap='gray', vmin=0, vmax=255)\n",
    "\n",
    "\n",
    "\n",
    "#x_label_list = ['A2', 'B2', 'C2', 'D2']\n",
    "\n",
    "ax.set_xticks(x_value_list)\n",
    "ax.set_yticks(y_value_list)\n",
    "\n",
    "#ax.set_xticklabels(x_label_list)\n",
    "\n",
    "#fig.imshow(img5)\n",
    "print(\"baseline row: \" + str(getBaseline(test_img2)))"
   ]
  },
  {
   "cell_type": "code",
   "execution_count": 74,
   "metadata": {},
   "outputs": [
    {
     "data": {
      "text/plain": [
       "<matplotlib.image.AxesImage at 0x2ce6490fd30>"
      ]
     },
     "execution_count": 74,
     "metadata": {},
     "output_type": "execute_result"
    },
    {
     "data": {
      "image/png": "[encoded data removed]",
      "text/plain": [
       "<Figure size 432x288 with 1 Axes>"
      ]
     },
     "metadata": {
      "needs_background": "light"
     },
     "output_type": "display_data"
    }
   ],
   "source": [
    "plt.imshow(test_img3, cmap='gray', vmin=0, vmax=255)"
   ]
  },
  {
   "cell_type": "code",
   "execution_count": 75,
   "metadata": {
    "scrolled": true
   },
   "outputs": [
    {
     "name": "stdout",
     "output_type": "stream",
     "text": [
      "b: 19\n",
      "Go NE start at: [23, 2]\n",
      "break\n",
      "addresses: []\n",
      "x: 0\n",
      "y: 0\n",
      "column build: [23, 2]\n",
      "b: 9\n",
      "Go SE start at: [26, 2]\n",
      "addresses: [[27, 3], [27, 4], [28, 5], [29, 6], [29, 7], [30, 8], [30, 9], [31, 10], [31, 11], [31, 12], [31, 13], [32, 14], [32, 15], [32, 16]]\n",
      "x: 14\n",
      "y: 6\n",
      "row build: [26, 2]\n",
      "row build: [27, 2]\n",
      "row build: [28, 2]\n",
      "row build: [29, 2]\n",
      "row build: [30, 2]\n",
      "row build: [31, 2]\n",
      "column build: [32, 2]\n",
      "column build: [32, 3]\n",
      "column build: [32, 4]\n",
      "column build: [32, 5]\n",
      "column build: [32, 6]\n",
      "column build: [32, 7]\n",
      "column build: [32, 8]\n",
      "column build: [32, 9]\n",
      "column build: [32, 10]\n",
      "column build: [32, 11]\n",
      "column build: [32, 12]\n",
      "column build: [32, 13]\n",
      "column build: [32, 14]\n",
      "column build: [32, 15]\n",
      "column build: [32, 16]\n",
      "b: 25\n",
      "Go SE start at: [31, 2]\n",
      "break\n",
      "addresses: [[32, 3], [32, 4], [32, 5], [32, 6], [32, 7], [32, 8]]\n",
      "x: 6\n",
      "y: 1\n",
      "row build: [31, 2]\n",
      "column build: [32, 2]\n",
      "column build: [32, 3]\n",
      "column build: [32, 4]\n",
      "column build: [32, 5]\n",
      "column build: [32, 6]\n",
      "column build: [32, 7]\n",
      "column build: [32, 8]\n",
      "b: 98\n",
      "Go NE start at: [22, 3]\n",
      "addresses: [[21, 4], [21, 5], [21, 6], [20, 7], [20, 8], [20, 9]]\n",
      "x: 6\n",
      "y: 2\n",
      "row build: [22, 3]\n",
      "row build: [21, 3]\n",
      "column build: [20, 3]\n",
      "column build: [20, 4]\n",
      "column build: [20, 5]\n",
      "column build: [20, 6]\n",
      "column build: [20, 7]\n",
      "column build: [20, 8]\n",
      "column build: [20, 9]\n",
      "b: 56\n",
      "Go SE start at: [31, 9]\n",
      "addresses: [[32, 10], [32, 11], [32, 12], [32, 13], [32, 14], [32, 15], [32, 16]]\n",
      "x: 7\n",
      "y: 1\n",
      "row build: [31, 9]\n",
      "column build: [32, 9]\n",
      "column build: [32, 10]\n",
      "column build: [32, 11]\n",
      "column build: [32, 12]\n",
      "column build: [32, 13]\n",
      "column build: [32, 14]\n",
      "column build: [32, 15]\n",
      "column build: [32, 16]\n",
      "b: 66\n",
      "Go NE start at: [32, 16]\n",
      "break\n",
      "addresses: [[31, 17], [31, 18], [30, 19], [30, 20], [29, 21]]\n",
      "x: 5\n",
      "y: 3\n",
      "row build: [32, 16]\n",
      "row build: [31, 16]\n",
      "row build: [30, 16]\n",
      "column build: [29, 16]\n",
      "column build: [29, 17]\n",
      "column build: [29, 18]\n",
      "column build: [29, 19]\n",
      "column build: [29, 20]\n",
      "column build: [29, 21]\n",
      "b: 2\n",
      "Go NE start at: [18, 18]\n",
      "addresses: [[17, 19]]\n",
      "x: 1\n",
      "y: 1\n",
      "row build: [18, 18]\n",
      "column build: [17, 18]\n",
      "column build: [17, 19]\n",
      "b: 50\n",
      "Go NE start at: [16, 19]\n",
      "break\n",
      "addresses: [[15, 20]]\n",
      "x: 1\n",
      "y: 1\n",
      "row build: [16, 19]\n",
      "column build: [15, 19]\n",
      "column build: [15, 20]\n",
      "b: 99\n",
      "Go NE start at: [15, 20]\n",
      "break\n",
      "addresses: []\n",
      "x: 0\n",
      "y: 0\n",
      "column build: [15, 20]\n",
      "b: 67\n",
      "Go NE start at: [29, 21]\n",
      "break\n",
      "addresses: []\n",
      "x: 0\n",
      "y: 0\n",
      "column build: [29, 21]\n",
      "b: 51\n",
      "Go NE start at: [27, 22]\n",
      "break\n",
      "addresses: []\n",
      "x: 0\n",
      "y: 0\n",
      "column build: [27, 22]\n",
      "b: 19\n",
      "Go NE start at: [11, 23]\n",
      "break\n",
      "addresses: []\n",
      "x: 0\n",
      "y: 0\n",
      "column build: [11, 23]\n",
      "b: 19\n",
      "Go NE start at: [15, 36]\n",
      "break\n",
      "addresses: []\n",
      "x: 0\n",
      "y: 0\n",
      "column build: [15, 36]\n",
      "b: 25\n",
      "Go SE start at: [23, 36]\n",
      "addresses: [[24, 37], [24, 38], [24, 39], [24, 40], [24, 41], [24, 42], [24, 43], [24, 44]]\n",
      "x: 8\n",
      "y: 1\n",
      "row build: [23, 36]\n",
      "column build: [24, 36]\n",
      "column build: [24, 37]\n",
      "column build: [24, 38]\n",
      "column build: [24, 39]\n",
      "column build: [24, 40]\n",
      "column build: [24, 41]\n",
      "column build: [24, 42]\n",
      "column build: [24, 43]\n",
      "column build: [24, 44]\n",
      "b: 19\n",
      "Go NE start at: [6, 37]\n",
      "break\n",
      "addresses: []\n",
      "x: 0\n",
      "y: 0\n",
      "column build: [6, 37]\n",
      "b: 66\n",
      "Go NE start at: [24, 44]\n",
      "break\n",
      "addresses: [[23, 45], [23, 46], [22, 47], [22, 48], [22, 49], [21, 50]]\n",
      "x: 6\n",
      "y: 3\n",
      "row build: [24, 44]\n",
      "row build: [23, 44]\n",
      "row build: [22, 44]\n",
      "column build: [21, 44]\n",
      "column build: [21, 45]\n",
      "column build: [21, 46]\n",
      "column build: [21, 47]\n",
      "column build: [21, 48]\n",
      "column build: [21, 49]\n",
      "column build: [21, 50]\n",
      "b: 27\n",
      "Go NE start at: [17, 48]\n",
      "break\n",
      "addresses: []\n",
      "x: 0\n",
      "y: 0\n",
      "column build: [17, 48]\n",
      "b: 27\n",
      "Go SE start at: [17, 48]\n",
      "break\n",
      "addresses: [[18, 49], [18, 50], [18, 51]]\n",
      "x: 3\n",
      "y: 1\n",
      "row build: [17, 48]\n",
      "column build: [18, 48]\n",
      "column build: [18, 49]\n",
      "column build: [18, 50]\n",
      "column build: [18, 51]\n",
      "b: 201\n",
      "Go SE start at: [21, 52]\n",
      "addresses: [[22, 53]]\n",
      "x: 1\n",
      "y: 1\n",
      "row build: [21, 52]\n",
      "column build: [22, 52]\n",
      "column build: [22, 53]\n",
      "b: 153\n",
      "Go SE start at: [23, 53]\n",
      "addresses: [[24, 54], [24, 55], [25, 56], [25, 57], [25, 58]]\n",
      "x: 5\n",
      "y: 2\n",
      "row build: [23, 53]\n",
      "row build: [24, 53]\n",
      "column build: [25, 53]\n",
      "column build: [25, 54]\n",
      "column build: [25, 55]\n",
      "column build: [25, 56]\n",
      "column build: [25, 57]\n",
      "column build: [25, 58]\n",
      "b: 25\n",
      "Go SE start at: [24, 53]\n",
      "addresses: [[25, 54], [25, 55], [25, 56], [25, 57], [25, 58]]\n",
      "x: 5\n",
      "y: 1\n",
      "row build: [24, 53]\n",
      "column build: [25, 53]\n",
      "column build: [25, 54]\n",
      "column build: [25, 55]\n",
      "column build: [25, 56]\n",
      "column build: [25, 57]\n",
      "column build: [25, 58]\n",
      "b: 66\n",
      "Go NE start at: [25, 58]\n",
      "addresses: [[24, 59], [24, 60], [24, 61], [23, 62], [23, 63], [23, 64]]\n",
      "x: 6\n",
      "y: 2\n",
      "row build: [25, 58]\n",
      "row build: [24, 58]\n",
      "column build: [23, 58]\n",
      "column build: [23, 59]\n",
      "column build: [23, 60]\n",
      "column build: [23, 61]\n",
      "column build: [23, 62]\n",
      "column build: [23, 63]\n",
      "column build: [23, 64]\n",
      "b: 88\n",
      "Go SE start at: [23, 64]\n",
      "addresses: [[24, 65], [24, 66]]\n",
      "x: 2\n",
      "y: 1\n",
      "row build: [23, 64]\n",
      "column build: [24, 64]\n",
      "column build: [24, 65]\n",
      "column build: [24, 66]\n",
      "b: 66\n",
      "Go NE start at: [24, 66]\n",
      "break\n",
      "addresses: [[23, 67]]\n",
      "x: 1\n",
      "y: 1\n",
      "row build: [24, 66]\n",
      "column build: [23, 66]\n",
      "column build: [23, 67]\n",
      "b: 99\n",
      "Go NE start at: [23, 67]\n",
      "break\n",
      "addresses: []\n",
      "x: 0\n",
      "y: 0\n",
      "column build: [23, 67]\n",
      "baseline row: 24\n"
     ]
    },
    {
     "data": {
      "image/png": "[encoded data removed]",
      "text/plain": [
       "<Figure size 432x288 with 1 Axes>"
      ]
     },
     "metadata": {
      "needs_background": "light"
     },
     "output_type": "display_data"
    }
   ],
   "source": [
    "normalize(test_img3)\n",
    "\n",
    "fig, ax = plt.subplots(1,1)\n",
    "\n",
    "img6 = ax.imshow(test_img3, cmap='gray', vmin=0, vmax=255)\n",
    "\n",
    "#x_label_list = ['A2', 'B2', 'C2', 'D2']\n",
    "\n",
    "#ax.set_xticks(x_value_list)\n",
    "#ax.set_yticks(y_value_list)\n",
    "#plt.imshow(test_img2, cmap='gray', vmin=0, vmax=255) \n",
    "print(\"baseline row: \" + str(getBaseline(test_img3)))"
   ]
  },
  {
   "cell_type": "code",
   "execution_count": 180,
   "metadata": {},
   "outputs": [
    {
     "name": "stdout",
     "output_type": "stream",
     "text": [
      "baseline row: 18\n"
     ]
    },
    {
     "data": {
      "image/png": "[encoded data removed]",
      "text/plain": [
       "<Figure size 432x288 with 1 Axes>"
      ]
     },
     "metadata": {
      "needs_background": "light"
     },
     "output_type": "display_data"
    }
   ],
   "source": [
    "normalize(test_img2)\n",
    "\n",
    "fig, ax = plt.subplots(1,1)\n",
    "\n",
    "img5 = ax.imshow(test_img2, cmap='gray', vmin=0, vmax=255)\n",
    "\n",
    "#x_label_list = ['A2', 'B2', 'C2', 'D2']\n",
    "\n",
    "ax.set_xticks(x_value_list)\n",
    "ax.set_yticks(y_value_list)\n",
    "#plt.imshow(test_img2, cmap='gray', vmin=0, vmax=255) \n",
    "print(\"baseline row: \" + str(getBaseline(test_img2)))"
   ]
  },
  {
   "cell_type": "code",
   "execution_count": 77,
   "metadata": {},
   "outputs": [
    {
     "name": "stdout",
     "output_type": "stream",
     "text": [
      "56\n",
      "3\n",
      "52\n",
      "54\n",
      "141\n",
      "54\n",
      "baseline row: 32\n"
     ]
    },
    {
     "data": {
      "image/png": "[encoded data removed]",
      "text/plain": [
       "<Figure size 432x288 with 1 Axes>"
      ]
     },
     "metadata": {
      "needs_background": "light"
     },
     "output_type": "display_data"
    }
   ],
   "source": [
    "skeletonize(test_img3)\n",
    "fig, ax = plt.subplots(1,1)\n",
    "\n",
    "img5 = ax.imshow(test_img3, cmap='gray', vmin=0, vmax=255)\n",
    "\n",
    "print(\"baseline row: \" + str(getBaseline(test_img2)))"
   ]
  },
  {
   "cell_type": "code",
   "execution_count": 181,
   "metadata": {
    "scrolled": true
   },
   "outputs": [
    {
     "name": "stdout",
     "output_type": "stream",
     "text": [
      "baseline row: 18\n"
     ]
    },
    {
     "data": {
      "image/png": "[encoded data removed]",
      "text/plain": [
       "<Figure size 432x288 with 1 Axes>"
      ]
     },
     "metadata": {
      "needs_background": "light"
     },
     "output_type": "display_data"
    }
   ],
   "source": [
    "\n",
    "skeletonize(test_img2)\n",
    "fig, ax = plt.subplots(1,1)\n",
    "\n",
    "img5 = ax.imshow(test_img2, cmap='gray', vmin=0, vmax=255)\n",
    "\n",
    "#x_label_list = ['A2', 'B2', 'C2', 'D2']\n",
    "\n",
    "ax.set_xticks(x_value_list)\n",
    "ax.set_yticks(y_value_list)\n",
    "#plt.imshow(test_img2, cmap='gray', vmin=0, vmax=255)\n",
    "print(\"baseline row: \" + str(getBaseline(test_img2)))"
   ]
  },
  {
   "cell_type": "code",
   "execution_count": 184,
   "metadata": {},
   "outputs": [
    {
     "name": "stdout",
     "output_type": "stream",
     "text": [
      "baseline row: 18\n"
     ]
    },
    {
     "data": {
      "image/png": "[encoded data removed]",
      "text/plain": [
       "<Figure size 432x288 with 1 Axes>"
      ]
     },
     "metadata": {
      "needs_background": "light"
     },
     "output_type": "display_data"
    }
   ],
   "source": [
    "normalize(test_img2)\n",
    "fig, ax = plt.subplots(1,1)\n",
    "\n",
    "img5 = ax.imshow(test_img2, cmap='gray', vmin=0, vmax=255)\n",
    "\n",
    "#x_label_list = ['A2', 'B2', 'C2', 'D2']\n",
    "\n",
    "ax.set_xticks(x_value_list)\n",
    "ax.set_yticks(y_value_list)\n",
    "#plt.imshow(test_img2, cmap='gray', vmin=0, vmax=255)\n",
    "print(\"baseline row: \" + str(getBaseline(test_img2)))"
   ]
  },
  {
   "cell_type": "code",
   "execution_count": 80,
   "metadata": {},
   "outputs": [
    {
     "name": "stdout",
     "output_type": "stream",
     "text": [
      "b: 19\n",
      "Go NE start at: [23, 2]\n",
      "break\n",
      "addresses: []\n",
      "x: 0\n",
      "y: 0\n",
      "column build: [23, 2]\n",
      "b: 25\n",
      "Go SE start at: [31, 2]\n",
      "break\n",
      "addresses: [[32, 3], [32, 4], [32, 5], [32, 6], [32, 7], [32, 8], [32, 9], [32, 10], [32, 11], [32, 12], [32, 13], [32, 14], [32, 15]]\n",
      "x: 13\n",
      "y: 1\n",
      "row build: [31, 2]\n",
      "column build: [32, 2]\n",
      "column build: [32, 3]\n",
      "column build: [32, 4]\n",
      "column build: [32, 5]\n",
      "column build: [32, 6]\n",
      "column build: [32, 7]\n",
      "column build: [32, 8]\n",
      "column build: [32, 9]\n",
      "column build: [32, 10]\n",
      "column build: [32, 11]\n",
      "column build: [32, 12]\n",
      "column build: [32, 13]\n",
      "column build: [32, 14]\n",
      "column build: [32, 15]\n",
      "b: 51\n",
      "Go NE start at: [21, 3]\n",
      "break\n",
      "addresses: []\n",
      "x: 0\n",
      "y: 0\n",
      "column build: [21, 3]\n",
      "b: 19\n",
      "Go NE start at: [30, 16]\n",
      "break\n",
      "addresses: []\n",
      "x: 0\n",
      "y: 0\n",
      "column build: [30, 16]\n",
      "b: 51\n",
      "Go NE start at: [16, 19]\n",
      "break\n",
      "addresses: []\n",
      "x: 0\n",
      "y: 0\n",
      "column build: [16, 19]\n",
      "b: 98\n",
      "Go NE start at: [15, 20]\n",
      "addresses: [[14, 21], [14, 22], [14, 23]]\n",
      "x: 3\n",
      "y: 1\n",
      "row build: [15, 20]\n",
      "column build: [14, 20]\n",
      "column build: [14, 21]\n",
      "column build: [14, 22]\n",
      "column build: [14, 23]\n",
      "b: 66\n",
      "Go NE start at: [29, 21]\n",
      "addresses: [[28, 22]]\n",
      "x: 1\n",
      "y: 1\n",
      "row build: [29, 21]\n",
      "column build: [28, 21]\n",
      "column build: [28, 22]\n",
      "b: 51\n",
      "Go NE start at: [27, 22]\n",
      "break\n",
      "addresses: []\n",
      "x: 0\n",
      "y: 0\n",
      "column build: [27, 22]\n",
      "b: 19\n",
      "Go NE start at: [11, 23]\n",
      "break\n",
      "addresses: []\n",
      "x: 0\n",
      "y: 0\n",
      "column build: [11, 23]\n",
      "b: 19\n",
      "Go NE start at: [15, 36]\n",
      "break\n",
      "addresses: []\n",
      "x: 0\n",
      "y: 0\n",
      "column build: [15, 36]\n",
      "b: 25\n",
      "Go SE start at: [23, 36]\n",
      "break\n",
      "addresses: [[24, 37], [24, 38], [24, 39], [24, 40], [24, 41], [24, 42], [24, 43]]\n",
      "x: 7\n",
      "y: 1\n",
      "row build: [23, 36]\n",
      "column build: [24, 36]\n",
      "column build: [24, 37]\n",
      "column build: [24, 38]\n",
      "column build: [24, 39]\n",
      "column build: [24, 40]\n",
      "column build: [24, 41]\n",
      "column build: [24, 42]\n",
      "column build: [24, 43]\n",
      "b: 19\n",
      "Go NE start at: [6, 37]\n",
      "break\n",
      "addresses: []\n",
      "x: 0\n",
      "y: 0\n",
      "column build: [6, 37]\n",
      "b: 19\n",
      "Go NE start at: [22, 44]\n",
      "break\n",
      "addresses: []\n",
      "x: 0\n",
      "y: 0\n",
      "column build: [22, 44]\n",
      "b: 27\n",
      "Go NE start at: [17, 48]\n",
      "break\n",
      "addresses: []\n",
      "x: 0\n",
      "y: 0\n",
      "column build: [17, 48]\n",
      "b: 27\n",
      "Go SE start at: [17, 48]\n",
      "break\n",
      "addresses: [[18, 49], [18, 50], [18, 51]]\n",
      "x: 3\n",
      "y: 1\n",
      "row build: [17, 48]\n",
      "column build: [18, 48]\n",
      "column build: [18, 49]\n",
      "column build: [18, 50]\n",
      "column build: [18, 51]\n",
      "b: 201\n",
      "Go SE start at: [21, 52]\n",
      "addresses: [[22, 53]]\n",
      "x: 1\n",
      "y: 1\n",
      "row build: [21, 52]\n",
      "column build: [22, 52]\n",
      "column build: [22, 53]\n",
      "b: 25\n",
      "Go SE start at: [24, 53]\n",
      "break\n",
      "addresses: [[25, 54], [25, 55], [25, 56], [25, 57]]\n",
      "x: 4\n",
      "y: 1\n",
      "row build: [24, 53]\n",
      "column build: [25, 53]\n",
      "column build: [25, 54]\n",
      "column build: [25, 55]\n",
      "column build: [25, 56]\n",
      "column build: [25, 57]\n",
      "b: 51\n",
      "Go NE start at: [24, 58]\n",
      "break\n",
      "addresses: []\n",
      "x: 0\n",
      "y: 0\n",
      "column build: [24, 58]\n",
      "b: 88\n",
      "Go SE start at: [23, 64]\n",
      "addresses: [[24, 65], [24, 66]]\n",
      "x: 2\n",
      "y: 1\n",
      "row build: [23, 64]\n",
      "column build: [24, 64]\n",
      "column build: [24, 65]\n",
      "column build: [24, 66]\n",
      "b: 66\n",
      "Go NE start at: [24, 66]\n",
      "break\n",
      "addresses: [[23, 67]]\n",
      "x: 1\n",
      "y: 1\n",
      "row build: [24, 66]\n",
      "column build: [23, 66]\n",
      "column build: [23, 67]\n",
      "b: 99\n",
      "Go NE start at: [23, 67]\n",
      "break\n",
      "addresses: []\n",
      "x: 0\n",
      "y: 0\n",
      "column build: [23, 67]\n",
      "baseline row: 32\n"
     ]
    },
    {
     "data": {
      "image/png": "[encoded data removed]",
      "text/plain": [
       "<Figure size 432x288 with 1 Axes>"
      ]
     },
     "metadata": {
      "needs_background": "light"
     },
     "output_type": "display_data"
    }
   ],
   "source": [
    "normalize(test_img3)\n",
    "fig, ax = plt.subplots(1,1)\n",
    "\n",
    "img5 = ax.imshow(test_img3, cmap='gray', vmin=0, vmax=255)\n",
    "\n",
    "print(\"baseline row: \" + str(getBaseline(test_img2)))"
   ]
  },
  {
   "cell_type": "code",
   "execution_count": 81,
   "metadata": {},
   "outputs": [
    {
     "name": "stdout",
     "output_type": "stream",
     "text": [
      "baseline row: 32\n"
     ]
    }
   ],
   "source": [
    "print(\"baseline row: \" + str(getBaseline(test_img2)))"
   ]
  },
  {
   "cell_type": "markdown",
   "metadata": {},
   "source": [
    "# Lets redo the whole thing using the new pre-processing techniques"
   ]
  },
  {
   "cell_type": "code",
   "execution_count": 278,
   "metadata": {},
   "outputs": [],
   "source": [
    "#pre-processing functions skelotanize and normalize\n",
    "\n",
    "def blackToWhite(img, finalImg):\n",
    "    for y in range(img.shape[0]):\n",
    "        for x in range(img.shape[1]):\n",
    "            if img[y,x] == 0:     \n",
    "                finalImg[y,x] = 255\n",
    "            else :\n",
    "                finalImg[y,x] = 0\n",
    "def whiteToBlack(final_img, img ):\n",
    "    for y in range(img.shape[0]):\n",
    "        for x in range(img.shape[1]):\n",
    "            if img[y,x] < 125:     \n",
    "                final_img[y,x] = 255\n",
    "            else :\n",
    "                final_img[y,x] = 0\n",
    "\n",
    "\n",
    "dictionary = [3,6,7,12,24,28,14,224,225,216,143,15,30,48,52,96,112,54,240,227,131,135,99,56,60,120,62,129,192,248,251,195,141]\n",
    "\n",
    "def skeletonize(img):\n",
    "    for c in range(1, img.shape[1]-1):\n",
    "        for r in range(1, img.shape[0]-1):\n",
    "            if img[r,c]==0:\n",
    "                b = calculateB(img, r, c)\n",
    "                #print(str([r,c]) + \": b = \" + str(b) )\n",
    "                if classifyB(b):\n",
    "                    img[r,c] = 150\n",
    "    for c in range(1, img.shape[1]-1):\n",
    "        for r in range(1, img.shape[0]-1):\n",
    "            if img[r,c]==150:\n",
    "                #print(True)\n",
    "                img[r,c] = 255\n",
    "    \n",
    "\n",
    "def calculateB(img, r, c):\n",
    "    numbers = [int(img[r-1,c]),int(img[r-1,c+1]),int(img[r,c+1]),int(img[r+1,c+1]),int(img[r+1,c]),int(img[r+1,c-1]),int(img[r,c-1]),int(img[r-1,c-1])]\n",
    "    #numbers = [int(img[c,r+1]),int(img[c+1,r+1]),int(img[c+1,r]),int(img[c+1,r-1]),int(img[c,r-1]),int(img[c-1,r-1]),int(img[c-1,r]),int(img[c-1,r+1])]\n",
    "    #print(numbers)\n",
    "    b = 0\n",
    "    for i in range(0,8):\n",
    "        if numbers[i]<140:\n",
    "            b+=2**i\n",
    "    #print(b)\n",
    "    return b\n",
    "\n",
    "def classifyB(b):\n",
    "    for i in dictionary:\n",
    "        if int(b) == int(i):\n",
    "            #print(b)\n",
    "            return True\n",
    "    return False \n",
    "\n",
    "#results are satisfactory on single word but still need tweaking on single character\n",
    "#still need a way to decide how many iterations of skeletonizations are needed\n",
    "\n",
    "\n",
    "\n",
    "\n",
    "def normalize(img):\n",
    "    for c in range(1, img.shape[1]-1):\n",
    "        for r in range(1, img.shape[0]-1):\n",
    "            if img[r,c]==0:\n",
    "                b = calculateB2(img, r, c)\n",
    "                if int(img[r-1,c+1])==0 and int(img[r,c+1])==255:\n",
    "                    #print(\"b: \" + str(b))\n",
    "                    #print(\"Go NE start at: \" + str([r,c]))\n",
    "                    trackAndSwitchNE(img, r, c)\n",
    "                \n",
    "                if int(img[r+1,c+1]) == 0 and int(img[r,c+1])==255:\n",
    "                    #print(\"b: \" + str(b))\n",
    "                    #print(\"Go SE start at: \" + str([r,c]))\n",
    "                    trackAndSwitchSE(img, r, c)\n",
    "                \n",
    "\n",
    "    \n",
    "\n",
    "def calculateB2(img, r, c):\n",
    "    numbers = [int(img[r-1,c]),int(img[r-1,c+1]),int(img[r,c+1]),int(img[r+1,c+1]),int(img[r+1,c]),int(img[r+1,c-1]),int(img[r,c-1]),int(img[r-1,c-1])]\n",
    "    #print(numbers)\n",
    "    b = 0\n",
    "    for i in range(0,8):\n",
    "        if numbers[i]<160:\n",
    "            b+=2**i\n",
    "    #print(b)\n",
    "    return b\n",
    "\n",
    "def trackAndSwitchNE(img,r,c):\n",
    "    row = r\n",
    "    y = 0\n",
    "    column = c\n",
    "    x = 0\n",
    "    addresses = []\n",
    "    while row < img.shape[0]-1 and column < img.shape[1]-1:\n",
    "        \n",
    "        if int(img[row-1,column+1]) == 0 and int(img[row,column+1]) == 255:\n",
    "            if int(img[row-1,column]) == 0:\n",
    "                #print(\"break\")\n",
    "                break\n",
    "            row+=-1\n",
    "            y+=1\n",
    "            column+=1\n",
    "            x+=1\n",
    "            addresses.append([row,column])\n",
    "        elif int(img[row,column+1]) == 0:\n",
    "            if int(img[row-1,column]) == 0:\n",
    "                #print(\"break\")\n",
    "                break\n",
    "            column+=1\n",
    "            x+=1\n",
    "            addresses.append([row,column])\n",
    "        else: \n",
    "            break\n",
    "    #print(\"addresses: \" + str(addresses))\n",
    "    #print(\"x: \" + str(x))\n",
    "    #print(\"y: \" + str(y))\n",
    "    for index in addresses:\n",
    "        img[index[0],index[1]]=255\n",
    "    \n",
    "    for increment in range(0,y):\n",
    "        img[r-increment,c]=0\n",
    "        #print(\"row build: \" + str([r-increment,c]))\n",
    "    \n",
    "    \n",
    "    for increment2 in range(0,x+1):\n",
    "        #print(\"success\")\n",
    "        img[r-y, c+increment2]=0\n",
    "        #print(\"column build: \" + str([r-y, c+increment2]))\n",
    "        \n",
    "def trackAndSwitchSE(img,r,c):\n",
    "    row = r\n",
    "    y = 0\n",
    "    column = c\n",
    "    x = 0\n",
    "    addresses = []\n",
    "    while row < img.shape[0]-1 and column < img.shape[1]-1:\n",
    "        \n",
    "        if int(img[row+1,column+1]) == 0 and int(img[row,column+1]) == 255:\n",
    "            #if int(img[row-1,column]) == 0:\n",
    "                #break\n",
    "            row+=1\n",
    "            y+=1\n",
    "            column+=1\n",
    "            x+=1\n",
    "            addresses.append([row,column])\n",
    "        elif int(img[row,column+1]) == 0:\n",
    "            if int(img[row-1,column+1]) == 0:\n",
    "                #print(\"break\")\n",
    "                break\n",
    "            column+=1\n",
    "            x+=1\n",
    "            addresses.append([row,column])\n",
    "        else: \n",
    "            break\n",
    "    #print(\"addresses: \" + str(addresses))\n",
    "    #print(\"x: \" + str(x))\n",
    "    #print(\"y: \" + str(y))\n",
    "    for index in addresses:\n",
    "        img[index[0],index[1]]=255\n",
    "    \n",
    "    for increment in range(0,y):\n",
    "        img[r+increment,c]=0\n",
    "        #print(\"row build: \" + str([r+increment,c]))\n",
    "    \n",
    "    \n",
    "    for increment2 in range(0,x+1):\n",
    "        #print(\"success\")\n",
    "        img[r+y, c+increment2]=0\n",
    "        #print(\"column build: \" + str([r+y, c+increment2]))\n",
    "\n",
    "\n",
    "def getBaseline(img):\n",
    "    baselineDensity = 0\n",
    "    baselineRow = 0\n",
    "    for r in range(0, img.shape[0]):\n",
    "        currentSum = 0\n",
    "        for c in range(0, img.shape[1]):\n",
    "            if img[r,c]==0:\n",
    "                currentSum+=1\n",
    "        if currentSum>baselineDensity:\n",
    "            baselineDensity = currentSum\n",
    "            baselineRow = r\n",
    "\n",
    "    return baselineRow\n"
   ]
  },
  {
   "cell_type": "code",
   "execution_count": 284,
   "metadata": {},
   "outputs": [
    {
     "name": "stderr",
     "output_type": "stream",
     "text": [
      "100%|██████████████████████████████████████████████████████████████████████████| 13440/13440 [00:04<00:00, 2982.70it/s]\n",
      "100%|████████████████████████████████████████████████████████████████████████████| 3360/3360 [00:00<00:00, 5264.45it/s]\n"
     ]
    }
   ],
   "source": [
    "#we need to convert the images to a matrix so we can build our test and train sets\n",
    "\n",
    "DIRECTORY = r\"C:\\Users\\rassa\\Documents\\Machine Learning A-Z  Udemy\\Arabic Handwritten Characters Dataset\"\n",
    "train_data = []\n",
    "test_data = []\n",
    "trainPath = DIRECTORY + r\"\\Train Images 13440x32x32\\train\"\n",
    "testPath  = DIRECTORY + r\"\\Test Images 3360x32x32\\test\"\n",
    "\n",
    "def getImgId(imgName):\n",
    "    return int(imgName.split('_')[1])\n",
    "\n",
    "def makeData(data, directory, sortingCriteria):\n",
    "    imgFileNameList = os.listdir(directory)     #get list of directories in path (ie. list of image names)\n",
    "    imgFileNameList.sort(key = sortingCriteria) #sort list based on key\n",
    "    \n",
    "    for img in tqdm(imgFileNameList):  # iterate over the sorted list\n",
    "                try:\n",
    "                    img_array = cv2.imread(os.path.join(directory, img) ,cv2.IMREAD_GRAYSCALE)  # convert image to array\n",
    "                    data.append([img_array])  # add this to our data\n",
    "                except Exception as e:  # just in case there is a mistake.\n",
    "                    pass\n",
    "\n",
    "makeData(train_data, trainPath, getImgId)\n",
    "makeData(test_data, testPath, getImgId)\n"
   ]
  },
  {
   "cell_type": "code",
   "execution_count": 285,
   "metadata": {},
   "outputs": [],
   "source": [
    "# convert to ndarray and reshape\n",
    "train_data = np.asarray(train_data).reshape([-1, 32, 32, 1])\n",
    "test_data = np.asarray(test_data).reshape([-1, 32, 32, 1])"
   ]
  },
  {
   "cell_type": "code",
   "execution_count": 281,
   "metadata": {},
   "outputs": [
    {
     "data": {
      "text/plain": [
       "13440"
      ]
     },
     "execution_count": 281,
     "metadata": {},
     "output_type": "execute_result"
    }
   ],
   "source": [
    "len(train_data)"
   ]
  },
  {
   "cell_type": "code",
   "execution_count": 286,
   "metadata": {},
   "outputs": [],
   "source": [
    "def preProcessData(data):\n",
    "    for i in range(len(data)):  # iterate over the sorted list\n",
    "        try:\n",
    "            test_img1 = data[i].reshape([32,32])\n",
    "            test_img1_BTW = np.zeros(test_img1.shape, test_img1.dtype)\n",
    "            blackToWhite(test_img1, test_img1_BTW) \n",
    "            skeletonize(test_img1_BTW)\n",
    "            skeletonize(test_img1_BTW)\n",
    "            skeletonize(test_img1_BTW)\n",
    "            normalize(test_img1_BTW)\n",
    "            normalize(test_img1_BTW)\n",
    "            normalize(test_img1_BTW)\n",
    "            whiteToBlack(test_img1_BTW,test_img1_BTW)\n",
    "            test_img1_BTW = test_img1_BTW.reshape([32,32,1])\n",
    "            data[i]=test_img1_BTW\n",
    "        except Exception as e:  # just in case there is a mistake.\n",
    "            print(i)\n",
    "preProcessData(train_data)"
   ]
  },
  {
   "cell_type": "code",
   "execution_count": 287,
   "metadata": {},
   "outputs": [
    {
     "data": {
      "text/plain": [
       "(32, 32, 1)"
      ]
     },
     "execution_count": 287,
     "metadata": {},
     "output_type": "execute_result"
    },
    {
     "data": {
      "image/png": "[encoded data removed]",
      "text/plain": [
       "<Figure size 432x288 with 1 Axes>"
      ]
     },
     "metadata": {
      "needs_background": "light"
     },
     "output_type": "display_data"
    }
   ],
   "source": [
    "plt.imshow(train_data[11], cmap='gray', vmin=0, vmax=255)\n",
    "train_data[11].shape"
   ]
  },
  {
   "cell_type": "code",
   "execution_count": 161,
   "metadata": {},
   "outputs": [
    {
     "data": {
      "text/plain": [
       "<matplotlib.image.AxesImage at 0x2ce603126a0>"
      ]
     },
     "execution_count": 161,
     "metadata": {},
     "output_type": "execute_result"
    },
    {
     "data": {
      "image/png": "[encoded data removed]",
      "text/plain": [
       "<Figure size 432x288 with 1 Axes>"
      ]
     },
     "metadata": {
      "needs_background": "light"
     },
     "output_type": "display_data"
    }
   ],
   "source": [
    "test_img1 = train_data[11].reshape([32,32])\n",
    "\n",
    "test_img1_BTW = np.zeros(test_img1.shape, test_img1.dtype)\n",
    "blackToWhite(test_img1, test_img1_BTW)\n",
    "plt.imshow(test_img1_BTW, cmap='gray', vmin=0, vmax=255)"
   ]
  },
  {
   "cell_type": "code",
   "execution_count": 162,
   "metadata": {},
   "outputs": [
    {
     "data": {
      "text/plain": [
       "<matplotlib.image.AxesImage at 0x2ce5f53b670>"
      ]
     },
     "execution_count": 162,
     "metadata": {},
     "output_type": "execute_result"
    },
    {
     "data": {
      "image/png": "[encoded data removed]",
      "text/plain": [
       "<Figure size 432x288 with 1 Axes>"
      ]
     },
     "metadata": {
      "needs_background": "light"
     },
     "output_type": "display_data"
    }
   ],
   "source": [
    "skeletonize(test_img1_BTW)\n",
    "skeletonize(test_img1_BTW)\n",
    "skeletonize(test_img1_BTW)\n",
    "normalize(test_img1_BTW)\n",
    "normalize(test_img1_BTW)\n",
    "normalize(test_img1_BTW)\n",
    "plt.imshow(test_img1_BTW, cmap='gray', vmin=0, vmax=255)"
   ]
  },
  {
   "cell_type": "code",
   "execution_count": 163,
   "metadata": {},
   "outputs": [
    {
     "data": {
      "text/plain": [
       "<matplotlib.image.AxesImage at 0x2ce5f70cac0>"
      ]
     },
     "execution_count": 163,
     "metadata": {},
     "output_type": "execute_result"
    },
    {
     "data": {
      "image/png": "[encoded data removed]",
      "text/plain": [
       "<Figure size 432x288 with 1 Axes>"
      ]
     },
     "metadata": {
      "needs_background": "light"
     },
     "output_type": "display_data"
    }
   ],
   "source": [
    "skeletonize(test_img1_BTW)\n",
    "plt.imshow(test_img1_BTW, cmap='gray', vmin=0, vmax=255)"
   ]
  },
  {
   "cell_type": "code",
   "execution_count": 164,
   "metadata": {},
   "outputs": [
    {
     "data": {
      "text/plain": [
       "<matplotlib.image.AxesImage at 0x2ce5f7e83d0>"
      ]
     },
     "execution_count": 164,
     "metadata": {},
     "output_type": "execute_result"
    },
    {
     "data": {
      "image/png": "[encoded data removed]",
      "text/plain": [
       "<Figure size 432x288 with 1 Axes>"
      ]
     },
     "metadata": {
      "needs_background": "light"
     },
     "output_type": "display_data"
    }
   ],
   "source": [
    "test_img1_BTW = test_img1_BTW.reshape([32,32,1])\n",
    "plt.imshow(test_img1_BTW, cmap='gray', vmin=0, vmax=255)"
   ]
  },
  {
   "cell_type": "code",
   "execution_count": 165,
   "metadata": {},
   "outputs": [
    {
     "data": {
      "text/plain": [
       "(32, 32, 1)"
      ]
     },
     "execution_count": 165,
     "metadata": {},
     "output_type": "execute_result"
    }
   ],
   "source": [
    "test_img1_BTW.shape"
   ]
  },
  {
   "cell_type": "code",
   "execution_count": 166,
   "metadata": {},
   "outputs": [
    {
     "data": {
      "text/plain": [
       "(32, 32, 1)"
      ]
     },
     "execution_count": 166,
     "metadata": {},
     "output_type": "execute_result"
    }
   ],
   "source": [
    "train_data[10].shape"
   ]
  },
  {
   "cell_type": "code",
   "execution_count": 167,
   "metadata": {},
   "outputs": [
    {
     "data": {
      "text/plain": [
       "dtype('uint8')"
      ]
     },
     "execution_count": 167,
     "metadata": {},
     "output_type": "execute_result"
    }
   ],
   "source": [
    "test_img1_BTW.dtype"
   ]
  },
  {
   "cell_type": "code",
   "execution_count": 168,
   "metadata": {},
   "outputs": [
    {
     "data": {
      "text/plain": [
       "dtype('uint8')"
      ]
     },
     "execution_count": 168,
     "metadata": {},
     "output_type": "execute_result"
    }
   ],
   "source": [
    "train_data[10].dtype"
   ]
  },
  {
   "cell_type": "markdown",
   "metadata": {},
   "source": [
    "## Now let's look at character segmentation"
   ]
  },
  {
   "cell_type": "code",
   "execution_count": 174,
   "metadata": {},
   "outputs": [],
   "source": [
    "from character_segmentation import segment\n",
    "from segmentation import line_horizontal_projection, word_vertical_projection"
   ]
  },
  {
   "cell_type": "code",
   "execution_count": 230,
   "metadata": {},
   "outputs": [],
   "source": [
    "kalbWordImg = test_img2#cv2.imread(r\"D:\\School\\MedTech\\Sophomore Pre-Eng\\ISS296\\CNN\\images\\9alb.png\")\n",
    "sha3alWordImg  = test_img3#cv2.imread(r\"C:\\Users\\rassa\\Documents\\Machine Learning A-Z  Udemy\\ifnenit-database-demo\\ifnenit-database-demo\\data\\set_a\\bmp\\ae07_050.bmp\")"
   ]
  },
  {
   "cell_type": "code",
   "execution_count": 228,
   "metadata": {},
   "outputs": [
    {
     "data": {
      "text/plain": [
       "<matplotlib.image.AxesImage at 0x2ce689d0490>"
      ]
     },
     "execution_count": 228,
     "metadata": {},
     "output_type": "execute_result"
    },
    {
     "data": {
      "image/png": "[encoded data removed]",
      "text/plain": [
       "<Figure size 432x288 with 1 Axes>"
      ]
     },
     "metadata": {
      "needs_background": "light"
     },
     "output_type": "display_data"
    }
   ],
   "source": [
    "plt.imshow(kalbWordImg, cmap='gray', vmin=0, vmax=255)"
   ]
  },
  {
   "cell_type": "code",
   "execution_count": null,
   "metadata": {},
   "outputs": [],
   "source": [
    "whiteToBlack(sha3alWordImg,sha3alWordImg)"
   ]
  },
  {
   "cell_type": "code",
   "execution_count": 237,
   "metadata": {},
   "outputs": [
    {
     "data": {
      "text/plain": [
       "<matplotlib.image.AxesImage at 0x2ce68b2eeb0>"
      ]
     },
     "execution_count": 237,
     "metadata": {},
     "output_type": "execute_result"
    },
    {
     "data": {
      "image/png": "[encoded data removed]",
      "text/plain": [
       "<Figure size 432x288 with 1 Axes>"
      ]
     },
     "metadata": {
      "needs_background": "light"
     },
     "output_type": "display_data"
    }
   ],
   "source": [
    "plt.imshow(sha3alWordImg, cmap='gray', vmin=0, vmax=255)"
   ]
  },
  {
   "cell_type": "code",
   "execution_count": 238,
   "metadata": {},
   "outputs": [],
   "source": [
    "\n",
    "def extendImg(img):\n",
    "    paddedimg  = np.zeros((img.shape[0], img.shape[1]*3), img.dtype)\n",
    "    for y in range(0, paddedimg.shape[0]):\n",
    "        for x in range(paddedimg.shape[1]//3, paddedimg.shape[1]*2//3):\n",
    "                paddedimg[y,x] = img[y,x-img.shape[1]]\n",
    "    return paddedimg\n"
   ]
  },
  {
   "cell_type": "code",
   "execution_count": 267,
   "metadata": {},
   "outputs": [
    {
     "data": {
      "text/plain": [
       "<matplotlib.image.AxesImage at 0x2ce68d48eb0>"
      ]
     },
     "execution_count": 267,
     "metadata": {},
     "output_type": "execute_result"
    },
    {
     "data": {
      "image/png": "[encoded data removed]",
      "text/plain": [
       "<Figure size 432x288 with 1 Axes>"
      ]
     },
     "metadata": {
      "needs_background": "light"
     },
     "output_type": "display_data"
    }
   ],
   "source": [
    "\n",
    "# code from segmentor goes as follows and requires a line and also white text- black background\n",
    "\n",
    "# lines = line_horizontal_projection(img)\n",
    "\n",
    "# line = lines[0]\n",
    "# words = word_vertical_projection(line)\n",
    "\n",
    "# word = words[0]\n",
    "\n",
    "# cr = segment(line, word)\n",
    "\n",
    "extendedSha3alWordImg = extendImg(sha3alWordImg) #we will use this as our line\n",
    "plt.imshow(extendedSha3alWordImg, cmap='gray', vmin=0, vmax=255)"
   ]
  },
  {
   "cell_type": "code",
   "execution_count": 268,
   "metadata": {},
   "outputs": [],
   "source": [
    "words_Sha3alWord = word_vertical_projection(extendedSha3alWordImg)"
   ]
  },
  {
   "cell_type": "code",
   "execution_count": 269,
   "metadata": {},
   "outputs": [
    {
     "name": "stdout",
     "output_type": "stream",
     "text": [
      "[array([[0, 0, 0, ..., 0, 0, 0],\n",
      "       [0, 0, 0, ..., 0, 0, 0],\n",
      "       [0, 0, 0, ..., 0, 0, 0],\n",
      "       ...,\n",
      "       [0, 0, 0, ..., 0, 0, 0],\n",
      "       [0, 0, 0, ..., 0, 0, 0],\n",
      "       [0, 0, 0, ..., 0, 0, 0]], dtype=uint8), array([[  0,   0,   0,   0,   0,   0,   0,   0,   0,   0,   0,   0,   0,\n",
      "          0,   0,   0,   0,   0,   0,   0,   0,   0,   0,   0,   0,   0],\n",
      "       [  0,   0,   0,   0,   0,   0,   0,   0,   0,   0,   0,   0,   0,\n",
      "          0,   0,   0,   0,   0,   0,   0,   0,   0,   0,   0,   0,   0],\n",
      "       [  0,   0,   0,   0,   0,   0,   0,   0,   0,   0,   0,   0,   0,\n",
      "          0,   0,   0,   0,   0,   0,   0,   0,   0,   0,   0,   0,   0],\n",
      "       [  0,   0,   0,   0,   0,   0,   0,   0,   0,   0,   0,   0,   0,\n",
      "          0,   0,   0,   0,   0,   0,   0,   0,   0,   0,   0,   0,   0],\n",
      "       [  0,   0,   0,   0,   0,   0,   0,   0,   0,   0,   0,   0,   0,\n",
      "          0,   0,   0,   0,   0,   0,   0,   0,   0,   0,   0,   0,   0],\n",
      "       [  0,   0,   0,   0,   0,   0,   0,   0,   0,   0,   0,   0,   0,\n",
      "          0,   0,   0,   0,   0,   0,   0,   0,   0,   0,   0,   0,   0],\n",
      "       [  0,   0,   0,   0,   0,   0,   0,   0,   0,   0,   0,   0,   0,\n",
      "          0,   0,   0,   0,   0,   0,   0,   0,   0,   0,   0,   0,   0],\n",
      "       [  0,   0,   0,   0,   0,   0,   0,   0,   0,   0,   0,   0,   0,\n",
      "          0,   0,   0,   0,   0,   0,   0,   0,   0,   0, 255,   0,   0],\n",
      "       [  0,   0,   0,   0,   0,   0,   0,   0,   0,   0,   0,   0,   0,\n",
      "          0,   0,   0,   0,   0,   0,   0,   0,   0,   0, 255,   0,   0],\n",
      "       [  0,   0,   0,   0,   0,   0,   0,   0,   0,   0,   0,   0,   0,\n",
      "          0,   0,   0,   0,   0,   0,   0,   0,   0,   0, 255,   0,   0],\n",
      "       [  0,   0,   0,   0,   0,   0,   0,   0,   0,   0,   0,   0,   0,\n",
      "          0,   0,   0,   0,   0,   0,   0,   0,   0, 255, 255,   0,   0],\n",
      "       [  0,   0,   0,   0,   0,   0,   0,   0,   0,   0,   0,   0,   0,\n",
      "          0,   0,   0,   0,   0,   0,   0,   0,   0, 255,   0,   0,   0],\n",
      "       [  0,   0,   0,   0,   0,   0,   0,   0,   0,   0,   0,   0,   0,\n",
      "          0,   0,   0,   0,   0,   0,   0,   0,   0, 255,   0,   0,   0],\n",
      "       [  0,   0,   0,   0,   0,   0,   0,   0,   0,   0,   0,   0,   0,\n",
      "          0,   0,   0,   0,   0,   0,   0,   0,   0, 255,   0,   0,   0],\n",
      "       [  0,   0,   0,   0,   0,   0,   0,   0,   0,   0,   0,   0,   0,\n",
      "          0,   0,   0,   0,   0,   0, 255, 255, 255, 255,   0,   0,   0],\n",
      "       [  0,   0,   0,   0,   0,   0,   0,   0,   0,   0,   0,   0,   0,\n",
      "          0,   0,   0,   0,   0,   0, 255,   0,   0, 255,   0,   0,   0],\n",
      "       [  0,   0,   0,   0,   0,   0,   0,   0,   0,   0,   0,   0,   0,\n",
      "          0,   0,   0,   0,   0, 255,   0,   0,   0, 255,   0,   0,   0],\n",
      "       [  0,   0,   0,   0,   0,   0,   0,   0,   0,   0,   0,   0,   0,\n",
      "          0,   0,   0,   0,   0, 255,   0,   0,   0, 255,   0,   0,   0],\n",
      "       [  0,   0,   0,   0,   0,   0,   0,   0,   0,   0,   0,   0,   0,\n",
      "          0,   0,   0,   0, 255,   0,   0,   0,   0, 255,   0,   0,   0],\n",
      "       [  0,   0,   0,   0,   0,   0,   0,   0,   0,   0,   0,   0,   0,\n",
      "          0,   0,   0,   0,   0,   0,   0,   0,   0, 255,   0,   0,   0],\n",
      "       [  0,   0,   0,   0,   0,   0, 255, 255, 255,   0,   0,   0,   0,\n",
      "          0,   0,   0,   0,   0,   0,   0,   0,   0, 255,   0,   0,   0],\n",
      "       [  0,   0,   0, 255, 255, 255,   0,   0,   0,   0,   0,   0,   0,\n",
      "          0,   0,   0,   0,   0,   0,   0,   0,   0, 255,   0,   0,   0],\n",
      "       [  0, 255, 255,   0,   0,   0,   0,   0,   0,   0,   0,   0,   0,\n",
      "          0,   0,   0,   0,   0,   0,   0,   0,   0, 255,   0,   0,   0],\n",
      "       [  0, 255,   0,   0,   0,   0,   0,   0,   0,   0,   0,   0,   0,\n",
      "          0,   0,   0,   0,   0,   0,   0,   0,   0, 255,   0,   0,   0],\n",
      "       [  0, 255,   0,   0,   0,   0,   0,   0,   0,   0,   0,   0,   0,\n",
      "          0,   0,   0,   0,   0,   0,   0,   0,   0, 255,   0,   0,   0],\n",
      "       [  0, 255,   0,   0,   0,   0,   0,   0,   0,   0,   0,   0,   0,\n",
      "          0,   0,   0,   0,   0,   0,   0,   0,   0, 255,   0,   0,   0],\n",
      "       [  0, 255,   0,   0,   0,   0,   0,   0,   0,   0,   0,   0,   0,\n",
      "          0,   0,   0,   0,   0,   0,   0,   0, 255, 255,   0,   0,   0],\n",
      "       [  0,   0, 255, 255,   0,   0,   0,   0,   0,   0,   0,   0,   0,\n",
      "          0,   0,   0,   0,   0,   0,   0,   0, 255,   0,   0,   0,   0],\n",
      "       [  0,   0,   0,   0, 255,   0,   0,   0,   0,   0,   0,   0,   0,\n",
      "          0,   0,   0,   0,   0,   0,   0, 255, 255,   0,   0,   0,   0],\n",
      "       [  0,   0,   0,   0, 255, 255, 255,   0,   0,   0,   0,   0,   0,\n",
      "          0,   0,   0,   0,   0,   0,   0, 255,   0,   0,   0,   0,   0],\n",
      "       [  0,   0,   0,   0,   0,   0,   0, 255, 255,   0,   0,   0,   0,\n",
      "          0,   0,   0,   0,   0, 255, 255,   0,   0,   0,   0,   0,   0],\n",
      "       [  0,   0,   0,   0,   0,   0,   0,   0, 255, 255, 255, 255, 255,\n",
      "          0,   0,   0, 255, 255,   0,   0,   0,   0,   0,   0,   0,   0],\n",
      "       [  0,   0,   0,   0,   0,   0,   0,   0,   0,   0,   0,   0, 255,\n",
      "        255, 255, 255,   0,   0,   0,   0,   0,   0,   0,   0,   0,   0],\n",
      "       [  0,   0,   0,   0,   0,   0,   0,   0,   0,   0,   0,   0,   0,\n",
      "          0,   0,   0,   0,   0,   0,   0,   0,   0,   0,   0,   0,   0]],\n",
      "      dtype=uint8)]\n"
     ]
    }
   ],
   "source": [
    "print(words_Sha3alWord)"
   ]
  },
  {
   "cell_type": "code",
   "execution_count": 270,
   "metadata": {},
   "outputs": [
    {
     "data": {
      "text/plain": [
       "2"
      ]
     },
     "execution_count": 270,
     "metadata": {},
     "output_type": "execute_result"
    }
   ],
   "source": [
    "word_Sha3alWord = words_Sha3alWord[0]\n",
    "len(words_Sha3alWord)"
   ]
  },
  {
   "cell_type": "code",
   "execution_count": 271,
   "metadata": {},
   "outputs": [
    {
     "data": {
      "text/plain": [
       "5"
      ]
     },
     "execution_count": 271,
     "metadata": {},
     "output_type": "execute_result"
    }
   ],
   "source": [
    "cr_Sha3alWord1 = segment(extendedSha3alWordImg, word_Sha3alWord)\n",
    "len(cr_Sha3alWord1)"
   ]
  },
  {
   "cell_type": "code",
   "execution_count": 274,
   "metadata": {},
   "outputs": [
    {
     "data": {
      "text/plain": [
       "<matplotlib.image.AxesImage at 0x2ce68e051c0>"
      ]
     },
     "execution_count": 274,
     "metadata": {},
     "output_type": "execute_result"
    },
    {
     "data": {
      "image/png": "[encoded data removed]",
      "text/plain": [
       "<Figure size 432x288 with 1 Axes>"
      ]
     },
     "metadata": {
      "needs_background": "light"
     },
     "output_type": "display_data"
    }
   ],
   "source": [
    "plt.imshow(cr_Sha3alWord1[4], cmap='gray', vmin=0, vmax=255)\n",
    "######"
   ]
  },
  {
   "cell_type": "markdown",
   "metadata": {},
   "source": [
    "## EURIKA!"
   ]
  },
  {
   "cell_type": "code",
   "execution_count": 275,
   "metadata": {},
   "outputs": [
    {
     "data": {
      "text/plain": [
       "1"
      ]
     },
     "execution_count": 275,
     "metadata": {},
     "output_type": "execute_result"
    }
   ],
   "source": [
    "#what happens if we use words_Sha3alWord[1]\n",
    "cr_Sha3alWord2 = segment(extendedSha3alWordImg, words_Sha3alWord[1])\n",
    "len(cr_Sha3alWord)\n"
   ]
  },
  {
   "cell_type": "code",
   "execution_count": 277,
   "metadata": {
    "scrolled": true
   },
   "outputs": [
    {
     "data": {
      "text/plain": [
       "<matplotlib.image.AxesImage at 0x2ce68e592e0>"
      ]
     },
     "execution_count": 277,
     "metadata": {},
     "output_type": "execute_result"
    },
    {
     "data": {
      "image/png": "[encoded data removed]",
      "text/plain": [
       "<Figure size 432x288 with 1 Axes>"
      ]
     },
     "metadata": {
      "needs_background": "light"
     },
     "output_type": "display_data"
    }
   ],
   "source": [
    "plt.imshow(cr_Sha3alWord2[0], cmap='gray', vmin=0, vmax=255)\n"
   ]
  },
  {
   "cell_type": "markdown",
   "metadata": {},
   "source": [
    " makes sense, it saw the lam as another word because it is meant for printed text where spaces between words are standardized"
   ]
  },
  {
   "cell_type": "code",
   "execution_count": 291,
   "metadata": {},
   "outputs": [
    {
     "data": {
      "text/plain": [
       "(34, 26)"
      ]
     },
     "execution_count": 291,
     "metadata": {},
     "output_type": "execute_result"
    }
   ],
   "source": [
    "cr_Sha3alWord2[0].shape"
   ]
  },
  {
   "cell_type": "code",
   "execution_count": 294,
   "metadata": {},
   "outputs": [
    {
     "data": {
      "text/plain": [
       "<matplotlib.image.AxesImage at 0x2ce5ff4efd0>"
      ]
     },
     "execution_count": 294,
     "metadata": {},
     "output_type": "execute_result"
    },
    {
     "data": {
      "image/png": "[encoded data removed]",
      "text/plain": [
       "<Figure size 432x288 with 1 Axes>"
      ]
     },
     "metadata": {
      "needs_background": "light"
     },
     "output_type": "display_data"
    }
   ],
   "source": [
    "resized2 = cv2.resize(cr_Sha3alWord2[0], (int(32*cr_Sha3alWord2[0].shape[1]/cr_Sha3alWord2[0].shape[0]),32), interpolation = cv2.INTER_AREA)\n",
    "plt.imshow(resized2, cmap='gray', vmin=0, vmax=255)"
   ]
  },
  {
   "cell_type": "code",
   "execution_count": 296,
   "metadata": {},
   "outputs": [],
   "source": [
    "LamImage = cr_Sha3alWord2[0]"
   ]
  },
  {
   "cell_type": "code",
   "execution_count": 303,
   "metadata": {},
   "outputs": [
    {
     "data": {
      "text/plain": [
       "<matplotlib.image.AxesImage at 0x2ce69f5ad00>"
      ]
     },
     "execution_count": 303,
     "metadata": {},
     "output_type": "execute_result"
    },
    {
     "data": {
      "image/png": "[encoded data removed]",
      "text/plain": [
       "<Figure size 432x288 with 1 Axes>"
      ]
     },
     "metadata": {
      "needs_background": "light"
     },
     "output_type": "display_data"
    }
   ],
   "source": [
    "def resizeImg(img):\n",
    "    widthDifference = (32 - img.shape[1])\n",
    "    resizedImg  = np.zeros((32, 32), img.dtype)\n",
    "    if (widthDifference % 2) == 0:\n",
    "        for y in range(0, 32):\n",
    "            for x in range(widthDifference//2, 32 - widthDifference//2):\n",
    "                resizedImg[y,x] = img[y,x-widthDifference//2]\n",
    "    else:\n",
    "        for y in range(0, 32):\n",
    "            for x in range(widthDifference//2, 31 - widthDifference//2):\n",
    "                resizedImg[y,x] = img[y,x-widthDifference//2]\n",
    "    return resizedImg\n",
    "\n",
    "resizedLam = resizeImg(LamImage)\n",
    "plt.imshow(resizedLam, cmap='gray', vmin=0, vmax=255)"
   ]
  },
  {
   "cell_type": "code",
   "execution_count": 306,
   "metadata": {},
   "outputs": [
    {
     "data": {
      "text/plain": [
       "1"
      ]
     },
     "execution_count": 306,
     "metadata": {},
     "output_type": "execute_result"
    }
   ],
   "source": [
    "-3%2"
   ]
  }
 ],
 "metadata": {
  "celltoolbar": "Raw Cell Format",
  "kernelspec": {
   "display_name": "Python 3",
   "language": "python",
   "name": "python3"
  },
  "language_info": {
   "codemirror_mode": {
    "name": "ipython",
    "version": 3
   },
   "file_extension": ".py",
   "mimetype": "text/x-python",
   "name": "python",
   "nbconvert_exporter": "python",
   "pygments_lexer": "ipython3",
   "version": "3.8.5"
  }
 },
 "nbformat": 4,
 "nbformat_minor": 4
}
