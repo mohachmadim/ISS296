{
 "cells": [
  {
   "cell_type": "code",
   "execution_count": 2,
   "metadata": {},
   "outputs": [
    {
     "name": "stdout",
     "output_type": "stream",
     "text": [
      "WARNING:tensorflow:From C:\\Users\\rassa\\anaconda3\\lib\\site-packages\\tensorflow\\python\\compat\\v2_compat.py:96: disable_resource_variables (from tensorflow.python.ops.variable_scope) is deprecated and will be removed in a future version.\n",
      "Instructions for updating:\n",
      "non-resource variables are not supported in the long term\n",
      "curses is not supported on this machine (please install/reinstall curses for an optimal experience)\n"
     ]
    }
   ],
   "source": [
    "import numpy as np\n",
    "import pandas as pd\n",
    "import matplotlib.pyplot as plt\n",
    "import seaborn as sns\n",
    "import sys\n",
    "import tflearn.data_utils as du\n",
    "from keras.models import Sequential\n",
    "from keras.layers import Dense, Dropout, Flatten, Conv2D, MaxPool2D\n",
    "from keras.optimizers import RMSprop\n",
    "from keras.preprocessing.image import ImageDataGenerator\n",
    "from sklearn.metrics import confusion_matrix\n",
    "from keras.preprocessing.image import load_img \n",
    "from keras.preprocessing.image import img_to_array \n",
    "from keras.preprocessing.image import array_to_img\n",
    "import warnings\n",
    "import matplotlib.image as mpimg\n",
    "import os \n",
    "import cv2\n",
    "import tensorflow as tf \n",
    "from PIL import Image \n",
    "from numpy import asarray\n",
    "from tqdm import tqdm\n",
    "from tkinter import Tk     # from tkinter import Tk for Python 3.x\n",
    "from tkinter.filedialog import askopenfilename\n"
   ]
  },
  {
   "cell_type": "code",
   "execution_count": 3,
   "metadata": {},
   "outputs": [
    {
     "name": "stderr",
     "output_type": "stream",
     "text": [
      "100%|██████████████████████████████████████████████████████████████████████████| 13440/13440 [00:02<00:00, 5288.85it/s]\n",
      "100%|████████████████████████████████████████████████████████████████████████████| 3360/3360 [00:00<00:00, 4358.18it/s]\n"
     ]
    }
   ],
   "source": [
    "DIRECTORY = r\"C:\\Users\\rassa\\Documents\\Machine Learning A-Z  Udemy\\Arabic Handwritten Characters Dataset\"\n",
    "train_data = []\n",
    "test_data = []\n",
    "trainPath = DIRECTORY + r\"\\Train Images 13440x32x32\\train\"\n",
    "testPath  = DIRECTORY + r\"\\Test Images 3360x32x32\\test\"\n",
    "\n",
    "def getImgId(imgName):\n",
    "    return int(imgName.split('_')[1])\n",
    "\n",
    "def makeData(data, directory, sortingCriteria):\n",
    "    imgFileNameList = os.listdir(directory)     #get list of directories in path (ie. list of image names)\n",
    "    imgFileNameList.sort(key = sortingCriteria) #sort list based on key\n",
    "    \n",
    "    for img in tqdm(imgFileNameList):  # iterate over the sorted list\n",
    "                try:\n",
    "                    img_array = cv2.imread(os.path.join(directory, img) ,cv2.IMREAD_GRAYSCALE)  # convert image to array\n",
    "                    data.append([img_array])  # add this to our data\n",
    "                except Exception as e:  # just in case there is a mistake.\n",
    "                    pass\n",
    "\n",
    "makeData(train_data, trainPath, getImgId)\n",
    "makeData(test_data, testPath, getImgId)\n",
    "\n",
    "# convert to ndarray and reshape\n",
    "train_data = np.asarray(train_data).reshape([-1, 32, 32, 1])\n",
    "test_data = np.asarray(test_data).reshape([-1, 32, 32, 1])\n",
    "\n",
    "#Load the dataset\n",
    "#header = 0 because\n",
    "#this creates a pandas dataframe (basically a table)\n",
    "#train_data = pd.read_csv(DIRECTORY +  '/csvTrainImages 13440x1024.csv', header = None)\n",
    "#train_label = pd.read_csv(DIRECTORY + '/csvTrainLabel 13440x1.csv', header = None)\n",
    "\n",
    "#test_label = pd.read_csv(DIRECTORY +  '/csvTestLabel 3360x1.csv', header = None)\n",
    "\n",
    "\n",
    "#what happens if we take off header = none ?\n",
    "#Row number(s) to use as the column names, and the start of the data. Default behavior is to infer the column names: if no \n",
    "#names are passed the behavior is identical to header=0 and column names are inferred from the first line of the file, \n",
    "#if column names are passed explicitly then the behavior is identical to header=None.\n",
    "#notice if we do this we have one row less\n",
    "#test_data = pd.read_csv(DIRECTORY +   '/csvTestImages 3360x1024.csv')\n",
    "#print(test_data)\n",
    "\n",
    "#test_data = pd.read_csv(DIRECTORY +   '/csvTestImages 3360x1024.csv', header = None)\n",
    "#print(test_data)\n",
    "#type(train_data)\n",
    "#for i in range(len(test_data)):\n",
    " #   if (test_data.iloc[1,i]!=0) and (test_data.iloc[1,i]!=1):\n",
    "  #      print(test_data.iloc[1,i])"
   ]
  },
  {
   "cell_type": "code",
   "execution_count": 4,
   "metadata": {},
   "outputs": [],
   "source": [
    "#Load the labels\n",
    "#header = 0 because\n",
    "#this creates a pandas dataframe (basically a table)\n",
    "train_label = pd.read_csv(DIRECTORY + '/csvTrainLabel 13440x1.csv', header = None)\n",
    "test_label = pd.read_csv(DIRECTORY +  '/csvTestLabel 3360x1.csv', header = None)\n"
   ]
  },
  {
   "cell_type": "code",
   "execution_count": 5,
   "metadata": {},
   "outputs": [],
   "source": [
    "#train_data = train_data.iloc[:,:].values.astype('float32')\n",
    "train_label = train_label.iloc[:,:].values.astype('int32')-1\n",
    "#test_data = test_data.iloc[:,:].values.astype('float32') Not sure if we need this yet\n",
    "test_label = test_label.iloc[:,:].values.astype('int32')-1\n"
   ]
  },
  {
   "cell_type": "code",
   "execution_count": 6,
   "metadata": {},
   "outputs": [],
   "source": [
    "train_label = du.to_categorical(train_label,28)"
   ]
  },
  {
   "cell_type": "code",
   "execution_count": 7,
   "metadata": {},
   "outputs": [],
   "source": [
    "train_data = train_data/255\n",
    "test_data = test_data/255"
   ]
  },
  {
   "cell_type": "code",
   "execution_count": 8,
   "metadata": {},
   "outputs": [
    {
     "name": "stdout",
     "output_type": "stream",
     "text": [
      "(13440, 32, 32, 1)\n"
     ]
    }
   ],
   "source": [
    "print(train_data.shape)"
   ]
  },
  {
   "cell_type": "code",
   "execution_count": 9,
   "metadata": {},
   "outputs": [],
   "source": [
    "#train_data = train_data.reshape([-1, 32, 32, 1])\n",
    "#test_data = test_data.reshape([-1, 32, 32, 1])"
   ]
  },
  {
   "cell_type": "code",
   "execution_count": 10,
   "metadata": {},
   "outputs": [],
   "source": [
    "#train_data, mean1 = du.featurewise_zero_center(train_data)\n",
    "#test_data, mean2 = du.featurewise_zero_center(test_data)"
   ]
  },
  {
   "cell_type": "code",
   "execution_count": 11,
   "metadata": {},
   "outputs": [],
   "source": [
    "\n",
    "recognizer = Sequential()\n",
    "#for any kind of deep learning we use the sequential model in keras then \n",
    "#add layers to it\n",
    "recognizer.add(Conv2D(filters = 32, kernel_size = (5,5),padding = 'Same', \n",
    "                 activation ='relu', input_shape = (32,32,1)))\n",
    "#the first 2 dimensional convolusion layer will have 32 filters. filters or kernels are \n",
    "#what we use to extract features. in this case they are of size 5x5 (kernel size)\n",
    "#in the first layer it is necessary to specify the shape so for our case its a\n",
    "#32x32 pixel image and since it's black and white then it has only one dimension\n",
    "#if it was colored then we would have (32,32,3)\n",
    "#activation='relu' this is rectified linear unit. the output filters or convolced layers\n",
    "#might contain some negative values so we apply the rectifier function (or other functions)\n",
    "recognizer.add(Conv2D(filters = 32, kernel_size = (5,5),padding = 'Same', \n",
    "                 activation ='relu'))\n",
    "recognizer.add(MaxPool2D(pool_size=(2,2)))\n",
    "recognizer.add(Dropout(0.25))\n",
    "#dropout wouldnt pair up well with anything that takes a maximum...\n",
    "\n",
    "recognizer.add(Conv2D(filters = 64, kernel_size = (3,3),padding = 'Same', \n",
    "                 activation ='relu'))\n",
    "recognizer.add(Conv2D(filters = 64, kernel_size = (3,3),padding = 'Same', \n",
    "                 activation ='relu'))\n",
    "recognizer.add(MaxPool2D(pool_size=(2,2), strides=(2,2)))\n",
    "recognizer.add(Dropout(0.25))\n",
    "\n",
    "\n",
    "recognizer.add(Flatten())\n",
    "recognizer.add(Dense(units = 256, input_dim = 1024, activation = 'relu'))\n",
    "recognizer.add(Dense(units = 256, activation = \"relu\"))\n",
    "recognizer.add(Dropout(0.5))\n",
    "recognizer.add(Dense(28, activation = \"softmax\"))"
   ]
  },
  {
   "cell_type": "code",
   "execution_count": 12,
   "metadata": {},
   "outputs": [
    {
     "name": "stdout",
     "output_type": "stream",
     "text": [
      "Model: \"sequential\"\n",
      "_________________________________________________________________\n",
      "Layer (type)                 Output Shape              Param #   \n",
      "=================================================================\n",
      "conv2d (Conv2D)              (None, 32, 32, 32)        832       \n",
      "_________________________________________________________________\n",
      "conv2d_1 (Conv2D)            (None, 32, 32, 32)        25632     \n",
      "_________________________________________________________________\n",
      "max_pooling2d (MaxPooling2D) (None, 16, 16, 32)        0         \n",
      "_________________________________________________________________\n",
      "dropout (Dropout)            (None, 16, 16, 32)        0         \n",
      "_________________________________________________________________\n",
      "conv2d_2 (Conv2D)            (None, 16, 16, 64)        18496     \n",
      "_________________________________________________________________\n",
      "conv2d_3 (Conv2D)            (None, 16, 16, 64)        36928     \n",
      "_________________________________________________________________\n",
      "max_pooling2d_1 (MaxPooling2 (None, 8, 8, 64)          0         \n",
      "_________________________________________________________________\n",
      "dropout_1 (Dropout)          (None, 8, 8, 64)          0         \n",
      "_________________________________________________________________\n",
      "flatten (Flatten)            (None, 4096)              0         \n",
      "_________________________________________________________________\n",
      "dense (Dense)                (None, 256)               1048832   \n",
      "_________________________________________________________________\n",
      "dense_1 (Dense)              (None, 256)               65792     \n",
      "_________________________________________________________________\n",
      "dropout_2 (Dropout)          (None, 256)               0         \n",
      "_________________________________________________________________\n",
      "dense_2 (Dense)              (None, 28)                7196      \n",
      "=================================================================\n",
      "Total params: 1,203,708\n",
      "Trainable params: 1,203,708\n",
      "Non-trainable params: 0\n",
      "_________________________________________________________________\n"
     ]
    }
   ],
   "source": [
    "recognizer.summary()"
   ]
  },
  {
   "cell_type": "code",
   "execution_count": 13,
   "metadata": {},
   "outputs": [],
   "source": [
    "optimizer = RMSprop(lr=0.001, rho=0.9, epsilon=1e-08, decay=0.0)"
   ]
  },
  {
   "cell_type": "code",
   "execution_count": 14,
   "metadata": {},
   "outputs": [],
   "source": [
    "recognizer.compile(optimizer = optimizer , loss = \"categorical_crossentropy\", metrics=[\"accuracy\"])"
   ]
  },
  {
   "cell_type": "code",
   "execution_count": 15,
   "metadata": {},
   "outputs": [],
   "source": [
    "datagen = ImageDataGenerator(\n",
    "        featurewise_center=False, \n",
    "        samplewise_center=False,  \n",
    "        featurewise_std_normalization=False,\n",
    "        samplewise_std_normalization=False,\n",
    "        zca_whitening=False,\n",
    "        rotation_range=10,\n",
    "        zoom_range = 0.1,  \n",
    "        width_shift_range=0.1, \n",
    "        height_shift_range=0.1,\n",
    "        horizontal_flip=False,\n",
    "        vertical_flip=False)"
   ]
  },
  {
   "cell_type": "code",
   "execution_count": 16,
   "metadata": {},
   "outputs": [],
   "source": [
    "datagen.fit(train_data)"
   ]
  },
  {
   "cell_type": "code",
   "execution_count": 17,
   "metadata": {},
   "outputs": [
    {
     "name": "stderr",
     "output_type": "stream",
     "text": [
      "C:\\Users\\rassa\\anaconda3\\lib\\site-packages\\tensorflow\\python\\keras\\engine\\training_v1.py:1240: UserWarning: `model.fit_generator` is deprecated and will be removed in a future version. Please use `Model.fit`, which supports generators.\n",
      "  warnings.warn('`model.fit_generator` is deprecated and '\n"
     ]
    },
    {
     "name": "stdout",
     "output_type": "stream",
     "text": [
      "Epoch 1/30\n",
      "134/134 - 40s - loss: 2.5194 - acc: 0.2436\n",
      "Epoch 2/30\n",
      "134/134 - 41s - loss: 1.4572 - acc: 0.5184\n",
      "Epoch 3/30\n",
      "134/134 - 40s - loss: 1.0619 - acc: 0.6447\n",
      "Epoch 4/30\n",
      "134/134 - 40s - loss: 0.8252 - acc: 0.7235\n",
      "Epoch 5/30\n",
      "134/134 - 41s - loss: 0.6914 - acc: 0.7722\n",
      "Epoch 6/30\n",
      "134/134 - 41s - loss: 0.5937 - acc: 0.8043\n",
      "Epoch 7/30\n",
      "134/134 - 40s - loss: 0.5214 - acc: 0.8280\n",
      "Epoch 8/30\n",
      "134/134 - 39s - loss: 0.4690 - acc: 0.8475\n",
      "Epoch 9/30\n",
      "134/134 - 38s - loss: 0.4239 - acc: 0.8618\n",
      "Epoch 10/30\n",
      "134/134 - 39s - loss: 0.3824 - acc: 0.8783\n",
      "Epoch 11/30\n",
      "134/134 - 41s - loss: 0.3519 - acc: 0.8882\n",
      "Epoch 12/30\n",
      "134/134 - 42s - loss: 0.3354 - acc: 0.8927\n",
      "Epoch 13/30\n",
      "134/134 - 45s - loss: 0.3057 - acc: 0.8987\n",
      "Epoch 14/30\n",
      "134/134 - 46s - loss: 0.2904 - acc: 0.9055\n",
      "Epoch 15/30\n",
      "134/134 - 45s - loss: 0.2694 - acc: 0.9127\n",
      "Epoch 16/30\n",
      "134/134 - 47s - loss: 0.2633 - acc: 0.9162\n",
      "Epoch 17/30\n",
      "134/134 - 51s - loss: 0.2555 - acc: 0.9217\n",
      "Epoch 18/30\n",
      "134/134 - 44s - loss: 0.2467 - acc: 0.9239\n",
      "Epoch 19/30\n",
      "134/134 - 41s - loss: 0.2355 - acc: 0.9245\n",
      "Epoch 20/30\n",
      "134/134 - 40s - loss: 0.2260 - acc: 0.9284\n",
      "Epoch 21/30\n",
      "134/134 - 40s - loss: 0.2123 - acc: 0.9328\n",
      "Epoch 22/30\n",
      "134/134 - 40s - loss: 0.2205 - acc: 0.9319\n",
      "Epoch 23/30\n",
      "134/134 - 39s - loss: 0.2116 - acc: 0.9340\n",
      "Epoch 24/30\n",
      "134/134 - 42s - loss: 0.2037 - acc: 0.9370\n",
      "Epoch 25/30\n",
      "134/134 - 43s - loss: 0.1956 - acc: 0.9400\n",
      "Epoch 26/30\n",
      "134/134 - 42s - loss: 0.2009 - acc: 0.9364\n",
      "Epoch 27/30\n",
      "134/134 - 41s - loss: 0.1857 - acc: 0.9410\n",
      "Epoch 28/30\n",
      "134/134 - 41s - loss: 0.1932 - acc: 0.9393\n",
      "Epoch 29/30\n",
      "134/134 - 39s - loss: 0.1792 - acc: 0.9447\n",
      "Epoch 30/30\n",
      "134/134 - 39s - loss: 0.1816 - acc: 0.9410\n"
     ]
    },
    {
     "data": {
      "text/plain": [
       "<tensorflow.python.keras.callbacks.History at 0x21a86e2fd60>"
      ]
     },
     "execution_count": 17,
     "metadata": {},
     "output_type": "execute_result"
    }
   ],
   "source": [
    "recognizer.fit_generator(datagen.flow(train_data,train_label, batch_size=100),\n",
    "                             epochs = 30, verbose = 2, steps_per_epoch=train_data.shape[0] // 100)"
   ]
  },
  {
   "cell_type": "code",
   "execution_count": 18,
   "metadata": {},
   "outputs": [
    {
     "name": "stderr",
     "output_type": "stream",
     "text": [
      "C:\\Users\\rassa\\anaconda3\\lib\\site-packages\\tensorflow\\python\\keras\\engine\\training.py:2325: UserWarning: `Model.state_updates` will be removed in a future version. This property should not be used in TensorFlow 2.0, as `updates` are applied automatically.\n",
      "  warnings.warn('`Model.state_updates` will be removed in a future version. '\n"
     ]
    }
   ],
   "source": [
    "predictions = recognizer.predict(test_data)\n",
    "predictions = np.argmax(predictions,axis = 1)"
   ]
  },
  {
   "cell_type": "code",
   "execution_count": 19,
   "metadata": {},
   "outputs": [],
   "source": [
    "cm = confusion_matrix(test_label, predictions)"
   ]
  },
  {
   "cell_type": "code",
   "execution_count": 20,
   "metadata": {},
   "outputs": [
    {
     "name": "stdout",
     "output_type": "stream",
     "text": [
      "accuracy = 0.9610119047619048\n"
     ]
    }
   ],
   "source": [
    "accuracy = sum(cm[i][i] for i in range(28)) / test_label.shape[0]\n",
    "print(\"accuracy = \" + str(accuracy))"
   ]
  },
  {
   "cell_type": "code",
   "execution_count": 21,
   "metadata": {},
   "outputs": [
    {
     "name": "stdout",
     "output_type": "stream",
     "text": [
      "[[120   0   0   0   0   0   0   0   0   0   0   0   0   0   0   0   0   0\n",
      "    0   0   0   0   0   0   0   0   0   0]\n",
      " [  0 120   0   0   0   0   0   0   0   0   0   0   0   0   0   0   0   0\n",
      "    0   0   0   0   0   0   0   0   0   0]\n",
      " [  0   0 112   3   0   0   0   0   0   0   0   0   0   0   0   0   0   0\n",
      "    0   0   0   0   0   0   4   0   0   1]\n",
      " [  0   0   3 117   0   0   0   0   0   0   0   0   0   0   0   0   0   0\n",
      "    0   0   0   0   0   0   0   0   0   0]\n",
      " [  0   0   0   0 120   0   0   0   0   0   0   0   0   0   0   0   0   0\n",
      "    0   0   0   0   0   0   0   0   0   0]\n",
      " [  0   0   0   0   1 118   0   0   0   0   0   0   0   0   0   0   0   1\n",
      "    0   0   0   0   0   0   0   0   0   0]\n",
      " [  0   0   0   0   0   1 119   0   0   0   0   0   0   0   0   0   0   0\n",
      "    0   0   0   0   0   0   0   0   0   0]\n",
      " [  0   0   0   0   0   0   0 112   3   4   0   0   0   0   0   1   0   0\n",
      "    0   0   0   0   0   0   0   0   0   0]\n",
      " [  0   0   0   0   0   0   0   3 110   0   2   0   0   0   0   1   0   0\n",
      "    0   0   0   0   2   0   1   0   1   0]\n",
      " [  0   0   0   0   0   0   0   0   0 117   1   0   0   0   0   0   0   0\n",
      "    0   0   0   0   2   0   0   0   0   0]\n",
      " [  0   0   0   0   0   0   0   1   6  10 100   0   0   0   1   0   0   0\n",
      "    0   0   0   0   1   0   1   0   0   0]\n",
      " [  0   1   1   0   0   0   0   0   0   0   0 117   0   0   0   0   0   0\n",
      "    0   0   0   1   0   0   0   0   0   0]\n",
      " [  0   0   0   1   0   0   0   0   0   0   0   0 119   0   0   0   0   0\n",
      "    0   0   0   0   0   0   0   0   0   0]\n",
      " [  0   0   0   0   0   0   0   0   0   0   0   8   0 112   0   0   0   0\n",
      "    0   0   0   0   0   0   0   0   0   0]\n",
      " [  0   0   0   0   0   0   0   0   0   0   0   0   4   4 108   0   0   0\n",
      "    0   2   0   1   0   0   0   0   0   1]\n",
      " [  0   0   0   0   0   0   0   0   0   0   0   0   0   0   0 117   3   0\n",
      "    0   0   0   0   0   0   0   0   0   0]\n",
      " [  0   0   0   0   0   0   0   0   0   0   0   0   0   0   0   5 115   0\n",
      "    0   0   0   0   0   0   0   0   0   0]\n",
      " [  0   1   0   1   0   2   2   0   0   0   0   0   0   0   0   0   0 112\n",
      "    0   0   0   0   0   1   0   0   0   1]\n",
      " [  0   0   0   0   0   0   1   0   0   0   0   0   0   0   0   0   0   0\n",
      "  119   0   0   0   0   0   0   0   0   0]\n",
      " [  0   0   0   0   0   0   0   0   0   0   0   0   0   0   0   0   0   0\n",
      "    0 116   3   0   0   0   1   0   0   0]\n",
      " [  0   0   1   0   0   0   0   0   0   0   0   0   0   1   0   0   0   0\n",
      "    0   3 115   0   0   0   0   0   0   0]\n",
      " [  0   0   0   0   0   0   0   0   0   0   0   0   0   0   0   0   0   0\n",
      "    0   0   1 118   0   0   1   0   0   0]\n",
      " [  0   0   0   0   0   0   0   0   0   0   0   0   0   0   0   0   0   0\n",
      "    0   0   0   1 118   0   1   0   0   0]\n",
      " [  0   0   0   0   0   0   0   0   0   0   0   0   0   0   0   0   0   0\n",
      "    0   0   0   0   0 119   0   1   0   0]\n",
      " [  0   0   3   0   0   0   0   0   0   0   0   0   0   0   0   0   0   0\n",
      "    0   1   0   2   1   0 113   0   0   0]\n",
      " [  0   0   0   1   0   0   0   0   0   0   0   0   0   0   0   1   0   0\n",
      "    0   0   1   0   0   0   0 115   2   0]\n",
      " [  0   0   0   0   0   0   0   1   1   1   0   0   0   0   0   0   0   0\n",
      "    0   0   0   0   0   0   0   2 115   0]\n",
      " [  0   0   0   0   0   0   0   0   0   0   0   0   0   0   0   0   1   0\n",
      "    0   1   1   0   0   0   1   0   0 116]]\n"
     ]
    }
   ],
   "source": [
    "print(cm)"
   ]
  },
  {
   "cell_type": "code",
   "execution_count": 24,
   "metadata": {},
   "outputs": [
    {
     "name": "stdout",
     "output_type": "stream",
     "text": [
      "* Enter the alpha value [1.0-3.0]: 1.5\n",
      "* Enter the beta value [0-100]: 0\n",
      "179.0\n",
      "[[1. 0. 0. 0. 0. 0. 0. 0. 0. 0. 0. 0. 0. 0. 0. 0. 0. 0. 0. 0. 0. 0. 0. 0.\n",
      "  0. 0. 0. 0.]]\n"
     ]
    },
    {
     "data": {
      "image/png": "[encoded data removed]",
      "text/plain": [
       "<Figure size 432x288 with 1 Axes>"
      ]
     },
     "metadata": {
      "needs_background": "light"
     },
     "output_type": "display_data"
    }
   ],
   "source": [
    "\n",
    "# Read image given by user\n",
    "\n",
    "\n",
    "Tk().withdraw() # we don't want a full GUI, so keep the root window from appearing\n",
    "filename = askopenfilename() # show an \"Open\" dialog box and return the path to the selected file\n",
    "image = cv2.imread(filename)#r\"C:\\Users\\rassa\\Desktop\\Desktop2.0\\CNN\\9alb-Ba2-0.png\") #(cv.samples.findFile(args.input))\n",
    "\n",
    "contrast_img = np.zeros(image.shape, image.dtype)\n",
    "\n",
    "alpha = 1.0 # Simple contrast control\n",
    "beta = 0    # Simple brightness control\n",
    "\n",
    "# Initialize values\n",
    "try:\n",
    "    alpha = float(input('* Enter the alpha value [1.0-3.0]: '))\n",
    "    beta = int(input('* Enter the beta value [0-100]: '))\n",
    "except ValueError:\n",
    "    print('Error, not a number')\n",
    "    \n",
    "# Do the operation new_image(i,j) = alpha*image(i,j) + beta\n",
    "# Instead of these 'for' loops we could have used simply:\n",
    "# new_image = cv.convertScaleAbs(image, alpha=alpha, beta=beta)\n",
    "# but we wanted to show you how to access the pixels :)\n",
    "for y in range(image.shape[0]):\n",
    "    for x in range(image.shape[1]):\n",
    "        for c in range(image.shape[2]):\n",
    "            # the clip makes sure that the new values of the pixel are between 0 and 255\n",
    "            contrast_img[y,x,c] = np.clip(alpha*image[y,x,c] + beta, 0, 255)\n",
    "        \n",
    "#removethe three dimensions and turn image to gray scale\n",
    "im_gray = cv2.cvtColor(contrast_img, cv2.COLOR_BGR2GRAY)\n",
    "#binarize the image using Otsu method to get the threshold, binarize to black and white(ie. 255)\n",
    "th, im_gray_th_otsu = cv2.threshold(im_gray, 128, 255, cv2.THRESH_OTSU)\n",
    "\n",
    "resized = cv2.resize(im_gray_th_otsu, (32,32), interpolation = cv2.INTER_AREA)\n",
    "\n",
    "#print the threshold because I'm curious\n",
    "print(th)\n",
    "\n",
    "final_img = np.zeros(resized.shape, resized.dtype)\n",
    "for y in range(resized.shape[0]):\n",
    "    for x in range(resized.shape[1]):\n",
    "        if resized[y,x] < 125:     \n",
    "            final_img[y,x] = 255\n",
    "        else :\n",
    "            final_img[y,x] = 0\n",
    "\n",
    "#Show the images so we can compare them\n",
    "#cv2.imshow('New Image', im_gray_th_otsu)\n",
    "#cv2.imshow('Original Image', image)\n",
    "#cv2.imshow('Contrast image', contrast_img)\n",
    "#cv2.imshow('resized Image', resized)\n",
    "#cv2.imshow('final Image', final_img)\n",
    "plt.imshow(image)\n",
    "plt.imshow(contrast_img)\n",
    "plt.imshow(im_gray_th_otsu, cmap='gray', vmin=0, vmax=255)\n",
    "plt.imshow(resized, cmap='gray', vmin=0, vmax=255)\n",
    "plt.imshow(final_img, cmap='gray', vmin=0, vmax=255)\n",
    "\n",
    "final_img = np.asarray(final_img).reshape([-1, 32, 32, 1])\n",
    "#final_img.reshape([1,32,32,1])\n",
    "#final_img = np.expand_dims(final_img, -1)\n",
    "\n",
    "predictions_single = recognizer.predict(final_img)\n",
    "print(predictions_single)\n"
   ]
  },
  {
   "cell_type": "code",
   "execution_count": null,
   "metadata": {},
   "outputs": [],
   "source": []
  }
 ],
 "metadata": {
  "celltoolbar": "Raw Cell Format",
  "kernelspec": {
   "display_name": "Python 3",
   "language": "python",
   "name": "python3"
  },
  "language_info": {
   "codemirror_mode": {
    "name": "ipython",
    "version": 3
   },
   "file_extension": ".py",
   "mimetype": "text/x-python",
   "name": "python",
   "nbconvert_exporter": "python",
   "pygments_lexer": "ipython3",
   "version": "3.8.5"
  }
 },
 "nbformat": 4,
 "nbformat_minor": 4
}
